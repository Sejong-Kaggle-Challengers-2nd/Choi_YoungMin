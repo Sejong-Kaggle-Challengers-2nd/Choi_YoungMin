{
 "cells": [
  {
   "source": [
    "# DataLoader"
   ],
   "cell_type": "markdown",
   "metadata": {}
  },
  {
   "cell_type": "code",
   "execution_count": 1,
   "id": "be9b1398",
   "metadata": {},
   "outputs": [],
   "source": [
    "import pandas as pd\n",
    "import numpy as np\n",
    "\n",
    "import os"
   ]
  },
  {
   "cell_type": "code",
   "execution_count": 5,
   "id": "5014153c",
   "metadata": {},
   "outputs": [],
   "source": [
    "data_dir = \"../../kaggle_data/creditcard_overdue/\"\n",
    "Raw_data_dir = os.path.join(data_dir, \"open/\")\n",
    "pre_data_dir = os.path.join(data_dir, \"preprocess/\")\n",
    "\n",
    "Raw_train = pd.read_csv(os.path.join(Raw_data_dir, \"train.csv\"))\n",
    "Raw_test = pd.read_csv(os.path.join(Raw_data_dir, \"test.csv\"))\n",
    "\n",
    "pre_train = pd.read_csv(os.path.join(pre_data_dir, \"train_preprocess.csv\"))\n",
    "pre_test = pd.read_csv(os.path.join(pre_data_dir, \"test_preprocess.csv\"))\n",
    "\n",
    "submission = pd.read_csv(os.path.join(Raw_data_dir, \"sample_submission.csv\"))"
   ]
  },
  {
   "cell_type": "code",
   "execution_count": 6,
   "id": "39b70b4f",
   "metadata": {},
   "outputs": [
    {
     "output_type": "execute_result",
     "data": {
      "text/plain": [
       "       index gender car reality  child_num  income_total  \\\n",
       "0          0      F   N       N          0      202500.0   \n",
       "1          1      F   N       Y          1      247500.0   \n",
       "2          2      M   Y       Y          0      450000.0   \n",
       "3          3      F   N       Y          0      202500.0   \n",
       "4          4      F   Y       Y          0      157500.0   \n",
       "...      ...    ...  ..     ...        ...           ...   \n",
       "26452  26452      F   N       N          2      225000.0   \n",
       "26453  26453      F   N       Y          1      180000.0   \n",
       "26454  26454      F   Y       N          0      292500.0   \n",
       "26455  26455      M   N       Y          0      171000.0   \n",
       "26456  26456      F   N       N          0       81000.0   \n",
       "\n",
       "                income_type                       edu_type  \\\n",
       "0      Commercial associate               Higher education   \n",
       "1      Commercial associate  Secondary / secondary special   \n",
       "2                   Working               Higher education   \n",
       "3      Commercial associate  Secondary / secondary special   \n",
       "4             State servant               Higher education   \n",
       "...                     ...                            ...   \n",
       "26452         State servant  Secondary / secondary special   \n",
       "26453               Working               Higher education   \n",
       "26454               Working  Secondary / secondary special   \n",
       "26455               Working              Incomplete higher   \n",
       "26456               Working  Secondary / secondary special   \n",
       "\n",
       "                family_type           house_type  DAYS_BIRTH  DAYS_EMPLOYED  \\\n",
       "0                   Married  Municipal apartment      -13899          -4709   \n",
       "1            Civil marriage    House / apartment      -11380          -1540   \n",
       "2                   Married    House / apartment      -19087          -4434   \n",
       "3                   Married    House / apartment      -15088          -2092   \n",
       "4                   Married    House / apartment      -15037          -2105   \n",
       "...                     ...                  ...         ...            ...   \n",
       "26452               Married    House / apartment      -12079          -1984   \n",
       "26453             Separated    House / apartment      -15291          -2475   \n",
       "26454        Civil marriage         With parents      -10082          -2015   \n",
       "26455  Single / not married    House / apartment      -10145           -107   \n",
       "26456        Civil marriage    House / apartment      -19569          -1013   \n",
       "\n",
       "       FLAG_MOBIL  work_phone  phone  email      occyp_type  family_size  \\\n",
       "0               1           0      0      0             NaN          2.0   \n",
       "1               1           0      0      1        Laborers          3.0   \n",
       "2               1           0      1      0        Managers          2.0   \n",
       "3               1           0      1      0     Sales staff          2.0   \n",
       "4               1           0      0      0        Managers          2.0   \n",
       "...           ...         ...    ...    ...             ...          ...   \n",
       "26452           1           0      0      0      Core staff          4.0   \n",
       "26453           1           0      0      0             NaN          2.0   \n",
       "26454           1           0      0      0      Core staff          2.0   \n",
       "26455           1           0      0      0        Laborers          1.0   \n",
       "26456           1           0      0      0  Security staff          2.0   \n",
       "\n",
       "       begin_month  credit  \n",
       "0             -6.0     1.0  \n",
       "1             -5.0     1.0  \n",
       "2            -22.0     2.0  \n",
       "3            -37.0     0.0  \n",
       "4            -26.0     2.0  \n",
       "...            ...     ...  \n",
       "26452         -2.0     1.0  \n",
       "26453        -47.0     2.0  \n",
       "26454        -25.0     2.0  \n",
       "26455        -59.0     2.0  \n",
       "26456         -9.0     2.0  \n",
       "\n",
       "[26457 rows x 20 columns]"
      ],
      "text/html": "<div>\n<style scoped>\n    .dataframe tbody tr th:only-of-type {\n        vertical-align: middle;\n    }\n\n    .dataframe tbody tr th {\n        vertical-align: top;\n    }\n\n    .dataframe thead th {\n        text-align: right;\n    }\n</style>\n<table border=\"1\" class=\"dataframe\">\n  <thead>\n    <tr style=\"text-align: right;\">\n      <th></th>\n      <th>index</th>\n      <th>gender</th>\n      <th>car</th>\n      <th>reality</th>\n      <th>child_num</th>\n      <th>income_total</th>\n      <th>income_type</th>\n      <th>edu_type</th>\n      <th>family_type</th>\n      <th>house_type</th>\n      <th>DAYS_BIRTH</th>\n      <th>DAYS_EMPLOYED</th>\n      <th>FLAG_MOBIL</th>\n      <th>work_phone</th>\n      <th>phone</th>\n      <th>email</th>\n      <th>occyp_type</th>\n      <th>family_size</th>\n      <th>begin_month</th>\n      <th>credit</th>\n    </tr>\n  </thead>\n  <tbody>\n    <tr>\n      <th>0</th>\n      <td>0</td>\n      <td>F</td>\n      <td>N</td>\n      <td>N</td>\n      <td>0</td>\n      <td>202500.0</td>\n      <td>Commercial associate</td>\n      <td>Higher education</td>\n      <td>Married</td>\n      <td>Municipal apartment</td>\n      <td>-13899</td>\n      <td>-4709</td>\n      <td>1</td>\n      <td>0</td>\n      <td>0</td>\n      <td>0</td>\n      <td>NaN</td>\n      <td>2.0</td>\n      <td>-6.0</td>\n      <td>1.0</td>\n    </tr>\n    <tr>\n      <th>1</th>\n      <td>1</td>\n      <td>F</td>\n      <td>N</td>\n      <td>Y</td>\n      <td>1</td>\n      <td>247500.0</td>\n      <td>Commercial associate</td>\n      <td>Secondary / secondary special</td>\n      <td>Civil marriage</td>\n      <td>House / apartment</td>\n      <td>-11380</td>\n      <td>-1540</td>\n      <td>1</td>\n      <td>0</td>\n      <td>0</td>\n      <td>1</td>\n      <td>Laborers</td>\n      <td>3.0</td>\n      <td>-5.0</td>\n      <td>1.0</td>\n    </tr>\n    <tr>\n      <th>2</th>\n      <td>2</td>\n      <td>M</td>\n      <td>Y</td>\n      <td>Y</td>\n      <td>0</td>\n      <td>450000.0</td>\n      <td>Working</td>\n      <td>Higher education</td>\n      <td>Married</td>\n      <td>House / apartment</td>\n      <td>-19087</td>\n      <td>-4434</td>\n      <td>1</td>\n      <td>0</td>\n      <td>1</td>\n      <td>0</td>\n      <td>Managers</td>\n      <td>2.0</td>\n      <td>-22.0</td>\n      <td>2.0</td>\n    </tr>\n    <tr>\n      <th>3</th>\n      <td>3</td>\n      <td>F</td>\n      <td>N</td>\n      <td>Y</td>\n      <td>0</td>\n      <td>202500.0</td>\n      <td>Commercial associate</td>\n      <td>Secondary / secondary special</td>\n      <td>Married</td>\n      <td>House / apartment</td>\n      <td>-15088</td>\n      <td>-2092</td>\n      <td>1</td>\n      <td>0</td>\n      <td>1</td>\n      <td>0</td>\n      <td>Sales staff</td>\n      <td>2.0</td>\n      <td>-37.0</td>\n      <td>0.0</td>\n    </tr>\n    <tr>\n      <th>4</th>\n      <td>4</td>\n      <td>F</td>\n      <td>Y</td>\n      <td>Y</td>\n      <td>0</td>\n      <td>157500.0</td>\n      <td>State servant</td>\n      <td>Higher education</td>\n      <td>Married</td>\n      <td>House / apartment</td>\n      <td>-15037</td>\n      <td>-2105</td>\n      <td>1</td>\n      <td>0</td>\n      <td>0</td>\n      <td>0</td>\n      <td>Managers</td>\n      <td>2.0</td>\n      <td>-26.0</td>\n      <td>2.0</td>\n    </tr>\n    <tr>\n      <th>...</th>\n      <td>...</td>\n      <td>...</td>\n      <td>...</td>\n      <td>...</td>\n      <td>...</td>\n      <td>...</td>\n      <td>...</td>\n      <td>...</td>\n      <td>...</td>\n      <td>...</td>\n      <td>...</td>\n      <td>...</td>\n      <td>...</td>\n      <td>...</td>\n      <td>...</td>\n      <td>...</td>\n      <td>...</td>\n      <td>...</td>\n      <td>...</td>\n      <td>...</td>\n    </tr>\n    <tr>\n      <th>26452</th>\n      <td>26452</td>\n      <td>F</td>\n      <td>N</td>\n      <td>N</td>\n      <td>2</td>\n      <td>225000.0</td>\n      <td>State servant</td>\n      <td>Secondary / secondary special</td>\n      <td>Married</td>\n      <td>House / apartment</td>\n      <td>-12079</td>\n      <td>-1984</td>\n      <td>1</td>\n      <td>0</td>\n      <td>0</td>\n      <td>0</td>\n      <td>Core staff</td>\n      <td>4.0</td>\n      <td>-2.0</td>\n      <td>1.0</td>\n    </tr>\n    <tr>\n      <th>26453</th>\n      <td>26453</td>\n      <td>F</td>\n      <td>N</td>\n      <td>Y</td>\n      <td>1</td>\n      <td>180000.0</td>\n      <td>Working</td>\n      <td>Higher education</td>\n      <td>Separated</td>\n      <td>House / apartment</td>\n      <td>-15291</td>\n      <td>-2475</td>\n      <td>1</td>\n      <td>0</td>\n      <td>0</td>\n      <td>0</td>\n      <td>NaN</td>\n      <td>2.0</td>\n      <td>-47.0</td>\n      <td>2.0</td>\n    </tr>\n    <tr>\n      <th>26454</th>\n      <td>26454</td>\n      <td>F</td>\n      <td>Y</td>\n      <td>N</td>\n      <td>0</td>\n      <td>292500.0</td>\n      <td>Working</td>\n      <td>Secondary / secondary special</td>\n      <td>Civil marriage</td>\n      <td>With parents</td>\n      <td>-10082</td>\n      <td>-2015</td>\n      <td>1</td>\n      <td>0</td>\n      <td>0</td>\n      <td>0</td>\n      <td>Core staff</td>\n      <td>2.0</td>\n      <td>-25.0</td>\n      <td>2.0</td>\n    </tr>\n    <tr>\n      <th>26455</th>\n      <td>26455</td>\n      <td>M</td>\n      <td>N</td>\n      <td>Y</td>\n      <td>0</td>\n      <td>171000.0</td>\n      <td>Working</td>\n      <td>Incomplete higher</td>\n      <td>Single / not married</td>\n      <td>House / apartment</td>\n      <td>-10145</td>\n      <td>-107</td>\n      <td>1</td>\n      <td>0</td>\n      <td>0</td>\n      <td>0</td>\n      <td>Laborers</td>\n      <td>1.0</td>\n      <td>-59.0</td>\n      <td>2.0</td>\n    </tr>\n    <tr>\n      <th>26456</th>\n      <td>26456</td>\n      <td>F</td>\n      <td>N</td>\n      <td>N</td>\n      <td>0</td>\n      <td>81000.0</td>\n      <td>Working</td>\n      <td>Secondary / secondary special</td>\n      <td>Civil marriage</td>\n      <td>House / apartment</td>\n      <td>-19569</td>\n      <td>-1013</td>\n      <td>1</td>\n      <td>0</td>\n      <td>0</td>\n      <td>0</td>\n      <td>Security staff</td>\n      <td>2.0</td>\n      <td>-9.0</td>\n      <td>2.0</td>\n    </tr>\n  </tbody>\n</table>\n<p>26457 rows × 20 columns</p>\n</div>"
     },
     "metadata": {},
     "execution_count": 6
    }
   ],
   "source": [
    "Raw_train"
   ]
  },
  {
   "source": [
    "# Preprocessing"
   ],
   "cell_type": "markdown",
   "metadata": {}
  },
  {
   "source": [
    "## 불필요한 Feature 제거"
   ],
   "cell_type": "markdown",
   "metadata": {}
  },
  {
   "cell_type": "code",
   "execution_count": 7,
   "metadata": {},
   "outputs": [],
   "source": [
    "# Index, FLAG_MOBIL 제거\n",
    "train = Raw_train.drop(['index', 'FLAG_MOBIL'], axis=1)\n",
    "test = Raw_test.drop(['index', 'FLAG_MOBIL'], axis=1)"
   ]
  },
  {
   "source": [
    "## 범주형 Feature 실수화"
   ],
   "cell_type": "markdown",
   "metadata": {}
  },
  {
   "cell_type": "code",
   "execution_count": 10,
   "metadata": {},
   "outputs": [
    {
     "output_type": "stream",
     "name": "stdout",
     "text": [
      "gender : \n0    17697\n1     8760\nName: gender, dtype: int64\n----------------------------\ncar : \n0    16410\n1    10047\nName: car, dtype: int64\n----------------------------\nreality : \n1    17830\n0     8627\nName: reality, dtype: int64\n----------------------------\nedu_type : \n2    17995\n3     7162\n1     1020\n0      257\n4       23\nName: edu_type, dtype: int64\n----------------------------\n"
     ]
    }
   ],
   "source": [
    "train['gender'] = train['gender'].replace(['F', 'M'], [0, 1])\n",
    "test['gender'] = test['gender'].replace(['F', 'M'], [0, 1])\n",
    "print('gender : ')\n",
    "print(train['gender'].value_counts())\n",
    "print(\"----------------------------\")\n",
    "\n",
    "train['car'] = train['car'].replace(['N', 'Y'], [0, 1])\n",
    "test['car'] = test['car'].replace(['N', 'Y'], [0, 1])\n",
    "print('car : ')\n",
    "print(train['car'].value_counts())\n",
    "print(\"----------------------------\")\n",
    "\n",
    "train['reality'] = train['reality'].replace(['N', 'Y'], [0, 1])\n",
    "test['reality'] = test['reality'].replace(['N', 'Y'], [0, 1])\n",
    "print('reality : ')\n",
    "print(train['reality'].value_counts())\n",
    "print(\"----------------------------\")\n",
    "\n",
    "train['edu_type'] = train['edu_type'].replace([ 'Academic degree','Higher education' ,'Secondary / secondary special', 'Incomplete higher', 'Lower secondary'],[4,3,2,1,0])\n",
    "test['edu_type'] = test['edu_type'].replace([ 'Academic degree','Higher education' ,'Secondary / secondary special', 'Incomplete higher', 'Lower secondary'],[4,3,2,1,0])\n",
    "print('edu_type : ')\n",
    "print(train['edu_type'].value_counts())\n",
    "print(\"----------------------------\")"
   ]
  },
  {
   "source": [
    "## Income total"
   ],
   "cell_type": "markdown",
   "metadata": {}
  },
  {
   "cell_type": "code",
   "execution_count": 76,
   "metadata": {},
   "outputs": [],
   "source": [
    "# income total 전처리\n",
    "\n",
    "import matplotlib.pyplot as plt\n",
    "import seaborn as sns"
   ]
  },
  {
   "cell_type": "code",
   "execution_count": 41,
   "metadata": {},
   "outputs": [
    {
     "output_type": "execute_result",
     "data": {
      "text/plain": [
       "     counts  income_values\n",
       "0      3164       135000.0\n",
       "1      2233       157500.0\n",
       "2      2225       180000.0\n",
       "3      2178       112500.0\n",
       "4      2170       225000.0\n",
       "..      ...            ...\n",
       "244       1       227250.0\n",
       "245       1        91530.0\n",
       "246       1        39600.0\n",
       "247       1       432000.0\n",
       "248       1       215100.0\n",
       "\n",
       "[249 rows x 2 columns]"
      ],
      "text/html": "<div>\n<style scoped>\n    .dataframe tbody tr th:only-of-type {\n        vertical-align: middle;\n    }\n\n    .dataframe tbody tr th {\n        vertical-align: top;\n    }\n\n    .dataframe thead th {\n        text-align: right;\n    }\n</style>\n<table border=\"1\" class=\"dataframe\">\n  <thead>\n    <tr style=\"text-align: right;\">\n      <th></th>\n      <th>counts</th>\n      <th>income_values</th>\n    </tr>\n  </thead>\n  <tbody>\n    <tr>\n      <th>0</th>\n      <td>3164</td>\n      <td>135000.0</td>\n    </tr>\n    <tr>\n      <th>1</th>\n      <td>2233</td>\n      <td>157500.0</td>\n    </tr>\n    <tr>\n      <th>2</th>\n      <td>2225</td>\n      <td>180000.0</td>\n    </tr>\n    <tr>\n      <th>3</th>\n      <td>2178</td>\n      <td>112500.0</td>\n    </tr>\n    <tr>\n      <th>4</th>\n      <td>2170</td>\n      <td>225000.0</td>\n    </tr>\n    <tr>\n      <th>...</th>\n      <td>...</td>\n      <td>...</td>\n    </tr>\n    <tr>\n      <th>244</th>\n      <td>1</td>\n      <td>227250.0</td>\n    </tr>\n    <tr>\n      <th>245</th>\n      <td>1</td>\n      <td>91530.0</td>\n    </tr>\n    <tr>\n      <th>246</th>\n      <td>1</td>\n      <td>39600.0</td>\n    </tr>\n    <tr>\n      <th>247</th>\n      <td>1</td>\n      <td>432000.0</td>\n    </tr>\n    <tr>\n      <th>248</th>\n      <td>1</td>\n      <td>215100.0</td>\n    </tr>\n  </tbody>\n</table>\n<p>249 rows × 2 columns</p>\n</div>"
     },
     "metadata": {},
     "execution_count": 41
    }
   ],
   "source": [
    "income_counts = train['income_total'].value_counts()\n",
    "unique_income = income_counts.index\n",
    "\n",
    "income_counts = pd.DataFrame(income_counts)\n",
    "income_counts.index = range(len(income_counts))\n",
    "income_counts['income_value'] = unique_income\n",
    "income_counts.columns = ['counts', 'income_values']\n",
    "\n",
    "income_counts"
   ]
  },
  {
   "cell_type": "code",
   "execution_count": 42,
   "metadata": {},
   "outputs": [
    {
     "output_type": "stream",
     "name": "stdout",
     "text": [
      "1575000.0 27000.0\n"
     ]
    }
   ],
   "source": [
    "max_income = income_counts['income_values'].max()\n",
    "min_income = income_counts['income_values'].min()\n",
    "\n",
    "print(max_income, min_income)"
   ]
  },
  {
   "source": [
    "## 단순히 분할 구간을 늘리는 것은 소득구간별 data 량 차이 발생을 해결할 수 없음."
   ],
   "cell_type": "markdown",
   "metadata": {}
  },
  {
   "cell_type": "code",
   "execution_count": 80,
   "metadata": {},
   "outputs": [
    {
     "output_type": "stream",
     "name": "stdout",
     "text": [
      "========[num_bins : 5]==========\ntrain bin counts : \n소득0    24542\n소득1     1736\n소득2      165\n소득4        9\n소득3        5\nName: income_total, dtype: int64\n---------------------------------\ntest bin counts : \n소득0    9298\n소득1     637\n소득2      58\n소득4       5\n소득3       2\nName: income_total, dtype: int64\n=================================\n========[num_bins : 7]==========\ntrain bin counts : \n소득0    21601\n소득1     4462\n소득2      305\n소득3       71\n소득4        9\n소득6        5\n소득5        4\nName: income_total, dtype: int64\n---------------------------------\ntest bin counts : \n소득0    8251\n소득1    1609\n소득2     108\n소득3      25\n소득6       3\n소득4       2\n소득5       2\nName: income_total, dtype: int64\n=================================\n========[num_bins : 10]==========\ntrain bin counts : \n소득0    16212\n소득1     8330\n소득2     1530\n소득3      206\n소득4      121\n소득5       44\n소득9        5\n소득8        4\n소득6        3\n소득7        2\nName: income_total, dtype: int64\n---------------------------------\ntest bin counts : \n소득0    6248\n소득1    3050\n소득2     569\n소득3      68\n소득4      44\n소득5      14\n소득9       3\n소득8       2\n소득6       1\n소득7       1\nName: income_total, dtype: int64\n=================================\n========[num_bins : 14]==========\ntrain bin counts : \n소득1     11123\n소득0     10478\n소득2      3187\n소득3      1275\n소득4       157\n소득5       148\n소득7        40\n소득6        31\n소득8         7\n소득13        5\n소득11        4\n소득9         2\n소득10        0\n소득12        0\nName: income_total, dtype: int64\n---------------------------------\ntest bin counts : \n소득1     4256\n소득0     3995\n소득2     1130\n소득3      479\n소득5       59\n소득4       49\n소득7       14\n소득6       11\n소득13       3\n소득11       2\n소득8        1\n소득9        1\n소득10       0\n소득12       0\nName: income_total, dtype: int64\n=================================\n"
     ]
    }
   ],
   "source": [
    "num_bins = [5, 7, 10, 14]\n",
    "\n",
    "train_ = train['income_total'].copy()\n",
    "train_ = pd.DataFrame(train_)\n",
    "train_.columns = ['income_total']\n",
    "test_ = test['income_total'].copy()\n",
    "test_ = pd.DataFrame(test_)\n",
    "test_.columns = ['income_total']\n",
    "\n",
    "\n",
    "train_['income_total'] = train_['income_total']/10000 \n",
    "test_['income_total'] = test_['income_total']/10000\n",
    "\n",
    "\n",
    "train_tmp = train_.copy()\n",
    "train_tmp = pd.DataFrame(train_tmp)\n",
    "train_tmp.columns = ['income_total']\n",
    "test_tmp = test_.copy()\n",
    "test_tmp = pd.DataFrame(test_tmp)\n",
    "train_tmp.columns = ['income_total']\n",
    "\n",
    "\n",
    "for num_bins_ in num_bins:\n",
    "    count, bin_dividers =np.histogram(train_['income_total'],bins=num_bins_)\n",
    "    bin_names=['소득'+str(i) for i in range(num_bins_) ]\n",
    "\n",
    "    #bin_dividers는 train기준!!\n",
    "    train_tmp['income_total']=pd.cut(x=train_['income_total'], bins=bin_dividers, labels=bin_names, include_lowest=True)\n",
    "    test_tmp['income_total']=pd.cut(x=test_['income_total'], bins=bin_dividers, labels=bin_names, include_lowest=True)\n",
    "\n",
    "    print(f\"========[num_bins : {num_bins_}]==========\")\n",
    "    print(\"train bin counts : \")\n",
    "    print(train_tmp['income_total'].value_counts())\n",
    "    print(\"---------------------------------\")\n",
    "\n",
    "    print(\"test bin counts : \")\n",
    "    print(test_tmp['income_total'].value_counts())\n",
    "    print(\"=================================\")\n"
   ]
  },
  {
   "cell_type": "code",
   "execution_count": null,
   "metadata": {},
   "outputs": [],
   "source": []
  }
 ],
 "metadata": {
  "kernelspec": {
   "name": "python388jvsc74a57bd033a3111211be4281f3a8c4a9b25563b8d253df502c7e31f5318895c1792a97cb",
   "display_name": "Python 3.8.8 64-bit ('py38': conda)"
  },
  "language_info": {
   "codemirror_mode": {
    "name": "ipython",
    "version": 3
   },
   "file_extension": ".py",
   "mimetype": "text/x-python",
   "name": "python",
   "nbconvert_exporter": "python",
   "pygments_lexer": "ipython3",
   "version": "3.8.8"
  }
 },
 "nbformat": 4,
 "nbformat_minor": 5
}