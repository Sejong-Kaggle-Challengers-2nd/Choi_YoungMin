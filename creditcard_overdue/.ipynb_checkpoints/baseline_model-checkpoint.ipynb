{
 "cells": [
  {
   "cell_type": "markdown",
   "id": "541d97a3",
   "metadata": {},
   "source": [
    "# 1. DataLoader & parsing"
   ]
  },
  {
   "cell_type": "code",
   "execution_count": 84,
   "id": "bf7b8604",
   "metadata": {},
   "outputs": [],
   "source": [
    "import numpy as np\n",
    "import pandas as pd"
   ]
  },
  {
   "cell_type": "code",
   "execution_count": 85,
   "id": "e5429c13",
   "metadata": {},
   "outputs": [],
   "source": [
    "data_path = '../../kaggle_data/creditcard_overdue/open/'\n",
    "pre_path = '../../kaggle_data/creditcard_overdue/preprocess/'\n",
    "\n",
    "y_train = pd.read_csv(data_path + 'train.csv')\n",
    "y_train = y_train['credit']\n",
    "\n",
    "Raw_train = pd.read_csv(pre_path + 'train_preprocess.csv')\n",
    "Raw_test = pd.read_csv(pre_path + 'test_preprocess.csv')\n",
    "submission = pd.read_csv(pre_path + 'sample_submission.csv')"
   ]
  },
  {
   "cell_type": "code",
   "execution_count": 86,
   "id": "1c55199f",
   "metadata": {},
   "outputs": [
    {
     "data": {
      "text/html": [
       "<div>\n",
       "<style scoped>\n",
       "    .dataframe tbody tr th:only-of-type {\n",
       "        vertical-align: middle;\n",
       "    }\n",
       "\n",
       "    .dataframe tbody tr th {\n",
       "        vertical-align: top;\n",
       "    }\n",
       "\n",
       "    .dataframe thead th {\n",
       "        text-align: right;\n",
       "    }\n",
       "</style>\n",
       "<table border=\"1\" class=\"dataframe\">\n",
       "  <thead>\n",
       "    <tr style=\"text-align: right;\">\n",
       "      <th></th>\n",
       "      <th>Unnamed: 0</th>\n",
       "      <th>gender</th>\n",
       "      <th>car</th>\n",
       "      <th>reality</th>\n",
       "      <th>child_num</th>\n",
       "      <th>income_total</th>\n",
       "      <th>income_type</th>\n",
       "      <th>edu_type</th>\n",
       "      <th>family_type</th>\n",
       "      <th>house_type</th>\n",
       "      <th>DAYS_BIRTH</th>\n",
       "      <th>DAYS_EMPLOYED</th>\n",
       "      <th>work_phone</th>\n",
       "      <th>phone</th>\n",
       "      <th>email</th>\n",
       "      <th>occyp_type</th>\n",
       "      <th>family_size</th>\n",
       "      <th>begin_month</th>\n",
       "    </tr>\n",
       "  </thead>\n",
       "  <tbody>\n",
       "    <tr>\n",
       "      <th>0</th>\n",
       "      <td>0</td>\n",
       "      <td>0</td>\n",
       "      <td>0</td>\n",
       "      <td>0</td>\n",
       "      <td>0</td>\n",
       "      <td>0</td>\n",
       "      <td>0</td>\n",
       "      <td>3</td>\n",
       "      <td>1</td>\n",
       "      <td>2</td>\n",
       "      <td>3</td>\n",
       "      <td>1</td>\n",
       "      <td>0</td>\n",
       "      <td>0</td>\n",
       "      <td>0</td>\n",
       "      <td>0</td>\n",
       "      <td>2.0</td>\n",
       "      <td>0</td>\n",
       "    </tr>\n",
       "    <tr>\n",
       "      <th>1</th>\n",
       "      <td>1</td>\n",
       "      <td>0</td>\n",
       "      <td>0</td>\n",
       "      <td>1</td>\n",
       "      <td>1</td>\n",
       "      <td>0</td>\n",
       "      <td>0</td>\n",
       "      <td>2</td>\n",
       "      <td>0</td>\n",
       "      <td>1</td>\n",
       "      <td>2</td>\n",
       "      <td>1</td>\n",
       "      <td>0</td>\n",
       "      <td>0</td>\n",
       "      <td>1</td>\n",
       "      <td>1</td>\n",
       "      <td>3.0</td>\n",
       "      <td>0</td>\n",
       "    </tr>\n",
       "    <tr>\n",
       "      <th>2</th>\n",
       "      <td>2</td>\n",
       "      <td>1</td>\n",
       "      <td>1</td>\n",
       "      <td>1</td>\n",
       "      <td>0</td>\n",
       "      <td>1</td>\n",
       "      <td>4</td>\n",
       "      <td>3</td>\n",
       "      <td>1</td>\n",
       "      <td>1</td>\n",
       "      <td>6</td>\n",
       "      <td>1</td>\n",
       "      <td>0</td>\n",
       "      <td>1</td>\n",
       "      <td>0</td>\n",
       "      <td>2</td>\n",
       "      <td>2.0</td>\n",
       "      <td>1</td>\n",
       "    </tr>\n",
       "    <tr>\n",
       "      <th>3</th>\n",
       "      <td>3</td>\n",
       "      <td>0</td>\n",
       "      <td>0</td>\n",
       "      <td>1</td>\n",
       "      <td>0</td>\n",
       "      <td>0</td>\n",
       "      <td>0</td>\n",
       "      <td>2</td>\n",
       "      <td>1</td>\n",
       "      <td>1</td>\n",
       "      <td>4</td>\n",
       "      <td>1</td>\n",
       "      <td>0</td>\n",
       "      <td>1</td>\n",
       "      <td>0</td>\n",
       "      <td>3</td>\n",
       "      <td>2.0</td>\n",
       "      <td>2</td>\n",
       "    </tr>\n",
       "    <tr>\n",
       "      <th>4</th>\n",
       "      <td>4</td>\n",
       "      <td>0</td>\n",
       "      <td>1</td>\n",
       "      <td>1</td>\n",
       "      <td>0</td>\n",
       "      <td>0</td>\n",
       "      <td>2</td>\n",
       "      <td>3</td>\n",
       "      <td>1</td>\n",
       "      <td>1</td>\n",
       "      <td>4</td>\n",
       "      <td>1</td>\n",
       "      <td>0</td>\n",
       "      <td>0</td>\n",
       "      <td>0</td>\n",
       "      <td>2</td>\n",
       "      <td>2.0</td>\n",
       "      <td>1</td>\n",
       "    </tr>\n",
       "  </tbody>\n",
       "</table>\n",
       "</div>"
      ],
      "text/plain": [
       "   Unnamed: 0  gender  car  reality  child_num  income_total  income_type  \\\n",
       "0           0       0    0        0          0             0            0   \n",
       "1           1       0    0        1          1             0            0   \n",
       "2           2       1    1        1          0             1            4   \n",
       "3           3       0    0        1          0             0            0   \n",
       "4           4       0    1        1          0             0            2   \n",
       "\n",
       "   edu_type  family_type  house_type  DAYS_BIRTH  DAYS_EMPLOYED  work_phone  \\\n",
       "0         3            1           2           3              1           0   \n",
       "1         2            0           1           2              1           0   \n",
       "2         3            1           1           6              1           0   \n",
       "3         2            1           1           4              1           0   \n",
       "4         3            1           1           4              1           0   \n",
       "\n",
       "   phone  email  occyp_type  family_size  begin_month  \n",
       "0      0      0           0          2.0            0  \n",
       "1      0      1           1          3.0            0  \n",
       "2      1      0           2          2.0            1  \n",
       "3      1      0           3          2.0            2  \n",
       "4      0      0           2          2.0            1  "
      ]
     },
     "execution_count": 86,
     "metadata": {},
     "output_type": "execute_result"
    }
   ],
   "source": [
    "Raw_train.head()"
   ]
  },
  {
   "cell_type": "code",
   "execution_count": 87,
   "id": "b69b2702",
   "metadata": {},
   "outputs": [
    {
     "data": {
      "text/plain": [
       "0    1.0\n",
       "1    1.0\n",
       "2    2.0\n",
       "3    0.0\n",
       "4    2.0\n",
       "Name: credit, dtype: float64"
      ]
     },
     "execution_count": 87,
     "metadata": {},
     "output_type": "execute_result"
    }
   ],
   "source": [
    "y_train.head()"
   ]
  },
  {
   "cell_type": "code",
   "execution_count": 88,
   "id": "c1c97497",
   "metadata": {},
   "outputs": [
    {
     "data": {
      "text/html": [
       "<div>\n",
       "<style scoped>\n",
       "    .dataframe tbody tr th:only-of-type {\n",
       "        vertical-align: middle;\n",
       "    }\n",
       "\n",
       "    .dataframe tbody tr th {\n",
       "        vertical-align: top;\n",
       "    }\n",
       "\n",
       "    .dataframe thead th {\n",
       "        text-align: right;\n",
       "    }\n",
       "</style>\n",
       "<table border=\"1\" class=\"dataframe\">\n",
       "  <thead>\n",
       "    <tr style=\"text-align: right;\">\n",
       "      <th></th>\n",
       "      <th>Unnamed: 0</th>\n",
       "      <th>index</th>\n",
       "      <th>gender</th>\n",
       "      <th>car</th>\n",
       "      <th>reality</th>\n",
       "      <th>child_num</th>\n",
       "      <th>income_total</th>\n",
       "      <th>income_type</th>\n",
       "      <th>edu_type</th>\n",
       "      <th>family_type</th>\n",
       "      <th>house_type</th>\n",
       "      <th>DAYS_BIRTH</th>\n",
       "      <th>DAYS_EMPLOYED</th>\n",
       "      <th>FLAG_MOBIL</th>\n",
       "      <th>work_phone</th>\n",
       "      <th>phone</th>\n",
       "      <th>email</th>\n",
       "      <th>occyp_type</th>\n",
       "      <th>family_size</th>\n",
       "      <th>begin_month</th>\n",
       "    </tr>\n",
       "  </thead>\n",
       "  <tbody>\n",
       "    <tr>\n",
       "      <th>0</th>\n",
       "      <td>0</td>\n",
       "      <td>26457</td>\n",
       "      <td>1</td>\n",
       "      <td>1</td>\n",
       "      <td>0</td>\n",
       "      <td>0</td>\n",
       "      <td>0</td>\n",
       "      <td>1</td>\n",
       "      <td>2</td>\n",
       "      <td>0</td>\n",
       "      <td>1</td>\n",
       "      <td>8</td>\n",
       "      <td>0</td>\n",
       "      <td>1</td>\n",
       "      <td>0</td>\n",
       "      <td>1</td>\n",
       "      <td>0</td>\n",
       "      <td>0</td>\n",
       "      <td>2.0</td>\n",
       "      <td>3</td>\n",
       "    </tr>\n",
       "    <tr>\n",
       "      <th>1</th>\n",
       "      <td>1</td>\n",
       "      <td>26458</td>\n",
       "      <td>0</td>\n",
       "      <td>0</td>\n",
       "      <td>1</td>\n",
       "      <td>0</td>\n",
       "      <td>0</td>\n",
       "      <td>2</td>\n",
       "      <td>3</td>\n",
       "      <td>1</td>\n",
       "      <td>1</td>\n",
       "      <td>6</td>\n",
       "      <td>1</td>\n",
       "      <td>1</td>\n",
       "      <td>0</td>\n",
       "      <td>1</td>\n",
       "      <td>0</td>\n",
       "      <td>5</td>\n",
       "      <td>2.0</td>\n",
       "      <td>2</td>\n",
       "    </tr>\n",
       "    <tr>\n",
       "      <th>2</th>\n",
       "      <td>2</td>\n",
       "      <td>26459</td>\n",
       "      <td>0</td>\n",
       "      <td>0</td>\n",
       "      <td>1</td>\n",
       "      <td>0</td>\n",
       "      <td>0</td>\n",
       "      <td>4</td>\n",
       "      <td>2</td>\n",
       "      <td>1</td>\n",
       "      <td>1</td>\n",
       "      <td>4</td>\n",
       "      <td>1</td>\n",
       "      <td>1</td>\n",
       "      <td>1</td>\n",
       "      <td>1</td>\n",
       "      <td>0</td>\n",
       "      <td>1</td>\n",
       "      <td>2.0</td>\n",
       "      <td>2</td>\n",
       "    </tr>\n",
       "    <tr>\n",
       "      <th>3</th>\n",
       "      <td>3</td>\n",
       "      <td>26460</td>\n",
       "      <td>1</td>\n",
       "      <td>1</td>\n",
       "      <td>0</td>\n",
       "      <td>0</td>\n",
       "      <td>0</td>\n",
       "      <td>0</td>\n",
       "      <td>2</td>\n",
       "      <td>1</td>\n",
       "      <td>1</td>\n",
       "      <td>6</td>\n",
       "      <td>1</td>\n",
       "      <td>1</td>\n",
       "      <td>1</td>\n",
       "      <td>0</td>\n",
       "      <td>0</td>\n",
       "      <td>6</td>\n",
       "      <td>2.0</td>\n",
       "      <td>2</td>\n",
       "    </tr>\n",
       "    <tr>\n",
       "      <th>4</th>\n",
       "      <td>4</td>\n",
       "      <td>26461</td>\n",
       "      <td>0</td>\n",
       "      <td>1</td>\n",
       "      <td>1</td>\n",
       "      <td>0</td>\n",
       "      <td>0</td>\n",
       "      <td>2</td>\n",
       "      <td>3</td>\n",
       "      <td>1</td>\n",
       "      <td>1</td>\n",
       "      <td>5</td>\n",
       "      <td>1</td>\n",
       "      <td>1</td>\n",
       "      <td>1</td>\n",
       "      <td>0</td>\n",
       "      <td>0</td>\n",
       "      <td>2</td>\n",
       "      <td>2.0</td>\n",
       "      <td>0</td>\n",
       "    </tr>\n",
       "  </tbody>\n",
       "</table>\n",
       "</div>"
      ],
      "text/plain": [
       "   Unnamed: 0  index  gender  car  reality  child_num  income_total  \\\n",
       "0           0  26457       1    1        0          0             0   \n",
       "1           1  26458       0    0        1          0             0   \n",
       "2           2  26459       0    0        1          0             0   \n",
       "3           3  26460       1    1        0          0             0   \n",
       "4           4  26461       0    1        1          0             0   \n",
       "\n",
       "   income_type  edu_type  family_type  house_type  DAYS_BIRTH  DAYS_EMPLOYED  \\\n",
       "0            1         2            0           1           8              0   \n",
       "1            2         3            1           1           6              1   \n",
       "2            4         2            1           1           4              1   \n",
       "3            0         2            1           1           6              1   \n",
       "4            2         3            1           1           5              1   \n",
       "\n",
       "   FLAG_MOBIL  work_phone  phone  email  occyp_type  family_size  begin_month  \n",
       "0           1           0      1      0           0          2.0            3  \n",
       "1           1           0      1      0           5          2.0            2  \n",
       "2           1           1      1      0           1          2.0            2  \n",
       "3           1           1      0      0           6          2.0            2  \n",
       "4           1           1      0      0           2          2.0            0  "
      ]
     },
     "execution_count": 88,
     "metadata": {},
     "output_type": "execute_result"
    }
   ],
   "source": [
    "Raw_test.head()"
   ]
  },
  {
   "cell_type": "markdown",
   "id": "1815c9d1",
   "metadata": {},
   "source": [
    "# 2. Drop un-use features"
   ]
  },
  {
   "cell_type": "code",
   "execution_count": 89,
   "id": "1a111e6f",
   "metadata": {},
   "outputs": [],
   "source": [
    "X_train = Raw_train.drop(['Unnamed: 0'], axis=1)\n",
    "X_test = Raw_test.drop(['Unnamed: 0', 'index', 'FLAG_MOBIL'], axis=1)"
   ]
  },
  {
   "cell_type": "code",
   "execution_count": 90,
   "id": "1c45a9b0",
   "metadata": {},
   "outputs": [
    {
     "data": {
      "text/plain": [
       "(26457, 17)"
      ]
     },
     "execution_count": 90,
     "metadata": {},
     "output_type": "execute_result"
    }
   ],
   "source": [
    "X_train.shape"
   ]
  },
  {
   "cell_type": "code",
   "execution_count": 91,
   "id": "59864094",
   "metadata": {},
   "outputs": [
    {
     "data": {
      "text/plain": [
       "(10000, 17)"
      ]
     },
     "execution_count": 91,
     "metadata": {},
     "output_type": "execute_result"
    }
   ],
   "source": [
    "X_test.shape"
   ]
  },
  {
   "cell_type": "code",
   "execution_count": 92,
   "id": "b22cdd7e",
   "metadata": {},
   "outputs": [
    {
     "data": {
      "text/html": [
       "<div>\n",
       "<style scoped>\n",
       "    .dataframe tbody tr th:only-of-type {\n",
       "        vertical-align: middle;\n",
       "    }\n",
       "\n",
       "    .dataframe tbody tr th {\n",
       "        vertical-align: top;\n",
       "    }\n",
       "\n",
       "    .dataframe thead th {\n",
       "        text-align: right;\n",
       "    }\n",
       "</style>\n",
       "<table border=\"1\" class=\"dataframe\">\n",
       "  <thead>\n",
       "    <tr style=\"text-align: right;\">\n",
       "      <th></th>\n",
       "      <th>gender</th>\n",
       "      <th>car</th>\n",
       "      <th>reality</th>\n",
       "      <th>child_num</th>\n",
       "      <th>income_total</th>\n",
       "      <th>income_type</th>\n",
       "      <th>edu_type</th>\n",
       "      <th>family_type</th>\n",
       "      <th>house_type</th>\n",
       "      <th>DAYS_BIRTH</th>\n",
       "      <th>DAYS_EMPLOYED</th>\n",
       "      <th>work_phone</th>\n",
       "      <th>phone</th>\n",
       "      <th>email</th>\n",
       "      <th>occyp_type</th>\n",
       "      <th>family_size</th>\n",
       "      <th>begin_month</th>\n",
       "    </tr>\n",
       "  </thead>\n",
       "  <tbody>\n",
       "    <tr>\n",
       "      <th>0</th>\n",
       "      <td>1</td>\n",
       "      <td>1</td>\n",
       "      <td>0</td>\n",
       "      <td>0</td>\n",
       "      <td>0</td>\n",
       "      <td>1</td>\n",
       "      <td>2</td>\n",
       "      <td>0</td>\n",
       "      <td>1</td>\n",
       "      <td>8</td>\n",
       "      <td>0</td>\n",
       "      <td>0</td>\n",
       "      <td>1</td>\n",
       "      <td>0</td>\n",
       "      <td>0</td>\n",
       "      <td>2.0</td>\n",
       "      <td>3</td>\n",
       "    </tr>\n",
       "    <tr>\n",
       "      <th>1</th>\n",
       "      <td>0</td>\n",
       "      <td>0</td>\n",
       "      <td>1</td>\n",
       "      <td>0</td>\n",
       "      <td>0</td>\n",
       "      <td>2</td>\n",
       "      <td>3</td>\n",
       "      <td>1</td>\n",
       "      <td>1</td>\n",
       "      <td>6</td>\n",
       "      <td>1</td>\n",
       "      <td>0</td>\n",
       "      <td>1</td>\n",
       "      <td>0</td>\n",
       "      <td>5</td>\n",
       "      <td>2.0</td>\n",
       "      <td>2</td>\n",
       "    </tr>\n",
       "    <tr>\n",
       "      <th>2</th>\n",
       "      <td>0</td>\n",
       "      <td>0</td>\n",
       "      <td>1</td>\n",
       "      <td>0</td>\n",
       "      <td>0</td>\n",
       "      <td>4</td>\n",
       "      <td>2</td>\n",
       "      <td>1</td>\n",
       "      <td>1</td>\n",
       "      <td>4</td>\n",
       "      <td>1</td>\n",
       "      <td>1</td>\n",
       "      <td>1</td>\n",
       "      <td>0</td>\n",
       "      <td>1</td>\n",
       "      <td>2.0</td>\n",
       "      <td>2</td>\n",
       "    </tr>\n",
       "    <tr>\n",
       "      <th>3</th>\n",
       "      <td>1</td>\n",
       "      <td>1</td>\n",
       "      <td>0</td>\n",
       "      <td>0</td>\n",
       "      <td>0</td>\n",
       "      <td>0</td>\n",
       "      <td>2</td>\n",
       "      <td>1</td>\n",
       "      <td>1</td>\n",
       "      <td>6</td>\n",
       "      <td>1</td>\n",
       "      <td>1</td>\n",
       "      <td>0</td>\n",
       "      <td>0</td>\n",
       "      <td>6</td>\n",
       "      <td>2.0</td>\n",
       "      <td>2</td>\n",
       "    </tr>\n",
       "    <tr>\n",
       "      <th>4</th>\n",
       "      <td>0</td>\n",
       "      <td>1</td>\n",
       "      <td>1</td>\n",
       "      <td>0</td>\n",
       "      <td>0</td>\n",
       "      <td>2</td>\n",
       "      <td>3</td>\n",
       "      <td>1</td>\n",
       "      <td>1</td>\n",
       "      <td>5</td>\n",
       "      <td>1</td>\n",
       "      <td>1</td>\n",
       "      <td>0</td>\n",
       "      <td>0</td>\n",
       "      <td>2</td>\n",
       "      <td>2.0</td>\n",
       "      <td>0</td>\n",
       "    </tr>\n",
       "  </tbody>\n",
       "</table>\n",
       "</div>"
      ],
      "text/plain": [
       "   gender  car  reality  child_num  income_total  income_type  edu_type  \\\n",
       "0       1    1        0          0             0            1         2   \n",
       "1       0    0        1          0             0            2         3   \n",
       "2       0    0        1          0             0            4         2   \n",
       "3       1    1        0          0             0            0         2   \n",
       "4       0    1        1          0             0            2         3   \n",
       "\n",
       "   family_type  house_type  DAYS_BIRTH  DAYS_EMPLOYED  work_phone  phone  \\\n",
       "0            0           1           8              0           0      1   \n",
       "1            1           1           6              1           0      1   \n",
       "2            1           1           4              1           1      1   \n",
       "3            1           1           6              1           1      0   \n",
       "4            1           1           5              1           1      0   \n",
       "\n",
       "   email  occyp_type  family_size  begin_month  \n",
       "0      0           0          2.0            3  \n",
       "1      0           5          2.0            2  \n",
       "2      0           1          2.0            2  \n",
       "3      0           6          2.0            2  \n",
       "4      0           2          2.0            0  "
      ]
     },
     "execution_count": 92,
     "metadata": {},
     "output_type": "execute_result"
    }
   ],
   "source": [
    "X_test.head()"
   ]
  },
  {
   "cell_type": "code",
   "execution_count": 93,
   "id": "ea752773",
   "metadata": {},
   "outputs": [
    {
     "data": {
      "text/html": [
       "<div>\n",
       "<style scoped>\n",
       "    .dataframe tbody tr th:only-of-type {\n",
       "        vertical-align: middle;\n",
       "    }\n",
       "\n",
       "    .dataframe tbody tr th {\n",
       "        vertical-align: top;\n",
       "    }\n",
       "\n",
       "    .dataframe thead th {\n",
       "        text-align: right;\n",
       "    }\n",
       "</style>\n",
       "<table border=\"1\" class=\"dataframe\">\n",
       "  <thead>\n",
       "    <tr style=\"text-align: right;\">\n",
       "      <th></th>\n",
       "      <th>gender</th>\n",
       "      <th>car</th>\n",
       "      <th>reality</th>\n",
       "      <th>child_num</th>\n",
       "      <th>income_total</th>\n",
       "      <th>income_type</th>\n",
       "      <th>edu_type</th>\n",
       "      <th>family_type</th>\n",
       "      <th>house_type</th>\n",
       "      <th>DAYS_BIRTH</th>\n",
       "      <th>DAYS_EMPLOYED</th>\n",
       "      <th>work_phone</th>\n",
       "      <th>phone</th>\n",
       "      <th>email</th>\n",
       "      <th>occyp_type</th>\n",
       "      <th>family_size</th>\n",
       "      <th>begin_month</th>\n",
       "    </tr>\n",
       "  </thead>\n",
       "  <tbody>\n",
       "    <tr>\n",
       "      <th>0</th>\n",
       "      <td>0</td>\n",
       "      <td>0</td>\n",
       "      <td>0</td>\n",
       "      <td>0</td>\n",
       "      <td>0</td>\n",
       "      <td>0</td>\n",
       "      <td>3</td>\n",
       "      <td>1</td>\n",
       "      <td>2</td>\n",
       "      <td>3</td>\n",
       "      <td>1</td>\n",
       "      <td>0</td>\n",
       "      <td>0</td>\n",
       "      <td>0</td>\n",
       "      <td>0</td>\n",
       "      <td>2.0</td>\n",
       "      <td>0</td>\n",
       "    </tr>\n",
       "    <tr>\n",
       "      <th>1</th>\n",
       "      <td>0</td>\n",
       "      <td>0</td>\n",
       "      <td>1</td>\n",
       "      <td>1</td>\n",
       "      <td>0</td>\n",
       "      <td>0</td>\n",
       "      <td>2</td>\n",
       "      <td>0</td>\n",
       "      <td>1</td>\n",
       "      <td>2</td>\n",
       "      <td>1</td>\n",
       "      <td>0</td>\n",
       "      <td>0</td>\n",
       "      <td>1</td>\n",
       "      <td>1</td>\n",
       "      <td>3.0</td>\n",
       "      <td>0</td>\n",
       "    </tr>\n",
       "    <tr>\n",
       "      <th>2</th>\n",
       "      <td>1</td>\n",
       "      <td>1</td>\n",
       "      <td>1</td>\n",
       "      <td>0</td>\n",
       "      <td>1</td>\n",
       "      <td>4</td>\n",
       "      <td>3</td>\n",
       "      <td>1</td>\n",
       "      <td>1</td>\n",
       "      <td>6</td>\n",
       "      <td>1</td>\n",
       "      <td>0</td>\n",
       "      <td>1</td>\n",
       "      <td>0</td>\n",
       "      <td>2</td>\n",
       "      <td>2.0</td>\n",
       "      <td>1</td>\n",
       "    </tr>\n",
       "    <tr>\n",
       "      <th>3</th>\n",
       "      <td>0</td>\n",
       "      <td>0</td>\n",
       "      <td>1</td>\n",
       "      <td>0</td>\n",
       "      <td>0</td>\n",
       "      <td>0</td>\n",
       "      <td>2</td>\n",
       "      <td>1</td>\n",
       "      <td>1</td>\n",
       "      <td>4</td>\n",
       "      <td>1</td>\n",
       "      <td>0</td>\n",
       "      <td>1</td>\n",
       "      <td>0</td>\n",
       "      <td>3</td>\n",
       "      <td>2.0</td>\n",
       "      <td>2</td>\n",
       "    </tr>\n",
       "    <tr>\n",
       "      <th>4</th>\n",
       "      <td>0</td>\n",
       "      <td>1</td>\n",
       "      <td>1</td>\n",
       "      <td>0</td>\n",
       "      <td>0</td>\n",
       "      <td>2</td>\n",
       "      <td>3</td>\n",
       "      <td>1</td>\n",
       "      <td>1</td>\n",
       "      <td>4</td>\n",
       "      <td>1</td>\n",
       "      <td>0</td>\n",
       "      <td>0</td>\n",
       "      <td>0</td>\n",
       "      <td>2</td>\n",
       "      <td>2.0</td>\n",
       "      <td>1</td>\n",
       "    </tr>\n",
       "  </tbody>\n",
       "</table>\n",
       "</div>"
      ],
      "text/plain": [
       "   gender  car  reality  child_num  income_total  income_type  edu_type  \\\n",
       "0       0    0        0          0             0            0         3   \n",
       "1       0    0        1          1             0            0         2   \n",
       "2       1    1        1          0             1            4         3   \n",
       "3       0    0        1          0             0            0         2   \n",
       "4       0    1        1          0             0            2         3   \n",
       "\n",
       "   family_type  house_type  DAYS_BIRTH  DAYS_EMPLOYED  work_phone  phone  \\\n",
       "0            1           2           3              1           0      0   \n",
       "1            0           1           2              1           0      0   \n",
       "2            1           1           6              1           0      1   \n",
       "3            1           1           4              1           0      1   \n",
       "4            1           1           4              1           0      0   \n",
       "\n",
       "   email  occyp_type  family_size  begin_month  \n",
       "0      0           0          2.0            0  \n",
       "1      1           1          3.0            0  \n",
       "2      0           2          2.0            1  \n",
       "3      0           3          2.0            2  \n",
       "4      0           2          2.0            1  "
      ]
     },
     "execution_count": 93,
     "metadata": {},
     "output_type": "execute_result"
    }
   ],
   "source": [
    "X_train.head()"
   ]
  },
  {
   "cell_type": "markdown",
   "id": "9fc255c2",
   "metadata": {},
   "source": [
    "# 4. Models & training"
   ]
  },
  {
   "cell_type": "code",
   "execution_count": 94,
   "id": "9dbf3da8",
   "metadata": {},
   "outputs": [],
   "source": [
    "from sklearn.model_selection import GridSearchCV, StratifiedKFold\n",
    "\n",
    "k_fold = StratifiedKFold(n_splits=10, shuffle=True, random_state=42)"
   ]
  },
  {
   "cell_type": "markdown",
   "id": "7aa3eadf",
   "metadata": {},
   "source": [
    "## 4-1. RandomForest"
   ]
  },
  {
   "cell_type": "code",
   "execution_count": 95,
   "id": "cba5be43",
   "metadata": {},
   "outputs": [
    {
     "name": "stdout",
     "output_type": "stream",
     "text": [
      "Fitting 10 folds for each of 12 candidates, totalling 120 fits\n",
      "0.6585779869603796\n",
      "{'criterion': 'entropy', 'max_depth': 15, 'n_estimators': 300, 'random_state': 42}\n"
     ]
    }
   ],
   "source": [
    "from sklearn.ensemble import RandomForestClassifier\n",
    "\n",
    "feat_labels = X_train.columns\n",
    "\n",
    "forest = RandomForestClassifier()\n",
    "\n",
    "forest_param_grid = {\"max_depth\" : [11, 13, 15],\n",
    "                    \"n_estimators\" : [100, 300],\n",
    "                    \"criterion\" : [\"gini\", \"entropy\"],\n",
    "                    \"random_state\" : [42]}\n",
    "\n",
    "gs_forest = GridSearchCV(forest, forest_param_grid, \n",
    "                       cv=k_fold, scoring=\"accuracy\", verbose=1, n_jobs=-1)\n",
    "\n",
    "gs_forest.fit(X_train, y_train)\n",
    "\n",
    "forest_best = gs_forest.best_estimator_\n",
    "\n",
    "print(gs_forest.best_score_)\n",
    "print(gs_forest.best_params_)\n",
    "\n",
    "forest_best.fit(X_train, y_train)\n",
    "\n",
    "importances = forest_best.feature_importances_\n",
    "\n",
    "y_pred_forest = forest_best.predict(X_train)\n",
    "predict_forest = forest_best.predict_proba(X_test)"
   ]
  },
  {
   "cell_type": "markdown",
   "id": "fe55382b",
   "metadata": {},
   "source": [
    "### 4-1-1. Feature importance"
   ]
  },
  {
   "cell_type": "code",
   "execution_count": 96,
   "id": "da908c36",
   "metadata": {},
   "outputs": [
    {
     "name": "stdout",
     "output_type": "stream",
     "text": [
      " 1) occyp_type                     0.14646091252415322\n",
      " 2) begin_month                    0.1272577461961399\n",
      " 3) DAYS_BIRTH                     0.12593864076739922\n",
      " 4) edu_type                       0.061345716567408844\n",
      " 5) family_type                    0.06080222327750463\n",
      " 6) income_type                    0.05238869195563755\n",
      " 7) family_size                    0.05196359074922847\n",
      " 8) house_type                     0.047740390729536175\n",
      " 9) car                            0.04503425528059358\n",
      "10) gender                         0.04287865974701608\n",
      "11) phone                          0.04254865640017278\n",
      "12) child_num                      0.04075864613638145\n",
      "13) income_total                   0.040450835045142686\n",
      "14) reality                        0.040102334246249725\n",
      "15) work_phone                     0.038146851895493536\n",
      "16) email                          0.028280652244659477\n",
      "17) DAYS_EMPLOYED                  0.007901196237282823\n"
     ]
    },
    {
     "data": {
      "image/png": "[encoded data removed]",
      "text/plain": [
       "<Figure size 432x288 with 1 Axes>"
      ]
     },
     "metadata": {
      "needs_background": "light"
     },
     "output_type": "display_data"
    }
   ],
   "source": [
    "import matplotlib.pyplot as plt\n",
    "\n",
    "indices = np.argsort(importances)[::-1]\n",
    "\n",
    "for f in range(X_train.shape[1]):\n",
    "    print(\"%2d) %-*s %s\" % (f+1, 30, \n",
    "                            feat_labels[indices[f]],\n",
    "                           importances[indices[f]]))\n",
    "\n",
    "plt.title('Feature Importance')\n",
    "plt.bar(range(X_train.shape[1]),\n",
    "       importances[indices],\n",
    "       align='center')\n",
    "\n",
    "plt.xticks(range(X_train.shape[1]),\n",
    "          feat_labels[indices], rotation=90)\n",
    "plt.xlim([-1, X_train.shape[1]])\n",
    "plt.tight_layout()\n",
    "plt.show()"
   ]
  },
  {
   "cell_type": "markdown",
   "id": "921f3b48",
   "metadata": {},
   "source": [
    "## 4-2. Logistic-Regression"
   ]
  },
  {
   "cell_type": "code",
   "execution_count": 97,
   "id": "4e64c4ed",
   "metadata": {},
   "outputs": [
    {
     "name": "stdout",
     "output_type": "stream",
     "text": [
      "Fitting 10 folds for each of 6 candidates, totalling 60 fits\n",
      "0.6413047764789596\n",
      "{'C': 0.1, 'max_iter': 500, 'random_state': 42, 'solver': 'sag'}\n"
     ]
    }
   ],
   "source": [
    "from sklearn.linear_model import LogisticRegression\n",
    "\n",
    "lr = LogisticRegression()\n",
    "\n",
    "lr_param_grid = {\"C\" : [0.1, 1.0, 100.],\n",
    "                \"solver\" : ['sag', 'saga'],\n",
    "                 \"max_iter\" : [500],\n",
    "                \"random_state\" : [42]}\n",
    "\n",
    "gs_lr = GridSearchCV(lr, lr_param_grid,\n",
    "                    cv=k_fold, scoring=\"accuracy\", verbose=1, n_jobs=-1)\n",
    "\n",
    "gs_lr.fit(X_train, y_train)\n",
    "\n",
    "lr_best = gs_lr.best_estimator_\n",
    "\n",
    "print(gs_lr.best_score_)\n",
    "print(gs_lr.best_params_)\n",
    "\n",
    "lr_best.fit(X_train, y_train)\n",
    "\n",
    "y_pred_lr = lr_best.predict(X_train)\n",
    "predict_lr = lr_best.predict_proba(X_test)"
   ]
  },
  {
   "cell_type": "markdown",
   "id": "63b337cc",
   "metadata": {},
   "source": [
    "## 4-3. KNN"
   ]
  },
  {
   "cell_type": "code",
   "execution_count": 98,
   "id": "9920f1cc",
   "metadata": {
    "scrolled": false
   },
   "outputs": [
    {
     "name": "stdout",
     "output_type": "stream",
     "text": [
      "Fitting 10 folds for each of 12 candidates, totalling 120 fits\n",
      "0.6332165825792615\n",
      "{'n_neighbors': 7, 'p': 1, 'weights': 'uniform'}\n"
     ]
    }
   ],
   "source": [
    "from sklearn.neighbors import KNeighborsClassifier\n",
    "\n",
    "knn = KNeighborsClassifier()\n",
    "\n",
    "knn_param_grid = {\"n_neighbors\" : [3, 5, 7],\n",
    "                 \"p\" : [1, 2],\n",
    "                 \"weights\" : ['uniform', 'distance']}\n",
    "\n",
    "gs_knn = GridSearchCV(knn, knn_param_grid,\n",
    "                     cv=k_fold, scoring=\"accuracy\", verbose=1, n_jobs=-1)\n",
    "\n",
    "gs_knn.fit(X_train, y_train)\n",
    "\n",
    "knn_best = gs_knn.best_estimator_\n",
    "\n",
    "print(gs_knn.best_score_)\n",
    "print(gs_knn.best_params_)\n",
    "\n",
    "knn_best.fit(X_train, y_train)\n",
    "\n",
    "y_pred_knn = knn_best.predict(X_train)\n",
    "predict_knn = knn_best.predict_proba(X_test)"
   ]
  },
  {
   "cell_type": "markdown",
   "id": "72c0a14e",
   "metadata": {},
   "source": [
    "## 4-4. Ensemble"
   ]
  },
  {
   "cell_type": "markdown",
   "id": "9d3064b5",
   "metadata": {},
   "source": [
    "## 4-4-1. Voting(RandomForest, LogisticRegression, KNN)"
   ]
  },
  {
   "cell_type": "code",
   "execution_count": 100,
   "id": "481fe5ea",
   "metadata": {},
   "outputs": [
    {
     "name": "stdout",
     "output_type": "stream",
     "text": [
      "CV 정확도: 0.6621313192363691 +/- 0.004744881417040133\n"
     ]
    }
   ],
   "source": [
    "from sklearn.ensemble import VotingClassifier\n",
    "from sklearn.model_selection import cross_val_score\n",
    "\n",
    "kfold = k_fold.split(X_train, y_train)\n",
    "\n",
    "voting = VotingClassifier(estimators=[('forest', forest_best),\n",
    "                                     ('knn', knn_best),\n",
    "                                     ('lr', lr_best)],\n",
    "                         voting='soft',\n",
    "                         n_jobs=-1)\n",
    "\n",
    "scores = cross_val_score(estimator=voting,\n",
    "                        X=X_train,\n",
    "                        y=y_train,\n",
    "                        cv=10,\n",
    "                        n_jobs=1)\n",
    "\n",
    "print('CV 정확도: {} +/- {}'.format(np.mean(scores), np.std(scores)))\n",
    "\n",
    "voting = voting.fit(X_train, y_train)\n",
    "\n",
    "y_pred_vote = voting.predict(X_train)\n",
    "predict_vote = voting.predict_proba(X_test)"
   ]
  },
  {
   "cell_type": "markdown",
   "id": "a204a3ec",
   "metadata": {},
   "source": [
    "# 5. Evaluating"
   ]
  },
  {
   "cell_type": "markdown",
   "id": "85517d54",
   "metadata": {},
   "source": [
    "## 5-1. Confusion Matrix"
   ]
  },
  {
   "cell_type": "code",
   "execution_count": 101,
   "id": "af60bee6",
   "metadata": {},
   "outputs": [],
   "source": [
    "from sklearn.metrics import confusion_matrix"
   ]
  },
  {
   "cell_type": "markdown",
   "id": "bc8829e0",
   "metadata": {},
   "source": [
    "### 5-1-1. RandomForest"
   ]
  },
  {
   "cell_type": "code",
   "execution_count": 102,
   "id": "3d14f1fb",
   "metadata": {},
   "outputs": [
    {
     "name": "stdout",
     "output_type": "stream",
     "text": [
      "[[  686   131  2405]\n",
      " [   51  2080  4136]\n",
      " [   40   205 16723]]\n"
     ]
    }
   ],
   "source": [
    "confmat = confusion_matrix(y_true=y_train, y_pred=y_pred_forest)\n",
    "print(confmat)"
   ]
  },
  {
   "cell_type": "markdown",
   "id": "881d49ae",
   "metadata": {},
   "source": [
    "### 5-1-2. Logistic-Regression"
   ]
  },
  {
   "cell_type": "code",
   "execution_count": 103,
   "id": "45eff1a2",
   "metadata": {},
   "outputs": [
    {
     "name": "stdout",
     "output_type": "stream",
     "text": [
      "[[    0     0  3222]\n",
      " [    0     0  6267]\n",
      " [    0     1 16967]]\n"
     ]
    }
   ],
   "source": [
    "confmat = confusion_matrix(y_true=y_train, y_pred=y_pred_lr)\n",
    "print(confmat)"
   ]
  },
  {
   "cell_type": "markdown",
   "id": "9e86895f",
   "metadata": {},
   "source": [
    "### 5-1-3. KNN"
   ]
  },
  {
   "cell_type": "code",
   "execution_count": 104,
   "id": "e2145002",
   "metadata": {},
   "outputs": [
    {
     "name": "stdout",
     "output_type": "stream",
     "text": [
      "[[ 1037   444  1741]\n",
      " [  250  2952  3065]\n",
      " [  453  1433 15082]]\n"
     ]
    }
   ],
   "source": [
    "confmat = confusion_matrix(y_true=y_train, y_pred=y_pred_knn)\n",
    "print(confmat)"
   ]
  },
  {
   "cell_type": "markdown",
   "id": "f93143d8",
   "metadata": {},
   "source": [
    "### 5-1-4. Voting"
   ]
  },
  {
   "cell_type": "code",
   "execution_count": 105,
   "id": "92f03556",
   "metadata": {},
   "outputs": [
    {
     "name": "stdout",
     "output_type": "stream",
     "text": [
      "[[  327   157  2738]\n",
      " [   36  1541  4690]\n",
      " [   19   199 16750]]\n"
     ]
    }
   ],
   "source": [
    "confmat = confusion_matrix(y_true=y_train, y_pred=y_pred_vote)\n",
    "print(confmat)"
   ]
  },
  {
   "cell_type": "markdown",
   "id": "6de3b442",
   "metadata": {},
   "source": [
    "## 5-2. Accuracy Score"
   ]
  },
  {
   "cell_type": "code",
   "execution_count": 106,
   "id": "17313c92",
   "metadata": {},
   "outputs": [],
   "source": [
    "from sklearn.metrics import accuracy_score"
   ]
  },
  {
   "cell_type": "markdown",
   "id": "a7487bea",
   "metadata": {},
   "source": [
    "### 5-2-1. RandomForest"
   ]
  },
  {
   "cell_type": "code",
   "execution_count": 107,
   "id": "0cc8e4e3",
   "metadata": {},
   "outputs": [
    {
     "name": "stdout",
     "output_type": "stream",
     "text": [
      "0.7366292474581396\n"
     ]
    }
   ],
   "source": [
    "score = accuracy_score(y_train, y_pred_forest)\n",
    "print(score)"
   ]
  },
  {
   "cell_type": "markdown",
   "id": "ccba67af",
   "metadata": {},
   "source": [
    "### 5-2-2. Logistic Regression"
   ]
  },
  {
   "cell_type": "code",
   "execution_count": 108,
   "id": "432a84e5",
   "metadata": {},
   "outputs": [
    {
     "name": "stdout",
     "output_type": "stream",
     "text": [
      "0.6413047586650036\n"
     ]
    }
   ],
   "source": [
    "score = accuracy_score(y_train, y_pred_lr)\n",
    "print(score)"
   ]
  },
  {
   "cell_type": "markdown",
   "id": "bc636bf1",
   "metadata": {},
   "source": [
    "### 5-2-3. KNN"
   ]
  },
  {
   "cell_type": "code",
   "execution_count": 109,
   "id": "1ed5c373",
   "metadata": {},
   "outputs": [
    {
     "name": "stdout",
     "output_type": "stream",
     "text": [
      "0.7208300260800544\n"
     ]
    }
   ],
   "source": [
    "score = accuracy_score(y_train, y_pred_knn)\n",
    "print(score)"
   ]
  },
  {
   "cell_type": "markdown",
   "id": "a2f709de",
   "metadata": {},
   "source": [
    "### 5-2-4. Voting"
   ]
  },
  {
   "cell_type": "code",
   "execution_count": 110,
   "id": "aca84a01",
   "metadata": {},
   "outputs": [
    {
     "name": "stdout",
     "output_type": "stream",
     "text": [
      "0.7037079033904071\n"
     ]
    }
   ],
   "source": [
    "score = accuracy_score(y_train, y_pred_vote)\n",
    "print(score)"
   ]
  },
  {
   "cell_type": "markdown",
   "id": "f370ca71",
   "metadata": {},
   "source": [
    "# 6. Submission file"
   ]
  },
  {
   "cell_type": "code",
   "execution_count": 116,
   "id": "9d2244ee",
   "metadata": {},
   "outputs": [
    {
     "data": {
      "text/html": [
       "<div>\n",
       "<style scoped>\n",
       "    .dataframe tbody tr th:only-of-type {\n",
       "        vertical-align: middle;\n",
       "    }\n",
       "\n",
       "    .dataframe tbody tr th {\n",
       "        vertical-align: top;\n",
       "    }\n",
       "\n",
       "    .dataframe thead th {\n",
       "        text-align: right;\n",
       "    }\n",
       "</style>\n",
       "<table border=\"1\" class=\"dataframe\">\n",
       "  <thead>\n",
       "    <tr style=\"text-align: right;\">\n",
       "      <th></th>\n",
       "      <th>index</th>\n",
       "      <th>0</th>\n",
       "      <th>1</th>\n",
       "      <th>2</th>\n",
       "    </tr>\n",
       "  </thead>\n",
       "  <tbody>\n",
       "    <tr>\n",
       "      <th>0</th>\n",
       "      <td>26457</td>\n",
       "      <td>0</td>\n",
       "      <td>0</td>\n",
       "      <td>0</td>\n",
       "    </tr>\n",
       "    <tr>\n",
       "      <th>1</th>\n",
       "      <td>26458</td>\n",
       "      <td>0</td>\n",
       "      <td>0</td>\n",
       "      <td>0</td>\n",
       "    </tr>\n",
       "    <tr>\n",
       "      <th>2</th>\n",
       "      <td>26459</td>\n",
       "      <td>0</td>\n",
       "      <td>0</td>\n",
       "      <td>0</td>\n",
       "    </tr>\n",
       "    <tr>\n",
       "      <th>3</th>\n",
       "      <td>26460</td>\n",
       "      <td>0</td>\n",
       "      <td>0</td>\n",
       "      <td>0</td>\n",
       "    </tr>\n",
       "    <tr>\n",
       "      <th>4</th>\n",
       "      <td>26461</td>\n",
       "      <td>0</td>\n",
       "      <td>0</td>\n",
       "      <td>0</td>\n",
       "    </tr>\n",
       "    <tr>\n",
       "      <th>...</th>\n",
       "      <td>...</td>\n",
       "      <td>...</td>\n",
       "      <td>...</td>\n",
       "      <td>...</td>\n",
       "    </tr>\n",
       "    <tr>\n",
       "      <th>9995</th>\n",
       "      <td>36452</td>\n",
       "      <td>0</td>\n",
       "      <td>0</td>\n",
       "      <td>0</td>\n",
       "    </tr>\n",
       "    <tr>\n",
       "      <th>9996</th>\n",
       "      <td>36453</td>\n",
       "      <td>0</td>\n",
       "      <td>0</td>\n",
       "      <td>0</td>\n",
       "    </tr>\n",
       "    <tr>\n",
       "      <th>9997</th>\n",
       "      <td>36454</td>\n",
       "      <td>0</td>\n",
       "      <td>0</td>\n",
       "      <td>0</td>\n",
       "    </tr>\n",
       "    <tr>\n",
       "      <th>9998</th>\n",
       "      <td>36455</td>\n",
       "      <td>0</td>\n",
       "      <td>0</td>\n",
       "      <td>0</td>\n",
       "    </tr>\n",
       "    <tr>\n",
       "      <th>9999</th>\n",
       "      <td>36456</td>\n",
       "      <td>0</td>\n",
       "      <td>0</td>\n",
       "      <td>0</td>\n",
       "    </tr>\n",
       "  </tbody>\n",
       "</table>\n",
       "<p>10000 rows × 4 columns</p>\n",
       "</div>"
      ],
      "text/plain": [
       "      index  0  1  2\n",
       "0     26457  0  0  0\n",
       "1     26458  0  0  0\n",
       "2     26459  0  0  0\n",
       "3     26460  0  0  0\n",
       "4     26461  0  0  0\n",
       "...     ... .. .. ..\n",
       "9995  36452  0  0  0\n",
       "9996  36453  0  0  0\n",
       "9997  36454  0  0  0\n",
       "9998  36455  0  0  0\n",
       "9999  36456  0  0  0\n",
       "\n",
       "[10000 rows x 4 columns]"
      ]
     },
     "execution_count": 116,
     "metadata": {},
     "output_type": "execute_result"
    }
   ],
   "source": [
    "submission"
   ]
  },
  {
   "cell_type": "code",
   "execution_count": 122,
   "id": "605211e9",
   "metadata": {},
   "outputs": [
    {
     "name": "stdout",
     "output_type": "stream",
     "text": [
      "Index(['index', '0', '1', '2'], dtype='object')\n"
     ]
    },
    {
     "data": {
      "text/html": [
       "<div>\n",
       "<style scoped>\n",
       "    .dataframe tbody tr th:only-of-type {\n",
       "        vertical-align: middle;\n",
       "    }\n",
       "\n",
       "    .dataframe tbody tr th {\n",
       "        vertical-align: top;\n",
       "    }\n",
       "\n",
       "    .dataframe thead th {\n",
       "        text-align: right;\n",
       "    }\n",
       "</style>\n",
       "<table border=\"1\" class=\"dataframe\">\n",
       "  <thead>\n",
       "    <tr style=\"text-align: right;\">\n",
       "      <th></th>\n",
       "      <th>0</th>\n",
       "      <th>1</th>\n",
       "      <th>2</th>\n",
       "    </tr>\n",
       "  </thead>\n",
       "  <tbody>\n",
       "    <tr>\n",
       "      <th>0</th>\n",
       "      <td>0.073189</td>\n",
       "      <td>0.146404</td>\n",
       "      <td>0.780407</td>\n",
       "    </tr>\n",
       "    <tr>\n",
       "      <th>1</th>\n",
       "      <td>0.137292</td>\n",
       "      <td>0.154376</td>\n",
       "      <td>0.708332</td>\n",
       "    </tr>\n",
       "    <tr>\n",
       "      <th>2</th>\n",
       "      <td>0.149257</td>\n",
       "      <td>0.170363</td>\n",
       "      <td>0.680381</td>\n",
       "    </tr>\n",
       "    <tr>\n",
       "      <th>3</th>\n",
       "      <td>0.119515</td>\n",
       "      <td>0.120627</td>\n",
       "      <td>0.759859</td>\n",
       "    </tr>\n",
       "    <tr>\n",
       "      <th>4</th>\n",
       "      <td>0.097286</td>\n",
       "      <td>0.424179</td>\n",
       "      <td>0.478535</td>\n",
       "    </tr>\n",
       "    <tr>\n",
       "      <th>...</th>\n",
       "      <td>...</td>\n",
       "      <td>...</td>\n",
       "      <td>...</td>\n",
       "    </tr>\n",
       "    <tr>\n",
       "      <th>9995</th>\n",
       "      <td>0.182951</td>\n",
       "      <td>0.166406</td>\n",
       "      <td>0.650643</td>\n",
       "    </tr>\n",
       "    <tr>\n",
       "      <th>9996</th>\n",
       "      <td>0.274618</td>\n",
       "      <td>0.193974</td>\n",
       "      <td>0.531408</td>\n",
       "    </tr>\n",
       "    <tr>\n",
       "      <th>9997</th>\n",
       "      <td>0.056551</td>\n",
       "      <td>0.142833</td>\n",
       "      <td>0.800615</td>\n",
       "    </tr>\n",
       "    <tr>\n",
       "      <th>9998</th>\n",
       "      <td>0.144012</td>\n",
       "      <td>0.251638</td>\n",
       "      <td>0.604350</td>\n",
       "    </tr>\n",
       "    <tr>\n",
       "      <th>9999</th>\n",
       "      <td>0.085632</td>\n",
       "      <td>0.596129</td>\n",
       "      <td>0.318240</td>\n",
       "    </tr>\n",
       "  </tbody>\n",
       "</table>\n",
       "<p>10000 rows × 3 columns</p>\n",
       "</div>"
      ],
      "text/plain": [
       "             0         1         2\n",
       "0     0.073189  0.146404  0.780407\n",
       "1     0.137292  0.154376  0.708332\n",
       "2     0.149257  0.170363  0.680381\n",
       "3     0.119515  0.120627  0.759859\n",
       "4     0.097286  0.424179  0.478535\n",
       "...        ...       ...       ...\n",
       "9995  0.182951  0.166406  0.650643\n",
       "9996  0.274618  0.193974  0.531408\n",
       "9997  0.056551  0.142833  0.800615\n",
       "9998  0.144012  0.251638  0.604350\n",
       "9999  0.085632  0.596129  0.318240\n",
       "\n",
       "[10000 rows x 3 columns]"
      ]
     },
     "execution_count": 122,
     "metadata": {},
     "output_type": "execute_result"
    }
   ],
   "source": [
    "predict = pd.DataFrame(predict_forest)\n",
    "\n",
    "predict.columns = ['0', '1', '2']\n",
    "\n",
    "predict"
   ]
  },
  {
   "cell_type": "code",
   "execution_count": 126,
   "id": "796ead2b",
   "metadata": {},
   "outputs": [
    {
     "data": {
      "text/html": [
       "<div>\n",
       "<style scoped>\n",
       "    .dataframe tbody tr th:only-of-type {\n",
       "        vertical-align: middle;\n",
       "    }\n",
       "\n",
       "    .dataframe tbody tr th {\n",
       "        vertical-align: top;\n",
       "    }\n",
       "\n",
       "    .dataframe thead th {\n",
       "        text-align: right;\n",
       "    }\n",
       "</style>\n",
       "<table border=\"1\" class=\"dataframe\">\n",
       "  <thead>\n",
       "    <tr style=\"text-align: right;\">\n",
       "      <th></th>\n",
       "      <th>index</th>\n",
       "      <th>0</th>\n",
       "      <th>1</th>\n",
       "      <th>2</th>\n",
       "    </tr>\n",
       "  </thead>\n",
       "  <tbody>\n",
       "    <tr>\n",
       "      <th>0</th>\n",
       "      <td>26457</td>\n",
       "      <td>0.073189</td>\n",
       "      <td>0.146404</td>\n",
       "      <td>0.780407</td>\n",
       "    </tr>\n",
       "    <tr>\n",
       "      <th>1</th>\n",
       "      <td>26458</td>\n",
       "      <td>0.137292</td>\n",
       "      <td>0.154376</td>\n",
       "      <td>0.708332</td>\n",
       "    </tr>\n",
       "    <tr>\n",
       "      <th>2</th>\n",
       "      <td>26459</td>\n",
       "      <td>0.149257</td>\n",
       "      <td>0.170363</td>\n",
       "      <td>0.680381</td>\n",
       "    </tr>\n",
       "    <tr>\n",
       "      <th>3</th>\n",
       "      <td>26460</td>\n",
       "      <td>0.119515</td>\n",
       "      <td>0.120627</td>\n",
       "      <td>0.759859</td>\n",
       "    </tr>\n",
       "    <tr>\n",
       "      <th>4</th>\n",
       "      <td>26461</td>\n",
       "      <td>0.097286</td>\n",
       "      <td>0.424179</td>\n",
       "      <td>0.478535</td>\n",
       "    </tr>\n",
       "    <tr>\n",
       "      <th>...</th>\n",
       "      <td>...</td>\n",
       "      <td>...</td>\n",
       "      <td>...</td>\n",
       "      <td>...</td>\n",
       "    </tr>\n",
       "    <tr>\n",
       "      <th>9995</th>\n",
       "      <td>36452</td>\n",
       "      <td>0.182951</td>\n",
       "      <td>0.166406</td>\n",
       "      <td>0.650643</td>\n",
       "    </tr>\n",
       "    <tr>\n",
       "      <th>9996</th>\n",
       "      <td>36453</td>\n",
       "      <td>0.274618</td>\n",
       "      <td>0.193974</td>\n",
       "      <td>0.531408</td>\n",
       "    </tr>\n",
       "    <tr>\n",
       "      <th>9997</th>\n",
       "      <td>36454</td>\n",
       "      <td>0.056551</td>\n",
       "      <td>0.142833</td>\n",
       "      <td>0.800615</td>\n",
       "    </tr>\n",
       "    <tr>\n",
       "      <th>9998</th>\n",
       "      <td>36455</td>\n",
       "      <td>0.144012</td>\n",
       "      <td>0.251638</td>\n",
       "      <td>0.604350</td>\n",
       "    </tr>\n",
       "    <tr>\n",
       "      <th>9999</th>\n",
       "      <td>36456</td>\n",
       "      <td>0.085632</td>\n",
       "      <td>0.596129</td>\n",
       "      <td>0.318240</td>\n",
       "    </tr>\n",
       "  </tbody>\n",
       "</table>\n",
       "<p>10000 rows × 4 columns</p>\n",
       "</div>"
      ],
      "text/plain": [
       "      index         0         1         2\n",
       "0     26457  0.073189  0.146404  0.780407\n",
       "1     26458  0.137292  0.154376  0.708332\n",
       "2     26459  0.149257  0.170363  0.680381\n",
       "3     26460  0.119515  0.120627  0.759859\n",
       "4     26461  0.097286  0.424179  0.478535\n",
       "...     ...       ...       ...       ...\n",
       "9995  36452  0.182951  0.166406  0.650643\n",
       "9996  36453  0.274618  0.193974  0.531408\n",
       "9997  36454  0.056551  0.142833  0.800615\n",
       "9998  36455  0.144012  0.251638  0.604350\n",
       "9999  36456  0.085632  0.596129  0.318240\n",
       "\n",
       "[10000 rows x 4 columns]"
      ]
     },
     "execution_count": 126,
     "metadata": {},
     "output_type": "execute_result"
    }
   ],
   "source": [
    "submission['0'] = predict['0']\n",
    "submission['1'] = predict['1']\n",
    "submission['2'] = predict['2']\n",
    "\n",
    "submission"
   ]
  },
  {
   "cell_type": "code",
   "execution_count": 127,
   "id": "102cfb83",
   "metadata": {},
   "outputs": [],
   "source": [
    "submission.to_csv('submit.csv', header=True, index=False)"
   ]
  }
 ],
 "metadata": {
  "kernelspec": {
   "display_name": "Python 3",
   "language": "python",
   "name": "python3"
  },
  "language_info": {
   "codemirror_mode": {
    "name": "ipython",
    "version": 3
   },
   "file_extension": ".py",
   "mimetype": "text/x-python",
   "name": "python",
   "nbconvert_exporter": "python",
   "pygments_lexer": "ipython3",
   "version": "3.8.5"
  }
 },
 "nbformat": 4,
 "nbformat_minor": 5
}
