{
 "cells": [
  {
   "source": [
    "# DataLoader"
   ],
   "cell_type": "markdown",
   "metadata": {}
  },
  {
   "cell_type": "code",
   "execution_count": 165,
   "id": "be9b1398",
   "metadata": {},
   "outputs": [],
   "source": [
    "import pandas as pd\n",
    "import numpy as np\n",
    "\n",
    "import os"
   ]
  },
  {
   "cell_type": "code",
   "execution_count": 166,
   "id": "5014153c",
   "metadata": {},
   "outputs": [],
   "source": [
    "data_dir = \"../../kaggle_data/creditcard_overdue/\"\n",
    "Raw_data_dir = os.path.join(data_dir, \"open/\")\n",
    "pre_data_dir = os.path.join(data_dir, \"preprocess/\")\n",
    "\n",
    "Raw_train = pd.read_csv(os.path.join(Raw_data_dir, \"train.csv\"))\n",
    "Raw_test = pd.read_csv(os.path.join(Raw_data_dir, \"test.csv\"))\n",
    "\n",
    "pre_train = pd.read_csv(os.path.join(pre_data_dir, \"train_preprocess.csv\"))\n",
    "pre_test = pd.read_csv(os.path.join(pre_data_dir, \"test_preprocess.csv\"))\n",
    "\n",
    "submission = pd.read_csv(os.path.join(Raw_data_dir, \"sample_submission.csv\"))"
   ]
  },
  {
   "cell_type": "code",
   "execution_count": 167,
   "id": "39b70b4f",
   "metadata": {},
   "outputs": [
    {
     "output_type": "execute_result",
     "data": {
      "text/plain": [
       "       index gender car reality  child_num  income_total  \\\n",
       "0          0      F   N       N          0      202500.0   \n",
       "1          1      F   N       Y          1      247500.0   \n",
       "2          2      M   Y       Y          0      450000.0   \n",
       "3          3      F   N       Y          0      202500.0   \n",
       "4          4      F   Y       Y          0      157500.0   \n",
       "...      ...    ...  ..     ...        ...           ...   \n",
       "26452  26452      F   N       N          2      225000.0   \n",
       "26453  26453      F   N       Y          1      180000.0   \n",
       "26454  26454      F   Y       N          0      292500.0   \n",
       "26455  26455      M   N       Y          0      171000.0   \n",
       "26456  26456      F   N       N          0       81000.0   \n",
       "\n",
       "                income_type                       edu_type  \\\n",
       "0      Commercial associate               Higher education   \n",
       "1      Commercial associate  Secondary / secondary special   \n",
       "2                   Working               Higher education   \n",
       "3      Commercial associate  Secondary / secondary special   \n",
       "4             State servant               Higher education   \n",
       "...                     ...                            ...   \n",
       "26452         State servant  Secondary / secondary special   \n",
       "26453               Working               Higher education   \n",
       "26454               Working  Secondary / secondary special   \n",
       "26455               Working              Incomplete higher   \n",
       "26456               Working  Secondary / secondary special   \n",
       "\n",
       "                family_type           house_type  DAYS_BIRTH  DAYS_EMPLOYED  \\\n",
       "0                   Married  Municipal apartment      -13899          -4709   \n",
       "1            Civil marriage    House / apartment      -11380          -1540   \n",
       "2                   Married    House / apartment      -19087          -4434   \n",
       "3                   Married    House / apartment      -15088          -2092   \n",
       "4                   Married    House / apartment      -15037          -2105   \n",
       "...                     ...                  ...         ...            ...   \n",
       "26452               Married    House / apartment      -12079          -1984   \n",
       "26453             Separated    House / apartment      -15291          -2475   \n",
       "26454        Civil marriage         With parents      -10082          -2015   \n",
       "26455  Single / not married    House / apartment      -10145           -107   \n",
       "26456        Civil marriage    House / apartment      -19569          -1013   \n",
       "\n",
       "       FLAG_MOBIL  work_phone  phone  email      occyp_type  family_size  \\\n",
       "0               1           0      0      0             NaN          2.0   \n",
       "1               1           0      0      1        Laborers          3.0   \n",
       "2               1           0      1      0        Managers          2.0   \n",
       "3               1           0      1      0     Sales staff          2.0   \n",
       "4               1           0      0      0        Managers          2.0   \n",
       "...           ...         ...    ...    ...             ...          ...   \n",
       "26452           1           0      0      0      Core staff          4.0   \n",
       "26453           1           0      0      0             NaN          2.0   \n",
       "26454           1           0      0      0      Core staff          2.0   \n",
       "26455           1           0      0      0        Laborers          1.0   \n",
       "26456           1           0      0      0  Security staff          2.0   \n",
       "\n",
       "       begin_month  credit  \n",
       "0             -6.0     1.0  \n",
       "1             -5.0     1.0  \n",
       "2            -22.0     2.0  \n",
       "3            -37.0     0.0  \n",
       "4            -26.0     2.0  \n",
       "...            ...     ...  \n",
       "26452         -2.0     1.0  \n",
       "26453        -47.0     2.0  \n",
       "26454        -25.0     2.0  \n",
       "26455        -59.0     2.0  \n",
       "26456         -9.0     2.0  \n",
       "\n",
       "[26457 rows x 20 columns]"
      ],
      "text/html": "<div>\n<style scoped>\n    .dataframe tbody tr th:only-of-type {\n        vertical-align: middle;\n    }\n\n    .dataframe tbody tr th {\n        vertical-align: top;\n    }\n\n    .dataframe thead th {\n        text-align: right;\n    }\n</style>\n<table border=\"1\" class=\"dataframe\">\n  <thead>\n    <tr style=\"text-align: right;\">\n      <th></th>\n      <th>index</th>\n      <th>gender</th>\n      <th>car</th>\n      <th>reality</th>\n      <th>child_num</th>\n      <th>income_total</th>\n      <th>income_type</th>\n      <th>edu_type</th>\n      <th>family_type</th>\n      <th>house_type</th>\n      <th>DAYS_BIRTH</th>\n      <th>DAYS_EMPLOYED</th>\n      <th>FLAG_MOBIL</th>\n      <th>work_phone</th>\n      <th>phone</th>\n      <th>email</th>\n      <th>occyp_type</th>\n      <th>family_size</th>\n      <th>begin_month</th>\n      <th>credit</th>\n    </tr>\n  </thead>\n  <tbody>\n    <tr>\n      <th>0</th>\n      <td>0</td>\n      <td>F</td>\n      <td>N</td>\n      <td>N</td>\n      <td>0</td>\n      <td>202500.0</td>\n      <td>Commercial associate</td>\n      <td>Higher education</td>\n      <td>Married</td>\n      <td>Municipal apartment</td>\n      <td>-13899</td>\n      <td>-4709</td>\n      <td>1</td>\n      <td>0</td>\n      <td>0</td>\n      <td>0</td>\n      <td>NaN</td>\n      <td>2.0</td>\n      <td>-6.0</td>\n      <td>1.0</td>\n    </tr>\n    <tr>\n      <th>1</th>\n      <td>1</td>\n      <td>F</td>\n      <td>N</td>\n      <td>Y</td>\n      <td>1</td>\n      <td>247500.0</td>\n      <td>Commercial associate</td>\n      <td>Secondary / secondary special</td>\n      <td>Civil marriage</td>\n      <td>House / apartment</td>\n      <td>-11380</td>\n      <td>-1540</td>\n      <td>1</td>\n      <td>0</td>\n      <td>0</td>\n      <td>1</td>\n      <td>Laborers</td>\n      <td>3.0</td>\n      <td>-5.0</td>\n      <td>1.0</td>\n    </tr>\n    <tr>\n      <th>2</th>\n      <td>2</td>\n      <td>M</td>\n      <td>Y</td>\n      <td>Y</td>\n      <td>0</td>\n      <td>450000.0</td>\n      <td>Working</td>\n      <td>Higher education</td>\n      <td>Married</td>\n      <td>House / apartment</td>\n      <td>-19087</td>\n      <td>-4434</td>\n      <td>1</td>\n      <td>0</td>\n      <td>1</td>\n      <td>0</td>\n      <td>Managers</td>\n      <td>2.0</td>\n      <td>-22.0</td>\n      <td>2.0</td>\n    </tr>\n    <tr>\n      <th>3</th>\n      <td>3</td>\n      <td>F</td>\n      <td>N</td>\n      <td>Y</td>\n      <td>0</td>\n      <td>202500.0</td>\n      <td>Commercial associate</td>\n      <td>Secondary / secondary special</td>\n      <td>Married</td>\n      <td>House / apartment</td>\n      <td>-15088</td>\n      <td>-2092</td>\n      <td>1</td>\n      <td>0</td>\n      <td>1</td>\n      <td>0</td>\n      <td>Sales staff</td>\n      <td>2.0</td>\n      <td>-37.0</td>\n      <td>0.0</td>\n    </tr>\n    <tr>\n      <th>4</th>\n      <td>4</td>\n      <td>F</td>\n      <td>Y</td>\n      <td>Y</td>\n      <td>0</td>\n      <td>157500.0</td>\n      <td>State servant</td>\n      <td>Higher education</td>\n      <td>Married</td>\n      <td>House / apartment</td>\n      <td>-15037</td>\n      <td>-2105</td>\n      <td>1</td>\n      <td>0</td>\n      <td>0</td>\n      <td>0</td>\n      <td>Managers</td>\n      <td>2.0</td>\n      <td>-26.0</td>\n      <td>2.0</td>\n    </tr>\n    <tr>\n      <th>...</th>\n      <td>...</td>\n      <td>...</td>\n      <td>...</td>\n      <td>...</td>\n      <td>...</td>\n      <td>...</td>\n      <td>...</td>\n      <td>...</td>\n      <td>...</td>\n      <td>...</td>\n      <td>...</td>\n      <td>...</td>\n      <td>...</td>\n      <td>...</td>\n      <td>...</td>\n      <td>...</td>\n      <td>...</td>\n      <td>...</td>\n      <td>...</td>\n      <td>...</td>\n    </tr>\n    <tr>\n      <th>26452</th>\n      <td>26452</td>\n      <td>F</td>\n      <td>N</td>\n      <td>N</td>\n      <td>2</td>\n      <td>225000.0</td>\n      <td>State servant</td>\n      <td>Secondary / secondary special</td>\n      <td>Married</td>\n      <td>House / apartment</td>\n      <td>-12079</td>\n      <td>-1984</td>\n      <td>1</td>\n      <td>0</td>\n      <td>0</td>\n      <td>0</td>\n      <td>Core staff</td>\n      <td>4.0</td>\n      <td>-2.0</td>\n      <td>1.0</td>\n    </tr>\n    <tr>\n      <th>26453</th>\n      <td>26453</td>\n      <td>F</td>\n      <td>N</td>\n      <td>Y</td>\n      <td>1</td>\n      <td>180000.0</td>\n      <td>Working</td>\n      <td>Higher education</td>\n      <td>Separated</td>\n      <td>House / apartment</td>\n      <td>-15291</td>\n      <td>-2475</td>\n      <td>1</td>\n      <td>0</td>\n      <td>0</td>\n      <td>0</td>\n      <td>NaN</td>\n      <td>2.0</td>\n      <td>-47.0</td>\n      <td>2.0</td>\n    </tr>\n    <tr>\n      <th>26454</th>\n      <td>26454</td>\n      <td>F</td>\n      <td>Y</td>\n      <td>N</td>\n      <td>0</td>\n      <td>292500.0</td>\n      <td>Working</td>\n      <td>Secondary / secondary special</td>\n      <td>Civil marriage</td>\n      <td>With parents</td>\n      <td>-10082</td>\n      <td>-2015</td>\n      <td>1</td>\n      <td>0</td>\n      <td>0</td>\n      <td>0</td>\n      <td>Core staff</td>\n      <td>2.0</td>\n      <td>-25.0</td>\n      <td>2.0</td>\n    </tr>\n    <tr>\n      <th>26455</th>\n      <td>26455</td>\n      <td>M</td>\n      <td>N</td>\n      <td>Y</td>\n      <td>0</td>\n      <td>171000.0</td>\n      <td>Working</td>\n      <td>Incomplete higher</td>\n      <td>Single / not married</td>\n      <td>House / apartment</td>\n      <td>-10145</td>\n      <td>-107</td>\n      <td>1</td>\n      <td>0</td>\n      <td>0</td>\n      <td>0</td>\n      <td>Laborers</td>\n      <td>1.0</td>\n      <td>-59.0</td>\n      <td>2.0</td>\n    </tr>\n    <tr>\n      <th>26456</th>\n      <td>26456</td>\n      <td>F</td>\n      <td>N</td>\n      <td>N</td>\n      <td>0</td>\n      <td>81000.0</td>\n      <td>Working</td>\n      <td>Secondary / secondary special</td>\n      <td>Civil marriage</td>\n      <td>House / apartment</td>\n      <td>-19569</td>\n      <td>-1013</td>\n      <td>1</td>\n      <td>0</td>\n      <td>0</td>\n      <td>0</td>\n      <td>Security staff</td>\n      <td>2.0</td>\n      <td>-9.0</td>\n      <td>2.0</td>\n    </tr>\n  </tbody>\n</table>\n<p>26457 rows × 20 columns</p>\n</div>"
     },
     "metadata": {},
     "execution_count": 167
    }
   ],
   "source": [
    "Raw_train"
   ]
  },
  {
   "source": [
    "# Preprocessing"
   ],
   "cell_type": "markdown",
   "metadata": {}
  },
  {
   "source": [
    "## 불필요한 Feature 제거"
   ],
   "cell_type": "markdown",
   "metadata": {}
  },
  {
   "cell_type": "code",
   "execution_count": 168,
   "metadata": {},
   "outputs": [],
   "source": [
    "# Index, FLAG_MOBIL 제거\n",
    "train = Raw_train.drop(['index', 'FLAG_MOBIL'], axis=1)\n",
    "test = Raw_test.drop(['index', 'FLAG_MOBIL'], axis=1)"
   ]
  },
  {
   "source": [
    "## Occyp_type\n",
    "\n",
    "- 많이 출현한 값부터 차례로 가장 높은 숫자 부여 or LebelEncoder\n",
    "    - case가 19가지 이므로 0~18까지 feature값이 크게 차이남.\n",
    "- One hot Encoding 하는 것이 가장 좋아 보임."
   ],
   "cell_type": "markdown",
   "metadata": {}
  },
  {
   "cell_type": "code",
   "execution_count": 169,
   "metadata": {},
   "outputs": [
    {
     "output_type": "execute_result",
     "data": {
      "text/plain": [
       "array([nan, 'Laborers', 'Managers', 'Sales staff',\n",
       "       'High skill tech staff', 'Core staff', 'Drivers', 'Medicine staff',\n",
       "       'Accountants', 'Realty agents', 'Security staff', 'Cleaning staff',\n",
       "       'Private service staff', 'Cooking staff', 'Secretaries',\n",
       "       'HR staff', 'IT staff', 'Low-skill Laborers',\n",
       "       'Waiters/barmen staff'], dtype=object)"
      ]
     },
     "metadata": {},
     "execution_count": 169
    }
   ],
   "source": [
    "train['occyp_type'].unique()"
   ]
  },
  {
   "cell_type": "code",
   "execution_count": 170,
   "metadata": {},
   "outputs": [
    {
     "output_type": "execute_result",
     "data": {
      "text/plain": [
       "Laborers                 4512\n",
       "Core staff               2646\n",
       "Sales staff              2539\n",
       "Managers                 2167\n",
       "Drivers                  1575\n",
       "High skill tech staff    1040\n",
       "Accountants               902\n",
       "Medicine staff            864\n",
       "Cooking staff             457\n",
       "Security staff            424\n",
       "Cleaning staff            403\n",
       "Private service staff     243\n",
       "Low-skill Laborers        127\n",
       "Waiters/barmen staff      124\n",
       "Secretaries                97\n",
       "Realty agents              63\n",
       "HR staff                   62\n",
       "IT staff                   41\n",
       "Name: occyp_type, dtype: int64"
      ]
     },
     "metadata": {},
     "execution_count": 170
    }
   ],
   "source": [
    "train['occyp_type'].value_counts()"
   ]
  },
  {
   "cell_type": "code",
   "execution_count": 171,
   "metadata": {},
   "outputs": [
    {
     "output_type": "stream",
     "name": "stdout",
     "text": [
      "nan rate : 30.884076047926822\n"
     ]
    }
   ],
   "source": [
    "print(f\"nan rate : {np.sum(train['occyp_type'].isnull()) / len(train) * 100}\")"
   ]
  },
  {
   "cell_type": "code",
   "execution_count": 172,
   "metadata": {},
   "outputs": [
    {
     "output_type": "stream",
     "name": "stdout",
     "text": [
      "0\n"
     ]
    }
   ],
   "source": [
    "train['occyp_type'] = train['occyp_type'].fillna(\"Unknown\")\n",
    "print(np.sum(train['occyp_type'].isnull()))"
   ]
  },
  {
   "cell_type": "code",
   "execution_count": 173,
   "metadata": {},
   "outputs": [
    {
     "output_type": "stream",
     "name": "stdout",
     "text": [
      "Unknown                  8171\nLaborers                 4512\nCore staff               2646\nSales staff              2539\nManagers                 2167\nDrivers                  1575\nHigh skill tech staff    1040\nAccountants               902\nMedicine staff            864\nCooking staff             457\nSecurity staff            424\nCleaning staff            403\nPrivate service staff     243\nLow-skill Laborers        127\nWaiters/barmen staff      124\nSecretaries                97\nRealty agents              63\nHR staff                   62\nIT staff                   41\nName: occyp_type, dtype: int64\n"
     ]
    },
    {
     "output_type": "execute_result",
     "data": {
      "text/plain": [
       "['Unknown',\n",
       " 'Laborers',\n",
       " 'Core staff',\n",
       " 'Sales staff',\n",
       " 'Managers',\n",
       " 'Drivers',\n",
       " 'High skill tech staff',\n",
       " 'Accountants',\n",
       " 'Medicine staff',\n",
       " 'Cooking staff',\n",
       " 'Security staff',\n",
       " 'Cleaning staff',\n",
       " 'Private service staff',\n",
       " 'Low-skill Laborers',\n",
       " 'Waiters/barmen staff',\n",
       " 'Secretaries',\n",
       " 'Realty agents',\n",
       " 'HR staff',\n",
       " 'IT staff']"
      ]
     },
     "metadata": {},
     "execution_count": 173
    }
   ],
   "source": [
    "occyp = train['occyp_type'].value_counts()\n",
    "\n",
    "print(occyp)\n",
    "\n",
    "occyp = pd.DataFrame(occyp)\n",
    "\n",
    "occyp_list = list(occyp.index)\n",
    "\n",
    "occyp_list"
   ]
  },
  {
   "cell_type": "code",
   "execution_count": 174,
   "metadata": {},
   "outputs": [],
   "source": [
    "train = pd.get_dummies(train, columns=['occyp_type'])"
   ]
  },
  {
   "cell_type": "code",
   "execution_count": 181,
   "metadata": {},
   "outputs": [
    {
     "output_type": "execute_result",
     "data": {
      "text/plain": [
       "       gender  car  reality  child_num  income_total           income_type  \\\n",
       "0           0    0        0          0      202500.0  Commercial associate   \n",
       "1           0    0        1          1      247500.0  Commercial associate   \n",
       "2           1    1        1          0      450000.0               Working   \n",
       "3           0    0        1          0      202500.0  Commercial associate   \n",
       "4           0    1        1          0      157500.0         State servant   \n",
       "...       ...  ...      ...        ...           ...                   ...   \n",
       "26452       0    0        0          2      225000.0         State servant   \n",
       "26453       0    0        1          1      180000.0               Working   \n",
       "26454       0    1        0          0      292500.0               Working   \n",
       "26455       1    0        1          0      171000.0               Working   \n",
       "26456       0    0        0          0       81000.0               Working   \n",
       "\n",
       "       edu_type           family_type           house_type  DAYS_BIRTH  ...  \\\n",
       "0             3               Married  Municipal apartment      -13899  ...   \n",
       "1             2        Civil marriage    House / apartment      -11380  ...   \n",
       "2             3               Married    House / apartment      -19087  ...   \n",
       "3             2               Married    House / apartment      -15088  ...   \n",
       "4             3               Married    House / apartment      -15037  ...   \n",
       "...         ...                   ...                  ...         ...  ...   \n",
       "26452         2               Married    House / apartment      -12079  ...   \n",
       "26453         3             Separated    House / apartment      -15291  ...   \n",
       "26454         2        Civil marriage         With parents      -10082  ...   \n",
       "26455         1  Single / not married    House / apartment      -10145  ...   \n",
       "26456         2        Civil marriage    House / apartment      -19569  ...   \n",
       "\n",
       "       occyp_type_Low-skill Laborers  occyp_type_Managers  \\\n",
       "0                                  0                    0   \n",
       "1                                  0                    0   \n",
       "2                                  0                    1   \n",
       "3                                  0                    0   \n",
       "4                                  0                    1   \n",
       "...                              ...                  ...   \n",
       "26452                              0                    0   \n",
       "26453                              0                    0   \n",
       "26454                              0                    0   \n",
       "26455                              0                    0   \n",
       "26456                              0                    0   \n",
       "\n",
       "       occyp_type_Medicine staff  occyp_type_Private service staff  \\\n",
       "0                              0                                 0   \n",
       "1                              0                                 0   \n",
       "2                              0                                 0   \n",
       "3                              0                                 0   \n",
       "4                              0                                 0   \n",
       "...                          ...                               ...   \n",
       "26452                          0                                 0   \n",
       "26453                          0                                 0   \n",
       "26454                          0                                 0   \n",
       "26455                          0                                 0   \n",
       "26456                          0                                 0   \n",
       "\n",
       "       occyp_type_Realty agents  occyp_type_Sales staff  \\\n",
       "0                             0                       0   \n",
       "1                             0                       0   \n",
       "2                             0                       0   \n",
       "3                             0                       1   \n",
       "4                             0                       0   \n",
       "...                         ...                     ...   \n",
       "26452                         0                       0   \n",
       "26453                         0                       0   \n",
       "26454                         0                       0   \n",
       "26455                         0                       0   \n",
       "26456                         0                       0   \n",
       "\n",
       "       occyp_type_Secretaries  occyp_type_Security staff  occyp_type_Unknown  \\\n",
       "0                           0                          0                   1   \n",
       "1                           0                          0                   0   \n",
       "2                           0                          0                   0   \n",
       "3                           0                          0                   0   \n",
       "4                           0                          0                   0   \n",
       "...                       ...                        ...                 ...   \n",
       "26452                       0                          0                   0   \n",
       "26453                       0                          0                   1   \n",
       "26454                       0                          0                   0   \n",
       "26455                       0                          0                   0   \n",
       "26456                       0                          1                   0   \n",
       "\n",
       "       occyp_type_Waiters/barmen staff  \n",
       "0                                    0  \n",
       "1                                    0  \n",
       "2                                    0  \n",
       "3                                    0  \n",
       "4                                    0  \n",
       "...                                ...  \n",
       "26452                                0  \n",
       "26453                                0  \n",
       "26454                                0  \n",
       "26455                                0  \n",
       "26456                                0  \n",
       "\n",
       "[26457 rows x 36 columns]"
      ],
      "text/html": "<div>\n<style scoped>\n    .dataframe tbody tr th:only-of-type {\n        vertical-align: middle;\n    }\n\n    .dataframe tbody tr th {\n        vertical-align: top;\n    }\n\n    .dataframe thead th {\n        text-align: right;\n    }\n</style>\n<table border=\"1\" class=\"dataframe\">\n  <thead>\n    <tr style=\"text-align: right;\">\n      <th></th>\n      <th>gender</th>\n      <th>car</th>\n      <th>reality</th>\n      <th>child_num</th>\n      <th>income_total</th>\n      <th>income_type</th>\n      <th>edu_type</th>\n      <th>family_type</th>\n      <th>house_type</th>\n      <th>DAYS_BIRTH</th>\n      <th>...</th>\n      <th>occyp_type_Low-skill Laborers</th>\n      <th>occyp_type_Managers</th>\n      <th>occyp_type_Medicine staff</th>\n      <th>occyp_type_Private service staff</th>\n      <th>occyp_type_Realty agents</th>\n      <th>occyp_type_Sales staff</th>\n      <th>occyp_type_Secretaries</th>\n      <th>occyp_type_Security staff</th>\n      <th>occyp_type_Unknown</th>\n      <th>occyp_type_Waiters/barmen staff</th>\n    </tr>\n  </thead>\n  <tbody>\n    <tr>\n      <th>0</th>\n      <td>0</td>\n      <td>0</td>\n      <td>0</td>\n      <td>0</td>\n      <td>202500.0</td>\n      <td>Commercial associate</td>\n      <td>3</td>\n      <td>Married</td>\n      <td>Municipal apartment</td>\n      <td>-13899</td>\n      <td>...</td>\n      <td>0</td>\n      <td>0</td>\n      <td>0</td>\n      <td>0</td>\n      <td>0</td>\n      <td>0</td>\n      <td>0</td>\n      <td>0</td>\n      <td>1</td>\n      <td>0</td>\n    </tr>\n    <tr>\n      <th>1</th>\n      <td>0</td>\n      <td>0</td>\n      <td>1</td>\n      <td>1</td>\n      <td>247500.0</td>\n      <td>Commercial associate</td>\n      <td>2</td>\n      <td>Civil marriage</td>\n      <td>House / apartment</td>\n      <td>-11380</td>\n      <td>...</td>\n      <td>0</td>\n      <td>0</td>\n      <td>0</td>\n      <td>0</td>\n      <td>0</td>\n      <td>0</td>\n      <td>0</td>\n      <td>0</td>\n      <td>0</td>\n      <td>0</td>\n    </tr>\n    <tr>\n      <th>2</th>\n      <td>1</td>\n      <td>1</td>\n      <td>1</td>\n      <td>0</td>\n      <td>450000.0</td>\n      <td>Working</td>\n      <td>3</td>\n      <td>Married</td>\n      <td>House / apartment</td>\n      <td>-19087</td>\n      <td>...</td>\n      <td>0</td>\n      <td>1</td>\n      <td>0</td>\n      <td>0</td>\n      <td>0</td>\n      <td>0</td>\n      <td>0</td>\n      <td>0</td>\n      <td>0</td>\n      <td>0</td>\n    </tr>\n    <tr>\n      <th>3</th>\n      <td>0</td>\n      <td>0</td>\n      <td>1</td>\n      <td>0</td>\n      <td>202500.0</td>\n      <td>Commercial associate</td>\n      <td>2</td>\n      <td>Married</td>\n      <td>House / apartment</td>\n      <td>-15088</td>\n      <td>...</td>\n      <td>0</td>\n      <td>0</td>\n      <td>0</td>\n      <td>0</td>\n      <td>0</td>\n      <td>1</td>\n      <td>0</td>\n      <td>0</td>\n      <td>0</td>\n      <td>0</td>\n    </tr>\n    <tr>\n      <th>4</th>\n      <td>0</td>\n      <td>1</td>\n      <td>1</td>\n      <td>0</td>\n      <td>157500.0</td>\n      <td>State servant</td>\n      <td>3</td>\n      <td>Married</td>\n      <td>House / apartment</td>\n      <td>-15037</td>\n      <td>...</td>\n      <td>0</td>\n      <td>1</td>\n      <td>0</td>\n      <td>0</td>\n      <td>0</td>\n      <td>0</td>\n      <td>0</td>\n      <td>0</td>\n      <td>0</td>\n      <td>0</td>\n    </tr>\n    <tr>\n      <th>...</th>\n      <td>...</td>\n      <td>...</td>\n      <td>...</td>\n      <td>...</td>\n      <td>...</td>\n      <td>...</td>\n      <td>...</td>\n      <td>...</td>\n      <td>...</td>\n      <td>...</td>\n      <td>...</td>\n      <td>...</td>\n      <td>...</td>\n      <td>...</td>\n      <td>...</td>\n      <td>...</td>\n      <td>...</td>\n      <td>...</td>\n      <td>...</td>\n      <td>...</td>\n      <td>...</td>\n    </tr>\n    <tr>\n      <th>26452</th>\n      <td>0</td>\n      <td>0</td>\n      <td>0</td>\n      <td>2</td>\n      <td>225000.0</td>\n      <td>State servant</td>\n      <td>2</td>\n      <td>Married</td>\n      <td>House / apartment</td>\n      <td>-12079</td>\n      <td>...</td>\n      <td>0</td>\n      <td>0</td>\n      <td>0</td>\n      <td>0</td>\n      <td>0</td>\n      <td>0</td>\n      <td>0</td>\n      <td>0</td>\n      <td>0</td>\n      <td>0</td>\n    </tr>\n    <tr>\n      <th>26453</th>\n      <td>0</td>\n      <td>0</td>\n      <td>1</td>\n      <td>1</td>\n      <td>180000.0</td>\n      <td>Working</td>\n      <td>3</td>\n      <td>Separated</td>\n      <td>House / apartment</td>\n      <td>-15291</td>\n      <td>...</td>\n      <td>0</td>\n      <td>0</td>\n      <td>0</td>\n      <td>0</td>\n      <td>0</td>\n      <td>0</td>\n      <td>0</td>\n      <td>0</td>\n      <td>1</td>\n      <td>0</td>\n    </tr>\n    <tr>\n      <th>26454</th>\n      <td>0</td>\n      <td>1</td>\n      <td>0</td>\n      <td>0</td>\n      <td>292500.0</td>\n      <td>Working</td>\n      <td>2</td>\n      <td>Civil marriage</td>\n      <td>With parents</td>\n      <td>-10082</td>\n      <td>...</td>\n      <td>0</td>\n      <td>0</td>\n      <td>0</td>\n      <td>0</td>\n      <td>0</td>\n      <td>0</td>\n      <td>0</td>\n      <td>0</td>\n      <td>0</td>\n      <td>0</td>\n    </tr>\n    <tr>\n      <th>26455</th>\n      <td>1</td>\n      <td>0</td>\n      <td>1</td>\n      <td>0</td>\n      <td>171000.0</td>\n      <td>Working</td>\n      <td>1</td>\n      <td>Single / not married</td>\n      <td>House / apartment</td>\n      <td>-10145</td>\n      <td>...</td>\n      <td>0</td>\n      <td>0</td>\n      <td>0</td>\n      <td>0</td>\n      <td>0</td>\n      <td>0</td>\n      <td>0</td>\n      <td>0</td>\n      <td>0</td>\n      <td>0</td>\n    </tr>\n    <tr>\n      <th>26456</th>\n      <td>0</td>\n      <td>0</td>\n      <td>0</td>\n      <td>0</td>\n      <td>81000.0</td>\n      <td>Working</td>\n      <td>2</td>\n      <td>Civil marriage</td>\n      <td>House / apartment</td>\n      <td>-19569</td>\n      <td>...</td>\n      <td>0</td>\n      <td>0</td>\n      <td>0</td>\n      <td>0</td>\n      <td>0</td>\n      <td>0</td>\n      <td>0</td>\n      <td>1</td>\n      <td>0</td>\n      <td>0</td>\n    </tr>\n  </tbody>\n</table>\n<p>26457 rows × 36 columns</p>\n</div>"
     },
     "metadata": {},
     "execution_count": 181
    }
   ],
   "source": [
    "train"
   ]
  },
  {
   "source": [
    "## 범주형 Feature 실수화"
   ],
   "cell_type": "markdown",
   "metadata": {}
  },
  {
   "cell_type": "code",
   "execution_count": 175,
   "metadata": {},
   "outputs": [
    {
     "output_type": "stream",
     "name": "stdout",
     "text": [
      "gender : \n",
      "0    17697\n",
      "1     8760\n",
      "Name: gender, dtype: int64\n",
      "----------------------------\n",
      "car : \n",
      "0    16410\n",
      "1    10047\n",
      "Name: car, dtype: int64\n",
      "----------------------------\n",
      "reality : \n",
      "1    17830\n",
      "0     8627\n",
      "Name: reality, dtype: int64\n",
      "----------------------------\n",
      "edu_type : \n",
      "2    17995\n",
      "3     7162\n",
      "1     1020\n",
      "0      257\n",
      "4       23\n",
      "Name: edu_type, dtype: int64\n",
      "----------------------------\n"
     ]
    }
   ],
   "source": [
    "train['gender'] = train['gender'].replace(['F', 'M'], [0, 1])\n",
    "test['gender'] = test['gender'].replace(['F', 'M'], [0, 1])\n",
    "print('gender : ')\n",
    "print(train['gender'].value_counts())\n",
    "print(\"----------------------------\")\n",
    "\n",
    "train['car'] = train['car'].replace(['N', 'Y'], [0, 1])\n",
    "test['car'] = test['car'].replace(['N', 'Y'], [0, 1])\n",
    "print('car : ')\n",
    "print(train['car'].value_counts())\n",
    "print(\"----------------------------\")\n",
    "\n",
    "train['reality'] = train['reality'].replace(['N', 'Y'], [0, 1])\n",
    "test['reality'] = test['reality'].replace(['N', 'Y'], [0, 1])\n",
    "print('reality : ')\n",
    "print(train['reality'].value_counts())\n",
    "print(\"----------------------------\")\n",
    "\n",
    "train['edu_type'] = train['edu_type'].replace([ 'Academic degree','Higher education' ,'Secondary / secondary special', 'Incomplete higher', 'Lower secondary'],[4,3,2,1,0])\n",
    "test['edu_type'] = test['edu_type'].replace([ 'Academic degree','Higher education' ,'Secondary / secondary special', 'Incomplete higher', 'Lower secondary'],[4,3,2,1,0])\n",
    "print('edu_type : ')\n",
    "print(train['edu_type'].value_counts())\n",
    "print(\"----------------------------\")"
   ]
  },
  {
   "source": [
    "## Income total"
   ],
   "cell_type": "markdown",
   "metadata": {}
  },
  {
   "cell_type": "code",
   "execution_count": 176,
   "metadata": {},
   "outputs": [],
   "source": [
    "# income total 전처리\n",
    "\n",
    "import matplotlib.pyplot as plt\n",
    "import seaborn as sns"
   ]
  },
  {
   "cell_type": "code",
   "execution_count": 177,
   "metadata": {},
   "outputs": [
    {
     "output_type": "execute_result",
     "data": {
      "text/plain": [
       "     counts  income_values\n",
       "0      3164       135000.0\n",
       "1      2233       157500.0\n",
       "2      2225       180000.0\n",
       "3      2178       112500.0\n",
       "4      2170       225000.0\n",
       "..      ...            ...\n",
       "244       1       227250.0\n",
       "245       1        91530.0\n",
       "246       1        39600.0\n",
       "247       1       432000.0\n",
       "248       1       215100.0\n",
       "\n",
       "[249 rows x 2 columns]"
      ],
      "text/html": "<div>\n<style scoped>\n    .dataframe tbody tr th:only-of-type {\n        vertical-align: middle;\n    }\n\n    .dataframe tbody tr th {\n        vertical-align: top;\n    }\n\n    .dataframe thead th {\n        text-align: right;\n    }\n</style>\n<table border=\"1\" class=\"dataframe\">\n  <thead>\n    <tr style=\"text-align: right;\">\n      <th></th>\n      <th>counts</th>\n      <th>income_values</th>\n    </tr>\n  </thead>\n  <tbody>\n    <tr>\n      <th>0</th>\n      <td>3164</td>\n      <td>135000.0</td>\n    </tr>\n    <tr>\n      <th>1</th>\n      <td>2233</td>\n      <td>157500.0</td>\n    </tr>\n    <tr>\n      <th>2</th>\n      <td>2225</td>\n      <td>180000.0</td>\n    </tr>\n    <tr>\n      <th>3</th>\n      <td>2178</td>\n      <td>112500.0</td>\n    </tr>\n    <tr>\n      <th>4</th>\n      <td>2170</td>\n      <td>225000.0</td>\n    </tr>\n    <tr>\n      <th>...</th>\n      <td>...</td>\n      <td>...</td>\n    </tr>\n    <tr>\n      <th>244</th>\n      <td>1</td>\n      <td>227250.0</td>\n    </tr>\n    <tr>\n      <th>245</th>\n      <td>1</td>\n      <td>91530.0</td>\n    </tr>\n    <tr>\n      <th>246</th>\n      <td>1</td>\n      <td>39600.0</td>\n    </tr>\n    <tr>\n      <th>247</th>\n      <td>1</td>\n      <td>432000.0</td>\n    </tr>\n    <tr>\n      <th>248</th>\n      <td>1</td>\n      <td>215100.0</td>\n    </tr>\n  </tbody>\n</table>\n<p>249 rows × 2 columns</p>\n</div>"
     },
     "metadata": {},
     "execution_count": 177
    }
   ],
   "source": [
    "income_counts = train['income_total'].value_counts()\n",
    "unique_income = income_counts.index\n",
    "\n",
    "income_counts = pd.DataFrame(income_counts)\n",
    "income_counts.index = range(len(income_counts))\n",
    "income_counts['income_value'] = unique_income\n",
    "income_counts.columns = ['counts', 'income_values']\n",
    "\n",
    "income_counts"
   ]
  },
  {
   "cell_type": "code",
   "execution_count": 178,
   "metadata": {},
   "outputs": [
    {
     "output_type": "stream",
     "name": "stdout",
     "text": [
      "1575000.0 27000.0\n"
     ]
    }
   ],
   "source": [
    "max_income = income_counts['income_values'].max()\n",
    "min_income = income_counts['income_values'].min()\n",
    "\n",
    "print(max_income, min_income)"
   ]
  },
  {
   "cell_type": "code",
   "execution_count": 179,
   "metadata": {},
   "outputs": [
    {
     "output_type": "stream",
     "name": "stdout",
     "text": [
      "========[num_bins : 5]==========\n",
      "train bin counts : \n",
      "소득0    24542\n",
      "소득1     1736\n",
      "소득2      165\n",
      "소득4        9\n",
      "소득3        5\n",
      "Name: income_total, dtype: int64\n",
      "=================================\n",
      "========[num_bins : 7]==========\n",
      "train bin counts : \n",
      "소득0    21601\n",
      "소득1     4462\n",
      "소득2      305\n",
      "소득3       71\n",
      "소득4        9\n",
      "소득6        5\n",
      "소득5        4\n",
      "Name: income_total, dtype: int64\n",
      "=================================\n",
      "========[num_bins : 10]==========\n",
      "train bin counts : \n",
      "소득0    16212\n",
      "소득1     8330\n",
      "소득2     1530\n",
      "소득3      206\n",
      "소득4      121\n",
      "소득5       44\n",
      "소득9        5\n",
      "소득8        4\n",
      "소득6        3\n",
      "소득7        2\n",
      "Name: income_total, dtype: int64\n",
      "=================================\n",
      "========[num_bins : 14]==========\n",
      "train bin counts : \n",
      "소득1     11123\n",
      "소득0     10478\n",
      "소득2      3187\n",
      "소득3      1275\n",
      "소득4       157\n",
      "소득5       148\n",
      "소득7        40\n",
      "소득6        31\n",
      "소득8         7\n",
      "소득13        5\n",
      "소득11        4\n",
      "소득9         2\n",
      "소득10        0\n",
      "소득12        0\n",
      "Name: income_total, dtype: int64\n",
      "=================================\n"
     ]
    }
   ],
   "source": [
    "num_bins = [5, 7, 10, 14]\n",
    "\n",
    "for num_bins_ in num_bins:\n",
    "    train_ = train.copy()\n",
    "    test_ = test.copy()\n",
    "\n",
    "    train_['income_total'] = train_['income_total']/10000\n",
    "    test_['income_total'] = test_['income_total']/10000\n",
    "\n",
    "    count, bin_dividers =np.histogram(train_['income_total'],bins=num_bins_)\n",
    "    bin_names=['소득'+str(i) for i in range(num_bins_) ]\n",
    "\n",
    "    #bin_dividers는 train기준!!\n",
    "    train_['income_total']=pd.cut(x=train_['income_total'], bins=bin_dividers, labels=bin_names, include_lowest=True)\n",
    "    test_['income_total']=pd.cut(x=test_['income_total'], bins=bin_dividers, labels=bin_names, include_lowest=True)\n",
    "\n",
    "    print(f\"========[num_bins : {num_bins_}]==========\")\n",
    "    print(\"train bin counts : \")\n",
    "    print(train_['income_total'].value_counts())\n",
    "\n",
    "    train_.to_csv(f\"{num_bins_}_bins_train.csv\", index=False)\n",
    "    print(\"=================================\")\n"
   ]
  },
  {
   "cell_type": "code",
   "execution_count": 182,
   "metadata": {},
   "outputs": [
    {
     "output_type": "execute_result",
     "data": {
      "text/plain": [
       "       gender  car  reality  child_num income_total           income_type  \\\n",
       "0           0    0        0          0          소득0  Commercial associate   \n",
       "1           0    0        1          1          소득0  Commercial associate   \n",
       "2           1    1        1          0          소득1               Working   \n",
       "3           0    0        1          0          소득0  Commercial associate   \n",
       "4           0    1        1          0          소득0         State servant   \n",
       "...       ...  ...      ...        ...          ...                   ...   \n",
       "26452       0    0        0          2          소득0         State servant   \n",
       "26453       0    0        1          1          소득0               Working   \n",
       "26454       0    1        0          0          소득0               Working   \n",
       "26455       1    0        1          0          소득0               Working   \n",
       "26456       0    0        0          0          소득0               Working   \n",
       "\n",
       "       edu_type           family_type           house_type  DAYS_BIRTH  ...  \\\n",
       "0             3               Married  Municipal apartment      -13899  ...   \n",
       "1             2        Civil marriage    House / apartment      -11380  ...   \n",
       "2             3               Married    House / apartment      -19087  ...   \n",
       "3             2               Married    House / apartment      -15088  ...   \n",
       "4             3               Married    House / apartment      -15037  ...   \n",
       "...         ...                   ...                  ...         ...  ...   \n",
       "26452         2               Married    House / apartment      -12079  ...   \n",
       "26453         3             Separated    House / apartment      -15291  ...   \n",
       "26454         2        Civil marriage         With parents      -10082  ...   \n",
       "26455         1  Single / not married    House / apartment      -10145  ...   \n",
       "26456         2        Civil marriage    House / apartment      -19569  ...   \n",
       "\n",
       "       occyp_type_Low-skill Laborers  occyp_type_Managers  \\\n",
       "0                                  0                    0   \n",
       "1                                  0                    0   \n",
       "2                                  0                    1   \n",
       "3                                  0                    0   \n",
       "4                                  0                    1   \n",
       "...                              ...                  ...   \n",
       "26452                              0                    0   \n",
       "26453                              0                    0   \n",
       "26454                              0                    0   \n",
       "26455                              0                    0   \n",
       "26456                              0                    0   \n",
       "\n",
       "       occyp_type_Medicine staff  occyp_type_Private service staff  \\\n",
       "0                              0                                 0   \n",
       "1                              0                                 0   \n",
       "2                              0                                 0   \n",
       "3                              0                                 0   \n",
       "4                              0                                 0   \n",
       "...                          ...                               ...   \n",
       "26452                          0                                 0   \n",
       "26453                          0                                 0   \n",
       "26454                          0                                 0   \n",
       "26455                          0                                 0   \n",
       "26456                          0                                 0   \n",
       "\n",
       "       occyp_type_Realty agents  occyp_type_Sales staff  \\\n",
       "0                             0                       0   \n",
       "1                             0                       0   \n",
       "2                             0                       0   \n",
       "3                             0                       1   \n",
       "4                             0                       0   \n",
       "...                         ...                     ...   \n",
       "26452                         0                       0   \n",
       "26453                         0                       0   \n",
       "26454                         0                       0   \n",
       "26455                         0                       0   \n",
       "26456                         0                       0   \n",
       "\n",
       "       occyp_type_Secretaries  occyp_type_Security staff  occyp_type_Unknown  \\\n",
       "0                           0                          0                   1   \n",
       "1                           0                          0                   0   \n",
       "2                           0                          0                   0   \n",
       "3                           0                          0                   0   \n",
       "4                           0                          0                   0   \n",
       "...                       ...                        ...                 ...   \n",
       "26452                       0                          0                   0   \n",
       "26453                       0                          0                   1   \n",
       "26454                       0                          0                   0   \n",
       "26455                       0                          0                   0   \n",
       "26456                       0                          1                   0   \n",
       "\n",
       "       occyp_type_Waiters/barmen staff  \n",
       "0                                    0  \n",
       "1                                    0  \n",
       "2                                    0  \n",
       "3                                    0  \n",
       "4                                    0  \n",
       "...                                ...  \n",
       "26452                                0  \n",
       "26453                                0  \n",
       "26454                                0  \n",
       "26455                                0  \n",
       "26456                                0  \n",
       "\n",
       "[26457 rows x 36 columns]"
      ],
      "text/html": "<div>\n<style scoped>\n    .dataframe tbody tr th:only-of-type {\n        vertical-align: middle;\n    }\n\n    .dataframe tbody tr th {\n        vertical-align: top;\n    }\n\n    .dataframe thead th {\n        text-align: right;\n    }\n</style>\n<table border=\"1\" class=\"dataframe\">\n  <thead>\n    <tr style=\"text-align: right;\">\n      <th></th>\n      <th>gender</th>\n      <th>car</th>\n      <th>reality</th>\n      <th>child_num</th>\n      <th>income_total</th>\n      <th>income_type</th>\n      <th>edu_type</th>\n      <th>family_type</th>\n      <th>house_type</th>\n      <th>DAYS_BIRTH</th>\n      <th>...</th>\n      <th>occyp_type_Low-skill Laborers</th>\n      <th>occyp_type_Managers</th>\n      <th>occyp_type_Medicine staff</th>\n      <th>occyp_type_Private service staff</th>\n      <th>occyp_type_Realty agents</th>\n      <th>occyp_type_Sales staff</th>\n      <th>occyp_type_Secretaries</th>\n      <th>occyp_type_Security staff</th>\n      <th>occyp_type_Unknown</th>\n      <th>occyp_type_Waiters/barmen staff</th>\n    </tr>\n  </thead>\n  <tbody>\n    <tr>\n      <th>0</th>\n      <td>0</td>\n      <td>0</td>\n      <td>0</td>\n      <td>0</td>\n      <td>소득0</td>\n      <td>Commercial associate</td>\n      <td>3</td>\n      <td>Married</td>\n      <td>Municipal apartment</td>\n      <td>-13899</td>\n      <td>...</td>\n      <td>0</td>\n      <td>0</td>\n      <td>0</td>\n      <td>0</td>\n      <td>0</td>\n      <td>0</td>\n      <td>0</td>\n      <td>0</td>\n      <td>1</td>\n      <td>0</td>\n    </tr>\n    <tr>\n      <th>1</th>\n      <td>0</td>\n      <td>0</td>\n      <td>1</td>\n      <td>1</td>\n      <td>소득0</td>\n      <td>Commercial associate</td>\n      <td>2</td>\n      <td>Civil marriage</td>\n      <td>House / apartment</td>\n      <td>-11380</td>\n      <td>...</td>\n      <td>0</td>\n      <td>0</td>\n      <td>0</td>\n      <td>0</td>\n      <td>0</td>\n      <td>0</td>\n      <td>0</td>\n      <td>0</td>\n      <td>0</td>\n      <td>0</td>\n    </tr>\n    <tr>\n      <th>2</th>\n      <td>1</td>\n      <td>1</td>\n      <td>1</td>\n      <td>0</td>\n      <td>소득1</td>\n      <td>Working</td>\n      <td>3</td>\n      <td>Married</td>\n      <td>House / apartment</td>\n      <td>-19087</td>\n      <td>...</td>\n      <td>0</td>\n      <td>1</td>\n      <td>0</td>\n      <td>0</td>\n      <td>0</td>\n      <td>0</td>\n      <td>0</td>\n      <td>0</td>\n      <td>0</td>\n      <td>0</td>\n    </tr>\n    <tr>\n      <th>3</th>\n      <td>0</td>\n      <td>0</td>\n      <td>1</td>\n      <td>0</td>\n      <td>소득0</td>\n      <td>Commercial associate</td>\n      <td>2</td>\n      <td>Married</td>\n      <td>House / apartment</td>\n      <td>-15088</td>\n      <td>...</td>\n      <td>0</td>\n      <td>0</td>\n      <td>0</td>\n      <td>0</td>\n      <td>0</td>\n      <td>1</td>\n      <td>0</td>\n      <td>0</td>\n      <td>0</td>\n      <td>0</td>\n    </tr>\n    <tr>\n      <th>4</th>\n      <td>0</td>\n      <td>1</td>\n      <td>1</td>\n      <td>0</td>\n      <td>소득0</td>\n      <td>State servant</td>\n      <td>3</td>\n      <td>Married</td>\n      <td>House / apartment</td>\n      <td>-15037</td>\n      <td>...</td>\n      <td>0</td>\n      <td>1</td>\n      <td>0</td>\n      <td>0</td>\n      <td>0</td>\n      <td>0</td>\n      <td>0</td>\n      <td>0</td>\n      <td>0</td>\n      <td>0</td>\n    </tr>\n    <tr>\n      <th>...</th>\n      <td>...</td>\n      <td>...</td>\n      <td>...</td>\n      <td>...</td>\n      <td>...</td>\n      <td>...</td>\n      <td>...</td>\n      <td>...</td>\n      <td>...</td>\n      <td>...</td>\n      <td>...</td>\n      <td>...</td>\n      <td>...</td>\n      <td>...</td>\n      <td>...</td>\n      <td>...</td>\n      <td>...</td>\n      <td>...</td>\n      <td>...</td>\n      <td>...</td>\n      <td>...</td>\n    </tr>\n    <tr>\n      <th>26452</th>\n      <td>0</td>\n      <td>0</td>\n      <td>0</td>\n      <td>2</td>\n      <td>소득0</td>\n      <td>State servant</td>\n      <td>2</td>\n      <td>Married</td>\n      <td>House / apartment</td>\n      <td>-12079</td>\n      <td>...</td>\n      <td>0</td>\n      <td>0</td>\n      <td>0</td>\n      <td>0</td>\n      <td>0</td>\n      <td>0</td>\n      <td>0</td>\n      <td>0</td>\n      <td>0</td>\n      <td>0</td>\n    </tr>\n    <tr>\n      <th>26453</th>\n      <td>0</td>\n      <td>0</td>\n      <td>1</td>\n      <td>1</td>\n      <td>소득0</td>\n      <td>Working</td>\n      <td>3</td>\n      <td>Separated</td>\n      <td>House / apartment</td>\n      <td>-15291</td>\n      <td>...</td>\n      <td>0</td>\n      <td>0</td>\n      <td>0</td>\n      <td>0</td>\n      <td>0</td>\n      <td>0</td>\n      <td>0</td>\n      <td>0</td>\n      <td>1</td>\n      <td>0</td>\n    </tr>\n    <tr>\n      <th>26454</th>\n      <td>0</td>\n      <td>1</td>\n      <td>0</td>\n      <td>0</td>\n      <td>소득0</td>\n      <td>Working</td>\n      <td>2</td>\n      <td>Civil marriage</td>\n      <td>With parents</td>\n      <td>-10082</td>\n      <td>...</td>\n      <td>0</td>\n      <td>0</td>\n      <td>0</td>\n      <td>0</td>\n      <td>0</td>\n      <td>0</td>\n      <td>0</td>\n      <td>0</td>\n      <td>0</td>\n      <td>0</td>\n    </tr>\n    <tr>\n      <th>26455</th>\n      <td>1</td>\n      <td>0</td>\n      <td>1</td>\n      <td>0</td>\n      <td>소득0</td>\n      <td>Working</td>\n      <td>1</td>\n      <td>Single / not married</td>\n      <td>House / apartment</td>\n      <td>-10145</td>\n      <td>...</td>\n      <td>0</td>\n      <td>0</td>\n      <td>0</td>\n      <td>0</td>\n      <td>0</td>\n      <td>0</td>\n      <td>0</td>\n      <td>0</td>\n      <td>0</td>\n      <td>0</td>\n    </tr>\n    <tr>\n      <th>26456</th>\n      <td>0</td>\n      <td>0</td>\n      <td>0</td>\n      <td>0</td>\n      <td>소득0</td>\n      <td>Working</td>\n      <td>2</td>\n      <td>Civil marriage</td>\n      <td>House / apartment</td>\n      <td>-19569</td>\n      <td>...</td>\n      <td>0</td>\n      <td>0</td>\n      <td>0</td>\n      <td>0</td>\n      <td>0</td>\n      <td>0</td>\n      <td>0</td>\n      <td>1</td>\n      <td>0</td>\n      <td>0</td>\n    </tr>\n  </tbody>\n</table>\n<p>26457 rows × 36 columns</p>\n</div>"
     },
     "metadata": {},
     "execution_count": 182
    }
   ],
   "source": [
    "bin_5 = pd.read_csv(\"5_bins_train.csv\")\n",
    "\n",
    "bin_5"
   ]
  }
 ],
 "metadata": {
  "kernelspec": {
   "name": "python388jvsc74a57bd033a3111211be4281f3a8c4a9b25563b8d253df502c7e31f5318895c1792a97cb",
   "display_name": "Python 3.8.8 64-bit ('py38': conda)"
  },
  "language_info": {
   "codemirror_mode": {
    "name": "ipython",
    "version": 3
   },
   "file_extension": ".py",
   "mimetype": "text/x-python",
   "name": "python",
   "nbconvert_exporter": "python",
   "pygments_lexer": "ipython3",
   "version": "3.8.8"
  }
 },
 "nbformat": 4,
 "nbformat_minor": 5
}