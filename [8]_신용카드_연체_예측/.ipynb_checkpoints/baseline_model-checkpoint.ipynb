{
 "cells": [
  {
   "cell_type": "markdown",
   "id": "541d97a3",
   "metadata": {},
   "source": [
    "# 1. DataLoader & parsing"
   ]
  },
  {
   "cell_type": "code",
   "execution_count": 1,
   "id": "bf7b8604",
   "metadata": {},
   "outputs": [],
   "source": [
    "import numpy as np\n",
    "import pandas as pd"
   ]
  },
  {
   "cell_type": "code",
   "execution_count": 2,
   "id": "e5429c13",
   "metadata": {},
   "outputs": [],
   "source": [
    "data_path = '../../kaggle_data/creditcard_overdue/open/'\n",
    "pre_path = '../../kaggle_data/creditcard_overdue/preprocess/'\n",
    "\n",
    "y_train = pd.read_csv(data_path + 'train.csv')\n",
    "y_train = y_train['credit']\n",
    "\n",
    "Raw_train = pd.read_csv(pre_path + 'train_preprocess.csv')\n",
    "Raw_test = pd.read_csv(pre_path + 'test_preprocess.csv')\n",
    "submission = pd.read_csv(pre_path + 'sample_submission.csv')"
   ]
  },
  {
   "cell_type": "code",
   "execution_count": 3,
   "id": "1c55199f",
   "metadata": {},
   "outputs": [
    {
     "data": {
      "text/html": [
       "<div>\n",
       "<style scoped>\n",
       "    .dataframe tbody tr th:only-of-type {\n",
       "        vertical-align: middle;\n",
       "    }\n",
       "\n",
       "    .dataframe tbody tr th {\n",
       "        vertical-align: top;\n",
       "    }\n",
       "\n",
       "    .dataframe thead th {\n",
       "        text-align: right;\n",
       "    }\n",
       "</style>\n",
       "<table border=\"1\" class=\"dataframe\">\n",
       "  <thead>\n",
       "    <tr style=\"text-align: right;\">\n",
       "      <th></th>\n",
       "      <th>Unnamed: 0</th>\n",
       "      <th>gender</th>\n",
       "      <th>car</th>\n",
       "      <th>reality</th>\n",
       "      <th>child_num</th>\n",
       "      <th>income_total</th>\n",
       "      <th>income_type</th>\n",
       "      <th>edu_type</th>\n",
       "      <th>family_type</th>\n",
       "      <th>house_type</th>\n",
       "      <th>DAYS_BIRTH</th>\n",
       "      <th>DAYS_EMPLOYED</th>\n",
       "      <th>work_phone</th>\n",
       "      <th>phone</th>\n",
       "      <th>email</th>\n",
       "      <th>occyp_type</th>\n",
       "      <th>family_size</th>\n",
       "      <th>begin_month</th>\n",
       "    </tr>\n",
       "  </thead>\n",
       "  <tbody>\n",
       "    <tr>\n",
       "      <th>0</th>\n",
       "      <td>0</td>\n",
       "      <td>0</td>\n",
       "      <td>0</td>\n",
       "      <td>0</td>\n",
       "      <td>0</td>\n",
       "      <td>0</td>\n",
       "      <td>0</td>\n",
       "      <td>3</td>\n",
       "      <td>1</td>\n",
       "      <td>2</td>\n",
       "      <td>3</td>\n",
       "      <td>1</td>\n",
       "      <td>0</td>\n",
       "      <td>0</td>\n",
       "      <td>0</td>\n",
       "      <td>0</td>\n",
       "      <td>2.0</td>\n",
       "      <td>0</td>\n",
       "    </tr>\n",
       "    <tr>\n",
       "      <th>1</th>\n",
       "      <td>1</td>\n",
       "      <td>0</td>\n",
       "      <td>0</td>\n",
       "      <td>1</td>\n",
       "      <td>1</td>\n",
       "      <td>0</td>\n",
       "      <td>0</td>\n",
       "      <td>2</td>\n",
       "      <td>0</td>\n",
       "      <td>1</td>\n",
       "      <td>2</td>\n",
       "      <td>1</td>\n",
       "      <td>0</td>\n",
       "      <td>0</td>\n",
       "      <td>1</td>\n",
       "      <td>1</td>\n",
       "      <td>3.0</td>\n",
       "      <td>0</td>\n",
       "    </tr>\n",
       "    <tr>\n",
       "      <th>2</th>\n",
       "      <td>2</td>\n",
       "      <td>1</td>\n",
       "      <td>1</td>\n",
       "      <td>1</td>\n",
       "      <td>0</td>\n",
       "      <td>1</td>\n",
       "      <td>4</td>\n",
       "      <td>3</td>\n",
       "      <td>1</td>\n",
       "      <td>1</td>\n",
       "      <td>6</td>\n",
       "      <td>1</td>\n",
       "      <td>0</td>\n",
       "      <td>1</td>\n",
       "      <td>0</td>\n",
       "      <td>2</td>\n",
       "      <td>2.0</td>\n",
       "      <td>1</td>\n",
       "    </tr>\n",
       "    <tr>\n",
       "      <th>3</th>\n",
       "      <td>3</td>\n",
       "      <td>0</td>\n",
       "      <td>0</td>\n",
       "      <td>1</td>\n",
       "      <td>0</td>\n",
       "      <td>0</td>\n",
       "      <td>0</td>\n",
       "      <td>2</td>\n",
       "      <td>1</td>\n",
       "      <td>1</td>\n",
       "      <td>4</td>\n",
       "      <td>1</td>\n",
       "      <td>0</td>\n",
       "      <td>1</td>\n",
       "      <td>0</td>\n",
       "      <td>3</td>\n",
       "      <td>2.0</td>\n",
       "      <td>2</td>\n",
       "    </tr>\n",
       "    <tr>\n",
       "      <th>4</th>\n",
       "      <td>4</td>\n",
       "      <td>0</td>\n",
       "      <td>1</td>\n",
       "      <td>1</td>\n",
       "      <td>0</td>\n",
       "      <td>0</td>\n",
       "      <td>2</td>\n",
       "      <td>3</td>\n",
       "      <td>1</td>\n",
       "      <td>1</td>\n",
       "      <td>4</td>\n",
       "      <td>1</td>\n",
       "      <td>0</td>\n",
       "      <td>0</td>\n",
       "      <td>0</td>\n",
       "      <td>2</td>\n",
       "      <td>2.0</td>\n",
       "      <td>1</td>\n",
       "    </tr>\n",
       "  </tbody>\n",
       "</table>\n",
       "</div>"
      ],
      "text/plain": [
       "   Unnamed: 0  gender  car  reality  child_num  income_total  income_type  \\\n",
       "0           0       0    0        0          0             0            0   \n",
       "1           1       0    0        1          1             0            0   \n",
       "2           2       1    1        1          0             1            4   \n",
       "3           3       0    0        1          0             0            0   \n",
       "4           4       0    1        1          0             0            2   \n",
       "\n",
       "   edu_type  family_type  house_type  DAYS_BIRTH  DAYS_EMPLOYED  work_phone  \\\n",
       "0         3            1           2           3              1           0   \n",
       "1         2            0           1           2              1           0   \n",
       "2         3            1           1           6              1           0   \n",
       "3         2            1           1           4              1           0   \n",
       "4         3            1           1           4              1           0   \n",
       "\n",
       "   phone  email  occyp_type  family_size  begin_month  \n",
       "0      0      0           0          2.0            0  \n",
       "1      0      1           1          3.0            0  \n",
       "2      1      0           2          2.0            1  \n",
       "3      1      0           3          2.0            2  \n",
       "4      0      0           2          2.0            1  "
      ]
     },
     "execution_count": 3,
     "metadata": {},
     "output_type": "execute_result"
    }
   ],
   "source": [
    "Raw_train.head()"
   ]
  },
  {
   "cell_type": "code",
   "execution_count": 4,
   "id": "b69b2702",
   "metadata": {},
   "outputs": [
    {
     "data": {
      "text/plain": [
       "0    1.0\n",
       "1    1.0\n",
       "2    2.0\n",
       "3    0.0\n",
       "4    2.0\n",
       "Name: credit, dtype: float64"
      ]
     },
     "execution_count": 4,
     "metadata": {},
     "output_type": "execute_result"
    }
   ],
   "source": [
    "y_train.head()"
   ]
  },
  {
   "cell_type": "code",
   "execution_count": 5,
   "id": "c1c97497",
   "metadata": {},
   "outputs": [
    {
     "data": {
      "text/html": [
       "<div>\n",
       "<style scoped>\n",
       "    .dataframe tbody tr th:only-of-type {\n",
       "        vertical-align: middle;\n",
       "    }\n",
       "\n",
       "    .dataframe tbody tr th {\n",
       "        vertical-align: top;\n",
       "    }\n",
       "\n",
       "    .dataframe thead th {\n",
       "        text-align: right;\n",
       "    }\n",
       "</style>\n",
       "<table border=\"1\" class=\"dataframe\">\n",
       "  <thead>\n",
       "    <tr style=\"text-align: right;\">\n",
       "      <th></th>\n",
       "      <th>Unnamed: 0</th>\n",
       "      <th>index</th>\n",
       "      <th>gender</th>\n",
       "      <th>car</th>\n",
       "      <th>reality</th>\n",
       "      <th>child_num</th>\n",
       "      <th>income_total</th>\n",
       "      <th>income_type</th>\n",
       "      <th>edu_type</th>\n",
       "      <th>family_type</th>\n",
       "      <th>house_type</th>\n",
       "      <th>DAYS_BIRTH</th>\n",
       "      <th>DAYS_EMPLOYED</th>\n",
       "      <th>FLAG_MOBIL</th>\n",
       "      <th>work_phone</th>\n",
       "      <th>phone</th>\n",
       "      <th>email</th>\n",
       "      <th>occyp_type</th>\n",
       "      <th>family_size</th>\n",
       "      <th>begin_month</th>\n",
       "    </tr>\n",
       "  </thead>\n",
       "  <tbody>\n",
       "    <tr>\n",
       "      <th>0</th>\n",
       "      <td>0</td>\n",
       "      <td>26457</td>\n",
       "      <td>1</td>\n",
       "      <td>1</td>\n",
       "      <td>0</td>\n",
       "      <td>0</td>\n",
       "      <td>0</td>\n",
       "      <td>1</td>\n",
       "      <td>2</td>\n",
       "      <td>0</td>\n",
       "      <td>1</td>\n",
       "      <td>8</td>\n",
       "      <td>0</td>\n",
       "      <td>1</td>\n",
       "      <td>0</td>\n",
       "      <td>1</td>\n",
       "      <td>0</td>\n",
       "      <td>0</td>\n",
       "      <td>2.0</td>\n",
       "      <td>3</td>\n",
       "    </tr>\n",
       "    <tr>\n",
       "      <th>1</th>\n",
       "      <td>1</td>\n",
       "      <td>26458</td>\n",
       "      <td>0</td>\n",
       "      <td>0</td>\n",
       "      <td>1</td>\n",
       "      <td>0</td>\n",
       "      <td>0</td>\n",
       "      <td>2</td>\n",
       "      <td>3</td>\n",
       "      <td>1</td>\n",
       "      <td>1</td>\n",
       "      <td>6</td>\n",
       "      <td>1</td>\n",
       "      <td>1</td>\n",
       "      <td>0</td>\n",
       "      <td>1</td>\n",
       "      <td>0</td>\n",
       "      <td>5</td>\n",
       "      <td>2.0</td>\n",
       "      <td>2</td>\n",
       "    </tr>\n",
       "    <tr>\n",
       "      <th>2</th>\n",
       "      <td>2</td>\n",
       "      <td>26459</td>\n",
       "      <td>0</td>\n",
       "      <td>0</td>\n",
       "      <td>1</td>\n",
       "      <td>0</td>\n",
       "      <td>0</td>\n",
       "      <td>4</td>\n",
       "      <td>2</td>\n",
       "      <td>1</td>\n",
       "      <td>1</td>\n",
       "      <td>4</td>\n",
       "      <td>1</td>\n",
       "      <td>1</td>\n",
       "      <td>1</td>\n",
       "      <td>1</td>\n",
       "      <td>0</td>\n",
       "      <td>1</td>\n",
       "      <td>2.0</td>\n",
       "      <td>2</td>\n",
       "    </tr>\n",
       "    <tr>\n",
       "      <th>3</th>\n",
       "      <td>3</td>\n",
       "      <td>26460</td>\n",
       "      <td>1</td>\n",
       "      <td>1</td>\n",
       "      <td>0</td>\n",
       "      <td>0</td>\n",
       "      <td>0</td>\n",
       "      <td>0</td>\n",
       "      <td>2</td>\n",
       "      <td>1</td>\n",
       "      <td>1</td>\n",
       "      <td>6</td>\n",
       "      <td>1</td>\n",
       "      <td>1</td>\n",
       "      <td>1</td>\n",
       "      <td>0</td>\n",
       "      <td>0</td>\n",
       "      <td>6</td>\n",
       "      <td>2.0</td>\n",
       "      <td>2</td>\n",
       "    </tr>\n",
       "    <tr>\n",
       "      <th>4</th>\n",
       "      <td>4</td>\n",
       "      <td>26461</td>\n",
       "      <td>0</td>\n",
       "      <td>1</td>\n",
       "      <td>1</td>\n",
       "      <td>0</td>\n",
       "      <td>0</td>\n",
       "      <td>2</td>\n",
       "      <td>3</td>\n",
       "      <td>1</td>\n",
       "      <td>1</td>\n",
       "      <td>5</td>\n",
       "      <td>1</td>\n",
       "      <td>1</td>\n",
       "      <td>1</td>\n",
       "      <td>0</td>\n",
       "      <td>0</td>\n",
       "      <td>2</td>\n",
       "      <td>2.0</td>\n",
       "      <td>0</td>\n",
       "    </tr>\n",
       "  </tbody>\n",
       "</table>\n",
       "</div>"
      ],
      "text/plain": [
       "   Unnamed: 0  index  gender  car  reality  child_num  income_total  \\\n",
       "0           0  26457       1    1        0          0             0   \n",
       "1           1  26458       0    0        1          0             0   \n",
       "2           2  26459       0    0        1          0             0   \n",
       "3           3  26460       1    1        0          0             0   \n",
       "4           4  26461       0    1        1          0             0   \n",
       "\n",
       "   income_type  edu_type  family_type  house_type  DAYS_BIRTH  DAYS_EMPLOYED  \\\n",
       "0            1         2            0           1           8              0   \n",
       "1            2         3            1           1           6              1   \n",
       "2            4         2            1           1           4              1   \n",
       "3            0         2            1           1           6              1   \n",
       "4            2         3            1           1           5              1   \n",
       "\n",
       "   FLAG_MOBIL  work_phone  phone  email  occyp_type  family_size  begin_month  \n",
       "0           1           0      1      0           0          2.0            3  \n",
       "1           1           0      1      0           5          2.0            2  \n",
       "2           1           1      1      0           1          2.0            2  \n",
       "3           1           1      0      0           6          2.0            2  \n",
       "4           1           1      0      0           2          2.0            0  "
      ]
     },
     "execution_count": 5,
     "metadata": {},
     "output_type": "execute_result"
    }
   ],
   "source": [
    "Raw_test.head()"
   ]
  },
  {
   "cell_type": "markdown",
   "id": "1815c9d1",
   "metadata": {},
   "source": [
    "# 2. Drop un-use features"
   ]
  },
  {
   "cell_type": "code",
   "execution_count": 6,
   "id": "1a111e6f",
   "metadata": {},
   "outputs": [],
   "source": [
    "X_train = Raw_train.drop(['Unnamed: 0'], axis=1)\n",
    "X_test = Raw_test.drop(['Unnamed: 0', 'index', 'FLAG_MOBIL'], axis=1)"
   ]
  },
  {
   "cell_type": "code",
   "execution_count": 7,
   "id": "1c45a9b0",
   "metadata": {},
   "outputs": [
    {
     "data": {
      "text/plain": [
       "(26457, 17)"
      ]
     },
     "execution_count": 7,
     "metadata": {},
     "output_type": "execute_result"
    }
   ],
   "source": [
    "X_train.shape"
   ]
  },
  {
   "cell_type": "code",
   "execution_count": 8,
   "id": "59864094",
   "metadata": {},
   "outputs": [
    {
     "data": {
      "text/plain": [
       "(10000, 17)"
      ]
     },
     "execution_count": 8,
     "metadata": {},
     "output_type": "execute_result"
    }
   ],
   "source": [
    "X_test.shape"
   ]
  },
  {
   "cell_type": "code",
   "execution_count": 9,
   "id": "b22cdd7e",
   "metadata": {},
   "outputs": [
    {
     "data": {
      "text/html": [
       "<div>\n",
       "<style scoped>\n",
       "    .dataframe tbody tr th:only-of-type {\n",
       "        vertical-align: middle;\n",
       "    }\n",
       "\n",
       "    .dataframe tbody tr th {\n",
       "        vertical-align: top;\n",
       "    }\n",
       "\n",
       "    .dataframe thead th {\n",
       "        text-align: right;\n",
       "    }\n",
       "</style>\n",
       "<table border=\"1\" class=\"dataframe\">\n",
       "  <thead>\n",
       "    <tr style=\"text-align: right;\">\n",
       "      <th></th>\n",
       "      <th>gender</th>\n",
       "      <th>car</th>\n",
       "      <th>reality</th>\n",
       "      <th>child_num</th>\n",
       "      <th>income_total</th>\n",
       "      <th>income_type</th>\n",
       "      <th>edu_type</th>\n",
       "      <th>family_type</th>\n",
       "      <th>house_type</th>\n",
       "      <th>DAYS_BIRTH</th>\n",
       "      <th>DAYS_EMPLOYED</th>\n",
       "      <th>work_phone</th>\n",
       "      <th>phone</th>\n",
       "      <th>email</th>\n",
       "      <th>occyp_type</th>\n",
       "      <th>family_size</th>\n",
       "      <th>begin_month</th>\n",
       "    </tr>\n",
       "  </thead>\n",
       "  <tbody>\n",
       "    <tr>\n",
       "      <th>0</th>\n",
       "      <td>1</td>\n",
       "      <td>1</td>\n",
       "      <td>0</td>\n",
       "      <td>0</td>\n",
       "      <td>0</td>\n",
       "      <td>1</td>\n",
       "      <td>2</td>\n",
       "      <td>0</td>\n",
       "      <td>1</td>\n",
       "      <td>8</td>\n",
       "      <td>0</td>\n",
       "      <td>0</td>\n",
       "      <td>1</td>\n",
       "      <td>0</td>\n",
       "      <td>0</td>\n",
       "      <td>2.0</td>\n",
       "      <td>3</td>\n",
       "    </tr>\n",
       "    <tr>\n",
       "      <th>1</th>\n",
       "      <td>0</td>\n",
       "      <td>0</td>\n",
       "      <td>1</td>\n",
       "      <td>0</td>\n",
       "      <td>0</td>\n",
       "      <td>2</td>\n",
       "      <td>3</td>\n",
       "      <td>1</td>\n",
       "      <td>1</td>\n",
       "      <td>6</td>\n",
       "      <td>1</td>\n",
       "      <td>0</td>\n",
       "      <td>1</td>\n",
       "      <td>0</td>\n",
       "      <td>5</td>\n",
       "      <td>2.0</td>\n",
       "      <td>2</td>\n",
       "    </tr>\n",
       "    <tr>\n",
       "      <th>2</th>\n",
       "      <td>0</td>\n",
       "      <td>0</td>\n",
       "      <td>1</td>\n",
       "      <td>0</td>\n",
       "      <td>0</td>\n",
       "      <td>4</td>\n",
       "      <td>2</td>\n",
       "      <td>1</td>\n",
       "      <td>1</td>\n",
       "      <td>4</td>\n",
       "      <td>1</td>\n",
       "      <td>1</td>\n",
       "      <td>1</td>\n",
       "      <td>0</td>\n",
       "      <td>1</td>\n",
       "      <td>2.0</td>\n",
       "      <td>2</td>\n",
       "    </tr>\n",
       "    <tr>\n",
       "      <th>3</th>\n",
       "      <td>1</td>\n",
       "      <td>1</td>\n",
       "      <td>0</td>\n",
       "      <td>0</td>\n",
       "      <td>0</td>\n",
       "      <td>0</td>\n",
       "      <td>2</td>\n",
       "      <td>1</td>\n",
       "      <td>1</td>\n",
       "      <td>6</td>\n",
       "      <td>1</td>\n",
       "      <td>1</td>\n",
       "      <td>0</td>\n",
       "      <td>0</td>\n",
       "      <td>6</td>\n",
       "      <td>2.0</td>\n",
       "      <td>2</td>\n",
       "    </tr>\n",
       "    <tr>\n",
       "      <th>4</th>\n",
       "      <td>0</td>\n",
       "      <td>1</td>\n",
       "      <td>1</td>\n",
       "      <td>0</td>\n",
       "      <td>0</td>\n",
       "      <td>2</td>\n",
       "      <td>3</td>\n",
       "      <td>1</td>\n",
       "      <td>1</td>\n",
       "      <td>5</td>\n",
       "      <td>1</td>\n",
       "      <td>1</td>\n",
       "      <td>0</td>\n",
       "      <td>0</td>\n",
       "      <td>2</td>\n",
       "      <td>2.0</td>\n",
       "      <td>0</td>\n",
       "    </tr>\n",
       "  </tbody>\n",
       "</table>\n",
       "</div>"
      ],
      "text/plain": [
       "   gender  car  reality  child_num  income_total  income_type  edu_type  \\\n",
       "0       1    1        0          0             0            1         2   \n",
       "1       0    0        1          0             0            2         3   \n",
       "2       0    0        1          0             0            4         2   \n",
       "3       1    1        0          0             0            0         2   \n",
       "4       0    1        1          0             0            2         3   \n",
       "\n",
       "   family_type  house_type  DAYS_BIRTH  DAYS_EMPLOYED  work_phone  phone  \\\n",
       "0            0           1           8              0           0      1   \n",
       "1            1           1           6              1           0      1   \n",
       "2            1           1           4              1           1      1   \n",
       "3            1           1           6              1           1      0   \n",
       "4            1           1           5              1           1      0   \n",
       "\n",
       "   email  occyp_type  family_size  begin_month  \n",
       "0      0           0          2.0            3  \n",
       "1      0           5          2.0            2  \n",
       "2      0           1          2.0            2  \n",
       "3      0           6          2.0            2  \n",
       "4      0           2          2.0            0  "
      ]
     },
     "execution_count": 9,
     "metadata": {},
     "output_type": "execute_result"
    }
   ],
   "source": [
    "X_test.head()"
   ]
  },
  {
   "cell_type": "code",
   "execution_count": 10,
   "id": "ea752773",
   "metadata": {},
   "outputs": [
    {
     "data": {
      "text/html": [
       "<div>\n",
       "<style scoped>\n",
       "    .dataframe tbody tr th:only-of-type {\n",
       "        vertical-align: middle;\n",
       "    }\n",
       "\n",
       "    .dataframe tbody tr th {\n",
       "        vertical-align: top;\n",
       "    }\n",
       "\n",
       "    .dataframe thead th {\n",
       "        text-align: right;\n",
       "    }\n",
       "</style>\n",
       "<table border=\"1\" class=\"dataframe\">\n",
       "  <thead>\n",
       "    <tr style=\"text-align: right;\">\n",
       "      <th></th>\n",
       "      <th>gender</th>\n",
       "      <th>car</th>\n",
       "      <th>reality</th>\n",
       "      <th>child_num</th>\n",
       "      <th>income_total</th>\n",
       "      <th>income_type</th>\n",
       "      <th>edu_type</th>\n",
       "      <th>family_type</th>\n",
       "      <th>house_type</th>\n",
       "      <th>DAYS_BIRTH</th>\n",
       "      <th>DAYS_EMPLOYED</th>\n",
       "      <th>work_phone</th>\n",
       "      <th>phone</th>\n",
       "      <th>email</th>\n",
       "      <th>occyp_type</th>\n",
       "      <th>family_size</th>\n",
       "      <th>begin_month</th>\n",
       "    </tr>\n",
       "  </thead>\n",
       "  <tbody>\n",
       "    <tr>\n",
       "      <th>0</th>\n",
       "      <td>0</td>\n",
       "      <td>0</td>\n",
       "      <td>0</td>\n",
       "      <td>0</td>\n",
       "      <td>0</td>\n",
       "      <td>0</td>\n",
       "      <td>3</td>\n",
       "      <td>1</td>\n",
       "      <td>2</td>\n",
       "      <td>3</td>\n",
       "      <td>1</td>\n",
       "      <td>0</td>\n",
       "      <td>0</td>\n",
       "      <td>0</td>\n",
       "      <td>0</td>\n",
       "      <td>2.0</td>\n",
       "      <td>0</td>\n",
       "    </tr>\n",
       "    <tr>\n",
       "      <th>1</th>\n",
       "      <td>0</td>\n",
       "      <td>0</td>\n",
       "      <td>1</td>\n",
       "      <td>1</td>\n",
       "      <td>0</td>\n",
       "      <td>0</td>\n",
       "      <td>2</td>\n",
       "      <td>0</td>\n",
       "      <td>1</td>\n",
       "      <td>2</td>\n",
       "      <td>1</td>\n",
       "      <td>0</td>\n",
       "      <td>0</td>\n",
       "      <td>1</td>\n",
       "      <td>1</td>\n",
       "      <td>3.0</td>\n",
       "      <td>0</td>\n",
       "    </tr>\n",
       "    <tr>\n",
       "      <th>2</th>\n",
       "      <td>1</td>\n",
       "      <td>1</td>\n",
       "      <td>1</td>\n",
       "      <td>0</td>\n",
       "      <td>1</td>\n",
       "      <td>4</td>\n",
       "      <td>3</td>\n",
       "      <td>1</td>\n",
       "      <td>1</td>\n",
       "      <td>6</td>\n",
       "      <td>1</td>\n",
       "      <td>0</td>\n",
       "      <td>1</td>\n",
       "      <td>0</td>\n",
       "      <td>2</td>\n",
       "      <td>2.0</td>\n",
       "      <td>1</td>\n",
       "    </tr>\n",
       "    <tr>\n",
       "      <th>3</th>\n",
       "      <td>0</td>\n",
       "      <td>0</td>\n",
       "      <td>1</td>\n",
       "      <td>0</td>\n",
       "      <td>0</td>\n",
       "      <td>0</td>\n",
       "      <td>2</td>\n",
       "      <td>1</td>\n",
       "      <td>1</td>\n",
       "      <td>4</td>\n",
       "      <td>1</td>\n",
       "      <td>0</td>\n",
       "      <td>1</td>\n",
       "      <td>0</td>\n",
       "      <td>3</td>\n",
       "      <td>2.0</td>\n",
       "      <td>2</td>\n",
       "    </tr>\n",
       "    <tr>\n",
       "      <th>4</th>\n",
       "      <td>0</td>\n",
       "      <td>1</td>\n",
       "      <td>1</td>\n",
       "      <td>0</td>\n",
       "      <td>0</td>\n",
       "      <td>2</td>\n",
       "      <td>3</td>\n",
       "      <td>1</td>\n",
       "      <td>1</td>\n",
       "      <td>4</td>\n",
       "      <td>1</td>\n",
       "      <td>0</td>\n",
       "      <td>0</td>\n",
       "      <td>0</td>\n",
       "      <td>2</td>\n",
       "      <td>2.0</td>\n",
       "      <td>1</td>\n",
       "    </tr>\n",
       "  </tbody>\n",
       "</table>\n",
       "</div>"
      ],
      "text/plain": [
       "   gender  car  reality  child_num  income_total  income_type  edu_type  \\\n",
       "0       0    0        0          0             0            0         3   \n",
       "1       0    0        1          1             0            0         2   \n",
       "2       1    1        1          0             1            4         3   \n",
       "3       0    0        1          0             0            0         2   \n",
       "4       0    1        1          0             0            2         3   \n",
       "\n",
       "   family_type  house_type  DAYS_BIRTH  DAYS_EMPLOYED  work_phone  phone  \\\n",
       "0            1           2           3              1           0      0   \n",
       "1            0           1           2              1           0      0   \n",
       "2            1           1           6              1           0      1   \n",
       "3            1           1           4              1           0      1   \n",
       "4            1           1           4              1           0      0   \n",
       "\n",
       "   email  occyp_type  family_size  begin_month  \n",
       "0      0           0          2.0            0  \n",
       "1      1           1          3.0            0  \n",
       "2      0           2          2.0            1  \n",
       "3      0           3          2.0            2  \n",
       "4      0           2          2.0            1  "
      ]
     },
     "execution_count": 10,
     "metadata": {},
     "output_type": "execute_result"
    }
   ],
   "source": [
    "X_train.head()"
   ]
  },
  {
   "cell_type": "markdown",
   "id": "56669c64",
   "metadata": {},
   "source": [
    "# 3. train/val split"
   ]
  },
  {
   "cell_type": "code",
   "execution_count": 11,
   "id": "b0914328",
   "metadata": {},
   "outputs": [
    {
     "name": "stdout",
     "output_type": "stream",
     "text": [
      "Train set\n",
      "(18519, 17)\n",
      "(18519,)\n",
      "==================\n",
      "Validation set\n",
      "(7938, 17)\n",
      "(7938,)\n"
     ]
    }
   ],
   "source": [
    "from sklearn.model_selection import train_test_split\n",
    "\n",
    "X_train, X_val, y_train, y_val = train_test_split(X_train, y_train,\n",
    "                                                 stratify=y_train, test_size=0.3,\n",
    "                                                 random_state=42)\n",
    "\n",
    "print(\"Train set\")\n",
    "print(X_train.shape)\n",
    "print(y_train.shape)\n",
    "print(\"==================\")\n",
    "print(\"Validation set\")\n",
    "print(X_val.shape)\n",
    "print(y_val.shape)"
   ]
  },
  {
   "cell_type": "markdown",
   "id": "9fc255c2",
   "metadata": {},
   "source": [
    "# 4. Models & training"
   ]
  },
  {
   "cell_type": "code",
   "execution_count": 12,
   "id": "9dbf3da8",
   "metadata": {},
   "outputs": [],
   "source": [
    "from sklearn.model_selection import GridSearchCV, StratifiedKFold\n",
    "\n",
    "from sklearn.ensemble import RandomForestClassifier\n",
    "from sklearn.linear_model import LogisticRegression\n",
    "from sklearn.svm import SVC\n",
    "from sklearn.ensemble import VotingClassifier\n",
    "from sklearn.ensemble import GradientBoostingClassifier\n",
    "\n",
    "from sklearn.model_selection import cross_val_score\n",
    "\n",
    "k_fold = StratifiedKFold(n_splits=10, shuffle=True, random_state=42)"
   ]
  },
  {
   "cell_type": "markdown",
   "id": "7aa3eadf",
   "metadata": {},
   "source": [
    "## 4-1. RandomForest"
   ]
  },
  {
   "cell_type": "code",
   "execution_count": 13,
   "id": "cba5be43",
   "metadata": {},
   "outputs": [
    {
     "name": "stdout",
     "output_type": "stream",
     "text": [
      "Fitting 10 folds for each of 12 candidates, totalling 120 fits\n",
      "best_score :  -0.8192968025331313\n",
      "best_params : \n",
      " {'criterion': 'entropy', 'max_depth': 15, 'n_estimators': 600, 'random_state': 42}\n"
     ]
    }
   ],
   "source": [
    "feat_labels = X_train.columns\n",
    "\n",
    "forest = RandomForestClassifier()\n",
    "\n",
    "forest_param_grid = {\"max_depth\" : [13, 15, 17],\n",
    "                    \"n_estimators\" : [500, 600],\n",
    "                    \"criterion\" : [\"gini\", \"entropy\"],\n",
    "                    \"random_state\" : [42]}\n",
    "\n",
    "gs_forest = GridSearchCV(forest, forest_param_grid, \n",
    "                       cv=k_fold, scoring=\"neg_log_loss\", verbose=1, n_jobs=-1)\n",
    "\n",
    "gs_forest.fit(X_train, y_train)\n",
    "\n",
    "forest_best = gs_forest.best_estimator_\n",
    "\n",
    "print('best_score : ', gs_forest.best_score_)\n",
    "print('best_params : \\n', gs_forest.best_params_)\n",
    "\n",
    "forest_best.fit(X_train, y_train)\n",
    "\n",
    "importances = forest_best.feature_importances_\n",
    "\n",
    "val_pred_forest = forest_best.predict_proba(X_val)\n",
    "predict_forest = forest_best.predict_proba(X_test)"
   ]
  },
  {
   "cell_type": "markdown",
   "id": "b17c866f",
   "metadata": {},
   "source": [
    "### 4-1-1. RandomForest (without GridSearchCV)"
   ]
  },
  {
   "cell_type": "code",
   "execution_count": 13,
   "id": "639dedf5",
   "metadata": {},
   "outputs": [],
   "source": [
    "forest_best = RandomForestClassifier(criterion='entropy', max_depth=15, n_estimators=600, random_state=42)\n",
    "\n",
    "feat_labels = X_train.columns\n",
    "\n",
    "forest_best.fit(X_train, y_train)\n",
    "\n",
    "importances = forest_best.feature_importances_\n",
    "\n",
    "val_pred_forest = forest_best.predict_proba(X_val)\n",
    "predict_forest = forest_best.predict_proba(X_test)"
   ]
  },
  {
   "cell_type": "markdown",
   "id": "fe55382b",
   "metadata": {},
   "source": [
    "### 4-1-2. Feature importance"
   ]
  },
  {
   "cell_type": "code",
   "execution_count": 14,
   "id": "da908c36",
   "metadata": {},
   "outputs": [
    {
     "name": "stdout",
     "output_type": "stream",
     "text": [
      " 1) occyp_type                     0.1470898971053921\n",
      " 2) DAYS_BIRTH                     0.13112098949185994\n",
      " 3) begin_month                    0.1189117993808401\n",
      " 4) edu_type                       0.06249396557046794\n",
      " 5) family_type                    0.059680536308183575\n",
      " 6) income_type                    0.054046939394534976\n",
      " 7) family_size                    0.05125698059006873\n",
      " 8) reality                        0.0454049802265021\n",
      " 9) house_type                     0.04518196697988942\n",
      "10) income_total                   0.04366616719762189\n",
      "11) car                            0.043392150625378004\n",
      "12) phone                          0.043198971585966486\n",
      "13) gender                         0.04179134200407448\n",
      "14) child_num                      0.03957076900645813\n",
      "15) work_phone                     0.03793536318257427\n",
      "16) email                          0.02681141969226213\n",
      "17) DAYS_EMPLOYED                  0.008445761657925724\n"
     ]
    },
    {
     "data": {
      "image/png": "[encoded data removed]",
      "text/plain": [
       "<Figure size 432x288 with 1 Axes>"
      ]
     },
     "metadata": {
      "needs_background": "light"
     },
     "output_type": "display_data"
    }
   ],
   "source": [
    "import matplotlib.pyplot as plt\n",
    "\n",
    "indices = np.argsort(importances)[::-1]\n",
    "\n",
    "for f in range(X_train.shape[1]):\n",
    "    print(\"%2d) %-*s %s\" % (f+1, 30, \n",
    "                            feat_labels[indices[f]],\n",
    "                           importances[indices[f]]))\n",
    "\n",
    "plt.title('Feature Importance')\n",
    "plt.bar(range(X_train.shape[1]),\n",
    "       importances[indices],\n",
    "       align='center')\n",
    "\n",
    "plt.xticks(range(X_train.shape[1]),\n",
    "          feat_labels[indices], rotation=90)\n",
    "plt.xlim([-1, X_train.shape[1]])\n",
    "plt.tight_layout()\n",
    "plt.show()"
   ]
  },
  {
   "cell_type": "markdown",
   "id": "921f3b48",
   "metadata": {},
   "source": [
    "## 4-2. Logistic-Regression"
   ]
  },
  {
   "cell_type": "code",
   "execution_count": 15,
   "id": "4e64c4ed",
   "metadata": {},
   "outputs": [
    {
     "name": "stdout",
     "output_type": "stream",
     "text": [
      "Fitting 10 folds for each of 6 candidates, totalling 60 fits\n",
      "best_score :  -0.86922395256809\n",
      "best_params : \n",
      " {'C': 0.01, 'max_iter': 500, 'random_state': 42, 'solver': 'saga'}\n"
     ]
    }
   ],
   "source": [
    "lr = LogisticRegression()\n",
    "\n",
    "lr_param_grid = {\"C\" : [0.01, 0.1, 1.0],\n",
    "                \"solver\" : ['sag', 'saga'],\n",
    "                 \"max_iter\" : [500],\n",
    "                \"random_state\" : [42]}\n",
    "\n",
    "gs_lr = GridSearchCV(lr, lr_param_grid,\n",
    "                    cv=k_fold, scoring=\"neg_log_loss\", verbose=1, n_jobs=-1)\n",
    "\n",
    "gs_lr.fit(X_train, y_train)\n",
    "\n",
    "lr_best = gs_lr.best_estimator_\n",
    "\n",
    "print('best_score : ', gs_lr.best_score_)\n",
    "print('best_params : \\n', gs_lr.best_params_)\n",
    "\n",
    "lr_best.fit(X_train, y_train)\n",
    "\n",
    "val_pred_lr = lr_best.predict_proba(X_val)\n",
    "predict_lr = lr_best.predict_proba(X_test)"
   ]
  },
  {
   "cell_type": "markdown",
   "id": "60871c27",
   "metadata": {},
   "source": [
    "### 4-2-1. Logistic-Regression (without GridSearchCV)"
   ]
  },
  {
   "cell_type": "code",
   "execution_count": 15,
   "id": "b26687e2",
   "metadata": {},
   "outputs": [],
   "source": [
    "lr_best = LogisticRegression(C=0.01, max_iter=500, random_state=42, solver='saga')\n",
    "\n",
    "lr_best.fit(X_train, y_train)\n",
    "\n",
    "val_pred_lr = lr_best.predict_proba(X_val)\n",
    "predict_lr = lr_best.predict_proba(X_test)"
   ]
  },
  {
   "cell_type": "markdown",
   "id": "2454c4ff",
   "metadata": {},
   "source": [
    "## 4-3. SVM"
   ]
  },
  {
   "cell_type": "code",
   "execution_count": 16,
   "id": "245840f8",
   "metadata": {},
   "outputs": [
    {
     "name": "stdout",
     "output_type": "stream",
     "text": [
      "Fitting 10 folds for each of 4 candidates, totalling 40 fits\n",
      "best_score :  0.6441494178034639\n",
      "best_params :  {'C': 100.0, 'decision_function_shape': 'ovo', 'kernel': 'rbf', 'probability': True, 'random_state': 42}\n"
     ]
    }
   ],
   "source": [
    "svm = SVC()\n",
    "\n",
    "svm_param_grid = {\"C\" : [10.0, 100.],\n",
    "                  \"kernel\" : ['linear', 'rbf'],\n",
    "                  \"decision_function_shape\" : ['ovo'],\n",
    "                  \"random_state\" : [42],\n",
    "                  \"probability\" : [True]}\n",
    "\n",
    "gs_svm = GridSearchCV(svm, svm_param_grid,\n",
    "                     cv=k_fold, scoring=\"accuracy\", verbose=1, n_jobs=-1) # neg_log_loss => non_finite..\n",
    "\n",
    "gs_svm.fit(X_train, y_train)\n",
    "\n",
    "svm_best = gs_svm.best_estimator_\n",
    "\n",
    "print('best_score : ', gs_svm.best_score_)\n",
    "print('best_params : ', gs_svm.best_params_)\n",
    "\n",
    "svm_best.fit(X_train, y_train)\n",
    "\n",
    "val_pred_svm = svm_best.predict_proba(X_val)\n",
    "predict_svm = svm_best.predict_proba(X_test)"
   ]
  },
  {
   "cell_type": "markdown",
   "id": "64a03b94",
   "metadata": {},
   "source": [
    "### 4-3-1. SVM (without GridSearchCV)"
   ]
  },
  {
   "cell_type": "code",
   "execution_count": 19,
   "id": "24a06084",
   "metadata": {},
   "outputs": [],
   "source": [
    "from sklearn.svm import SVC\n",
    "\n",
    "svm_best = SVC(C=100.0, decision_function_shape='ovo', kernel='rbf', probability=True, random_state=42)\n",
    "\n",
    "svm_best.fit(X_train, y_train)\n",
    "\n",
    "val_pred_svm = svm_best.predict_proba(X_val)\n",
    "predict_svm = svm_best.predict_proba(X_test)"
   ]
  },
  {
   "cell_type": "markdown",
   "id": "72c0a14e",
   "metadata": {},
   "source": [
    "## 4-4. Ensemble"
   ]
  },
  {
   "cell_type": "markdown",
   "id": "9d3064b5",
   "metadata": {},
   "source": [
    "### 4-4-1. Voting(RandomForest, LogisticRegression, SVM)"
   ]
  },
  {
   "cell_type": "code",
   "execution_count": 20,
   "id": "481fe5ea",
   "metadata": {},
   "outputs": [],
   "source": [
    "voting = VotingClassifier(estimators=[('forest', forest_best),\n",
    "                                      ('lr', lr_best),\n",
    "                                      ('svm', svm_best)],\n",
    "                         voting='soft',\n",
    "                         n_jobs=-1)\n",
    "\n",
    "\"\"\"\n",
    "scores = cross_val_score(estimator=voting,\n",
    "                         X=X_train,\n",
    "                         y=y_train,\n",
    "                         cv=10,\n",
    "                         n_jobs=-1)\n",
    "\n",
    "print('CV 정확도: {} +/- {}'.format(np.mean(scores), np.std(scores)))\n",
    "\"\"\"\n",
    "\n",
    "voting = voting.fit(X_train, y_train)\n",
    "\n",
    "val_pred_voting = voting.predict_proba(X_val)\n",
    "predict_voting = voting.predict_proba(X_test)"
   ]
  },
  {
   "cell_type": "markdown",
   "id": "81f704f1",
   "metadata": {},
   "source": [
    "### 4-4-2. GradientBoostingClassifier"
   ]
  },
  {
   "cell_type": "code",
   "execution_count": null,
   "id": "d704e6f4",
   "metadata": {},
   "outputs": [
    {
     "name": "stdout",
     "output_type": "stream",
     "text": [
      "Fitting 10 folds for each of 16 candidates, totalling 160 fits\n"
     ]
    }
   ],
   "source": [
    "boost = GradientBoostingClassifier()\n",
    "\n",
    "boost_param_grid = {\"n_estimators\" : [100, 200],\n",
    "                   \"criterion\" : ['friedman_mse', 'mse'],\n",
    "                   \"n_iter_no_change\" : [3, 5],\n",
    "                   \"learning_rate\" : [0.01, 0.1],\n",
    "                   \"random_state\" : [42]}\n",
    "\n",
    "gs_boost = GridSearchCV(boost, boost_param_grid,\n",
    "                       cv=k_fold, scoring=\"neg_log_loss\", verbose=1, n_jobs=-1)\n",
    "\n",
    "gs_boost.fit(X_train, y_train)\n",
    "\n",
    "boost_best = gs_boost.best_estimator_\n",
    "\n",
    "print(\"best score : \", gs_boost.best_score_)\n",
    "print(\"best params : \\n\", gs_boost.best_params_)\n",
    "\n",
    "val_pred_boost = boost_best.predict(X_val)\n",
    "predict_boost = boost_best.predict(X_test)"
   ]
  },
  {
   "cell_type": "markdown",
   "id": "16d1e9f3",
   "metadata": {},
   "source": [
    "# 5. Feature select by RandomForest"
   ]
  },
  {
   "cell_type": "code",
   "execution_count": null,
   "id": "f6077533",
   "metadata": {},
   "outputs": [],
   "source": [
    "X_train_ = X_train.drop(['work_phone', 'email', 'DAYS_EMPLOYED'], axis=1)\n",
    "X_val_ = X_val.drop(['work_phone', 'email', 'DAYS_EMPLOYED'], axis=1)\n",
    "X_test_ = X_test.drop(['work_phone', 'email', 'DAYS_EMPLOYED'], axis=1)"
   ]
  },
  {
   "cell_type": "markdown",
   "id": "823983c1",
   "metadata": {},
   "source": [
    "## 5-1. RandomForest"
   ]
  },
  {
   "cell_type": "code",
   "execution_count": 27,
   "id": "bb381dec",
   "metadata": {},
   "outputs": [
    {
     "name": "stdout",
     "output_type": "stream",
     "text": [
      "Fitting 10 folds for each of 12 candidates, totalling 120 fits\n",
      "best_score :  -0.8215353483158501\n",
      "best_params : \n",
      " {'criterion': 'entropy', 'max_depth': 15, 'n_estimators': 500, 'random_state': 42}\n"
     ]
    }
   ],
   "source": [
    "ft_forest = RandomForestClassifier()\n",
    "\n",
    "ft_forest_param_grid = {\"max_depth\" : [13, 15, 17],\n",
    "                    \"n_estimators\" : [500, 600],\n",
    "                    \"criterion\" : [\"gini\", \"entropy\"],\n",
    "                    \"random_state\" : [42]}\n",
    "\n",
    "gs_ft_forest = GridSearchCV(ft_forest, ft_forest_param_grid, \n",
    "                            cv=k_fold, scoring=\"neg_log_loss\", verbose=1, n_jobs=-1)\n",
    "\n",
    "gs_ft_forest.fit(X_train_, y_train)\n",
    "\n",
    "ft_forest_best = gs_ft_forest.best_estimator_\n",
    "\n",
    "print('best_score : ', gs_ft_forest.best_score_)\n",
    "print('best_params : \\n', gs_ft_forest.best_params_)\n",
    "\n",
    "ft_forest_best.fit(X_train_, y_train)\n",
    "\n",
    "importances = ft_forest_best.feature_importances_\n",
    "\n",
    "ft_val_pred_forest = ft_forest_best.predict_proba(X_val_)\n",
    "ft_predict_forest = ft_forest_best.predict_proba(X_test_)"
   ]
  },
  {
   "cell_type": "markdown",
   "id": "9cb7b002",
   "metadata": {},
   "source": [
    "## 5-2. Logistic-Regression"
   ]
  },
  {
   "cell_type": "code",
   "execution_count": 28,
   "id": "08a0be9f",
   "metadata": {},
   "outputs": [
    {
     "name": "stdout",
     "output_type": "stream",
     "text": [
      "Fitting 10 folds for each of 6 candidates, totalling 60 fits\n",
      "best_score :  -0.869322776069478\n",
      "best_params : \n",
      " {'C': 0.01, 'max_iter': 500, 'random_state': 42, 'solver': 'saga'}\n"
     ]
    }
   ],
   "source": [
    "ft_lr = LogisticRegression()\n",
    "\n",
    "ft_lr_param_grid = {\"C\" : [0.01, 0.1, 1.0],\n",
    "                \"solver\" : ['sag', 'saga'],\n",
    "                 \"max_iter\" : [500],\n",
    "                \"random_state\" : [42]}\n",
    "\n",
    "gs_ft_lr = GridSearchCV(ft_lr, ft_lr_param_grid,\n",
    "                        cv=k_fold, scoring=\"neg_log_loss\", verbose=1, n_jobs=-1)\n",
    "\n",
    "gs_ft_lr.fit(X_train_, y_train)\n",
    "\n",
    "ft_lr_best = gs_ft_lr.best_estimator_\n",
    "\n",
    "print('best_score : ', gs_ft_lr.best_score_)\n",
    "print('best_params : \\n', gs_ft_lr.best_params_)\n",
    "\n",
    "ft_lr_best.fit(X_train_, y_train)\n",
    "\n",
    "ft_val_pred_lr = ft_lr_best.predict_proba(X_val_)\n",
    "ft_predict_lr = ft_lr_best.predict_proba(X_test_)"
   ]
  },
  {
   "cell_type": "markdown",
   "id": "1cb39a50",
   "metadata": {},
   "source": [
    "# 5-3. SVM"
   ]
  },
  {
   "cell_type": "code",
   "execution_count": null,
   "id": "74fa788c",
   "metadata": {},
   "outputs": [
    {
     "name": "stdout",
     "output_type": "stream",
     "text": [
      "Fitting 10 folds for each of 9 candidates, totalling 90 fits\n"
     ]
    }
   ],
   "source": [
    "ft_svm = SVC()\n",
    "\n",
    "ft_svm_param_grid = {\"C\" : [10.0, 100.0],\n",
    "                  \"kernel\" : ['linear', 'rbf'],\n",
    "                  \"decision_function_shape\" : ['ovo'],\n",
    "                  \"random_state\" : [42],\n",
    "                    \"probability\" : [True]}\n",
    "\n",
    "gs_ft_svm = GridSearchCV(ft_svm, ft_svm_param_grid,\n",
    "                         cv=k_fold, scoring=\"accuracy\", verbose=1, n_jobs=-1)\n",
    "\n",
    "gs_ft_svm.fit(X_train_, y_train)\n",
    "\n",
    "ft_svm_best = gs_ft_svm.best_estimator_\n",
    "\n",
    "print('best_score : ', gs_ft_svm.best_score_)\n",
    "print('best_params : ', gs_ft_svm.best_params_)\n",
    "\n",
    "ft_svm_best.fit(X_train_, y_train)\n",
    "\n",
    "val_pred_svm = svm_best.predict_proba(X_val_)\n",
    "predict_svm = svm_best.predict_proba(X_test_)"
   ]
  },
  {
   "cell_type": "markdown",
   "id": "4cec066a",
   "metadata": {},
   "source": [
    "## 5-4. Ensemble(Voting)"
   ]
  },
  {
   "cell_type": "code",
   "execution_count": null,
   "id": "8c031961",
   "metadata": {},
   "outputs": [],
   "source": [
    "kfold_ = k_fold.split(X_train_, y_train)\n",
    "\n",
    "ft_voting = VotingClassifier(estimators=[('forest', ft_forest_best),\n",
    "                                      ('lr', ft_lr_best),\n",
    "                                      ('svm', ft_svm_best)],\n",
    "                         voting='soft',\n",
    "                         n_jobs=-1)\n",
    "\n",
    "scores = cross_val_score(estimator=ft_voting,\n",
    "                         X=X_train_,\n",
    "                         y=y_train,\n",
    "                         cv=10,\n",
    "                         n_jobs=-1)\n",
    "\n",
    "print('CV 정확도: {} +/- {}'.format(np.mean(scores), np.std(scores)))\n",
    "\n",
    "ft_voting = ft_voting.fit(X_train_, y_train)\n",
    "\n",
    "ft_val_pred_voting = ft_voting.predict_proba(X_val_)\n",
    "ft_predict_voting = ft_voting.predict_proba(X_test_)"
   ]
  },
  {
   "cell_type": "markdown",
   "id": "a204a3ec",
   "metadata": {},
   "source": [
    "# 6. Evaluating"
   ]
  },
  {
   "cell_type": "markdown",
   "id": "e1bf974e",
   "metadata": {},
   "source": [
    "## 6-1. log-loss"
   ]
  },
  {
   "cell_type": "code",
   "execution_count": 16,
   "id": "93e56c1a",
   "metadata": {},
   "outputs": [],
   "source": [
    "from sklearn.metrics import log_loss\n",
    "from tensorflow.keras.utils import to_categorical"
   ]
  },
  {
   "cell_type": "markdown",
   "id": "671cbacf",
   "metadata": {},
   "source": [
    "### 6-1-1. RandomForest"
   ]
  },
  {
   "cell_type": "code",
   "execution_count": 17,
   "id": "b043e518",
   "metadata": {},
   "outputs": [
    {
     "name": "stdout",
     "output_type": "stream",
     "text": [
      "0.818554454757765\n"
     ]
    }
   ],
   "source": [
    "logloss = log_loss(to_categorical(y_val), val_pred_forest)\n",
    "print(logloss)"
   ]
  },
  {
   "cell_type": "code",
   "execution_count": null,
   "id": "64c69c95",
   "metadata": {},
   "outputs": [],
   "source": [
    "logloss = log_loss(to_categorical(y_val), ft_val_pred_forest)\n",
    "print(logloss)"
   ]
  },
  {
   "cell_type": "markdown",
   "id": "0eaf2900",
   "metadata": {},
   "source": [
    "### 6-1-2. Logistic-Regression"
   ]
  },
  {
   "cell_type": "code",
   "execution_count": 18,
   "id": "c0e5d905",
   "metadata": {},
   "outputs": [
    {
     "name": "stdout",
     "output_type": "stream",
     "text": [
      "0.8687497380016785\n"
     ]
    }
   ],
   "source": [
    "logloss = log_loss(to_categorical(y_val), val_pred_lr)\n",
    "print(logloss)"
   ]
  },
  {
   "cell_type": "code",
   "execution_count": null,
   "id": "a174c43e",
   "metadata": {},
   "outputs": [],
   "source": [
    "logloss = log_loss(to_categorical(y_val), ft_val_pred_lr)\n",
    "print(logloss)"
   ]
  },
  {
   "cell_type": "markdown",
   "id": "09b3ed66",
   "metadata": {},
   "source": [
    "### 6-1-3. SVM"
   ]
  },
  {
   "cell_type": "code",
   "execution_count": 21,
   "id": "52cdd709",
   "metadata": {},
   "outputs": [
    {
     "name": "stdout",
     "output_type": "stream",
     "text": [
      "0.8599428837478625\n"
     ]
    }
   ],
   "source": [
    "logloss = log_loss(to_categorical(y_val), val_pred_svm)\n",
    "print(logloss)"
   ]
  },
  {
   "cell_type": "code",
   "execution_count": null,
   "id": "35646767",
   "metadata": {},
   "outputs": [],
   "source": [
    "logloss = log_loss(to_categorical(y_val), ft_val_pred_svm)\n",
    "print(logloss)"
   ]
  },
  {
   "cell_type": "markdown",
   "id": "e3534dce",
   "metadata": {},
   "source": [
    "### 6-1-4. Ensemble(Voting)"
   ]
  },
  {
   "cell_type": "code",
   "execution_count": 22,
   "id": "83855725",
   "metadata": {},
   "outputs": [
    {
     "name": "stdout",
     "output_type": "stream",
     "text": [
      "0.8332585752981089\n"
     ]
    }
   ],
   "source": [
    "logloss = log_loss(to_categorical(y_val), val_pred_voting)\n",
    "print(logloss)"
   ]
  },
  {
   "cell_type": "code",
   "execution_count": null,
   "id": "697411c1",
   "metadata": {},
   "outputs": [],
   "source": [
    "logloss = log_loss(to_categorical(y_val), ft_val_pred_voting)\n",
    "print(logloss)"
   ]
  },
  {
   "cell_type": "markdown",
   "id": "f370ca71",
   "metadata": {},
   "source": [
    "# 7. Submission file"
   ]
  },
  {
   "cell_type": "code",
   "execution_count": 24,
   "id": "605211e9",
   "metadata": {},
   "outputs": [],
   "source": [
    "predict_forest = pd.DataFrame(predict_forest)\n",
    "predict_voting = pd.DataFrame(predict_voting)\n",
    "\n",
    "predict_forest.columns = ['0', '1', '2']\n",
    "predict_voting.columns = ['0', '1', '2']"
   ]
  },
  {
   "cell_type": "code",
   "execution_count": 26,
   "id": "796ead2b",
   "metadata": {},
   "outputs": [
    {
     "data": {
      "text/html": [
       "<div>\n",
       "<style scoped>\n",
       "    .dataframe tbody tr th:only-of-type {\n",
       "        vertical-align: middle;\n",
       "    }\n",
       "\n",
       "    .dataframe tbody tr th {\n",
       "        vertical-align: top;\n",
       "    }\n",
       "\n",
       "    .dataframe thead th {\n",
       "        text-align: right;\n",
       "    }\n",
       "</style>\n",
       "<table border=\"1\" class=\"dataframe\">\n",
       "  <thead>\n",
       "    <tr style=\"text-align: right;\">\n",
       "      <th></th>\n",
       "      <th>index</th>\n",
       "      <th>0</th>\n",
       "      <th>1</th>\n",
       "      <th>2</th>\n",
       "    </tr>\n",
       "  </thead>\n",
       "  <tbody>\n",
       "    <tr>\n",
       "      <th>0</th>\n",
       "      <td>26457</td>\n",
       "      <td>0.081017</td>\n",
       "      <td>0.131953</td>\n",
       "      <td>0.787030</td>\n",
       "    </tr>\n",
       "    <tr>\n",
       "      <th>1</th>\n",
       "      <td>26458</td>\n",
       "      <td>0.133665</td>\n",
       "      <td>0.177683</td>\n",
       "      <td>0.688652</td>\n",
       "    </tr>\n",
       "    <tr>\n",
       "      <th>2</th>\n",
       "      <td>26459</td>\n",
       "      <td>0.163711</td>\n",
       "      <td>0.196170</td>\n",
       "      <td>0.640120</td>\n",
       "    </tr>\n",
       "    <tr>\n",
       "      <th>3</th>\n",
       "      <td>26460</td>\n",
       "      <td>0.123927</td>\n",
       "      <td>0.127327</td>\n",
       "      <td>0.748746</td>\n",
       "    </tr>\n",
       "    <tr>\n",
       "      <th>4</th>\n",
       "      <td>26461</td>\n",
       "      <td>0.092018</td>\n",
       "      <td>0.425852</td>\n",
       "      <td>0.482130</td>\n",
       "    </tr>\n",
       "    <tr>\n",
       "      <th>...</th>\n",
       "      <td>...</td>\n",
       "      <td>...</td>\n",
       "      <td>...</td>\n",
       "      <td>...</td>\n",
       "    </tr>\n",
       "    <tr>\n",
       "      <th>9995</th>\n",
       "      <td>36452</td>\n",
       "      <td>0.125175</td>\n",
       "      <td>0.173043</td>\n",
       "      <td>0.701782</td>\n",
       "    </tr>\n",
       "    <tr>\n",
       "      <th>9996</th>\n",
       "      <td>36453</td>\n",
       "      <td>0.271431</td>\n",
       "      <td>0.166505</td>\n",
       "      <td>0.562064</td>\n",
       "    </tr>\n",
       "    <tr>\n",
       "      <th>9997</th>\n",
       "      <td>36454</td>\n",
       "      <td>0.057755</td>\n",
       "      <td>0.130214</td>\n",
       "      <td>0.812032</td>\n",
       "    </tr>\n",
       "    <tr>\n",
       "      <th>9998</th>\n",
       "      <td>36455</td>\n",
       "      <td>0.169135</td>\n",
       "      <td>0.281163</td>\n",
       "      <td>0.549702</td>\n",
       "    </tr>\n",
       "    <tr>\n",
       "      <th>9999</th>\n",
       "      <td>36456</td>\n",
       "      <td>0.108019</td>\n",
       "      <td>0.570965</td>\n",
       "      <td>0.321015</td>\n",
       "    </tr>\n",
       "  </tbody>\n",
       "</table>\n",
       "<p>10000 rows × 4 columns</p>\n",
       "</div>"
      ],
      "text/plain": [
       "      index         0         1         2\n",
       "0     26457  0.081017  0.131953  0.787030\n",
       "1     26458  0.133665  0.177683  0.688652\n",
       "2     26459  0.163711  0.196170  0.640120\n",
       "3     26460  0.123927  0.127327  0.748746\n",
       "4     26461  0.092018  0.425852  0.482130\n",
       "...     ...       ...       ...       ...\n",
       "9995  36452  0.125175  0.173043  0.701782\n",
       "9996  36453  0.271431  0.166505  0.562064\n",
       "9997  36454  0.057755  0.130214  0.812032\n",
       "9998  36455  0.169135  0.281163  0.549702\n",
       "9999  36456  0.108019  0.570965  0.321015\n",
       "\n",
       "[10000 rows x 4 columns]"
      ]
     },
     "execution_count": 26,
     "metadata": {},
     "output_type": "execute_result"
    }
   ],
   "source": [
    "submission['0'] = predict_forest['0']\n",
    "submission['1'] = predict_forest['1']\n",
    "submission['2'] = predict_forest['2']\n",
    "submission"
   ]
  },
  {
   "cell_type": "code",
   "execution_count": 27,
   "id": "102cfb83",
   "metadata": {},
   "outputs": [],
   "source": [
    "submission.to_csv('submit_forest.csv', header=True, index=False)"
   ]
  },
  {
   "cell_type": "code",
   "execution_count": 28,
   "id": "ffa51676",
   "metadata": {},
   "outputs": [
    {
     "data": {
      "text/html": [
       "<div>\n",
       "<style scoped>\n",
       "    .dataframe tbody tr th:only-of-type {\n",
       "        vertical-align: middle;\n",
       "    }\n",
       "\n",
       "    .dataframe tbody tr th {\n",
       "        vertical-align: top;\n",
       "    }\n",
       "\n",
       "    .dataframe thead th {\n",
       "        text-align: right;\n",
       "    }\n",
       "</style>\n",
       "<table border=\"1\" class=\"dataframe\">\n",
       "  <thead>\n",
       "    <tr style=\"text-align: right;\">\n",
       "      <th></th>\n",
       "      <th>index</th>\n",
       "      <th>0</th>\n",
       "      <th>1</th>\n",
       "      <th>2</th>\n",
       "    </tr>\n",
       "  </thead>\n",
       "  <tbody>\n",
       "    <tr>\n",
       "      <th>0</th>\n",
       "      <td>26457</td>\n",
       "      <td>0.110488</td>\n",
       "      <td>0.148594</td>\n",
       "      <td>0.740918</td>\n",
       "    </tr>\n",
       "    <tr>\n",
       "      <th>1</th>\n",
       "      <td>26458</td>\n",
       "      <td>0.130385</td>\n",
       "      <td>0.184451</td>\n",
       "      <td>0.685164</td>\n",
       "    </tr>\n",
       "    <tr>\n",
       "      <th>2</th>\n",
       "      <td>26459</td>\n",
       "      <td>0.136674</td>\n",
       "      <td>0.209580</td>\n",
       "      <td>0.653746</td>\n",
       "    </tr>\n",
       "    <tr>\n",
       "      <th>3</th>\n",
       "      <td>26460</td>\n",
       "      <td>0.123778</td>\n",
       "      <td>0.157228</td>\n",
       "      <td>0.718993</td>\n",
       "    </tr>\n",
       "    <tr>\n",
       "      <th>4</th>\n",
       "      <td>26461</td>\n",
       "      <td>0.117529</td>\n",
       "      <td>0.314373</td>\n",
       "      <td>0.568099</td>\n",
       "    </tr>\n",
       "    <tr>\n",
       "      <th>...</th>\n",
       "      <td>...</td>\n",
       "      <td>...</td>\n",
       "      <td>...</td>\n",
       "      <td>...</td>\n",
       "    </tr>\n",
       "    <tr>\n",
       "      <th>9995</th>\n",
       "      <td>36452</td>\n",
       "      <td>0.122660</td>\n",
       "      <td>0.194939</td>\n",
       "      <td>0.682401</td>\n",
       "    </tr>\n",
       "    <tr>\n",
       "      <th>9996</th>\n",
       "      <td>36453</td>\n",
       "      <td>0.170281</td>\n",
       "      <td>0.201959</td>\n",
       "      <td>0.627760</td>\n",
       "    </tr>\n",
       "    <tr>\n",
       "      <th>9997</th>\n",
       "      <td>36454</td>\n",
       "      <td>0.082560</td>\n",
       "      <td>0.165988</td>\n",
       "      <td>0.751452</td>\n",
       "    </tr>\n",
       "    <tr>\n",
       "      <th>9998</th>\n",
       "      <td>36455</td>\n",
       "      <td>0.136916</td>\n",
       "      <td>0.226087</td>\n",
       "      <td>0.636997</td>\n",
       "    </tr>\n",
       "    <tr>\n",
       "      <th>9999</th>\n",
       "      <td>36456</td>\n",
       "      <td>0.121809</td>\n",
       "      <td>0.364014</td>\n",
       "      <td>0.514177</td>\n",
       "    </tr>\n",
       "  </tbody>\n",
       "</table>\n",
       "<p>10000 rows × 4 columns</p>\n",
       "</div>"
      ],
      "text/plain": [
       "      index         0         1         2\n",
       "0     26457  0.110488  0.148594  0.740918\n",
       "1     26458  0.130385  0.184451  0.685164\n",
       "2     26459  0.136674  0.209580  0.653746\n",
       "3     26460  0.123778  0.157228  0.718993\n",
       "4     26461  0.117529  0.314373  0.568099\n",
       "...     ...       ...       ...       ...\n",
       "9995  36452  0.122660  0.194939  0.682401\n",
       "9996  36453  0.170281  0.201959  0.627760\n",
       "9997  36454  0.082560  0.165988  0.751452\n",
       "9998  36455  0.136916  0.226087  0.636997\n",
       "9999  36456  0.121809  0.364014  0.514177\n",
       "\n",
       "[10000 rows x 4 columns]"
      ]
     },
     "execution_count": 28,
     "metadata": {},
     "output_type": "execute_result"
    }
   ],
   "source": [
    "submission['0'] = predict_voting['0']\n",
    "submission['1'] = predict_voting['1']\n",
    "submission['2'] = predict_voting['2']\n",
    "submission"
   ]
  },
  {
   "cell_type": "code",
   "execution_count": 29,
   "id": "c076904f",
   "metadata": {},
   "outputs": [],
   "source": [
    "submission.to_csv('submit_voting.csv', header=True, index=False)"
   ]
  },
  {
   "cell_type": "code",
   "execution_count": null,
   "id": "3e6a0577",
   "metadata": {},
   "outputs": [],
   "source": []
  }
 ],
 "metadata": {
  "kernelspec": {
   "display_name": "Python 3",
   "language": "python",
   "name": "python3"
  },
  "language_info": {
   "codemirror_mode": {
    "name": "ipython",
    "version": 3
   },
   "file_extension": ".py",
   "mimetype": "text/x-python",
   "name": "python",
   "nbconvert_exporter": "python",
   "pygments_lexer": "ipython3",
   "version": "3.8.5"
  }
 },
 "nbformat": 4,
 "nbformat_minor": 5
}
