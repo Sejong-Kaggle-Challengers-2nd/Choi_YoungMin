{
 "metadata": {
  "language_info": {
   "codemirror_mode": {
    "name": "ipython",
    "version": 3
   },
   "file_extension": ".py",
   "mimetype": "text/x-python",
   "name": "python",
   "nbconvert_exporter": "python",
   "pygments_lexer": "ipython3",
   "version": "3.8.8"
  },
  "orig_nbformat": 2,
  "kernelspec": {
   "name": "python388jvsc74a57bd033a3111211be4281f3a8c4a9b25563b8d253df502c7e31f5318895c1792a97cb",
   "display_name": "Python 3.8.8 64-bit ('py38': conda)"
  }
 },
 "nbformat": 4,
 "nbformat_minor": 2,
 "cells": [
  {
   "source": [
    "# Data Loader"
   ],
   "cell_type": "markdown",
   "metadata": {}
  },
  {
   "cell_type": "code",
   "execution_count": 37,
   "metadata": {},
   "outputs": [],
   "source": [
    "import numpy as np\n",
    "import pandas as pd\n",
    "import os\n",
    "\n",
    "np.random.seed(42)\n",
    "pd.set_option('display.max_columns', 500)"
   ]
  },
  {
   "cell_type": "code",
   "execution_count": 38,
   "metadata": {},
   "outputs": [],
   "source": [
    "data_dir = \"../result_file/preprocess_results/\"\n",
    "submision_dir = \"../../../kaggle_data/creditcard_overdue/open/\"\n",
    "\n",
    "train_bin5 = pd.read_csv(os.path.join(data_dir, \"train_income_bin5.csv\"))\n",
    "train_bin7 = pd.read_csv(os.path.join(data_dir, \"train_income_bin7.csv\"))\n",
    "train_bin10 = pd.read_csv(os.path.join(data_dir, \"train_income_bin10.csv\"))\n",
    "\n",
    "test_bin5 = pd.read_csv(os.path.join(data_dir, \"test_income_bin5.csv\"))\n",
    "test_bin7 = pd.read_csv(os.path.join(data_dir, \"test_income_bin7.csv\"))\n",
    "test_bin10 = pd.read_csv(os.path.join(data_dir, \"test_income_bin10.csv\"))\n",
    "\n",
    "submission = pd.read_csv(os.path.join(submision_dir, \"sample_submission.csv\"))"
   ]
  },
  {
   "source": [
    "# Data split"
   ],
   "cell_type": "markdown",
   "metadata": {}
  },
  {
   "cell_type": "code",
   "execution_count": 39,
   "metadata": {},
   "outputs": [],
   "source": [
    "X_train_bin5 = train_bin5.drop(['credit'], axis=1)\n",
    "y_train_bin5 = train_bin5['credit']\n",
    "\n",
    "X_train_bin7 = train_bin7.drop(['credit'], axis=1)\n",
    "y_train_bin7 = train_bin7['credit']\n",
    "\n",
    "X_train_bin10 = train_bin10.drop(['credit'], axis=1)\n",
    "y_train_bin10 = train_bin10['credit']"
   ]
  },
  {
   "cell_type": "code",
   "execution_count": 40,
   "metadata": {},
   "outputs": [],
   "source": [
    "from sklearn.model_selection import train_test_split\n",
    "\n",
    "X_train_bin5, X_val_bin5, y_train_bin5, y_val_bin5 = train_test_split(X_train_bin5, y_train_bin5, stratify=y_train_bin5, test_size=0.2, random_state=42)\n",
    "\n",
    "X_train_bin7, X_val_bin7, y_train_bin7, y_val_bin7 = train_test_split(X_train_bin7, y_train_bin7, stratify=y_train_bin7, test_size=0.2, random_state=42)\n",
    "\n",
    "X_train_bin10, X_val_bin10, y_train_bin10, y_val_bin10 = train_test_split(X_train_bin10, y_train_bin10, stratify=y_train_bin10, test_size=0.2, random_state=42)"
   ]
  },
  {
   "source": [
    "# Training : Random Forest"
   ],
   "cell_type": "markdown",
   "metadata": {}
  },
  {
   "cell_type": "code",
   "execution_count": 41,
   "metadata": {},
   "outputs": [],
   "source": [
    "from sklearn.model_selection import GridSearchCV, StratifiedKFold\n",
    "from sklearn.ensemble import RandomForestClassifier\n",
    "from sklearn.model_selection import cross_val_score\n",
    "\n",
    "k_fold = StratifiedKFold(n_splits=10, shuffle=True, random_state=42)"
   ]
  },
  {
   "source": [
    "## (version 1) income_total : bins=5"
   ],
   "cell_type": "markdown",
   "metadata": {}
  },
  {
   "cell_type": "code",
   "execution_count": 42,
   "metadata": {},
   "outputs": [
    {
     "output_type": "stream",
     "name": "stdout",
     "text": [
      "Fitting 10 folds for each of 8 candidates, totalling 80 fits\n",
      "best_score :  -0.7290458803174797\n",
      "best_params : \n",
      " {'criterion': 'gini', 'max_depth': 21, 'n_estimators': 800, 'random_state': 42}\n"
     ]
    }
   ],
   "source": [
    "feat_labels = X_train_bin5.columns\n",
    "\n",
    "forest = RandomForestClassifier()\n",
    "\n",
    "forest_param_grid = {\"max_depth\" : [21, 23],\n",
    "                    \"n_estimators\" : [700, 800],\n",
    "                    \"criterion\" : [\"gini\", \"entropy\"],\n",
    "                    \"random_state\" : [42]}\n",
    "\n",
    "gs = GridSearchCV(forest, forest_param_grid, \n",
    "                       cv=k_fold, scoring=\"neg_log_loss\", verbose=1, n_jobs=-1)\n",
    "\n",
    "gs.fit(X_train_bin5, y_train_bin5)\n",
    "\n",
    "best_model = gs.best_estimator_\n",
    "\n",
    "print('best_score : ', gs.best_score_)\n",
    "print('best_params : \\n', gs.best_params_)\n",
    "\n",
    "best_model.fit(X_train_bin5, y_train_bin5)\n",
    "\n",
    "importances = best_model.feature_importances_\n",
    "\n",
    "val_pred_bin5 = best_model.predict_proba(X_val_bin5)\n",
    "predict_bin5 = best_model.predict_proba(test_bin5)"
   ]
  },
  {
   "source": [
    "## (version 2) income_total : bins=7"
   ],
   "cell_type": "markdown",
   "metadata": {}
  },
  {
   "cell_type": "code",
   "execution_count": 43,
   "metadata": {},
   "outputs": [
    {
     "output_type": "stream",
     "name": "stdout",
     "text": [
      "Fitting 10 folds for each of 8 candidates, totalling 80 fits\n",
      "best_score :  -0.7288365618426148\n",
      "best_params : \n",
      " {'criterion': 'gini', 'max_depth': 21, 'n_estimators': 900, 'random_state': 42}\n"
     ]
    }
   ],
   "source": [
    "feat_labels = X_train_bin7.columns\n",
    "\n",
    "forest = RandomForestClassifier()\n",
    "\n",
    "forest_param_grid = {\"max_depth\" : [21, 23],\n",
    "                    \"n_estimators\" : [800, 900],\n",
    "                    \"criterion\" : [\"gini\", \"entropy\"],\n",
    "                    \"random_state\" : [42]}\n",
    "\n",
    "gs = GridSearchCV(forest, forest_param_grid, \n",
    "                       cv=k_fold, scoring=\"neg_log_loss\", verbose=1, n_jobs=-1)\n",
    "\n",
    "gs.fit(X_train_bin7, y_train_bin7)\n",
    "\n",
    "best_model = gs.best_estimator_\n",
    "\n",
    "print('best_score : ', gs.best_score_)\n",
    "print('best_params : \\n', gs.best_params_)\n",
    "\n",
    "best_model.fit(X_train_bin7, y_train_bin7)\n",
    "\n",
    "importances = best_model.feature_importances_\n",
    "\n",
    "val_pred_bin7 = best_model.predict_proba(X_val_bin7)\n",
    "predict_bin7 = best_model.predict_proba(test_bin7)"
   ]
  },
  {
   "source": [
    "## (version 3) income_total : bins=10"
   ],
   "cell_type": "markdown",
   "metadata": {}
  },
  {
   "cell_type": "code",
   "execution_count": 44,
   "metadata": {},
   "outputs": [
    {
     "output_type": "stream",
     "name": "stdout",
     "text": [
      "Fitting 10 folds for each of 8 candidates, totalling 80 fits\n",
      "best_score :  -0.7274561985418982\n",
      "best_params : \n",
      " {'criterion': 'gini', 'max_depth': 21, 'n_estimators': 900, 'random_state': 42}\n"
     ]
    }
   ],
   "source": [
    "feat_labels = X_train_bin10.columns\n",
    "\n",
    "forest = RandomForestClassifier()\n",
    "\n",
    "forest_param_grid = {\"max_depth\" : [21, 23],\n",
    "                    \"n_estimators\" : [800, 900],\n",
    "                    \"criterion\" : [\"gini\", \"entropy\"],\n",
    "                    \"random_state\" : [42]}\n",
    "\n",
    "gs = GridSearchCV(forest, forest_param_grid, \n",
    "                       cv=k_fold, scoring=\"neg_log_loss\", verbose=1, n_jobs=-1)\n",
    "\n",
    "gs.fit(X_train_bin10, y_train_bin10)\n",
    "\n",
    "best_model = gs.best_estimator_\n",
    "\n",
    "print('best_score : ', gs.best_score_)\n",
    "print('best_params : \\n', gs.best_params_)\n",
    "\n",
    "best_model.fit(X_train_bin10, y_train_bin10)\n",
    "\n",
    "importances = best_model.feature_importances_\n",
    "\n",
    "val_pred_bin10 = best_model.predict_proba(X_val_bin10)\n",
    "predict_bin10 = best_model.predict_proba(test_bin10)"
   ]
  },
  {
   "source": [
    "# Evaluation : logloss"
   ],
   "cell_type": "markdown",
   "metadata": {}
  },
  {
   "cell_type": "code",
   "execution_count": 45,
   "metadata": {},
   "outputs": [
    {
     "output_type": "stream",
     "name": "stdout",
     "text": [
      "0.7289340999568911\n"
     ]
    }
   ],
   "source": [
    "from sklearn.metrics import log_loss\n",
    "from tensorflow.keras.utils import to_categorical\n",
    "\n",
    "logloss = log_loss(to_categorical(y_val_bin5), val_pred_bin5)\n",
    "print(logloss)"
   ]
  },
  {
   "cell_type": "code",
   "execution_count": 46,
   "metadata": {},
   "outputs": [
    {
     "output_type": "stream",
     "name": "stdout",
     "text": [
      "0.7265824045165541\n"
     ]
    }
   ],
   "source": [
    "logloss = log_loss(to_categorical(y_val_bin7), val_pred_bin7)\n",
    "print(logloss)"
   ]
  },
  {
   "cell_type": "code",
   "execution_count": 47,
   "metadata": {},
   "outputs": [
    {
     "output_type": "stream",
     "name": "stdout",
     "text": [
      "0.7248155437153727\n"
     ]
    }
   ],
   "source": [
    "logloss = log_loss(to_categorical(y_val_bin5), val_pred_bin10)\n",
    "print(logloss)"
   ]
  },
  {
   "source": [
    "# Submission"
   ],
   "cell_type": "markdown",
   "metadata": {}
  },
  {
   "cell_type": "code",
   "execution_count": 48,
   "metadata": {},
   "outputs": [],
   "source": [
    "submit_file_dir = \"../result_file/performance_result/\""
   ]
  },
  {
   "cell_type": "code",
   "execution_count": 49,
   "metadata": {},
   "outputs": [],
   "source": [
    "predict_bin5 = pd.DataFrame(predict_bin5)\n",
    "predict_bin5.columns = ['0', '1', '2']\n",
    "\n",
    "submission['0'] = predict_bin5['0']\n",
    "submission['1'] = predict_bin5['1']\n",
    "submission['2'] = predict_bin5['2']\n",
    "\n",
    "submission.to_csv(os.path.join(submit_file_dir, \"result_bin5.csv\"), index=False)"
   ]
  },
  {
   "cell_type": "code",
   "execution_count": 50,
   "metadata": {},
   "outputs": [],
   "source": [
    "predict_bin7 = pd.DataFrame(predict_bin7)\n",
    "predict_bin7.columns = ['0', '1', '2']\n",
    "\n",
    "submission['0'] = predict_bin7['0']\n",
    "submission['1'] = predict_bin7['1']\n",
    "submission['2'] = predict_bin7['2']\n",
    "\n",
    "submission.to_csv(os.path.join(submit_file_dir, \"result_bin7.csv\"), index=False)"
   ]
  },
  {
   "cell_type": "code",
   "execution_count": 51,
   "metadata": {},
   "outputs": [],
   "source": [
    "predict_bin10 = pd.DataFrame(predict_bin5)\n",
    "predict_bin10.columns = ['0', '1', '2']\n",
    "\n",
    "submission['0'] = predict_bin10['0']\n",
    "submission['1'] = predict_bin10['1']\n",
    "submission['2'] = predict_bin10['2']\n",
    "\n",
    "submission.to_csv(os.path.join(submit_file_dir, \"result_bin10.csv\"), index=False)"
   ]
  }
 ]
}