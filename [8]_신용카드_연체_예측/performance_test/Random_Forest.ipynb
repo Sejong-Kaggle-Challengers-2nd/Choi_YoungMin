{
 "metadata": {
  "language_info": {
   "codemirror_mode": {
    "name": "ipython",
    "version": 3
   },
   "file_extension": ".py",
   "mimetype": "text/x-python",
   "name": "python",
   "nbconvert_exporter": "python",
   "pygments_lexer": "ipython3",
   "version": "3.8.8"
  },
  "orig_nbformat": 2,
  "kernelspec": {
   "name": "python388jvsc74a57bd033a3111211be4281f3a8c4a9b25563b8d253df502c7e31f5318895c1792a97cb",
   "display_name": "Python 3.8.8 64-bit ('py38': conda)"
  }
 },
 "nbformat": 4,
 "nbformat_minor": 2,
 "cells": [
  {
   "source": [
    "# Data Loader"
   ],
   "cell_type": "markdown",
   "metadata": {}
  },
  {
   "cell_type": "code",
   "execution_count": 12,
   "metadata": {},
   "outputs": [],
   "source": [
    "import numpy as np\n",
    "import pandas as pd\n",
    "import os\n",
    "\n",
    "np.random.seed(42)\n",
    "pd.set_option('display.max_columns', 500)"
   ]
  },
  {
   "cell_type": "code",
   "execution_count": 14,
   "metadata": {},
   "outputs": [],
   "source": [
    "data_dir = \"../result_file/preprocess_results/\"\n",
    "submision_dir = \"../../../kaggle_data/creditcard_overdue/open/\"\n",
    "\n",
    "train_bin5 = pd.read_csv(os.path.join(data_dir, \"train_income_bin5.csv\"))\n",
    "train_bin7 = pd.read_csv(os.path.join(data_dir, \"train_income_bin7.csv\"))\n",
    "train_bin10 = pd.read_csv(os.path.join(data_dir, \"train_income_bin10.csv\"))\n",
    "train_ver2 = pd.read_csv(os.path.join(data_dir, \"preprocess_ver2_train.csv\"))\n",
    "\n",
    "test_bin5 = pd.read_csv(os.path.join(data_dir, \"test_income_bin5.csv\"))\n",
    "test_bin7 = pd.read_csv(os.path.join(data_dir, \"test_income_bin7.csv\"))\n",
    "test_bin10 = pd.read_csv(os.path.join(data_dir, \"test_income_bin10.csv\"))\n",
    "test_ver2 = pd.read_csv(os.path.join(data_dir, \"preprocess_ver2_test.csv\"))\n",
    "\n",
    "submission = pd.read_csv(os.path.join(submision_dir, \"sample_submission.csv\"))"
   ]
  },
  {
   "cell_type": "code",
   "execution_count": 15,
   "metadata": {},
   "outputs": [
    {
     "output_type": "execute_result",
     "data": {
      "text/plain": [
       "      gender  car  reality  child_num  income_total  income_type  edu_type  \\\n",
       "0          1    1        0          0     -0.666317         0.25 -0.387949   \n",
       "1          0    0        1          0     -0.666317         0.50  1.421000   \n",
       "2          0    0        1          0     -0.666317         1.00 -0.387949   \n",
       "3          1    1        0          0     -0.666317         0.00 -0.387949   \n",
       "4          0    1        1          0      0.708673         0.50  1.421000   \n",
       "...      ...  ...      ...        ...           ...          ...       ...   \n",
       "9995       0    1        1          0      0.708673         1.00 -2.196898   \n",
       "9996       1    1        1          0      0.708673         1.00 -0.387949   \n",
       "9997       0    0        1          0      0.708673         1.00 -0.387949   \n",
       "9998       0    1        0          0     -0.666317         0.00 -0.387949   \n",
       "9999       0    0        1          0      0.708673         1.00  1.421000   \n",
       "\n",
       "      family_type  house_type  DAYS_EMPLOYED  work_phone  phone  email  \\\n",
       "0            0.00         0.2       0.000000           0      1      0   \n",
       "1            0.25         0.2       0.571429           0      1      0   \n",
       "2            0.25         0.2       0.047619           1      1      0   \n",
       "3            0.25         0.2       0.190476           1      0      0   \n",
       "4            0.25         0.2       0.619048           1      0      0   \n",
       "...           ...         ...            ...         ...    ...    ...   \n",
       "9995         0.25         0.2       0.380952           1      1      0   \n",
       "9996         0.00         0.2       0.142857           1      0      0   \n",
       "9997         0.25         0.2       0.904762           0      0      0   \n",
       "9998         0.25         0.2       0.095238           0      1      0   \n",
       "9999         0.25         0.2       0.047619           0      0      1   \n",
       "\n",
       "      family_size  begin_month       Age  occyp_type_Accountants  \\\n",
       "0       -0.216821     1.651145  1.773704                       0   \n",
       "1       -0.216821     0.721632  0.942610                       0   \n",
       "2       -0.216821     0.721632  0.111516                       0   \n",
       "3       -0.216821     0.721632  0.942610                       0   \n",
       "4       -0.216821    -1.137396  0.111516                       0   \n",
       "...           ...          ...       ...                     ...   \n",
       "9995    -0.216821    -0.207882  0.942610                       1   \n",
       "9996    -0.216821     0.721632 -1.550672                       0   \n",
       "9997    -0.216821     1.651145  0.942610                       0   \n",
       "9998    -0.216821     0.721632  0.111516                       0   \n",
       "9999    -0.216821    -1.137396 -1.550672                       0   \n",
       "\n",
       "      occyp_type_Cleaning staff  occyp_type_Cooking staff  \\\n",
       "0                             0                         0   \n",
       "1                             0                         0   \n",
       "2                             0                         0   \n",
       "3                             0                         0   \n",
       "4                             0                         0   \n",
       "...                         ...                       ...   \n",
       "9995                          0                         0   \n",
       "9996                          0                         0   \n",
       "9997                          0                         0   \n",
       "9998                          0                         0   \n",
       "9999                          0                         0   \n",
       "\n",
       "      occyp_type_Core staff  occyp_type_Drivers  occyp_type_HR staff  \\\n",
       "0                         0                   0                    0   \n",
       "1                         1                   0                    0   \n",
       "2                         0                   0                    0   \n",
       "3                         0                   1                    0   \n",
       "4                         0                   0                    0   \n",
       "...                     ...                 ...                  ...   \n",
       "9995                      0                   0                    0   \n",
       "9996                      0                   0                    0   \n",
       "9997                      0                   0                    0   \n",
       "9998                      0                   0                    0   \n",
       "9999                      0                   0                    0   \n",
       "\n",
       "      occyp_type_High skill tech staff  occyp_type_IT staff  \\\n",
       "0                                    0                    0   \n",
       "1                                    0                    0   \n",
       "2                                    0                    0   \n",
       "3                                    0                    0   \n",
       "4                                    0                    0   \n",
       "...                                ...                  ...   \n",
       "9995                                 0                    0   \n",
       "9996                                 0                    0   \n",
       "9997                                 0                    0   \n",
       "9998                                 0                    0   \n",
       "9999                                 0                    0   \n",
       "\n",
       "      occyp_type_Laborers  occyp_type_Low-skill Laborers  occyp_type_Managers  \\\n",
       "0                       0                              0                    0   \n",
       "1                       0                              0                    0   \n",
       "2                       1                              0                    0   \n",
       "3                       0                              0                    0   \n",
       "4                       0                              0                    1   \n",
       "...                   ...                            ...                  ...   \n",
       "9995                    0                              0                    0   \n",
       "9996                    1                              0                    0   \n",
       "9997                    0                              0                    0   \n",
       "9998                    0                              0                    0   \n",
       "9999                    1                              0                    0   \n",
       "\n",
       "      occyp_type_Medicine staff  occyp_type_Private service staff  \\\n",
       "0                             0                                 0   \n",
       "1                             0                                 0   \n",
       "2                             0                                 0   \n",
       "3                             0                                 0   \n",
       "4                             0                                 0   \n",
       "...                         ...                               ...   \n",
       "9995                          0                                 0   \n",
       "9996                          0                                 0   \n",
       "9997                          1                                 0   \n",
       "9998                          0                                 0   \n",
       "9999                          0                                 0   \n",
       "\n",
       "      occyp_type_Realty agents  occyp_type_Sales staff  \\\n",
       "0                            0                       0   \n",
       "1                            0                       0   \n",
       "2                            0                       0   \n",
       "3                            0                       0   \n",
       "4                            0                       0   \n",
       "...                        ...                     ...   \n",
       "9995                         0                       0   \n",
       "9996                         0                       0   \n",
       "9997                         0                       0   \n",
       "9998                         0                       0   \n",
       "9999                         0                       0   \n",
       "\n",
       "      occyp_type_Secretaries  occyp_type_Security staff  occyp_type_Unknown  \\\n",
       "0                          0                          0                   1   \n",
       "1                          0                          0                   0   \n",
       "2                          0                          0                   0   \n",
       "3                          0                          0                   0   \n",
       "4                          0                          0                   0   \n",
       "...                      ...                        ...                 ...   \n",
       "9995                       0                          0                   0   \n",
       "9996                       0                          0                   0   \n",
       "9997                       0                          0                   0   \n",
       "9998                       0                          0                   1   \n",
       "9999                       0                          0                   0   \n",
       "\n",
       "      occyp_type_Waiters/barmen staff  \n",
       "0                                   0  \n",
       "1                                   0  \n",
       "2                                   0  \n",
       "3                                   0  \n",
       "4                                   0  \n",
       "...                               ...  \n",
       "9995                                0  \n",
       "9996                                0  \n",
       "9997                                0  \n",
       "9998                                0  \n",
       "9999                                0  \n",
       "\n",
       "[10000 rows x 35 columns]"
      ],
      "text/html": "<div>\n<style scoped>\n    .dataframe tbody tr th:only-of-type {\n        vertical-align: middle;\n    }\n\n    .dataframe tbody tr th {\n        vertical-align: top;\n    }\n\n    .dataframe thead th {\n        text-align: right;\n    }\n</style>\n<table border=\"1\" class=\"dataframe\">\n  <thead>\n    <tr style=\"text-align: right;\">\n      <th></th>\n      <th>gender</th>\n      <th>car</th>\n      <th>reality</th>\n      <th>child_num</th>\n      <th>income_total</th>\n      <th>income_type</th>\n      <th>edu_type</th>\n      <th>family_type</th>\n      <th>house_type</th>\n      <th>DAYS_EMPLOYED</th>\n      <th>work_phone</th>\n      <th>phone</th>\n      <th>email</th>\n      <th>family_size</th>\n      <th>begin_month</th>\n      <th>Age</th>\n      <th>occyp_type_Accountants</th>\n      <th>occyp_type_Cleaning staff</th>\n      <th>occyp_type_Cooking staff</th>\n      <th>occyp_type_Core staff</th>\n      <th>occyp_type_Drivers</th>\n      <th>occyp_type_HR staff</th>\n      <th>occyp_type_High skill tech staff</th>\n      <th>occyp_type_IT staff</th>\n      <th>occyp_type_Laborers</th>\n      <th>occyp_type_Low-skill Laborers</th>\n      <th>occyp_type_Managers</th>\n      <th>occyp_type_Medicine staff</th>\n      <th>occyp_type_Private service staff</th>\n      <th>occyp_type_Realty agents</th>\n      <th>occyp_type_Sales staff</th>\n      <th>occyp_type_Secretaries</th>\n      <th>occyp_type_Security staff</th>\n      <th>occyp_type_Unknown</th>\n      <th>occyp_type_Waiters/barmen staff</th>\n    </tr>\n  </thead>\n  <tbody>\n    <tr>\n      <th>0</th>\n      <td>1</td>\n      <td>1</td>\n      <td>0</td>\n      <td>0</td>\n      <td>-0.666317</td>\n      <td>0.25</td>\n      <td>-0.387949</td>\n      <td>0.00</td>\n      <td>0.2</td>\n      <td>0.000000</td>\n      <td>0</td>\n      <td>1</td>\n      <td>0</td>\n      <td>-0.216821</td>\n      <td>1.651145</td>\n      <td>1.773704</td>\n      <td>0</td>\n      <td>0</td>\n      <td>0</td>\n      <td>0</td>\n      <td>0</td>\n      <td>0</td>\n      <td>0</td>\n      <td>0</td>\n      <td>0</td>\n      <td>0</td>\n      <td>0</td>\n      <td>0</td>\n      <td>0</td>\n      <td>0</td>\n      <td>0</td>\n      <td>0</td>\n      <td>0</td>\n      <td>1</td>\n      <td>0</td>\n    </tr>\n    <tr>\n      <th>1</th>\n      <td>0</td>\n      <td>0</td>\n      <td>1</td>\n      <td>0</td>\n      <td>-0.666317</td>\n      <td>0.50</td>\n      <td>1.421000</td>\n      <td>0.25</td>\n      <td>0.2</td>\n      <td>0.571429</td>\n      <td>0</td>\n      <td>1</td>\n      <td>0</td>\n      <td>-0.216821</td>\n      <td>0.721632</td>\n      <td>0.942610</td>\n      <td>0</td>\n      <td>0</td>\n      <td>0</td>\n      <td>1</td>\n      <td>0</td>\n      <td>0</td>\n      <td>0</td>\n      <td>0</td>\n      <td>0</td>\n      <td>0</td>\n      <td>0</td>\n      <td>0</td>\n      <td>0</td>\n      <td>0</td>\n      <td>0</td>\n      <td>0</td>\n      <td>0</td>\n      <td>0</td>\n      <td>0</td>\n    </tr>\n    <tr>\n      <th>2</th>\n      <td>0</td>\n      <td>0</td>\n      <td>1</td>\n      <td>0</td>\n      <td>-0.666317</td>\n      <td>1.00</td>\n      <td>-0.387949</td>\n      <td>0.25</td>\n      <td>0.2</td>\n      <td>0.047619</td>\n      <td>1</td>\n      <td>1</td>\n      <td>0</td>\n      <td>-0.216821</td>\n      <td>0.721632</td>\n      <td>0.111516</td>\n      <td>0</td>\n      <td>0</td>\n      <td>0</td>\n      <td>0</td>\n      <td>0</td>\n      <td>0</td>\n      <td>0</td>\n      <td>0</td>\n      <td>1</td>\n      <td>0</td>\n      <td>0</td>\n      <td>0</td>\n      <td>0</td>\n      <td>0</td>\n      <td>0</td>\n      <td>0</td>\n      <td>0</td>\n      <td>0</td>\n      <td>0</td>\n    </tr>\n    <tr>\n      <th>3</th>\n      <td>1</td>\n      <td>1</td>\n      <td>0</td>\n      <td>0</td>\n      <td>-0.666317</td>\n      <td>0.00</td>\n      <td>-0.387949</td>\n      <td>0.25</td>\n      <td>0.2</td>\n      <td>0.190476</td>\n      <td>1</td>\n      <td>0</td>\n      <td>0</td>\n      <td>-0.216821</td>\n      <td>0.721632</td>\n      <td>0.942610</td>\n      <td>0</td>\n      <td>0</td>\n      <td>0</td>\n      <td>0</td>\n      <td>1</td>\n      <td>0</td>\n      <td>0</td>\n      <td>0</td>\n      <td>0</td>\n      <td>0</td>\n      <td>0</td>\n      <td>0</td>\n      <td>0</td>\n      <td>0</td>\n      <td>0</td>\n      <td>0</td>\n      <td>0</td>\n      <td>0</td>\n      <td>0</td>\n    </tr>\n    <tr>\n      <th>4</th>\n      <td>0</td>\n      <td>1</td>\n      <td>1</td>\n      <td>0</td>\n      <td>0.708673</td>\n      <td>0.50</td>\n      <td>1.421000</td>\n      <td>0.25</td>\n      <td>0.2</td>\n      <td>0.619048</td>\n      <td>1</td>\n      <td>0</td>\n      <td>0</td>\n      <td>-0.216821</td>\n      <td>-1.137396</td>\n      <td>0.111516</td>\n      <td>0</td>\n      <td>0</td>\n      <td>0</td>\n      <td>0</td>\n      <td>0</td>\n      <td>0</td>\n      <td>0</td>\n      <td>0</td>\n      <td>0</td>\n      <td>0</td>\n      <td>1</td>\n      <td>0</td>\n      <td>0</td>\n      <td>0</td>\n      <td>0</td>\n      <td>0</td>\n      <td>0</td>\n      <td>0</td>\n      <td>0</td>\n    </tr>\n    <tr>\n      <th>...</th>\n      <td>...</td>\n      <td>...</td>\n      <td>...</td>\n      <td>...</td>\n      <td>...</td>\n      <td>...</td>\n      <td>...</td>\n      <td>...</td>\n      <td>...</td>\n      <td>...</td>\n      <td>...</td>\n      <td>...</td>\n      <td>...</td>\n      <td>...</td>\n      <td>...</td>\n      <td>...</td>\n      <td>...</td>\n      <td>...</td>\n      <td>...</td>\n      <td>...</td>\n      <td>...</td>\n      <td>...</td>\n      <td>...</td>\n      <td>...</td>\n      <td>...</td>\n      <td>...</td>\n      <td>...</td>\n      <td>...</td>\n      <td>...</td>\n      <td>...</td>\n      <td>...</td>\n      <td>...</td>\n      <td>...</td>\n      <td>...</td>\n      <td>...</td>\n    </tr>\n    <tr>\n      <th>9995</th>\n      <td>0</td>\n      <td>1</td>\n      <td>1</td>\n      <td>0</td>\n      <td>0.708673</td>\n      <td>1.00</td>\n      <td>-2.196898</td>\n      <td>0.25</td>\n      <td>0.2</td>\n      <td>0.380952</td>\n      <td>1</td>\n      <td>1</td>\n      <td>0</td>\n      <td>-0.216821</td>\n      <td>-0.207882</td>\n      <td>0.942610</td>\n      <td>1</td>\n      <td>0</td>\n      <td>0</td>\n      <td>0</td>\n      <td>0</td>\n      <td>0</td>\n      <td>0</td>\n      <td>0</td>\n      <td>0</td>\n      <td>0</td>\n      <td>0</td>\n      <td>0</td>\n      <td>0</td>\n      <td>0</td>\n      <td>0</td>\n      <td>0</td>\n      <td>0</td>\n      <td>0</td>\n      <td>0</td>\n    </tr>\n    <tr>\n      <th>9996</th>\n      <td>1</td>\n      <td>1</td>\n      <td>1</td>\n      <td>0</td>\n      <td>0.708673</td>\n      <td>1.00</td>\n      <td>-0.387949</td>\n      <td>0.00</td>\n      <td>0.2</td>\n      <td>0.142857</td>\n      <td>1</td>\n      <td>0</td>\n      <td>0</td>\n      <td>-0.216821</td>\n      <td>0.721632</td>\n      <td>-1.550672</td>\n      <td>0</td>\n      <td>0</td>\n      <td>0</td>\n      <td>0</td>\n      <td>0</td>\n      <td>0</td>\n      <td>0</td>\n      <td>0</td>\n      <td>1</td>\n      <td>0</td>\n      <td>0</td>\n      <td>0</td>\n      <td>0</td>\n      <td>0</td>\n      <td>0</td>\n      <td>0</td>\n      <td>0</td>\n      <td>0</td>\n      <td>0</td>\n    </tr>\n    <tr>\n      <th>9997</th>\n      <td>0</td>\n      <td>0</td>\n      <td>1</td>\n      <td>0</td>\n      <td>0.708673</td>\n      <td>1.00</td>\n      <td>-0.387949</td>\n      <td>0.25</td>\n      <td>0.2</td>\n      <td>0.904762</td>\n      <td>0</td>\n      <td>0</td>\n      <td>0</td>\n      <td>-0.216821</td>\n      <td>1.651145</td>\n      <td>0.942610</td>\n      <td>0</td>\n      <td>0</td>\n      <td>0</td>\n      <td>0</td>\n      <td>0</td>\n      <td>0</td>\n      <td>0</td>\n      <td>0</td>\n      <td>0</td>\n      <td>0</td>\n      <td>0</td>\n      <td>1</td>\n      <td>0</td>\n      <td>0</td>\n      <td>0</td>\n      <td>0</td>\n      <td>0</td>\n      <td>0</td>\n      <td>0</td>\n    </tr>\n    <tr>\n      <th>9998</th>\n      <td>0</td>\n      <td>1</td>\n      <td>0</td>\n      <td>0</td>\n      <td>-0.666317</td>\n      <td>0.00</td>\n      <td>-0.387949</td>\n      <td>0.25</td>\n      <td>0.2</td>\n      <td>0.095238</td>\n      <td>0</td>\n      <td>1</td>\n      <td>0</td>\n      <td>-0.216821</td>\n      <td>0.721632</td>\n      <td>0.111516</td>\n      <td>0</td>\n      <td>0</td>\n      <td>0</td>\n      <td>0</td>\n      <td>0</td>\n      <td>0</td>\n      <td>0</td>\n      <td>0</td>\n      <td>0</td>\n      <td>0</td>\n      <td>0</td>\n      <td>0</td>\n      <td>0</td>\n      <td>0</td>\n      <td>0</td>\n      <td>0</td>\n      <td>0</td>\n      <td>1</td>\n      <td>0</td>\n    </tr>\n    <tr>\n      <th>9999</th>\n      <td>0</td>\n      <td>0</td>\n      <td>1</td>\n      <td>0</td>\n      <td>0.708673</td>\n      <td>1.00</td>\n      <td>1.421000</td>\n      <td>0.25</td>\n      <td>0.2</td>\n      <td>0.047619</td>\n      <td>0</td>\n      <td>0</td>\n      <td>1</td>\n      <td>-0.216821</td>\n      <td>-1.137396</td>\n      <td>-1.550672</td>\n      <td>0</td>\n      <td>0</td>\n      <td>0</td>\n      <td>0</td>\n      <td>0</td>\n      <td>0</td>\n      <td>0</td>\n      <td>0</td>\n      <td>1</td>\n      <td>0</td>\n      <td>0</td>\n      <td>0</td>\n      <td>0</td>\n      <td>0</td>\n      <td>0</td>\n      <td>0</td>\n      <td>0</td>\n      <td>0</td>\n      <td>0</td>\n    </tr>\n  </tbody>\n</table>\n<p>10000 rows × 35 columns</p>\n</div>"
     },
     "metadata": {},
     "execution_count": 15
    }
   ],
   "source": [
    "test_ver2 = test_ver2.drop(['Unnamed: 0'], axis=1)\n",
    "\n",
    "test_ver2"
   ]
  },
  {
   "source": [
    "# Data split"
   ],
   "cell_type": "markdown",
   "metadata": {}
  },
  {
   "cell_type": "code",
   "execution_count": 16,
   "metadata": {},
   "outputs": [
    {
     "output_type": "execute_result",
     "data": {
      "text/plain": [
       "       gender  car  reality  child_num  income_total  income_type  edu_type  \\\n",
       "0           0    0        0          0      0.708673          0.0  1.421000   \n",
       "1           0    0        1          1      0.708673          0.0 -0.387949   \n",
       "2           1    1        1          0      2.083664          1.0  1.421000   \n",
       "3           0    0        1          0      0.708673          0.0 -0.387949   \n",
       "4           0    1        1          0     -0.666317          0.5  1.421000   \n",
       "...       ...  ...      ...        ...           ...          ...       ...   \n",
       "26452       0    0        0          2      0.708673          0.5 -0.387949   \n",
       "26453       0    0        1          1     -0.666317          1.0  1.421000   \n",
       "26454       0    1        0          0      0.708673          1.0 -0.387949   \n",
       "26455       1    0        1          0     -0.666317          1.0 -2.196898   \n",
       "26456       0    0        0          0     -0.666317          1.0 -0.387949   \n",
       "\n",
       "       family_type  house_type  DAYS_EMPLOYED  work_phone  phone  email  \\\n",
       "0             0.25         0.4       0.333333           0      0      0   \n",
       "1             0.00         0.2       0.142857           0      0      1   \n",
       "2             0.25         0.2       0.333333           0      1      0   \n",
       "3             0.25         0.2       0.190476           0      1      0   \n",
       "4             0.25         0.2       0.190476           0      0      0   \n",
       "...            ...         ...            ...         ...    ...    ...   \n",
       "26452         0.25         0.2       0.142857           0      0      0   \n",
       "26453         0.50         0.2       0.190476           0      0      0   \n",
       "26454         0.00         1.0       0.190476           0      0      0   \n",
       "26455         0.75         0.2       0.047619           0      0      0   \n",
       "26456         0.00         0.2       0.095238           0      0      0   \n",
       "\n",
       "       family_size  begin_month       Age  occyp_type_Accountants  \\\n",
       "0        -0.216821    -1.137396 -0.719578                       0   \n",
       "1         0.896616    -1.137396 -0.719578                       0   \n",
       "2        -0.216821    -0.207882  0.942610                       0   \n",
       "3        -0.216821     0.721632  0.111516                       0   \n",
       "4        -0.216821    -0.207882  0.111516                       0   \n",
       "...            ...          ...       ...                     ...   \n",
       "26452     2.010053    -1.137396 -0.719578                       0   \n",
       "26453    -0.216821     1.651145  0.111516                       0   \n",
       "26454    -0.216821    -0.207882 -1.550672                       0   \n",
       "26455    -1.330257     1.651145 -1.550672                       0   \n",
       "26456    -0.216821    -1.137396  0.942610                       0   \n",
       "\n",
       "       occyp_type_Cleaning staff  occyp_type_Cooking staff  \\\n",
       "0                              0                         0   \n",
       "1                              0                         0   \n",
       "2                              0                         0   \n",
       "3                              0                         0   \n",
       "4                              0                         0   \n",
       "...                          ...                       ...   \n",
       "26452                          0                         0   \n",
       "26453                          0                         0   \n",
       "26454                          0                         0   \n",
       "26455                          0                         0   \n",
       "26456                          0                         0   \n",
       "\n",
       "       occyp_type_Core staff  occyp_type_Drivers  occyp_type_HR staff  \\\n",
       "0                          0                   0                    0   \n",
       "1                          0                   0                    0   \n",
       "2                          0                   0                    0   \n",
       "3                          0                   0                    0   \n",
       "4                          0                   0                    0   \n",
       "...                      ...                 ...                  ...   \n",
       "26452                      1                   0                    0   \n",
       "26453                      0                   0                    0   \n",
       "26454                      1                   0                    0   \n",
       "26455                      0                   0                    0   \n",
       "26456                      0                   0                    0   \n",
       "\n",
       "       occyp_type_High skill tech staff  occyp_type_IT staff  \\\n",
       "0                                     0                    0   \n",
       "1                                     0                    0   \n",
       "2                                     0                    0   \n",
       "3                                     0                    0   \n",
       "4                                     0                    0   \n",
       "...                                 ...                  ...   \n",
       "26452                                 0                    0   \n",
       "26453                                 0                    0   \n",
       "26454                                 0                    0   \n",
       "26455                                 0                    0   \n",
       "26456                                 0                    0   \n",
       "\n",
       "       occyp_type_Laborers  occyp_type_Low-skill Laborers  \\\n",
       "0                        0                              0   \n",
       "1                        1                              0   \n",
       "2                        0                              0   \n",
       "3                        0                              0   \n",
       "4                        0                              0   \n",
       "...                    ...                            ...   \n",
       "26452                    0                              0   \n",
       "26453                    0                              0   \n",
       "26454                    0                              0   \n",
       "26455                    1                              0   \n",
       "26456                    0                              0   \n",
       "\n",
       "       occyp_type_Managers  occyp_type_Medicine staff  \\\n",
       "0                        0                          0   \n",
       "1                        0                          0   \n",
       "2                        1                          0   \n",
       "3                        0                          0   \n",
       "4                        1                          0   \n",
       "...                    ...                        ...   \n",
       "26452                    0                          0   \n",
       "26453                    0                          0   \n",
       "26454                    0                          0   \n",
       "26455                    0                          0   \n",
       "26456                    0                          0   \n",
       "\n",
       "       occyp_type_Private service staff  occyp_type_Realty agents  \\\n",
       "0                                     0                         0   \n",
       "1                                     0                         0   \n",
       "2                                     0                         0   \n",
       "3                                     0                         0   \n",
       "4                                     0                         0   \n",
       "...                                 ...                       ...   \n",
       "26452                                 0                         0   \n",
       "26453                                 0                         0   \n",
       "26454                                 0                         0   \n",
       "26455                                 0                         0   \n",
       "26456                                 0                         0   \n",
       "\n",
       "       occyp_type_Sales staff  occyp_type_Secretaries  \\\n",
       "0                           0                       0   \n",
       "1                           0                       0   \n",
       "2                           0                       0   \n",
       "3                           1                       0   \n",
       "4                           0                       0   \n",
       "...                       ...                     ...   \n",
       "26452                       0                       0   \n",
       "26453                       0                       0   \n",
       "26454                       0                       0   \n",
       "26455                       0                       0   \n",
       "26456                       0                       0   \n",
       "\n",
       "       occyp_type_Security staff  occyp_type_Unknown  \\\n",
       "0                              0                   1   \n",
       "1                              0                   0   \n",
       "2                              0                   0   \n",
       "3                              0                   0   \n",
       "4                              0                   0   \n",
       "...                          ...                 ...   \n",
       "26452                          0                   0   \n",
       "26453                          0                   1   \n",
       "26454                          0                   0   \n",
       "26455                          0                   0   \n",
       "26456                          1                   0   \n",
       "\n",
       "       occyp_type_Waiters/barmen staff  \n",
       "0                                    0  \n",
       "1                                    0  \n",
       "2                                    0  \n",
       "3                                    0  \n",
       "4                                    0  \n",
       "...                                ...  \n",
       "26452                                0  \n",
       "26453                                0  \n",
       "26454                                0  \n",
       "26455                                0  \n",
       "26456                                0  \n",
       "\n",
       "[26457 rows x 35 columns]"
      ],
      "text/html": "<div>\n<style scoped>\n    .dataframe tbody tr th:only-of-type {\n        vertical-align: middle;\n    }\n\n    .dataframe tbody tr th {\n        vertical-align: top;\n    }\n\n    .dataframe thead th {\n        text-align: right;\n    }\n</style>\n<table border=\"1\" class=\"dataframe\">\n  <thead>\n    <tr style=\"text-align: right;\">\n      <th></th>\n      <th>gender</th>\n      <th>car</th>\n      <th>reality</th>\n      <th>child_num</th>\n      <th>income_total</th>\n      <th>income_type</th>\n      <th>edu_type</th>\n      <th>family_type</th>\n      <th>house_type</th>\n      <th>DAYS_EMPLOYED</th>\n      <th>work_phone</th>\n      <th>phone</th>\n      <th>email</th>\n      <th>family_size</th>\n      <th>begin_month</th>\n      <th>Age</th>\n      <th>occyp_type_Accountants</th>\n      <th>occyp_type_Cleaning staff</th>\n      <th>occyp_type_Cooking staff</th>\n      <th>occyp_type_Core staff</th>\n      <th>occyp_type_Drivers</th>\n      <th>occyp_type_HR staff</th>\n      <th>occyp_type_High skill tech staff</th>\n      <th>occyp_type_IT staff</th>\n      <th>occyp_type_Laborers</th>\n      <th>occyp_type_Low-skill Laborers</th>\n      <th>occyp_type_Managers</th>\n      <th>occyp_type_Medicine staff</th>\n      <th>occyp_type_Private service staff</th>\n      <th>occyp_type_Realty agents</th>\n      <th>occyp_type_Sales staff</th>\n      <th>occyp_type_Secretaries</th>\n      <th>occyp_type_Security staff</th>\n      <th>occyp_type_Unknown</th>\n      <th>occyp_type_Waiters/barmen staff</th>\n    </tr>\n  </thead>\n  <tbody>\n    <tr>\n      <th>0</th>\n      <td>0</td>\n      <td>0</td>\n      <td>0</td>\n      <td>0</td>\n      <td>0.708673</td>\n      <td>0.0</td>\n      <td>1.421000</td>\n      <td>0.25</td>\n      <td>0.4</td>\n      <td>0.333333</td>\n      <td>0</td>\n      <td>0</td>\n      <td>0</td>\n      <td>-0.216821</td>\n      <td>-1.137396</td>\n      <td>-0.719578</td>\n      <td>0</td>\n      <td>0</td>\n      <td>0</td>\n      <td>0</td>\n      <td>0</td>\n      <td>0</td>\n      <td>0</td>\n      <td>0</td>\n      <td>0</td>\n      <td>0</td>\n      <td>0</td>\n      <td>0</td>\n      <td>0</td>\n      <td>0</td>\n      <td>0</td>\n      <td>0</td>\n      <td>0</td>\n      <td>1</td>\n      <td>0</td>\n    </tr>\n    <tr>\n      <th>1</th>\n      <td>0</td>\n      <td>0</td>\n      <td>1</td>\n      <td>1</td>\n      <td>0.708673</td>\n      <td>0.0</td>\n      <td>-0.387949</td>\n      <td>0.00</td>\n      <td>0.2</td>\n      <td>0.142857</td>\n      <td>0</td>\n      <td>0</td>\n      <td>1</td>\n      <td>0.896616</td>\n      <td>-1.137396</td>\n      <td>-0.719578</td>\n      <td>0</td>\n      <td>0</td>\n      <td>0</td>\n      <td>0</td>\n      <td>0</td>\n      <td>0</td>\n      <td>0</td>\n      <td>0</td>\n      <td>1</td>\n      <td>0</td>\n      <td>0</td>\n      <td>0</td>\n      <td>0</td>\n      <td>0</td>\n      <td>0</td>\n      <td>0</td>\n      <td>0</td>\n      <td>0</td>\n      <td>0</td>\n    </tr>\n    <tr>\n      <th>2</th>\n      <td>1</td>\n      <td>1</td>\n      <td>1</td>\n      <td>0</td>\n      <td>2.083664</td>\n      <td>1.0</td>\n      <td>1.421000</td>\n      <td>0.25</td>\n      <td>0.2</td>\n      <td>0.333333</td>\n      <td>0</td>\n      <td>1</td>\n      <td>0</td>\n      <td>-0.216821</td>\n      <td>-0.207882</td>\n      <td>0.942610</td>\n      <td>0</td>\n      <td>0</td>\n      <td>0</td>\n      <td>0</td>\n      <td>0</td>\n      <td>0</td>\n      <td>0</td>\n      <td>0</td>\n      <td>0</td>\n      <td>0</td>\n      <td>1</td>\n      <td>0</td>\n      <td>0</td>\n      <td>0</td>\n      <td>0</td>\n      <td>0</td>\n      <td>0</td>\n      <td>0</td>\n      <td>0</td>\n    </tr>\n    <tr>\n      <th>3</th>\n      <td>0</td>\n      <td>0</td>\n      <td>1</td>\n      <td>0</td>\n      <td>0.708673</td>\n      <td>0.0</td>\n      <td>-0.387949</td>\n      <td>0.25</td>\n      <td>0.2</td>\n      <td>0.190476</td>\n      <td>0</td>\n      <td>1</td>\n      <td>0</td>\n      <td>-0.216821</td>\n      <td>0.721632</td>\n      <td>0.111516</td>\n      <td>0</td>\n      <td>0</td>\n      <td>0</td>\n      <td>0</td>\n      <td>0</td>\n      <td>0</td>\n      <td>0</td>\n      <td>0</td>\n      <td>0</td>\n      <td>0</td>\n      <td>0</td>\n      <td>0</td>\n      <td>0</td>\n      <td>0</td>\n      <td>1</td>\n      <td>0</td>\n      <td>0</td>\n      <td>0</td>\n      <td>0</td>\n    </tr>\n    <tr>\n      <th>4</th>\n      <td>0</td>\n      <td>1</td>\n      <td>1</td>\n      <td>0</td>\n      <td>-0.666317</td>\n      <td>0.5</td>\n      <td>1.421000</td>\n      <td>0.25</td>\n      <td>0.2</td>\n      <td>0.190476</td>\n      <td>0</td>\n      <td>0</td>\n      <td>0</td>\n      <td>-0.216821</td>\n      <td>-0.207882</td>\n      <td>0.111516</td>\n      <td>0</td>\n      <td>0</td>\n      <td>0</td>\n      <td>0</td>\n      <td>0</td>\n      <td>0</td>\n      <td>0</td>\n      <td>0</td>\n      <td>0</td>\n      <td>0</td>\n      <td>1</td>\n      <td>0</td>\n      <td>0</td>\n      <td>0</td>\n      <td>0</td>\n      <td>0</td>\n      <td>0</td>\n      <td>0</td>\n      <td>0</td>\n    </tr>\n    <tr>\n      <th>...</th>\n      <td>...</td>\n      <td>...</td>\n      <td>...</td>\n      <td>...</td>\n      <td>...</td>\n      <td>...</td>\n      <td>...</td>\n      <td>...</td>\n      <td>...</td>\n      <td>...</td>\n      <td>...</td>\n      <td>...</td>\n      <td>...</td>\n      <td>...</td>\n      <td>...</td>\n      <td>...</td>\n      <td>...</td>\n      <td>...</td>\n      <td>...</td>\n      <td>...</td>\n      <td>...</td>\n      <td>...</td>\n      <td>...</td>\n      <td>...</td>\n      <td>...</td>\n      <td>...</td>\n      <td>...</td>\n      <td>...</td>\n      <td>...</td>\n      <td>...</td>\n      <td>...</td>\n      <td>...</td>\n      <td>...</td>\n      <td>...</td>\n      <td>...</td>\n    </tr>\n    <tr>\n      <th>26452</th>\n      <td>0</td>\n      <td>0</td>\n      <td>0</td>\n      <td>2</td>\n      <td>0.708673</td>\n      <td>0.5</td>\n      <td>-0.387949</td>\n      <td>0.25</td>\n      <td>0.2</td>\n      <td>0.142857</td>\n      <td>0</td>\n      <td>0</td>\n      <td>0</td>\n      <td>2.010053</td>\n      <td>-1.137396</td>\n      <td>-0.719578</td>\n      <td>0</td>\n      <td>0</td>\n      <td>0</td>\n      <td>1</td>\n      <td>0</td>\n      <td>0</td>\n      <td>0</td>\n      <td>0</td>\n      <td>0</td>\n      <td>0</td>\n      <td>0</td>\n      <td>0</td>\n      <td>0</td>\n      <td>0</td>\n      <td>0</td>\n      <td>0</td>\n      <td>0</td>\n      <td>0</td>\n      <td>0</td>\n    </tr>\n    <tr>\n      <th>26453</th>\n      <td>0</td>\n      <td>0</td>\n      <td>1</td>\n      <td>1</td>\n      <td>-0.666317</td>\n      <td>1.0</td>\n      <td>1.421000</td>\n      <td>0.50</td>\n      <td>0.2</td>\n      <td>0.190476</td>\n      <td>0</td>\n      <td>0</td>\n      <td>0</td>\n      <td>-0.216821</td>\n      <td>1.651145</td>\n      <td>0.111516</td>\n      <td>0</td>\n      <td>0</td>\n      <td>0</td>\n      <td>0</td>\n      <td>0</td>\n      <td>0</td>\n      <td>0</td>\n      <td>0</td>\n      <td>0</td>\n      <td>0</td>\n      <td>0</td>\n      <td>0</td>\n      <td>0</td>\n      <td>0</td>\n      <td>0</td>\n      <td>0</td>\n      <td>0</td>\n      <td>1</td>\n      <td>0</td>\n    </tr>\n    <tr>\n      <th>26454</th>\n      <td>0</td>\n      <td>1</td>\n      <td>0</td>\n      <td>0</td>\n      <td>0.708673</td>\n      <td>1.0</td>\n      <td>-0.387949</td>\n      <td>0.00</td>\n      <td>1.0</td>\n      <td>0.190476</td>\n      <td>0</td>\n      <td>0</td>\n      <td>0</td>\n      <td>-0.216821</td>\n      <td>-0.207882</td>\n      <td>-1.550672</td>\n      <td>0</td>\n      <td>0</td>\n      <td>0</td>\n      <td>1</td>\n      <td>0</td>\n      <td>0</td>\n      <td>0</td>\n      <td>0</td>\n      <td>0</td>\n      <td>0</td>\n      <td>0</td>\n      <td>0</td>\n      <td>0</td>\n      <td>0</td>\n      <td>0</td>\n      <td>0</td>\n      <td>0</td>\n      <td>0</td>\n      <td>0</td>\n    </tr>\n    <tr>\n      <th>26455</th>\n      <td>1</td>\n      <td>0</td>\n      <td>1</td>\n      <td>0</td>\n      <td>-0.666317</td>\n      <td>1.0</td>\n      <td>-2.196898</td>\n      <td>0.75</td>\n      <td>0.2</td>\n      <td>0.047619</td>\n      <td>0</td>\n      <td>0</td>\n      <td>0</td>\n      <td>-1.330257</td>\n      <td>1.651145</td>\n      <td>-1.550672</td>\n      <td>0</td>\n      <td>0</td>\n      <td>0</td>\n      <td>0</td>\n      <td>0</td>\n      <td>0</td>\n      <td>0</td>\n      <td>0</td>\n      <td>1</td>\n      <td>0</td>\n      <td>0</td>\n      <td>0</td>\n      <td>0</td>\n      <td>0</td>\n      <td>0</td>\n      <td>0</td>\n      <td>0</td>\n      <td>0</td>\n      <td>0</td>\n    </tr>\n    <tr>\n      <th>26456</th>\n      <td>0</td>\n      <td>0</td>\n      <td>0</td>\n      <td>0</td>\n      <td>-0.666317</td>\n      <td>1.0</td>\n      <td>-0.387949</td>\n      <td>0.00</td>\n      <td>0.2</td>\n      <td>0.095238</td>\n      <td>0</td>\n      <td>0</td>\n      <td>0</td>\n      <td>-0.216821</td>\n      <td>-1.137396</td>\n      <td>0.942610</td>\n      <td>0</td>\n      <td>0</td>\n      <td>0</td>\n      <td>0</td>\n      <td>0</td>\n      <td>0</td>\n      <td>0</td>\n      <td>0</td>\n      <td>0</td>\n      <td>0</td>\n      <td>0</td>\n      <td>0</td>\n      <td>0</td>\n      <td>0</td>\n      <td>0</td>\n      <td>0</td>\n      <td>1</td>\n      <td>0</td>\n      <td>0</td>\n    </tr>\n  </tbody>\n</table>\n<p>26457 rows × 35 columns</p>\n</div>"
     },
     "metadata": {},
     "execution_count": 16
    }
   ],
   "source": [
    "X_train_bin5 = train_bin5.drop(['credit'], axis=1)\n",
    "y_train_bin5 = train_bin5['credit']\n",
    "\n",
    "X_train_bin7 = train_bin7.drop(['credit'], axis=1)\n",
    "y_train_bin7 = train_bin7['credit']\n",
    "\n",
    "X_train_bin10 = train_bin10.drop(['credit'], axis=1)\n",
    "y_train_bin10 = train_bin10['credit']\n",
    "\n",
    "X_train_ver2 = train_ver2.drop(['index'], axis=1)\n",
    "y_train_ver2 = y_train_bin10\n",
    "\n",
    "X_train_ver2"
   ]
  },
  {
   "cell_type": "code",
   "execution_count": 17,
   "metadata": {},
   "outputs": [],
   "source": [
    "from sklearn.model_selection import train_test_split\n",
    "\n",
    "X_train_bin5, X_val_bin5, y_train_bin5, y_val_bin5 = train_test_split(X_train_bin5, y_train_bin5, stratify=y_train_bin5, test_size=0.2, random_state=42)\n",
    "\n",
    "X_train_bin7, X_val_bin7, y_train_bin7, y_val_bin7 = train_test_split(X_train_bin7, y_train_bin7, stratify=y_train_bin7, test_size=0.2, random_state=42)\n",
    "\n",
    "X_train_bin10, X_val_bin10, y_train_bin10, y_val_bin10 = train_test_split(X_train_bin10, y_train_bin10, stratify=y_train_bin10, test_size=0.2, random_state=42)\n",
    "\n",
    "X_train_ver2, X_val_ver2, y_train_ver2, y_val_ver2 = train_test_split(X_train_ver2, y_train_ver2, stratify=y_train_ver2, test_size=0.2, random_state=42)"
   ]
  },
  {
   "source": [
    "# Training : Random Forest"
   ],
   "cell_type": "markdown",
   "metadata": {}
  },
  {
   "cell_type": "code",
   "execution_count": 18,
   "metadata": {},
   "outputs": [],
   "source": [
    "from sklearn.model_selection import GridSearchCV, StratifiedKFold\n",
    "from sklearn.ensemble import RandomForestClassifier\n",
    "from sklearn.model_selection import cross_val_score\n",
    "\n",
    "k_fold = StratifiedKFold(n_splits=10, shuffle=True, random_state=42)"
   ]
  },
  {
   "source": [
    "## (version 1) income_total : bins=5"
   ],
   "cell_type": "markdown",
   "metadata": {}
  },
  {
   "cell_type": "code",
   "execution_count": 42,
   "metadata": {},
   "outputs": [
    {
     "output_type": "stream",
     "name": "stdout",
     "text": [
      "Fitting 10 folds for each of 8 candidates, totalling 80 fits\n",
      "best_score :  -0.7290458803174797\n",
      "best_params : \n",
      " {'criterion': 'gini', 'max_depth': 21, 'n_estimators': 800, 'random_state': 42}\n"
     ]
    }
   ],
   "source": [
    "feat_labels = X_train_bin5.columns\n",
    "\n",
    "forest = RandomForestClassifier()\n",
    "\n",
    "forest_param_grid = {\"max_depth\" : [21, 23],\n",
    "                    \"n_estimators\" : [700, 800],\n",
    "                    \"criterion\" : [\"gini\", \"entropy\"],\n",
    "                    \"random_state\" : [42]}\n",
    "\n",
    "gs = GridSearchCV(forest, forest_param_grid, \n",
    "                       cv=k_fold, scoring=\"neg_log_loss\", verbose=1, n_jobs=-1)\n",
    "\n",
    "gs.fit(X_train_bin5, y_train_bin5)\n",
    "\n",
    "best_model = gs.best_estimator_\n",
    "\n",
    "print('best_score : ', gs.best_score_)\n",
    "print('best_params : \\n', gs.best_params_)\n",
    "\n",
    "best_model.fit(X_train_bin5, y_train_bin5)\n",
    "\n",
    "importances = best_model.feature_importances_\n",
    "\n",
    "val_pred_bin5 = best_model.predict_proba(X_val_bin5)\n",
    "predict_bin5 = best_model.predict_proba(test_bin5)"
   ]
  },
  {
   "source": [
    "## (version 2) income_total : bins=7"
   ],
   "cell_type": "markdown",
   "metadata": {}
  },
  {
   "cell_type": "code",
   "execution_count": 43,
   "metadata": {},
   "outputs": [
    {
     "output_type": "stream",
     "name": "stdout",
     "text": [
      "Fitting 10 folds for each of 8 candidates, totalling 80 fits\n",
      "best_score :  -0.7288365618426148\n",
      "best_params : \n",
      " {'criterion': 'gini', 'max_depth': 21, 'n_estimators': 900, 'random_state': 42}\n"
     ]
    }
   ],
   "source": [
    "feat_labels = X_train_bin7.columns\n",
    "\n",
    "forest = RandomForestClassifier()\n",
    "\n",
    "forest_param_grid = {\"max_depth\" : [21, 23],\n",
    "                    \"n_estimators\" : [800, 900],\n",
    "                    \"criterion\" : [\"gini\", \"entropy\"],\n",
    "                    \"random_state\" : [42]}\n",
    "\n",
    "gs = GridSearchCV(forest, forest_param_grid, \n",
    "                       cv=k_fold, scoring=\"neg_log_loss\", verbose=1, n_jobs=-1)\n",
    "\n",
    "gs.fit(X_train_bin7, y_train_bin7)\n",
    "\n",
    "best_model = gs.best_estimator_\n",
    "\n",
    "print('best_score : ', gs.best_score_)\n",
    "print('best_params : \\n', gs.best_params_)\n",
    "\n",
    "best_model.fit(X_train_bin7, y_train_bin7)\n",
    "\n",
    "importances = best_model.feature_importances_\n",
    "\n",
    "val_pred_bin7 = best_model.predict_proba(X_val_bin7)\n",
    "predict_bin7 = best_model.predict_proba(test_bin7)"
   ]
  },
  {
   "source": [
    "## (version 3) income_total : bins=10"
   ],
   "cell_type": "markdown",
   "metadata": {}
  },
  {
   "cell_type": "code",
   "execution_count": 44,
   "metadata": {},
   "outputs": [
    {
     "output_type": "stream",
     "name": "stdout",
     "text": [
      "Fitting 10 folds for each of 8 candidates, totalling 80 fits\n",
      "best_score :  -0.7274561985418982\n",
      "best_params : \n",
      " {'criterion': 'gini', 'max_depth': 21, 'n_estimators': 900, 'random_state': 42}\n"
     ]
    }
   ],
   "source": [
    "feat_labels = X_train_bin10.columns\n",
    "\n",
    "forest = RandomForestClassifier()\n",
    "\n",
    "forest_param_grid = {\"max_depth\" : [21, 23],\n",
    "                    \"n_estimators\" : [800, 900],\n",
    "                    \"criterion\" : [\"gini\", \"entropy\"],\n",
    "                    \"random_state\" : [42]}\n",
    "\n",
    "gs = GridSearchCV(forest, forest_param_grid, \n",
    "                       cv=k_fold, scoring=\"neg_log_loss\", verbose=1, n_jobs=-1)\n",
    "\n",
    "gs.fit(X_train_bin10, y_train_bin10)\n",
    "\n",
    "best_model = gs.best_estimator_\n",
    "\n",
    "print('best_score : ', gs.best_score_)\n",
    "print('best_params : \\n', gs.best_params_)\n",
    "\n",
    "best_model.fit(X_train_bin10, y_train_bin10)\n",
    "\n",
    "importances = best_model.feature_importances_\n",
    "\n",
    "val_pred_bin10 = best_model.predict_proba(X_val_bin10)\n",
    "predict_bin10 = best_model.predict_proba(test_bin10)"
   ]
  },
  {
   "source": [
    "## (version 4) version 5"
   ],
   "cell_type": "markdown",
   "metadata": {}
  },
  {
   "cell_type": "code",
   "execution_count": 19,
   "metadata": {},
   "outputs": [
    {
     "output_type": "stream",
     "name": "stdout",
     "text": [
      "Fitting 10 folds for each of 8 candidates, totalling 80 fits\n",
      "[CV] END criterion=gini, max_depth=9, n_estimators=500, random_state=42; total time=   8.9s\n",
      "[CV] END criterion=gini, max_depth=9, n_estimators=500, random_state=42; total time=  10.0s\n",
      "[CV] END criterion=gini, max_depth=9, n_estimators=500, random_state=42; total time=   9.1s\n",
      "[CV] END criterion=gini, max_depth=9, n_estimators=500, random_state=42; total time=   9.1s\n",
      "[CV] END criterion=gini, max_depth=9, n_estimators=500, random_state=42; total time=   9.5s\n",
      "[CV] END criterion=gini, max_depth=9, n_estimators=500, random_state=42; total time=   7.2s\n",
      "[CV] END criterion=gini, max_depth=9, n_estimators=500, random_state=42; total time=   6.7s\n",
      "[CV] END criterion=gini, max_depth=9, n_estimators=500, random_state=42; total time=   7.4s\n",
      "[CV] END criterion=gini, max_depth=9, n_estimators=500, random_state=42; total time=   8.6s\n",
      "[CV] END criterion=gini, max_depth=9, n_estimators=500, random_state=42; total time=   8.1s\n",
      "[CV] END criterion=gini, max_depth=9, n_estimators=800, random_state=42; total time=  12.1s\n",
      "[CV] END criterion=gini, max_depth=9, n_estimators=800, random_state=42; total time=  10.6s\n",
      "[CV] END criterion=gini, max_depth=9, n_estimators=800, random_state=42; total time=   9.1s\n",
      "[CV] END criterion=gini, max_depth=9, n_estimators=800, random_state=42; total time=   7.8s\n",
      "[CV] END criterion=gini, max_depth=9, n_estimators=800, random_state=42; total time=   8.2s\n",
      "[CV] END criterion=gini, max_depth=9, n_estimators=800, random_state=42; total time=   7.7s\n",
      "[CV] END criterion=gini, max_depth=9, n_estimators=800, random_state=42; total time=   8.0s\n",
      "[CV] END criterion=gini, max_depth=9, n_estimators=800, random_state=42; total time=   7.9s\n",
      "[CV] END criterion=gini, max_depth=9, n_estimators=800, random_state=42; total time=  12.3s\n",
      "[CV] END criterion=gini, max_depth=9, n_estimators=800, random_state=42; total time=   9.9s\n",
      "[CV] END criterion=gini, max_depth=21, n_estimators=500, random_state=42; total time=  12.4s\n",
      "[CV] END criterion=gini, max_depth=21, n_estimators=500, random_state=42; total time=  13.0s\n",
      "[CV] END criterion=gini, max_depth=21, n_estimators=500, random_state=42; total time=  12.5s\n",
      "[CV] END criterion=gini, max_depth=21, n_estimators=500, random_state=42; total time=  12.8s\n",
      "[CV] END criterion=gini, max_depth=21, n_estimators=500, random_state=42; total time=  13.2s\n",
      "[CV] END criterion=gini, max_depth=21, n_estimators=500, random_state=42; total time=  12.4s\n",
      "[CV] END criterion=gini, max_depth=21, n_estimators=500, random_state=42; total time=  13.0s\n",
      "[CV] END criterion=gini, max_depth=21, n_estimators=500, random_state=42; total time=  13.0s\n",
      "[CV] END criterion=gini, max_depth=21, n_estimators=500, random_state=42; total time=  12.3s\n",
      "[CV] END criterion=gini, max_depth=21, n_estimators=500, random_state=42; total time=  13.0s\n",
      "[CV] END criterion=gini, max_depth=21, n_estimators=800, random_state=42; total time=  20.6s\n",
      "[CV] END criterion=gini, max_depth=21, n_estimators=800, random_state=42; total time=  20.9s\n",
      "[CV] END criterion=gini, max_depth=21, n_estimators=800, random_state=42; total time=  20.6s\n",
      "[CV] END criterion=gini, max_depth=21, n_estimators=800, random_state=42; total time=  21.5s\n",
      "[CV] END criterion=gini, max_depth=21, n_estimators=800, random_state=42; total time=  21.6s\n",
      "[CV] END criterion=gini, max_depth=21, n_estimators=800, random_state=42; total time=  19.9s\n",
      "[CV] END criterion=gini, max_depth=21, n_estimators=800, random_state=42; total time=  20.2s\n",
      "[CV] END criterion=gini, max_depth=21, n_estimators=800, random_state=42; total time=  20.8s\n",
      "[CV] END criterion=gini, max_depth=21, n_estimators=800, random_state=42; total time=  20.6s\n",
      "[CV] END criterion=gini, max_depth=21, n_estimators=800, random_state=42; total time=  22.3s\n",
      "[CV] END criterion=entropy, max_depth=9, n_estimators=500, random_state=42; total time=   6.5s\n",
      "[CV] END criterion=entropy, max_depth=9, n_estimators=500, random_state=42; total time=   6.2s\n",
      "[CV] END criterion=entropy, max_depth=9, n_estimators=500, random_state=42; total time=   6.6s\n",
      "[CV] END criterion=entropy, max_depth=9, n_estimators=500, random_state=42; total time=   7.3s\n",
      "[CV] END criterion=entropy, max_depth=9, n_estimators=500, random_state=42; total time=   6.4s\n",
      "[CV] END criterion=entropy, max_depth=9, n_estimators=500, random_state=42; total time=   6.6s\n",
      "[CV] END criterion=entropy, max_depth=9, n_estimators=500, random_state=42; total time=   6.1s\n",
      "[CV] END criterion=entropy, max_depth=9, n_estimators=500, random_state=42; total time=   6.5s\n",
      "[CV] END criterion=entropy, max_depth=9, n_estimators=500, random_state=42; total time=   6.7s\n",
      "[CV] END criterion=entropy, max_depth=9, n_estimators=500, random_state=42; total time=   6.2s\n",
      "[CV] END criterion=entropy, max_depth=9, n_estimators=800, random_state=42; total time=  10.5s\n",
      "[CV] END criterion=entropy, max_depth=9, n_estimators=800, random_state=42; total time=  11.1s\n",
      "[CV] END criterion=entropy, max_depth=9, n_estimators=800, random_state=42; total time=  10.6s\n",
      "[CV] END criterion=entropy, max_depth=9, n_estimators=800, random_state=42; total time=  10.1s\n",
      "[CV] END criterion=entropy, max_depth=9, n_estimators=800, random_state=42; total time=  10.5s\n",
      "[CV] END criterion=entropy, max_depth=9, n_estimators=800, random_state=42; total time=  11.1s\n",
      "[CV] END criterion=entropy, max_depth=9, n_estimators=800, random_state=42; total time=  11.3s\n",
      "[CV] END criterion=entropy, max_depth=9, n_estimators=800, random_state=42; total time=  10.6s\n",
      "[CV] END criterion=entropy, max_depth=9, n_estimators=800, random_state=42; total time=  10.4s\n",
      "[CV] END criterion=entropy, max_depth=9, n_estimators=800, random_state=42; total time=  10.9s\n",
      "[CV] END criterion=entropy, max_depth=21, n_estimators=500, random_state=42; total time=  13.6s\n",
      "[CV] END criterion=entropy, max_depth=21, n_estimators=500, random_state=42; total time=  12.5s\n",
      "[CV] END criterion=entropy, max_depth=21, n_estimators=500, random_state=42; total time=  12.5s\n",
      "[CV] END criterion=entropy, max_depth=21, n_estimators=500, random_state=42; total time=  12.7s\n",
      "[CV] END criterion=entropy, max_depth=21, n_estimators=500, random_state=42; total time=  12.4s\n",
      "[CV] END criterion=entropy, max_depth=21, n_estimators=500, random_state=42; total time=  13.7s\n",
      "[CV] END criterion=entropy, max_depth=21, n_estimators=500, random_state=42; total time=  13.7s\n",
      "[CV] END criterion=entropy, max_depth=21, n_estimators=500, random_state=42; total time=  13.5s\n",
      "[CV] END criterion=entropy, max_depth=21, n_estimators=500, random_state=42; total time=  13.5s\n",
      "[CV] END criterion=entropy, max_depth=21, n_estimators=500, random_state=42; total time=  13.5s\n",
      "[CV] END criterion=entropy, max_depth=21, n_estimators=800, random_state=42; total time=  21.6s\n",
      "[CV] END criterion=entropy, max_depth=21, n_estimators=800, random_state=42; total time=  21.0s\n",
      "[CV] END criterion=entropy, max_depth=21, n_estimators=800, random_state=42; total time=  21.6s\n",
      "[CV] END criterion=entropy, max_depth=21, n_estimators=800, random_state=42; total time=  23.1s\n",
      "[CV] END criterion=entropy, max_depth=21, n_estimators=800, random_state=42; total time=  20.5s\n",
      "[CV] END criterion=entropy, max_depth=21, n_estimators=800, random_state=42; total time=  21.3s\n",
      "[CV] END criterion=entropy, max_depth=21, n_estimators=800, random_state=42; total time=  19.7s\n",
      "[CV] END criterion=entropy, max_depth=21, n_estimators=800, random_state=42; total time=  19.5s\n",
      "[CV] END criterion=entropy, max_depth=21, n_estimators=800, random_state=42; total time=  21.5s\n",
      "[CV] END criterion=entropy, max_depth=21, n_estimators=800, random_state=42; total time=  23.1s\n",
      "best_score :  -0.8061332605396064\n",
      "best_params : \n",
      " {'criterion': 'entropy', 'max_depth': 21, 'n_estimators': 800, 'random_state': 42}\n"
     ]
    }
   ],
   "source": [
    "forest = RandomForestClassifier()\n",
    "\n",
    "forest_param_grid = {\"max_depth\" : [9, 21],\n",
    "                    \"n_estimators\" : [500, 800],\n",
    "                    \"criterion\" : [\"gini\", \"entropy\"],\n",
    "                    \"random_state\" : [42]}\n",
    "\n",
    "gs = GridSearchCV(forest, forest_param_grid, \n",
    "                       cv=k_fold, scoring=\"neg_log_loss\", verbose=2)\n",
    "\n",
    "gs.fit(X_train_ver2, y_train_ver2)\n",
    "\n",
    "best_model = gs.best_estimator_\n",
    "\n",
    "print('best_score : ', gs.best_score_)\n",
    "print('best_params : \\n', gs.best_params_)\n",
    "\n",
    "best_model.fit(X_train_ver2, y_train_ver2)\n",
    "\n",
    "importances = best_model.feature_importances_\n",
    "\n",
    "val_pred_ver2 = best_model.predict_proba(X_val_ver2)\n",
    "predict_ver2 = best_model.predict_proba(test_ver2)"
   ]
  },
  {
   "source": [
    "# Evaluation : logloss"
   ],
   "cell_type": "markdown",
   "metadata": {}
  },
  {
   "cell_type": "code",
   "execution_count": 45,
   "metadata": {},
   "outputs": [
    {
     "output_type": "stream",
     "name": "stdout",
     "text": [
      "0.7289340999568911\n"
     ]
    }
   ],
   "source": [
    "from sklearn.metrics import log_loss\n",
    "from tensorflow.keras.utils import to_categorical\n",
    "\n",
    "logloss = log_loss(to_categorical(y_val_bin5), val_pred_bin5)\n",
    "print(logloss)"
   ]
  },
  {
   "cell_type": "code",
   "execution_count": 46,
   "metadata": {},
   "outputs": [
    {
     "output_type": "stream",
     "name": "stdout",
     "text": [
      "0.7265824045165541\n"
     ]
    }
   ],
   "source": [
    "logloss = log_loss(to_categorical(y_val_bin7), val_pred_bin7)\n",
    "print(logloss)"
   ]
  },
  {
   "cell_type": "code",
   "execution_count": 47,
   "metadata": {},
   "outputs": [
    {
     "output_type": "stream",
     "name": "stdout",
     "text": [
      "0.7248155437153727\n"
     ]
    }
   ],
   "source": [
    "logloss = log_loss(to_categorical(y_val_bin5), val_pred_bin10)\n",
    "print(logloss)"
   ]
  },
  {
   "cell_type": "code",
   "execution_count": 20,
   "metadata": {},
   "outputs": [
    {
     "output_type": "stream",
     "name": "stdout",
     "text": [
      "0.806170656339634\n"
     ]
    }
   ],
   "source": [
    "from sklearn.metrics import log_loss\n",
    "from tensorflow.keras.utils import to_categorical\n",
    "\n",
    "logloss = log_loss(to_categorical(y_val_ver2), val_pred_ver2)\n",
    "print(logloss)"
   ]
  },
  {
   "source": [
    "# Submission"
   ],
   "cell_type": "markdown",
   "metadata": {}
  },
  {
   "cell_type": "code",
   "execution_count": 48,
   "metadata": {},
   "outputs": [],
   "source": [
    "submit_file_dir = \"../result_file/performance_result/\""
   ]
  },
  {
   "cell_type": "code",
   "execution_count": 49,
   "metadata": {},
   "outputs": [],
   "source": [
    "predict_bin5 = pd.DataFrame(predict_bin5)\n",
    "predict_bin5.columns = ['0', '1', '2']\n",
    "\n",
    "submission['0'] = predict_bin5['0']\n",
    "submission['1'] = predict_bin5['1']\n",
    "submission['2'] = predict_bin5['2']\n",
    "\n",
    "submission.to_csv(os.path.join(submit_file_dir, \"result_bin5.csv\"), index=False)"
   ]
  },
  {
   "cell_type": "code",
   "execution_count": 50,
   "metadata": {},
   "outputs": [],
   "source": [
    "predict_bin7 = pd.DataFrame(predict_bin7)\n",
    "predict_bin7.columns = ['0', '1', '2']\n",
    "\n",
    "submission['0'] = predict_bin7['0']\n",
    "submission['1'] = predict_bin7['1']\n",
    "submission['2'] = predict_bin7['2']\n",
    "\n",
    "submission.to_csv(os.path.join(submit_file_dir, \"result_bin7.csv\"), index=False)"
   ]
  },
  {
   "cell_type": "code",
   "execution_count": 51,
   "metadata": {},
   "outputs": [],
   "source": [
    "predict_bin10 = pd.DataFrame(predict_bin5)\n",
    "predict_bin10.columns = ['0', '1', '2']\n",
    "\n",
    "submission['0'] = predict_bin10['0']\n",
    "submission['1'] = predict_bin10['1']\n",
    "submission['2'] = predict_bin10['2']\n",
    "\n",
    "submission.to_csv(os.path.join(submit_file_dir, \"result_bin10.csv\"), index=False)"
   ]
  }
 ]
}