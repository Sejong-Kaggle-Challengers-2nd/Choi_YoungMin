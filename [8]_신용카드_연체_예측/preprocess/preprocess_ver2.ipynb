{
 "metadata": {
  "language_info": {
   "codemirror_mode": {
    "name": "ipython",
    "version": 3
   },
   "file_extension": ".py",
   "mimetype": "text/x-python",
   "name": "python",
   "nbconvert_exporter": "python",
   "pygments_lexer": "ipython3",
   "version": "3.8.8"
  },
  "orig_nbformat": 2,
  "kernelspec": {
   "name": "python388jvsc74a57bd033a3111211be4281f3a8c4a9b25563b8d253df502c7e31f5318895c1792a97cb",
   "display_name": "Python 3.8.8 64-bit ('py38': conda)"
  }
 },
 "nbformat": 4,
 "nbformat_minor": 2,
 "cells": [
  {
   "cell_type": "code",
   "execution_count": 21,
   "metadata": {},
   "outputs": [],
   "source": [
    "import numpy as np\n",
    "import pandas as pd\n",
    "import matplotlib.pyplot as plt\n",
    "import seaborn as sns\n",
    "import itertools\n",
    "\n",
    "from sklearn.metrics import accuracy_score,confusion_matrix, log_loss"
   ]
  },
  {
   "cell_type": "code",
   "execution_count": 22,
   "metadata": {},
   "outputs": [],
   "source": [
    "data_dir = \"../../../kaggle_data/creditcard_overdue/\"\n",
    "Raw_data_dir = os.path.join(data_dir, \"open/\")\n",
    "\n",
    "\n",
    "train=pd.read_csv(os.path.join(Raw_data_dir, \"train.csv\"), index_col=0)\n",
    "test=pd.read_csv(os.path.join(Raw_data_dir, \"test.csv\"))\n",
    "submit=pd.read_csv(os.path.join(Raw_data_dir, \"sample_submission.csv\"))\n",
    "\n",
    "y=train['credit']\n",
    "train=train.drop(axis=1, labels=['credit'])\n",
    "\n",
    "test=test.drop(axis=1, labels=['index'])\n",
    "\n",
    "# index 와 FLAG_MOBIL 제거\n",
    "train = train.drop('FLAG_MOBIL',axis=1)\n",
    "test=test.drop(axis=1,labels=['FLAG_MOBIL'])"
   ]
  },
  {
   "cell_type": "code",
   "execution_count": 23,
   "metadata": {},
   "outputs": [
    {
     "output_type": "stream",
     "name": "stderr",
     "text": [
      "<ipython-input-23-9e4ac29a532c>:7: SettingWithCopyWarning: \nA value is trying to be set on a copy of a slice from a DataFrame\n\nSee the caveats in the documentation: https://pandas.pydata.org/pandas-docs/stable/user_guide/indexing.html#returning-a-view-versus-a-copy\n  train['Age'][i] = 30\n<ipython-input-23-9e4ac29a532c>:11: SettingWithCopyWarning: \nA value is trying to be set on a copy of a slice from a DataFrame\n\nSee the caveats in the documentation: https://pandas.pydata.org/pandas-docs/stable/user_guide/indexing.html#returning-a-view-versus-a-copy\n  train['Age'][i] = 50\n<ipython-input-23-9e4ac29a532c>:9: SettingWithCopyWarning: \nA value is trying to be set on a copy of a slice from a DataFrame\n\nSee the caveats in the documentation: https://pandas.pydata.org/pandas-docs/stable/user_guide/indexing.html#returning-a-view-versus-a-copy\n  train['Age'][i] = 40\n<ipython-input-23-9e4ac29a532c>:5: SettingWithCopyWarning: \nA value is trying to be set on a copy of a slice from a DataFrame\n\nSee the caveats in the documentation: https://pandas.pydata.org/pandas-docs/stable/user_guide/indexing.html#returning-a-view-versus-a-copy\n  train['Age'][i] = 20\n<ipython-input-23-9e4ac29a532c>:13: SettingWithCopyWarning: \nA value is trying to be set on a copy of a slice from a DataFrame\n\nSee the caveats in the documentation: https://pandas.pydata.org/pandas-docs/stable/user_guide/indexing.html#returning-a-view-versus-a-copy\n  train['Age'][i] = 60\n"
     ]
    },
    {
     "output_type": "execute_result",
     "data": {
      "text/plain": [
       "30    7585\n",
       "40    6769\n",
       "50    5739\n",
       "20    3608\n",
       "60    2756\n",
       "Name: Age, dtype: int64"
      ]
     },
     "metadata": {},
     "execution_count": 23
    }
   ],
   "source": [
    "train['Age'] = abs(train['DAYS_BIRTH'])/365\n",
    "train = train.astype({'Age': 'int'})\n",
    "for i in range(0,len(train['Age'])):\n",
    "  if 20<= train['Age'][i]<30:\n",
    "    train['Age'][i] = 20\n",
    "  elif 30<= train['Age'][i]<40:\n",
    "    train['Age'][i] = 30\n",
    "  elif 40<= train['Age'][i]<50:\n",
    "    train['Age'][i] = 40\n",
    "  elif 50<= train['Age'][i]<60:\n",
    "    train['Age'][i] = 50\n",
    "  elif 60<= train['Age'][i]<70:\n",
    "    train['Age'][i] = 60\n",
    "train['Age'].value_counts()"
   ]
  },
  {
   "cell_type": "code",
   "execution_count": 24,
   "metadata": {},
   "outputs": [],
   "source": [
    "train=train.drop(axis=1, labels=['DAYS_BIRTH'])"
   ]
  },
  {
   "cell_type": "code",
   "execution_count": 25,
   "metadata": {},
   "outputs": [
    {
     "output_type": "stream",
     "name": "stderr",
     "text": [
      "<ipython-input-25-1323649e5906>:13: SettingWithCopyWarning: \nA value is trying to be set on a copy of a slice from a DataFrame\n\nSee the caveats in the documentation: https://pandas.pydata.org/pandas-docs/stable/user_guide/indexing.html#returning-a-view-versus-a-copy\n  test['Age'][i] = 60\n<ipython-input-25-1323649e5906>:11: SettingWithCopyWarning: \nA value is trying to be set on a copy of a slice from a DataFrame\n\nSee the caveats in the documentation: https://pandas.pydata.org/pandas-docs/stable/user_guide/indexing.html#returning-a-view-versus-a-copy\n  test['Age'][i] = 50\n<ipython-input-25-1323649e5906>:9: SettingWithCopyWarning: \nA value is trying to be set on a copy of a slice from a DataFrame\n\nSee the caveats in the documentation: https://pandas.pydata.org/pandas-docs/stable/user_guide/indexing.html#returning-a-view-versus-a-copy\n  test['Age'][i] = 40\n<ipython-input-25-1323649e5906>:7: SettingWithCopyWarning: \nA value is trying to be set on a copy of a slice from a DataFrame\n\nSee the caveats in the documentation: https://pandas.pydata.org/pandas-docs/stable/user_guide/indexing.html#returning-a-view-versus-a-copy\n  test['Age'][i] = 30\n<ipython-input-25-1323649e5906>:5: SettingWithCopyWarning: \nA value is trying to be set on a copy of a slice from a DataFrame\n\nSee the caveats in the documentation: https://pandas.pydata.org/pandas-docs/stable/user_guide/indexing.html#returning-a-view-versus-a-copy\n  test['Age'][i] = 20\n"
     ]
    }
   ],
   "source": [
    "test['Age'] = abs(test['DAYS_BIRTH'])/365\n",
    "test= test.astype({'Age': 'int'})\n",
    "for i in range(0,len(test['Age'])):\n",
    "  if 20<= test['Age'][i]< 30:\n",
    "    test['Age'][i] = 20\n",
    "  elif 30<= test['Age'][i]< 40:\n",
    "    test['Age'][i] = 30\n",
    "  elif 40<= test['Age'][i]< 50:\n",
    "    test['Age'][i] = 40\n",
    "  elif 50<= test['Age'][i]< 60:\n",
    "    test['Age'][i] = 50\n",
    "  elif 60<= test['Age'][i]< 70:\n",
    "    test['Age'][i] = 60\n",
    "test['Age'].value_counts()\n",
    "\n",
    "test=test.drop(axis=1, labels=['DAYS_BIRTH'])"
   ]
  },
  {
   "cell_type": "code",
   "execution_count": 26,
   "metadata": {},
   "outputs": [
    {
     "output_type": "stream",
     "name": "stdout",
     "text": [
      "gender :\n0    17697\n1     8760\nName: gender, dtype: int64\n--------------\nHaving a car or not : \n0    16410\n1    10047\nName: car, dtype: int64\n--------------\nHaving house reality or not: \n1    17830\n0     8627\nName: reality, dtype: int64\n--------------\nedu_type\n--------------\n"
     ]
    }
   ],
   "source": [
    "#문자로 된것들 라벨인코딩\n",
    "\n",
    "train['gender'] = train['gender'].replace(['F','M'],[0,1])\n",
    "test['gender'] = test['gender'].replace(['F','M'],[0,1])\n",
    "print('gender :')\n",
    "print(train['gender'].value_counts())\n",
    "print('--------------')\n",
    "\n",
    "print('Having a car or not : ')\n",
    "train['car'] = train['car'].replace(['N','Y'],[0,1])\n",
    "test['car'] = test['car'].replace(['N','Y'],[0,1])\n",
    "print(train['car'].value_counts())\n",
    "print('--------------')\n",
    "\n",
    "print('Having house reality or not: ')\n",
    "train['reality'] = train['reality'].replace(['N','Y'],[0,1])\n",
    "test['reality'] = test['reality'].replace(['N','Y'],[0,1])\n",
    "print(train['reality'].value_counts())\n",
    "print('--------------')\n",
    "\n",
    "print('edu_type')\n",
    "train['edu_type'] = train['edu_type'].replace([ 'Academic degree','Higher education' ,'Secondary / secondary special', 'Incomplete higher', 'Lower secondary'],[4,3,2,1,0])\n",
    "test['edu_type'] = test['edu_type'].replace([ 'Academic degree','Higher education' ,'Secondary / secondary special', 'Incomplete higher', 'Lower secondary'],[4,3,2,1,0])\n",
    "print('--------------')"
   ]
  },
  {
   "cell_type": "code",
   "execution_count": 27,
   "metadata": {},
   "outputs": [],
   "source": [
    "# income total 전처리\n",
    "train['income_total'] = train['income_total'].astype(object)\n",
    "train['income_total'] = train['income_total']/10000 \n",
    "test['income_total'] = test['income_total']/10000"
   ]
  },
  {
   "cell_type": "code",
   "execution_count": 28,
   "metadata": {},
   "outputs": [],
   "source": [
    "#나눌 개수 : n_income\n",
    "n_income=10\n",
    "count, bin_dividers =np.histogram(train['income_total'], bins=n_income)\n",
    "bin_names=['소득'+str(i) for i in range(n_income) ]\n",
    "#bin_dividers는 train기준!!\n",
    "train['income_total']=pd.cut(x=train['income_total'], bins=bin_dividers, labels=bin_names, include_lowest=True)\n",
    "test['income_total']=pd.cut(x=test['income_total'], bins=bin_dividers, labels=bin_names, include_lowest=True)"
   ]
  },
  {
   "cell_type": "code",
   "execution_count": 29,
   "metadata": {},
   "outputs": [],
   "source": [
    "from sklearn import preprocessing\n",
    "label_encoder=preprocessing.LabelEncoder()\n",
    "train['income_type']=label_encoder.fit_transform(train['income_type'])\n",
    "test['income_type']=label_encoder.transform(test['income_type'])\n",
    "########################################################################\n",
    "train['family_type']=label_encoder.fit_transform(train['family_type'])\n",
    "test['family_type']=label_encoder.transform(test['family_type'])\n",
    "########################################################################\n",
    "train['house_type']=label_encoder.fit_transform(train['house_type'])\n",
    "test['house_type']=label_encoder.transform(test['house_type'])\n",
    "########################################################################\n",
    "train['income_total']=label_encoder.fit_transform(train['income_total'])\n",
    "test['income_total']=label_encoder.fit_transform(test['income_total'])"
   ]
  },
  {
   "cell_type": "code",
   "execution_count": 30,
   "metadata": {},
   "outputs": [],
   "source": [
    "train['occyp_type'] = train['occyp_type'].fillna(\"Unknown\")\n",
    "test['occyp_type'] = test['occyp_type'].fillna(\"Unknown\")\n",
    "\n",
    "train = pd.get_dummies(train, columns=['occyp_type'])\n",
    "test = pd.get_dummies(test, columns=['occyp_type'])"
   ]
  },
  {
   "cell_type": "code",
   "execution_count": 31,
   "metadata": {},
   "outputs": [],
   "source": [
    "#minus 변경하고\n",
    "#구간화 함수\n",
    "def make_bin(variable, n):\n",
    "    train[variable]=-train[variable]\n",
    "    test[variable]=-test[variable]\n",
    "    count, bin_dividers =np.histogram(train[variable], bins=n) #train의 구간화를 적용\n",
    "    bin_names=[str(i) for i in range(n)]\n",
    "    train[variable]=pd.cut(x=train[variable], bins=bin_dividers, labels=bin_names, include_lowest=True)\n",
    "    test[variable]=pd.cut(x=test[variable], bins=bin_dividers, labels=bin_names, include_lowest=True)\n",
    "    test[variable].fillna(str(0), inplace=True) #test에는 없는 것을 임의의 값으로 채움\n",
    "    ##########################################################\n",
    "    train[variable]=label_encoder.fit_transform(train[variable])\n",
    "    test[variable]=label_encoder.transform(test[variable])"
   ]
  },
  {
   "cell_type": "code",
   "execution_count": 32,
   "metadata": {},
   "outputs": [],
   "source": [
    "make_bin('DAYS_EMPLOYED', n=500)\n",
    "make_bin('begin_month', n=4)"
   ]
  },
  {
   "cell_type": "code",
   "execution_count": 33,
   "metadata": {},
   "outputs": [
    {
     "output_type": "stream",
     "name": "stderr",
     "text": [
      "<ipython-input-33-ccb8b74a045f>:3: SettingWithCopyWarning: \nA value is trying to be set on a copy of a slice from a DataFrame\n\nSee the caveats in the documentation: https://pandas.pydata.org/pandas-docs/stable/user_guide/indexing.html#returning-a-view-versus-a-copy\n  train['child_num'][i]=6\n"
     ]
    }
   ],
   "source": [
    "for i in range(len(train['child_num'])):\n",
    "    if train['child_num'][i]>5:\n",
    "            train['child_num'][i]=6"
   ]
  },
  {
   "cell_type": "code",
   "execution_count": 34,
   "metadata": {},
   "outputs": [
    {
     "output_type": "stream",
     "name": "stderr",
     "text": [
      "<ipython-input-34-89d6edd72cdb>:3: SettingWithCopyWarning: \nA value is trying to be set on a copy of a slice from a DataFrame\n\nSee the caveats in the documentation: https://pandas.pydata.org/pandas-docs/stable/user_guide/indexing.html#returning-a-view-versus-a-copy\n  train['family_size'][i]=6\n"
     ]
    }
   ],
   "source": [
    "for i in range(len(train['family_size'])):\n",
    "    if train['family_size'][i]>5:\n",
    "            train['family_size'][i]=6"
   ]
  },
  {
   "cell_type": "code",
   "execution_count": 35,
   "metadata": {},
   "outputs": [],
   "source": [
    "from sklearn.preprocessing import MinMaxScaler, StandardScaler\n",
    "mm=MinMaxScaler()\n",
    "sc=StandardScaler()"
   ]
  },
  {
   "cell_type": "code",
   "execution_count": 37,
   "metadata": {},
   "outputs": [],
   "source": [
    "train['income_total']=sc.fit_transform(train.loc[:,train.columns=='income_total'])\n",
    "test['income_total']=sc.transform(test.loc[:,test.columns=='income_total'])\n",
    "\n",
    "train['income_type']=mm.fit_transform(train.loc[:,train.columns=='income_type'])\n",
    "test['income_type']=mm.transform(test.loc[:,test.columns=='income_type'])\n",
    "\n",
    "train['edu_type']=sc.fit_transform(train.loc[:,train.columns=='edu_type'])\n",
    "test['edu_type']=sc.transform(test.loc[:,test.columns=='edu_type'])\n",
    "\n",
    "train['family_type']=mm.fit_transform(train.loc[:,train.columns=='family_type'])\n",
    "test['family_type']=mm.transform(test.loc[:,test.columns=='family_type'])\n",
    "\n",
    "train['house_type']=mm.fit_transform(train.loc[:,train.columns=='house_type'])\n",
    "test['house_type']=mm.transform(test.loc[:,test.columns=='house_type'])\n",
    "\n",
    "train['DAYS_EMPLOYED']=mm.fit_transform(train.loc[:,train.columns=='DAYS_EMPLOYED'])\n",
    "test['DAYS_EMPLOYED']=mm.transform(test.loc[:,test.columns=='DAYS_EMPLOYED'])\n",
    "\n",
    "train['family_size']=sc.fit_transform(train.loc[:,train.columns=='family_size'])\n",
    "test['family_size']=sc.transform(test.loc[:,test.columns=='family_size'])\n",
    "\n",
    "train['begin_month']=sc.fit_transform(train.loc[:,train.columns=='begin_month'])\n",
    "test['begin_month']=sc.transform(test.loc[:,test.columns=='begin_month'])\n",
    "\n",
    "train['Age']=sc.fit_transform(train.loc[:,train.columns=='Age'])\n",
    "test['Age']=sc.transform(test.loc[:,test.columns=='Age'])\n",
    "\n"
   ]
  },
  {
   "cell_type": "code",
   "execution_count": 38,
   "metadata": {},
   "outputs": [],
   "source": [
    "process_dir = \"../result_file/preprocess_results/\"\n",
    "\n",
    "train.to_csv(os.path.join(process_dir, \"preprocess_ver2_train.csv\"), mode='w')\n",
    "test.to_csv(os.path.join(process_dir, \"preprocess_ver2_test.csv\"), mode='w')"
   ]
  }
 ]
}