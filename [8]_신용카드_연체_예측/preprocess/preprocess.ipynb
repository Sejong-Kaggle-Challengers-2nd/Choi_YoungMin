{
 "cells": [
  {
   "source": [
    "# DataLoader"
   ],
   "cell_type": "markdown",
   "metadata": {}
  },
  {
   "cell_type": "code",
   "execution_count": 75,
   "id": "be9b1398",
   "metadata": {},
   "outputs": [],
   "source": [
    "import pandas as pd\n",
    "import numpy as np\n",
    "\n",
    "import os\n",
    "\n",
    "np.random.seed(42)\n",
    "\n",
    "pd.set_option('display.max_columns', 500)"
   ]
  },
  {
   "cell_type": "code",
   "execution_count": 76,
   "id": "5014153c",
   "metadata": {},
   "outputs": [],
   "source": [
    "data_dir = \"../../../kaggle_data/creditcard_overdue/\"\n",
    "Raw_data_dir = os.path.join(data_dir, \"open/\")\n",
    "\n",
    "Raw_train = pd.read_csv(os.path.join(Raw_data_dir, \"train.csv\"))\n",
    "Raw_test = pd.read_csv(os.path.join(Raw_data_dir, \"test.csv\"))\n",
    "\n",
    "submission = pd.read_csv(os.path.join(Raw_data_dir, \"sample_submission.csv\"))"
   ]
  },
  {
   "cell_type": "code",
   "execution_count": 77,
   "id": "39b70b4f",
   "metadata": {},
   "outputs": [
    {
     "output_type": "execute_result",
     "data": {
      "text/plain": [
       "       index gender car reality  child_num  income_total  \\\n",
       "0          0      F   N       N          0      202500.0   \n",
       "1          1      F   N       Y          1      247500.0   \n",
       "2          2      M   Y       Y          0      450000.0   \n",
       "3          3      F   N       Y          0      202500.0   \n",
       "4          4      F   Y       Y          0      157500.0   \n",
       "...      ...    ...  ..     ...        ...           ...   \n",
       "26452  26452      F   N       N          2      225000.0   \n",
       "26453  26453      F   N       Y          1      180000.0   \n",
       "26454  26454      F   Y       N          0      292500.0   \n",
       "26455  26455      M   N       Y          0      171000.0   \n",
       "26456  26456      F   N       N          0       81000.0   \n",
       "\n",
       "                income_type                       edu_type  \\\n",
       "0      Commercial associate               Higher education   \n",
       "1      Commercial associate  Secondary / secondary special   \n",
       "2                   Working               Higher education   \n",
       "3      Commercial associate  Secondary / secondary special   \n",
       "4             State servant               Higher education   \n",
       "...                     ...                            ...   \n",
       "26452         State servant  Secondary / secondary special   \n",
       "26453               Working               Higher education   \n",
       "26454               Working  Secondary / secondary special   \n",
       "26455               Working              Incomplete higher   \n",
       "26456               Working  Secondary / secondary special   \n",
       "\n",
       "                family_type           house_type  DAYS_BIRTH  DAYS_EMPLOYED  \\\n",
       "0                   Married  Municipal apartment      -13899          -4709   \n",
       "1            Civil marriage    House / apartment      -11380          -1540   \n",
       "2                   Married    House / apartment      -19087          -4434   \n",
       "3                   Married    House / apartment      -15088          -2092   \n",
       "4                   Married    House / apartment      -15037          -2105   \n",
       "...                     ...                  ...         ...            ...   \n",
       "26452               Married    House / apartment      -12079          -1984   \n",
       "26453             Separated    House / apartment      -15291          -2475   \n",
       "26454        Civil marriage         With parents      -10082          -2015   \n",
       "26455  Single / not married    House / apartment      -10145           -107   \n",
       "26456        Civil marriage    House / apartment      -19569          -1013   \n",
       "\n",
       "       FLAG_MOBIL  work_phone  phone  email      occyp_type  family_size  \\\n",
       "0               1           0      0      0             NaN          2.0   \n",
       "1               1           0      0      1        Laborers          3.0   \n",
       "2               1           0      1      0        Managers          2.0   \n",
       "3               1           0      1      0     Sales staff          2.0   \n",
       "4               1           0      0      0        Managers          2.0   \n",
       "...           ...         ...    ...    ...             ...          ...   \n",
       "26452           1           0      0      0      Core staff          4.0   \n",
       "26453           1           0      0      0             NaN          2.0   \n",
       "26454           1           0      0      0      Core staff          2.0   \n",
       "26455           1           0      0      0        Laborers          1.0   \n",
       "26456           1           0      0      0  Security staff          2.0   \n",
       "\n",
       "       begin_month  credit  \n",
       "0             -6.0     1.0  \n",
       "1             -5.0     1.0  \n",
       "2            -22.0     2.0  \n",
       "3            -37.0     0.0  \n",
       "4            -26.0     2.0  \n",
       "...            ...     ...  \n",
       "26452         -2.0     1.0  \n",
       "26453        -47.0     2.0  \n",
       "26454        -25.0     2.0  \n",
       "26455        -59.0     2.0  \n",
       "26456         -9.0     2.0  \n",
       "\n",
       "[26457 rows x 20 columns]"
      ],
      "text/html": "<div>\n<style scoped>\n    .dataframe tbody tr th:only-of-type {\n        vertical-align: middle;\n    }\n\n    .dataframe tbody tr th {\n        vertical-align: top;\n    }\n\n    .dataframe thead th {\n        text-align: right;\n    }\n</style>\n<table border=\"1\" class=\"dataframe\">\n  <thead>\n    <tr style=\"text-align: right;\">\n      <th></th>\n      <th>index</th>\n      <th>gender</th>\n      <th>car</th>\n      <th>reality</th>\n      <th>child_num</th>\n      <th>income_total</th>\n      <th>income_type</th>\n      <th>edu_type</th>\n      <th>family_type</th>\n      <th>house_type</th>\n      <th>DAYS_BIRTH</th>\n      <th>DAYS_EMPLOYED</th>\n      <th>FLAG_MOBIL</th>\n      <th>work_phone</th>\n      <th>phone</th>\n      <th>email</th>\n      <th>occyp_type</th>\n      <th>family_size</th>\n      <th>begin_month</th>\n      <th>credit</th>\n    </tr>\n  </thead>\n  <tbody>\n    <tr>\n      <th>0</th>\n      <td>0</td>\n      <td>F</td>\n      <td>N</td>\n      <td>N</td>\n      <td>0</td>\n      <td>202500.0</td>\n      <td>Commercial associate</td>\n      <td>Higher education</td>\n      <td>Married</td>\n      <td>Municipal apartment</td>\n      <td>-13899</td>\n      <td>-4709</td>\n      <td>1</td>\n      <td>0</td>\n      <td>0</td>\n      <td>0</td>\n      <td>NaN</td>\n      <td>2.0</td>\n      <td>-6.0</td>\n      <td>1.0</td>\n    </tr>\n    <tr>\n      <th>1</th>\n      <td>1</td>\n      <td>F</td>\n      <td>N</td>\n      <td>Y</td>\n      <td>1</td>\n      <td>247500.0</td>\n      <td>Commercial associate</td>\n      <td>Secondary / secondary special</td>\n      <td>Civil marriage</td>\n      <td>House / apartment</td>\n      <td>-11380</td>\n      <td>-1540</td>\n      <td>1</td>\n      <td>0</td>\n      <td>0</td>\n      <td>1</td>\n      <td>Laborers</td>\n      <td>3.0</td>\n      <td>-5.0</td>\n      <td>1.0</td>\n    </tr>\n    <tr>\n      <th>2</th>\n      <td>2</td>\n      <td>M</td>\n      <td>Y</td>\n      <td>Y</td>\n      <td>0</td>\n      <td>450000.0</td>\n      <td>Working</td>\n      <td>Higher education</td>\n      <td>Married</td>\n      <td>House / apartment</td>\n      <td>-19087</td>\n      <td>-4434</td>\n      <td>1</td>\n      <td>0</td>\n      <td>1</td>\n      <td>0</td>\n      <td>Managers</td>\n      <td>2.0</td>\n      <td>-22.0</td>\n      <td>2.0</td>\n    </tr>\n    <tr>\n      <th>3</th>\n      <td>3</td>\n      <td>F</td>\n      <td>N</td>\n      <td>Y</td>\n      <td>0</td>\n      <td>202500.0</td>\n      <td>Commercial associate</td>\n      <td>Secondary / secondary special</td>\n      <td>Married</td>\n      <td>House / apartment</td>\n      <td>-15088</td>\n      <td>-2092</td>\n      <td>1</td>\n      <td>0</td>\n      <td>1</td>\n      <td>0</td>\n      <td>Sales staff</td>\n      <td>2.0</td>\n      <td>-37.0</td>\n      <td>0.0</td>\n    </tr>\n    <tr>\n      <th>4</th>\n      <td>4</td>\n      <td>F</td>\n      <td>Y</td>\n      <td>Y</td>\n      <td>0</td>\n      <td>157500.0</td>\n      <td>State servant</td>\n      <td>Higher education</td>\n      <td>Married</td>\n      <td>House / apartment</td>\n      <td>-15037</td>\n      <td>-2105</td>\n      <td>1</td>\n      <td>0</td>\n      <td>0</td>\n      <td>0</td>\n      <td>Managers</td>\n      <td>2.0</td>\n      <td>-26.0</td>\n      <td>2.0</td>\n    </tr>\n    <tr>\n      <th>...</th>\n      <td>...</td>\n      <td>...</td>\n      <td>...</td>\n      <td>...</td>\n      <td>...</td>\n      <td>...</td>\n      <td>...</td>\n      <td>...</td>\n      <td>...</td>\n      <td>...</td>\n      <td>...</td>\n      <td>...</td>\n      <td>...</td>\n      <td>...</td>\n      <td>...</td>\n      <td>...</td>\n      <td>...</td>\n      <td>...</td>\n      <td>...</td>\n      <td>...</td>\n    </tr>\n    <tr>\n      <th>26452</th>\n      <td>26452</td>\n      <td>F</td>\n      <td>N</td>\n      <td>N</td>\n      <td>2</td>\n      <td>225000.0</td>\n      <td>State servant</td>\n      <td>Secondary / secondary special</td>\n      <td>Married</td>\n      <td>House / apartment</td>\n      <td>-12079</td>\n      <td>-1984</td>\n      <td>1</td>\n      <td>0</td>\n      <td>0</td>\n      <td>0</td>\n      <td>Core staff</td>\n      <td>4.0</td>\n      <td>-2.0</td>\n      <td>1.0</td>\n    </tr>\n    <tr>\n      <th>26453</th>\n      <td>26453</td>\n      <td>F</td>\n      <td>N</td>\n      <td>Y</td>\n      <td>1</td>\n      <td>180000.0</td>\n      <td>Working</td>\n      <td>Higher education</td>\n      <td>Separated</td>\n      <td>House / apartment</td>\n      <td>-15291</td>\n      <td>-2475</td>\n      <td>1</td>\n      <td>0</td>\n      <td>0</td>\n      <td>0</td>\n      <td>NaN</td>\n      <td>2.0</td>\n      <td>-47.0</td>\n      <td>2.0</td>\n    </tr>\n    <tr>\n      <th>26454</th>\n      <td>26454</td>\n      <td>F</td>\n      <td>Y</td>\n      <td>N</td>\n      <td>0</td>\n      <td>292500.0</td>\n      <td>Working</td>\n      <td>Secondary / secondary special</td>\n      <td>Civil marriage</td>\n      <td>With parents</td>\n      <td>-10082</td>\n      <td>-2015</td>\n      <td>1</td>\n      <td>0</td>\n      <td>0</td>\n      <td>0</td>\n      <td>Core staff</td>\n      <td>2.0</td>\n      <td>-25.0</td>\n      <td>2.0</td>\n    </tr>\n    <tr>\n      <th>26455</th>\n      <td>26455</td>\n      <td>M</td>\n      <td>N</td>\n      <td>Y</td>\n      <td>0</td>\n      <td>171000.0</td>\n      <td>Working</td>\n      <td>Incomplete higher</td>\n      <td>Single / not married</td>\n      <td>House / apartment</td>\n      <td>-10145</td>\n      <td>-107</td>\n      <td>1</td>\n      <td>0</td>\n      <td>0</td>\n      <td>0</td>\n      <td>Laborers</td>\n      <td>1.0</td>\n      <td>-59.0</td>\n      <td>2.0</td>\n    </tr>\n    <tr>\n      <th>26456</th>\n      <td>26456</td>\n      <td>F</td>\n      <td>N</td>\n      <td>N</td>\n      <td>0</td>\n      <td>81000.0</td>\n      <td>Working</td>\n      <td>Secondary / secondary special</td>\n      <td>Civil marriage</td>\n      <td>House / apartment</td>\n      <td>-19569</td>\n      <td>-1013</td>\n      <td>1</td>\n      <td>0</td>\n      <td>0</td>\n      <td>0</td>\n      <td>Security staff</td>\n      <td>2.0</td>\n      <td>-9.0</td>\n      <td>2.0</td>\n    </tr>\n  </tbody>\n</table>\n<p>26457 rows × 20 columns</p>\n</div>"
     },
     "metadata": {},
     "execution_count": 77
    }
   ],
   "source": [
    "Raw_train"
   ]
  },
  {
   "source": [
    "# Preprocessing"
   ],
   "cell_type": "markdown",
   "metadata": {}
  },
  {
   "source": [
    "## 불필요한 Feature 제거"
   ],
   "cell_type": "markdown",
   "metadata": {}
  },
  {
   "cell_type": "code",
   "execution_count": 78,
   "metadata": {},
   "outputs": [],
   "source": [
    "# Index, FLAG_MOBIL 제거\n",
    "train = Raw_train.drop(['index', 'FLAG_MOBIL'], axis=1)\n",
    "test = Raw_test.drop(['index', 'FLAG_MOBIL'], axis=1)"
   ]
  },
  {
   "source": [
    "## 나이대 나누기 (DAYS_BIRTH))"
   ],
   "cell_type": "markdown",
   "metadata": {}
  },
  {
   "cell_type": "code",
   "execution_count": 79,
   "metadata": {},
   "outputs": [
    {
     "output_type": "stream",
     "name": "stderr",
     "text": [
      "<ipython-input-79-414afa26019b>:7: SettingWithCopyWarning: \nA value is trying to be set on a copy of a slice from a DataFrame\n\nSee the caveats in the documentation: https://pandas.pydata.org/pandas-docs/stable/user_guide/indexing.html#returning-a-view-versus-a-copy\n  train['Age'][i] = 30\n<ipython-input-79-414afa26019b>:11: SettingWithCopyWarning: \nA value is trying to be set on a copy of a slice from a DataFrame\n\nSee the caveats in the documentation: https://pandas.pydata.org/pandas-docs/stable/user_guide/indexing.html#returning-a-view-versus-a-copy\n  train['Age'][i] = 50\n<ipython-input-79-414afa26019b>:9: SettingWithCopyWarning: \nA value is trying to be set on a copy of a slice from a DataFrame\n\nSee the caveats in the documentation: https://pandas.pydata.org/pandas-docs/stable/user_guide/indexing.html#returning-a-view-versus-a-copy\n  train['Age'][i] = 40\n<ipython-input-79-414afa26019b>:5: SettingWithCopyWarning: \nA value is trying to be set on a copy of a slice from a DataFrame\n\nSee the caveats in the documentation: https://pandas.pydata.org/pandas-docs/stable/user_guide/indexing.html#returning-a-view-versus-a-copy\n  train['Age'][i] = 20\n<ipython-input-79-414afa26019b>:13: SettingWithCopyWarning: \nA value is trying to be set on a copy of a slice from a DataFrame\n\nSee the caveats in the documentation: https://pandas.pydata.org/pandas-docs/stable/user_guide/indexing.html#returning-a-view-versus-a-copy\n  train['Age'][i] = 60\n"
     ]
    },
    {
     "output_type": "execute_result",
     "data": {
      "text/plain": [
       "30    7585\n",
       "40    6769\n",
       "50    5739\n",
       "20    3608\n",
       "60    2756\n",
       "Name: Age, dtype: int64"
      ]
     },
     "metadata": {},
     "execution_count": 79
    }
   ],
   "source": [
    "train['Age'] = abs(train['DAYS_BIRTH'])/365\n",
    "train = train.astype({'Age': 'int'})\n",
    "for i in range(0,len(train['Age'])):\n",
    "  if 20<= train['Age'][i]<= 29:\n",
    "    train['Age'][i] = 20\n",
    "  elif 30<= train['Age'][i]<= 39:\n",
    "    train['Age'][i] = 30\n",
    "  elif 40<= train['Age'][i]<= 49:\n",
    "    train['Age'][i] = 40\n",
    "  elif 50<= train['Age'][i]<= 59:\n",
    "    train['Age'][i] = 50\n",
    "  elif 60<= train['Age'][i]<= 69:\n",
    "    train['Age'][i] = 60\n",
    "train['Age'].value_counts()"
   ]
  },
  {
   "cell_type": "code",
   "execution_count": 80,
   "metadata": {},
   "outputs": [
    {
     "output_type": "stream",
     "name": "stderr",
     "text": [
      "<ipython-input-80-de542fe35186>:13: SettingWithCopyWarning: \nA value is trying to be set on a copy of a slice from a DataFrame\n\nSee the caveats in the documentation: https://pandas.pydata.org/pandas-docs/stable/user_guide/indexing.html#returning-a-view-versus-a-copy\n  test['Age'][i] = 60\n<ipython-input-80-de542fe35186>:11: SettingWithCopyWarning: \nA value is trying to be set on a copy of a slice from a DataFrame\n\nSee the caveats in the documentation: https://pandas.pydata.org/pandas-docs/stable/user_guide/indexing.html#returning-a-view-versus-a-copy\n  test['Age'][i] = 50\n<ipython-input-80-de542fe35186>:9: SettingWithCopyWarning: \nA value is trying to be set on a copy of a slice from a DataFrame\n\nSee the caveats in the documentation: https://pandas.pydata.org/pandas-docs/stable/user_guide/indexing.html#returning-a-view-versus-a-copy\n  test['Age'][i] = 40\n<ipython-input-80-de542fe35186>:7: SettingWithCopyWarning: \nA value is trying to be set on a copy of a slice from a DataFrame\n\nSee the caveats in the documentation: https://pandas.pydata.org/pandas-docs/stable/user_guide/indexing.html#returning-a-view-versus-a-copy\n  test['Age'][i] = 30\n<ipython-input-80-de542fe35186>:5: SettingWithCopyWarning: \nA value is trying to be set on a copy of a slice from a DataFrame\n\nSee the caveats in the documentation: https://pandas.pydata.org/pandas-docs/stable/user_guide/indexing.html#returning-a-view-versus-a-copy\n  test['Age'][i] = 20\n"
     ]
    },
    {
     "output_type": "execute_result",
     "data": {
      "text/plain": [
       "30    2851\n",
       "40    2543\n",
       "50    2213\n",
       "20    1320\n",
       "60    1073\n",
       "Name: Age, dtype: int64"
      ]
     },
     "metadata": {},
     "execution_count": 80
    }
   ],
   "source": [
    "test['Age'] = abs(test['DAYS_BIRTH'])/365\n",
    "test = test.astype({'Age': 'int'})\n",
    "for i in range(0,len(test['Age'])):\n",
    "  if 20<= test['Age'][i]<= 29:\n",
    "    test['Age'][i] = 20\n",
    "  elif 30<= test['Age'][i]<= 39:\n",
    "    test['Age'][i] = 30\n",
    "  elif 40<= test['Age'][i]<= 49:\n",
    "    test['Age'][i] = 40\n",
    "  elif 50<= test['Age'][i]<= 59:\n",
    "    test['Age'][i] = 50\n",
    "  elif 60<= test['Age'][i]<= 69:\n",
    "    test['Age'][i] = 60\n",
    "test['Age'].value_counts()"
   ]
  },
  {
   "cell_type": "code",
   "execution_count": 81,
   "metadata": {},
   "outputs": [
    {
     "output_type": "execute_result",
     "data": {
      "text/plain": [
       "     gender car reality  child_num  income_total           income_type  \\\n",
       "0         M   Y       N          0      112500.0             Pensioner   \n",
       "1         F   N       Y          0      135000.0         State servant   \n",
       "2         F   N       Y          0       69372.0               Working   \n",
       "3         M   Y       N          0      112500.0  Commercial associate   \n",
       "4         F   Y       Y          0      225000.0         State servant   \n",
       "...     ...  ..     ...        ...           ...                   ...   \n",
       "9995      F   Y       Y          0      202500.0               Working   \n",
       "9996      M   Y       Y          0      202500.0               Working   \n",
       "9997      F   N       Y          0      292500.0               Working   \n",
       "9998      F   Y       N          0      180000.0  Commercial associate   \n",
       "9999      F   N       Y          0      270000.0               Working   \n",
       "\n",
       "                           edu_type     family_type         house_type  \\\n",
       "0     Secondary / secondary special  Civil marriage  House / apartment   \n",
       "1                  Higher education         Married  House / apartment   \n",
       "2     Secondary / secondary special         Married  House / apartment   \n",
       "3     Secondary / secondary special         Married  House / apartment   \n",
       "4                  Higher education         Married  House / apartment   \n",
       "...                             ...             ...                ...   \n",
       "9995              Incomplete higher         Married  House / apartment   \n",
       "9996  Secondary / secondary special  Civil marriage  House / apartment   \n",
       "9997  Secondary / secondary special         Married  House / apartment   \n",
       "9998  Secondary / secondary special         Married  House / apartment   \n",
       "9999               Higher education         Married  House / apartment   \n",
       "\n",
       "      DAYS_EMPLOYED  work_phone  phone  email      occyp_type  family_size  \\\n",
       "0            365243           0      1      0             NaN          2.0   \n",
       "1             -8671           0      1      0      Core staff          2.0   \n",
       "2              -217           1      1      0        Laborers          2.0   \n",
       "3             -2531           1      0      0         Drivers          2.0   \n",
       "4             -9385           1      0      0        Managers          2.0   \n",
       "...             ...         ...    ...    ...             ...          ...   \n",
       "9995          -5434           1      1      0     Accountants          2.0   \n",
       "9996          -1315           1      0      0        Laborers          2.0   \n",
       "9997         -14018           0      0      0  Medicine staff          2.0   \n",
       "9998          -1085           0      1      0             NaN          2.0   \n",
       "9999           -187           0      0      1        Laborers          2.0   \n",
       "\n",
       "      begin_month  Age  \n",
       "0           -60.0   60  \n",
       "1           -36.0   50  \n",
       "2           -40.0   40  \n",
       "3           -41.0   50  \n",
       "4            -8.0   40  \n",
       "...           ...  ...  \n",
       "9995        -19.0   50  \n",
       "9996        -34.0   20  \n",
       "9997        -55.0   50  \n",
       "9998        -33.0   40  \n",
       "9999        -11.0   20  \n",
       "\n",
       "[10000 rows x 17 columns]"
      ],
      "text/html": "<div>\n<style scoped>\n    .dataframe tbody tr th:only-of-type {\n        vertical-align: middle;\n    }\n\n    .dataframe tbody tr th {\n        vertical-align: top;\n    }\n\n    .dataframe thead th {\n        text-align: right;\n    }\n</style>\n<table border=\"1\" class=\"dataframe\">\n  <thead>\n    <tr style=\"text-align: right;\">\n      <th></th>\n      <th>gender</th>\n      <th>car</th>\n      <th>reality</th>\n      <th>child_num</th>\n      <th>income_total</th>\n      <th>income_type</th>\n      <th>edu_type</th>\n      <th>family_type</th>\n      <th>house_type</th>\n      <th>DAYS_EMPLOYED</th>\n      <th>work_phone</th>\n      <th>phone</th>\n      <th>email</th>\n      <th>occyp_type</th>\n      <th>family_size</th>\n      <th>begin_month</th>\n      <th>Age</th>\n    </tr>\n  </thead>\n  <tbody>\n    <tr>\n      <th>0</th>\n      <td>M</td>\n      <td>Y</td>\n      <td>N</td>\n      <td>0</td>\n      <td>112500.0</td>\n      <td>Pensioner</td>\n      <td>Secondary / secondary special</td>\n      <td>Civil marriage</td>\n      <td>House / apartment</td>\n      <td>365243</td>\n      <td>0</td>\n      <td>1</td>\n      <td>0</td>\n      <td>NaN</td>\n      <td>2.0</td>\n      <td>-60.0</td>\n      <td>60</td>\n    </tr>\n    <tr>\n      <th>1</th>\n      <td>F</td>\n      <td>N</td>\n      <td>Y</td>\n      <td>0</td>\n      <td>135000.0</td>\n      <td>State servant</td>\n      <td>Higher education</td>\n      <td>Married</td>\n      <td>House / apartment</td>\n      <td>-8671</td>\n      <td>0</td>\n      <td>1</td>\n      <td>0</td>\n      <td>Core staff</td>\n      <td>2.0</td>\n      <td>-36.0</td>\n      <td>50</td>\n    </tr>\n    <tr>\n      <th>2</th>\n      <td>F</td>\n      <td>N</td>\n      <td>Y</td>\n      <td>0</td>\n      <td>69372.0</td>\n      <td>Working</td>\n      <td>Secondary / secondary special</td>\n      <td>Married</td>\n      <td>House / apartment</td>\n      <td>-217</td>\n      <td>1</td>\n      <td>1</td>\n      <td>0</td>\n      <td>Laborers</td>\n      <td>2.0</td>\n      <td>-40.0</td>\n      <td>40</td>\n    </tr>\n    <tr>\n      <th>3</th>\n      <td>M</td>\n      <td>Y</td>\n      <td>N</td>\n      <td>0</td>\n      <td>112500.0</td>\n      <td>Commercial associate</td>\n      <td>Secondary / secondary special</td>\n      <td>Married</td>\n      <td>House / apartment</td>\n      <td>-2531</td>\n      <td>1</td>\n      <td>0</td>\n      <td>0</td>\n      <td>Drivers</td>\n      <td>2.0</td>\n      <td>-41.0</td>\n      <td>50</td>\n    </tr>\n    <tr>\n      <th>4</th>\n      <td>F</td>\n      <td>Y</td>\n      <td>Y</td>\n      <td>0</td>\n      <td>225000.0</td>\n      <td>State servant</td>\n      <td>Higher education</td>\n      <td>Married</td>\n      <td>House / apartment</td>\n      <td>-9385</td>\n      <td>1</td>\n      <td>0</td>\n      <td>0</td>\n      <td>Managers</td>\n      <td>2.0</td>\n      <td>-8.0</td>\n      <td>40</td>\n    </tr>\n    <tr>\n      <th>...</th>\n      <td>...</td>\n      <td>...</td>\n      <td>...</td>\n      <td>...</td>\n      <td>...</td>\n      <td>...</td>\n      <td>...</td>\n      <td>...</td>\n      <td>...</td>\n      <td>...</td>\n      <td>...</td>\n      <td>...</td>\n      <td>...</td>\n      <td>...</td>\n      <td>...</td>\n      <td>...</td>\n      <td>...</td>\n    </tr>\n    <tr>\n      <th>9995</th>\n      <td>F</td>\n      <td>Y</td>\n      <td>Y</td>\n      <td>0</td>\n      <td>202500.0</td>\n      <td>Working</td>\n      <td>Incomplete higher</td>\n      <td>Married</td>\n      <td>House / apartment</td>\n      <td>-5434</td>\n      <td>1</td>\n      <td>1</td>\n      <td>0</td>\n      <td>Accountants</td>\n      <td>2.0</td>\n      <td>-19.0</td>\n      <td>50</td>\n    </tr>\n    <tr>\n      <th>9996</th>\n      <td>M</td>\n      <td>Y</td>\n      <td>Y</td>\n      <td>0</td>\n      <td>202500.0</td>\n      <td>Working</td>\n      <td>Secondary / secondary special</td>\n      <td>Civil marriage</td>\n      <td>House / apartment</td>\n      <td>-1315</td>\n      <td>1</td>\n      <td>0</td>\n      <td>0</td>\n      <td>Laborers</td>\n      <td>2.0</td>\n      <td>-34.0</td>\n      <td>20</td>\n    </tr>\n    <tr>\n      <th>9997</th>\n      <td>F</td>\n      <td>N</td>\n      <td>Y</td>\n      <td>0</td>\n      <td>292500.0</td>\n      <td>Working</td>\n      <td>Secondary / secondary special</td>\n      <td>Married</td>\n      <td>House / apartment</td>\n      <td>-14018</td>\n      <td>0</td>\n      <td>0</td>\n      <td>0</td>\n      <td>Medicine staff</td>\n      <td>2.0</td>\n      <td>-55.0</td>\n      <td>50</td>\n    </tr>\n    <tr>\n      <th>9998</th>\n      <td>F</td>\n      <td>Y</td>\n      <td>N</td>\n      <td>0</td>\n      <td>180000.0</td>\n      <td>Commercial associate</td>\n      <td>Secondary / secondary special</td>\n      <td>Married</td>\n      <td>House / apartment</td>\n      <td>-1085</td>\n      <td>0</td>\n      <td>1</td>\n      <td>0</td>\n      <td>NaN</td>\n      <td>2.0</td>\n      <td>-33.0</td>\n      <td>40</td>\n    </tr>\n    <tr>\n      <th>9999</th>\n      <td>F</td>\n      <td>N</td>\n      <td>Y</td>\n      <td>0</td>\n      <td>270000.0</td>\n      <td>Working</td>\n      <td>Higher education</td>\n      <td>Married</td>\n      <td>House / apartment</td>\n      <td>-187</td>\n      <td>0</td>\n      <td>0</td>\n      <td>1</td>\n      <td>Laborers</td>\n      <td>2.0</td>\n      <td>-11.0</td>\n      <td>20</td>\n    </tr>\n  </tbody>\n</table>\n<p>10000 rows × 17 columns</p>\n</div>"
     },
     "metadata": {},
     "execution_count": 81
    }
   ],
   "source": [
    "train.drop(['DAYS_BIRTH'], axis=1)\n",
    "test.drop(['DAYS_BIRTH'], axis=1)"
   ]
  },
  {
   "source": [
    "## 음수 feature 구간화\n",
    "\n",
    "- 팀원 시각화 결과 500개로 구간화 하는 것으로 결정"
   ],
   "cell_type": "markdown",
   "metadata": {}
  },
  {
   "cell_type": "code",
   "execution_count": 82,
   "metadata": {},
   "outputs": [],
   "source": [
    "from sklearn.preprocessing import LabelEncoder\n",
    "\n",
    "label_encoder = LabelEncoder()\n",
    "\n",
    "#minus 변경하고\n",
    "#구간화 함수\n",
    "def make_bin(variable, n):\n",
    "    train[variable]=-train[variable]\n",
    "    test[variable]=-test[variable]\n",
    "    count, bin_dividers = np.histogram(train[variable], bins=n) #train의 구간화를 적용\n",
    "\n",
    "    bin_names=[str(i) for i in range(n)]\n",
    "\n",
    "    train[variable]=pd.cut(x=train[variable], bins=bin_dividers, labels=bin_names, include_lowest=True)\n",
    "    test[variable]=pd.cut(x=test[variable], bins=bin_dividers, labels=bin_names, include_lowest=True)\n",
    "    test[variable].fillna(str(0), inplace=True) #test에는 없는 것을 임의의 값으로 채움"
   ]
  },
  {
   "cell_type": "code",
   "execution_count": 83,
   "metadata": {},
   "outputs": [],
   "source": [
    "# make_bin('DAYS_BIRTH', n=500)\n",
    "make_bin('DAYS_EMPLOYED', n=500)\n",
    "make_bin('begin_month', n=500)"
   ]
  },
  {
   "cell_type": "code",
   "execution_count": 84,
   "metadata": {},
   "outputs": [
    {
     "output_type": "execute_result",
     "data": {
      "text/plain": [
       "480    4484\n",
       "0      4438\n",
       "481    3940\n",
       "482    3036\n",
       "479    2668\n",
       "       ... \n",
       "176       0\n",
       "175       0\n",
       "174       0\n",
       "173       0\n",
       "250       0\n",
       "Name: DAYS_EMPLOYED, Length: 500, dtype: int64"
      ]
     },
     "metadata": {},
     "execution_count": 84
    }
   ],
   "source": [
    "train[\"DAYS_EMPLOYED\"].value_counts()"
   ]
  },
  {
   "cell_type": "code",
   "execution_count": 85,
   "metadata": {},
   "outputs": [
    {
     "output_type": "execute_result",
     "data": {
      "text/plain": [
       "58     662\n",
       "91     617\n",
       "66     612\n",
       "24     593\n",
       "83     591\n",
       "      ... \n",
       "203      0\n",
       "202      0\n",
       "201      0\n",
       "200      0\n",
       "250      0\n",
       "Name: begin_month, Length: 500, dtype: int64"
      ]
     },
     "metadata": {},
     "execution_count": 85
    }
   ],
   "source": [
    "train[\"begin_month\"].value_counts()"
   ]
  },
  {
   "source": [
    "## Occyp_type\n",
    "\n",
    "- 많이 출현한 값부터 차례로 가장 높은 숫자 부여 or LebelEncoder\n",
    "    - case가 19가지 이므로 0~18까지 feature값이 크게 차이남.\n",
    "- One hot Encoding 으로 시도!"
   ],
   "cell_type": "markdown",
   "metadata": {}
  },
  {
   "cell_type": "code",
   "execution_count": 86,
   "metadata": {},
   "outputs": [
    {
     "output_type": "execute_result",
     "data": {
      "text/plain": [
       "array([nan, 'Laborers', 'Managers', 'Sales staff',\n",
       "       'High skill tech staff', 'Core staff', 'Drivers', 'Medicine staff',\n",
       "       'Accountants', 'Realty agents', 'Security staff', 'Cleaning staff',\n",
       "       'Private service staff', 'Cooking staff', 'Secretaries',\n",
       "       'HR staff', 'IT staff', 'Low-skill Laborers',\n",
       "       'Waiters/barmen staff'], dtype=object)"
      ]
     },
     "metadata": {},
     "execution_count": 86
    }
   ],
   "source": [
    "train['occyp_type'].unique()"
   ]
  },
  {
   "cell_type": "code",
   "execution_count": 87,
   "metadata": {},
   "outputs": [
    {
     "output_type": "execute_result",
     "data": {
      "text/plain": [
       "Laborers                 4512\n",
       "Core staff               2646\n",
       "Sales staff              2539\n",
       "Managers                 2167\n",
       "Drivers                  1575\n",
       "High skill tech staff    1040\n",
       "Accountants               902\n",
       "Medicine staff            864\n",
       "Cooking staff             457\n",
       "Security staff            424\n",
       "Cleaning staff            403\n",
       "Private service staff     243\n",
       "Low-skill Laborers        127\n",
       "Waiters/barmen staff      124\n",
       "Secretaries                97\n",
       "Realty agents              63\n",
       "HR staff                   62\n",
       "IT staff                   41\n",
       "Name: occyp_type, dtype: int64"
      ]
     },
     "metadata": {},
     "execution_count": 87
    }
   ],
   "source": [
    "train['occyp_type'].value_counts()"
   ]
  },
  {
   "cell_type": "code",
   "execution_count": 88,
   "metadata": {},
   "outputs": [
    {
     "output_type": "stream",
     "name": "stdout",
     "text": [
      "nan rate : 30.884076047926822\n"
     ]
    }
   ],
   "source": [
    "print(f\"nan rate : {np.sum(train['occyp_type'].isnull()) / len(train) * 100}\")"
   ]
  },
  {
   "cell_type": "code",
   "execution_count": 89,
   "metadata": {},
   "outputs": [
    {
     "output_type": "stream",
     "name": "stdout",
     "text": [
      "0\n"
     ]
    }
   ],
   "source": [
    "train['occyp_type'] = train['occyp_type'].fillna(\"Unknown\")\n",
    "print(np.sum(train['occyp_type'].isnull()))"
   ]
  },
  {
   "cell_type": "code",
   "execution_count": 90,
   "metadata": {},
   "outputs": [
    {
     "output_type": "stream",
     "name": "stdout",
     "text": [
      "nan rate : 31.52\n"
     ]
    }
   ],
   "source": [
    "print(f\"nan rate : {np.sum(test['occyp_type'].isnull()) / len(test) * 100}\")"
   ]
  },
  {
   "cell_type": "code",
   "execution_count": 91,
   "metadata": {},
   "outputs": [
    {
     "output_type": "stream",
     "name": "stdout",
     "text": [
      "0\n"
     ]
    }
   ],
   "source": [
    "test['occyp_type'] = test['occyp_type'].fillna(\"Unknown\")\n",
    "print(np.sum(test['occyp_type'].isnull()))"
   ]
  },
  {
   "cell_type": "code",
   "execution_count": 92,
   "metadata": {},
   "outputs": [
    {
     "output_type": "stream",
     "name": "stdout",
     "text": [
      "Unknown                  8171\nLaborers                 4512\nCore staff               2646\nSales staff              2539\nManagers                 2167\nDrivers                  1575\nHigh skill tech staff    1040\nAccountants               902\nMedicine staff            864\nCooking staff             457\nSecurity staff            424\nCleaning staff            403\nPrivate service staff     243\nLow-skill Laborers        127\nWaiters/barmen staff      124\nSecretaries                97\nRealty agents              63\nHR staff                   62\nIT staff                   41\nName: occyp_type, dtype: int64\n"
     ]
    },
    {
     "output_type": "execute_result",
     "data": {
      "text/plain": [
       "['Unknown',\n",
       " 'Laborers',\n",
       " 'Core staff',\n",
       " 'Sales staff',\n",
       " 'Managers',\n",
       " 'Drivers',\n",
       " 'High skill tech staff',\n",
       " 'Accountants',\n",
       " 'Medicine staff',\n",
       " 'Cooking staff',\n",
       " 'Security staff',\n",
       " 'Cleaning staff',\n",
       " 'Private service staff',\n",
       " 'Low-skill Laborers',\n",
       " 'Waiters/barmen staff',\n",
       " 'Secretaries',\n",
       " 'Realty agents',\n",
       " 'HR staff',\n",
       " 'IT staff']"
      ]
     },
     "metadata": {},
     "execution_count": 92
    }
   ],
   "source": [
    "occyp = train['occyp_type'].value_counts()\n",
    "\n",
    "print(occyp)\n",
    "\n",
    "occyp = pd.DataFrame(occyp)\n",
    "\n",
    "occyp_list = list(occyp.index)\n",
    "\n",
    "occyp_list"
   ]
  },
  {
   "cell_type": "code",
   "execution_count": 93,
   "metadata": {},
   "outputs": [],
   "source": [
    "train = pd.get_dummies(train, columns=['occyp_type'])\n",
    "test = pd.get_dummies(test, columns=['occyp_type'])"
   ]
  },
  {
   "cell_type": "code",
   "execution_count": 94,
   "metadata": {},
   "outputs": [
    {
     "output_type": "execute_result",
     "data": {
      "text/plain": [
       "      gender car reality  child_num  income_total           income_type  \\\n",
       "0          F   N       N          0      202500.0  Commercial associate   \n",
       "1          F   N       Y          1      247500.0  Commercial associate   \n",
       "2          M   Y       Y          0      450000.0               Working   \n",
       "3          F   N       Y          0      202500.0  Commercial associate   \n",
       "4          F   Y       Y          0      157500.0         State servant   \n",
       "...      ...  ..     ...        ...           ...                   ...   \n",
       "26452      F   N       N          2      225000.0         State servant   \n",
       "26453      F   N       Y          1      180000.0               Working   \n",
       "26454      F   Y       N          0      292500.0               Working   \n",
       "26455      M   N       Y          0      171000.0               Working   \n",
       "26456      F   N       N          0       81000.0               Working   \n",
       "\n",
       "                            edu_type           family_type  \\\n",
       "0                   Higher education               Married   \n",
       "1      Secondary / secondary special        Civil marriage   \n",
       "2                   Higher education               Married   \n",
       "3      Secondary / secondary special               Married   \n",
       "4                   Higher education               Married   \n",
       "...                              ...                   ...   \n",
       "26452  Secondary / secondary special               Married   \n",
       "26453               Higher education             Separated   \n",
       "26454  Secondary / secondary special        Civil marriage   \n",
       "26455              Incomplete higher  Single / not married   \n",
       "26456  Secondary / secondary special        Civil marriage   \n",
       "\n",
       "                house_type  DAYS_BIRTH DAYS_EMPLOYED  work_phone  phone  \\\n",
       "0      Municipal apartment      -13899           485           0      0   \n",
       "1        House / apartment      -11380           481           0      0   \n",
       "2        House / apartment      -19087           485           0      1   \n",
       "3        House / apartment      -15088           482           0      1   \n",
       "4        House / apartment      -15037           482           0      0   \n",
       "...                    ...         ...           ...         ...    ...   \n",
       "26452    House / apartment      -12079           481           0      0   \n",
       "26453    House / apartment      -15291           482           0      0   \n",
       "26454         With parents      -10082           482           0      0   \n",
       "26455    House / apartment      -10145           479           0      0   \n",
       "26456    House / apartment      -19569           480           0      0   \n",
       "\n",
       "       email  family_size begin_month  credit  Age  occyp_type_Accountants  \\\n",
       "0          0          2.0          49     1.0   30                       0   \n",
       "1          1          3.0          41     1.0   30                       0   \n",
       "2          0          2.0         183     2.0   50                       0   \n",
       "3          0          2.0         308     0.0   40                       0   \n",
       "4          0          2.0         216     2.0   40                       0   \n",
       "...      ...          ...         ...     ...  ...                     ...   \n",
       "26452      0          4.0          16     1.0   30                       0   \n",
       "26453      0          2.0         391     2.0   40                       0   \n",
       "26454      0          2.0         208     2.0   20                       0   \n",
       "26455      0          1.0         491     2.0   20                       0   \n",
       "26456      0          2.0          74     2.0   50                       0   \n",
       "\n",
       "       occyp_type_Cleaning staff  occyp_type_Cooking staff  \\\n",
       "0                              0                         0   \n",
       "1                              0                         0   \n",
       "2                              0                         0   \n",
       "3                              0                         0   \n",
       "4                              0                         0   \n",
       "...                          ...                       ...   \n",
       "26452                          0                         0   \n",
       "26453                          0                         0   \n",
       "26454                          0                         0   \n",
       "26455                          0                         0   \n",
       "26456                          0                         0   \n",
       "\n",
       "       occyp_type_Core staff  occyp_type_Drivers  occyp_type_HR staff  \\\n",
       "0                          0                   0                    0   \n",
       "1                          0                   0                    0   \n",
       "2                          0                   0                    0   \n",
       "3                          0                   0                    0   \n",
       "4                          0                   0                    0   \n",
       "...                      ...                 ...                  ...   \n",
       "26452                      1                   0                    0   \n",
       "26453                      0                   0                    0   \n",
       "26454                      1                   0                    0   \n",
       "26455                      0                   0                    0   \n",
       "26456                      0                   0                    0   \n",
       "\n",
       "       occyp_type_High skill tech staff  occyp_type_IT staff  \\\n",
       "0                                     0                    0   \n",
       "1                                     0                    0   \n",
       "2                                     0                    0   \n",
       "3                                     0                    0   \n",
       "4                                     0                    0   \n",
       "...                                 ...                  ...   \n",
       "26452                                 0                    0   \n",
       "26453                                 0                    0   \n",
       "26454                                 0                    0   \n",
       "26455                                 0                    0   \n",
       "26456                                 0                    0   \n",
       "\n",
       "       occyp_type_Laborers  occyp_type_Low-skill Laborers  \\\n",
       "0                        0                              0   \n",
       "1                        1                              0   \n",
       "2                        0                              0   \n",
       "3                        0                              0   \n",
       "4                        0                              0   \n",
       "...                    ...                            ...   \n",
       "26452                    0                              0   \n",
       "26453                    0                              0   \n",
       "26454                    0                              0   \n",
       "26455                    1                              0   \n",
       "26456                    0                              0   \n",
       "\n",
       "       occyp_type_Managers  occyp_type_Medicine staff  \\\n",
       "0                        0                          0   \n",
       "1                        0                          0   \n",
       "2                        1                          0   \n",
       "3                        0                          0   \n",
       "4                        1                          0   \n",
       "...                    ...                        ...   \n",
       "26452                    0                          0   \n",
       "26453                    0                          0   \n",
       "26454                    0                          0   \n",
       "26455                    0                          0   \n",
       "26456                    0                          0   \n",
       "\n",
       "       occyp_type_Private service staff  occyp_type_Realty agents  \\\n",
       "0                                     0                         0   \n",
       "1                                     0                         0   \n",
       "2                                     0                         0   \n",
       "3                                     0                         0   \n",
       "4                                     0                         0   \n",
       "...                                 ...                       ...   \n",
       "26452                                 0                         0   \n",
       "26453                                 0                         0   \n",
       "26454                                 0                         0   \n",
       "26455                                 0                         0   \n",
       "26456                                 0                         0   \n",
       "\n",
       "       occyp_type_Sales staff  occyp_type_Secretaries  \\\n",
       "0                           0                       0   \n",
       "1                           0                       0   \n",
       "2                           0                       0   \n",
       "3                           1                       0   \n",
       "4                           0                       0   \n",
       "...                       ...                     ...   \n",
       "26452                       0                       0   \n",
       "26453                       0                       0   \n",
       "26454                       0                       0   \n",
       "26455                       0                       0   \n",
       "26456                       0                       0   \n",
       "\n",
       "       occyp_type_Security staff  occyp_type_Unknown  \\\n",
       "0                              0                   1   \n",
       "1                              0                   0   \n",
       "2                              0                   0   \n",
       "3                              0                   0   \n",
       "4                              0                   0   \n",
       "...                          ...                 ...   \n",
       "26452                          0                   0   \n",
       "26453                          0                   1   \n",
       "26454                          0                   0   \n",
       "26455                          0                   0   \n",
       "26456                          1                   0   \n",
       "\n",
       "       occyp_type_Waiters/barmen staff  \n",
       "0                                    0  \n",
       "1                                    0  \n",
       "2                                    0  \n",
       "3                                    0  \n",
       "4                                    0  \n",
       "...                                ...  \n",
       "26452                                0  \n",
       "26453                                0  \n",
       "26454                                0  \n",
       "26455                                0  \n",
       "26456                                0  \n",
       "\n",
       "[26457 rows x 37 columns]"
      ],
      "text/html": "<div>\n<style scoped>\n    .dataframe tbody tr th:only-of-type {\n        vertical-align: middle;\n    }\n\n    .dataframe tbody tr th {\n        vertical-align: top;\n    }\n\n    .dataframe thead th {\n        text-align: right;\n    }\n</style>\n<table border=\"1\" class=\"dataframe\">\n  <thead>\n    <tr style=\"text-align: right;\">\n      <th></th>\n      <th>gender</th>\n      <th>car</th>\n      <th>reality</th>\n      <th>child_num</th>\n      <th>income_total</th>\n      <th>income_type</th>\n      <th>edu_type</th>\n      <th>family_type</th>\n      <th>house_type</th>\n      <th>DAYS_BIRTH</th>\n      <th>DAYS_EMPLOYED</th>\n      <th>work_phone</th>\n      <th>phone</th>\n      <th>email</th>\n      <th>family_size</th>\n      <th>begin_month</th>\n      <th>credit</th>\n      <th>Age</th>\n      <th>occyp_type_Accountants</th>\n      <th>occyp_type_Cleaning staff</th>\n      <th>occyp_type_Cooking staff</th>\n      <th>occyp_type_Core staff</th>\n      <th>occyp_type_Drivers</th>\n      <th>occyp_type_HR staff</th>\n      <th>occyp_type_High skill tech staff</th>\n      <th>occyp_type_IT staff</th>\n      <th>occyp_type_Laborers</th>\n      <th>occyp_type_Low-skill Laborers</th>\n      <th>occyp_type_Managers</th>\n      <th>occyp_type_Medicine staff</th>\n      <th>occyp_type_Private service staff</th>\n      <th>occyp_type_Realty agents</th>\n      <th>occyp_type_Sales staff</th>\n      <th>occyp_type_Secretaries</th>\n      <th>occyp_type_Security staff</th>\n      <th>occyp_type_Unknown</th>\n      <th>occyp_type_Waiters/barmen staff</th>\n    </tr>\n  </thead>\n  <tbody>\n    <tr>\n      <th>0</th>\n      <td>F</td>\n      <td>N</td>\n      <td>N</td>\n      <td>0</td>\n      <td>202500.0</td>\n      <td>Commercial associate</td>\n      <td>Higher education</td>\n      <td>Married</td>\n      <td>Municipal apartment</td>\n      <td>-13899</td>\n      <td>485</td>\n      <td>0</td>\n      <td>0</td>\n      <td>0</td>\n      <td>2.0</td>\n      <td>49</td>\n      <td>1.0</td>\n      <td>30</td>\n      <td>0</td>\n      <td>0</td>\n      <td>0</td>\n      <td>0</td>\n      <td>0</td>\n      <td>0</td>\n      <td>0</td>\n      <td>0</td>\n      <td>0</td>\n      <td>0</td>\n      <td>0</td>\n      <td>0</td>\n      <td>0</td>\n      <td>0</td>\n      <td>0</td>\n      <td>0</td>\n      <td>0</td>\n      <td>1</td>\n      <td>0</td>\n    </tr>\n    <tr>\n      <th>1</th>\n      <td>F</td>\n      <td>N</td>\n      <td>Y</td>\n      <td>1</td>\n      <td>247500.0</td>\n      <td>Commercial associate</td>\n      <td>Secondary / secondary special</td>\n      <td>Civil marriage</td>\n      <td>House / apartment</td>\n      <td>-11380</td>\n      <td>481</td>\n      <td>0</td>\n      <td>0</td>\n      <td>1</td>\n      <td>3.0</td>\n      <td>41</td>\n      <td>1.0</td>\n      <td>30</td>\n      <td>0</td>\n      <td>0</td>\n      <td>0</td>\n      <td>0</td>\n      <td>0</td>\n      <td>0</td>\n      <td>0</td>\n      <td>0</td>\n      <td>1</td>\n      <td>0</td>\n      <td>0</td>\n      <td>0</td>\n      <td>0</td>\n      <td>0</td>\n      <td>0</td>\n      <td>0</td>\n      <td>0</td>\n      <td>0</td>\n      <td>0</td>\n    </tr>\n    <tr>\n      <th>2</th>\n      <td>M</td>\n      <td>Y</td>\n      <td>Y</td>\n      <td>0</td>\n      <td>450000.0</td>\n      <td>Working</td>\n      <td>Higher education</td>\n      <td>Married</td>\n      <td>House / apartment</td>\n      <td>-19087</td>\n      <td>485</td>\n      <td>0</td>\n      <td>1</td>\n      <td>0</td>\n      <td>2.0</td>\n      <td>183</td>\n      <td>2.0</td>\n      <td>50</td>\n      <td>0</td>\n      <td>0</td>\n      <td>0</td>\n      <td>0</td>\n      <td>0</td>\n      <td>0</td>\n      <td>0</td>\n      <td>0</td>\n      <td>0</td>\n      <td>0</td>\n      <td>1</td>\n      <td>0</td>\n      <td>0</td>\n      <td>0</td>\n      <td>0</td>\n      <td>0</td>\n      <td>0</td>\n      <td>0</td>\n      <td>0</td>\n    </tr>\n    <tr>\n      <th>3</th>\n      <td>F</td>\n      <td>N</td>\n      <td>Y</td>\n      <td>0</td>\n      <td>202500.0</td>\n      <td>Commercial associate</td>\n      <td>Secondary / secondary special</td>\n      <td>Married</td>\n      <td>House / apartment</td>\n      <td>-15088</td>\n      <td>482</td>\n      <td>0</td>\n      <td>1</td>\n      <td>0</td>\n      <td>2.0</td>\n      <td>308</td>\n      <td>0.0</td>\n      <td>40</td>\n      <td>0</td>\n      <td>0</td>\n      <td>0</td>\n      <td>0</td>\n      <td>0</td>\n      <td>0</td>\n      <td>0</td>\n      <td>0</td>\n      <td>0</td>\n      <td>0</td>\n      <td>0</td>\n      <td>0</td>\n      <td>0</td>\n      <td>0</td>\n      <td>1</td>\n      <td>0</td>\n      <td>0</td>\n      <td>0</td>\n      <td>0</td>\n    </tr>\n    <tr>\n      <th>4</th>\n      <td>F</td>\n      <td>Y</td>\n      <td>Y</td>\n      <td>0</td>\n      <td>157500.0</td>\n      <td>State servant</td>\n      <td>Higher education</td>\n      <td>Married</td>\n      <td>House / apartment</td>\n      <td>-15037</td>\n      <td>482</td>\n      <td>0</td>\n      <td>0</td>\n      <td>0</td>\n      <td>2.0</td>\n      <td>216</td>\n      <td>2.0</td>\n      <td>40</td>\n      <td>0</td>\n      <td>0</td>\n      <td>0</td>\n      <td>0</td>\n      <td>0</td>\n      <td>0</td>\n      <td>0</td>\n      <td>0</td>\n      <td>0</td>\n      <td>0</td>\n      <td>1</td>\n      <td>0</td>\n      <td>0</td>\n      <td>0</td>\n      <td>0</td>\n      <td>0</td>\n      <td>0</td>\n      <td>0</td>\n      <td>0</td>\n    </tr>\n    <tr>\n      <th>...</th>\n      <td>...</td>\n      <td>...</td>\n      <td>...</td>\n      <td>...</td>\n      <td>...</td>\n      <td>...</td>\n      <td>...</td>\n      <td>...</td>\n      <td>...</td>\n      <td>...</td>\n      <td>...</td>\n      <td>...</td>\n      <td>...</td>\n      <td>...</td>\n      <td>...</td>\n      <td>...</td>\n      <td>...</td>\n      <td>...</td>\n      <td>...</td>\n      <td>...</td>\n      <td>...</td>\n      <td>...</td>\n      <td>...</td>\n      <td>...</td>\n      <td>...</td>\n      <td>...</td>\n      <td>...</td>\n      <td>...</td>\n      <td>...</td>\n      <td>...</td>\n      <td>...</td>\n      <td>...</td>\n      <td>...</td>\n      <td>...</td>\n      <td>...</td>\n      <td>...</td>\n      <td>...</td>\n    </tr>\n    <tr>\n      <th>26452</th>\n      <td>F</td>\n      <td>N</td>\n      <td>N</td>\n      <td>2</td>\n      <td>225000.0</td>\n      <td>State servant</td>\n      <td>Secondary / secondary special</td>\n      <td>Married</td>\n      <td>House / apartment</td>\n      <td>-12079</td>\n      <td>481</td>\n      <td>0</td>\n      <td>0</td>\n      <td>0</td>\n      <td>4.0</td>\n      <td>16</td>\n      <td>1.0</td>\n      <td>30</td>\n      <td>0</td>\n      <td>0</td>\n      <td>0</td>\n      <td>1</td>\n      <td>0</td>\n      <td>0</td>\n      <td>0</td>\n      <td>0</td>\n      <td>0</td>\n      <td>0</td>\n      <td>0</td>\n      <td>0</td>\n      <td>0</td>\n      <td>0</td>\n      <td>0</td>\n      <td>0</td>\n      <td>0</td>\n      <td>0</td>\n      <td>0</td>\n    </tr>\n    <tr>\n      <th>26453</th>\n      <td>F</td>\n      <td>N</td>\n      <td>Y</td>\n      <td>1</td>\n      <td>180000.0</td>\n      <td>Working</td>\n      <td>Higher education</td>\n      <td>Separated</td>\n      <td>House / apartment</td>\n      <td>-15291</td>\n      <td>482</td>\n      <td>0</td>\n      <td>0</td>\n      <td>0</td>\n      <td>2.0</td>\n      <td>391</td>\n      <td>2.0</td>\n      <td>40</td>\n      <td>0</td>\n      <td>0</td>\n      <td>0</td>\n      <td>0</td>\n      <td>0</td>\n      <td>0</td>\n      <td>0</td>\n      <td>0</td>\n      <td>0</td>\n      <td>0</td>\n      <td>0</td>\n      <td>0</td>\n      <td>0</td>\n      <td>0</td>\n      <td>0</td>\n      <td>0</td>\n      <td>0</td>\n      <td>1</td>\n      <td>0</td>\n    </tr>\n    <tr>\n      <th>26454</th>\n      <td>F</td>\n      <td>Y</td>\n      <td>N</td>\n      <td>0</td>\n      <td>292500.0</td>\n      <td>Working</td>\n      <td>Secondary / secondary special</td>\n      <td>Civil marriage</td>\n      <td>With parents</td>\n      <td>-10082</td>\n      <td>482</td>\n      <td>0</td>\n      <td>0</td>\n      <td>0</td>\n      <td>2.0</td>\n      <td>208</td>\n      <td>2.0</td>\n      <td>20</td>\n      <td>0</td>\n      <td>0</td>\n      <td>0</td>\n      <td>1</td>\n      <td>0</td>\n      <td>0</td>\n      <td>0</td>\n      <td>0</td>\n      <td>0</td>\n      <td>0</td>\n      <td>0</td>\n      <td>0</td>\n      <td>0</td>\n      <td>0</td>\n      <td>0</td>\n      <td>0</td>\n      <td>0</td>\n      <td>0</td>\n      <td>0</td>\n    </tr>\n    <tr>\n      <th>26455</th>\n      <td>M</td>\n      <td>N</td>\n      <td>Y</td>\n      <td>0</td>\n      <td>171000.0</td>\n      <td>Working</td>\n      <td>Incomplete higher</td>\n      <td>Single / not married</td>\n      <td>House / apartment</td>\n      <td>-10145</td>\n      <td>479</td>\n      <td>0</td>\n      <td>0</td>\n      <td>0</td>\n      <td>1.0</td>\n      <td>491</td>\n      <td>2.0</td>\n      <td>20</td>\n      <td>0</td>\n      <td>0</td>\n      <td>0</td>\n      <td>0</td>\n      <td>0</td>\n      <td>0</td>\n      <td>0</td>\n      <td>0</td>\n      <td>1</td>\n      <td>0</td>\n      <td>0</td>\n      <td>0</td>\n      <td>0</td>\n      <td>0</td>\n      <td>0</td>\n      <td>0</td>\n      <td>0</td>\n      <td>0</td>\n      <td>0</td>\n    </tr>\n    <tr>\n      <th>26456</th>\n      <td>F</td>\n      <td>N</td>\n      <td>N</td>\n      <td>0</td>\n      <td>81000.0</td>\n      <td>Working</td>\n      <td>Secondary / secondary special</td>\n      <td>Civil marriage</td>\n      <td>House / apartment</td>\n      <td>-19569</td>\n      <td>480</td>\n      <td>0</td>\n      <td>0</td>\n      <td>0</td>\n      <td>2.0</td>\n      <td>74</td>\n      <td>2.0</td>\n      <td>50</td>\n      <td>0</td>\n      <td>0</td>\n      <td>0</td>\n      <td>0</td>\n      <td>0</td>\n      <td>0</td>\n      <td>0</td>\n      <td>0</td>\n      <td>0</td>\n      <td>0</td>\n      <td>0</td>\n      <td>0</td>\n      <td>0</td>\n      <td>0</td>\n      <td>0</td>\n      <td>0</td>\n      <td>1</td>\n      <td>0</td>\n      <td>0</td>\n    </tr>\n  </tbody>\n</table>\n<p>26457 rows × 37 columns</p>\n</div>"
     },
     "metadata": {},
     "execution_count": 94
    }
   ],
   "source": [
    "train"
   ]
  },
  {
   "source": [
    "## child_num\n",
    "\n",
    "- 5명 초과는 모두 6명으로 처리."
   ],
   "cell_type": "markdown",
   "metadata": {}
  },
  {
   "cell_type": "code",
   "execution_count": 95,
   "metadata": {},
   "outputs": [
    {
     "output_type": "execute_result",
     "data": {
      "text/plain": [
       "0     18340\n",
       "1      5386\n",
       "2      2362\n",
       "3       306\n",
       "4        47\n",
       "5        10\n",
       "14        3\n",
       "7         2\n",
       "19        1\n",
       "Name: child_num, dtype: int64"
      ]
     },
     "metadata": {},
     "execution_count": 95
    }
   ],
   "source": [
    "train['child_num'].value_counts()"
   ]
  },
  {
   "cell_type": "code",
   "execution_count": 96,
   "metadata": {},
   "outputs": [
    {
     "output_type": "execute_result",
     "data": {
      "text/plain": [
       "array([ 0,  1,  2,  3,  4,  5, 14, 19,  7], dtype=int64)"
      ]
     },
     "metadata": {},
     "execution_count": 96
    }
   ],
   "source": [
    "train['child_num'].unique()"
   ]
  },
  {
   "cell_type": "code",
   "execution_count": 97,
   "metadata": {},
   "outputs": [],
   "source": [
    "train[\"child_num\"] = train[\"child_num\"].apply(lambda x: 6 if x > 5 else x)"
   ]
  },
  {
   "cell_type": "code",
   "execution_count": 98,
   "metadata": {},
   "outputs": [
    {
     "output_type": "execute_result",
     "data": {
      "text/plain": [
       "      gender car reality  child_num  income_total           income_type  \\\n",
       "0          F   N       N          0      202500.0  Commercial associate   \n",
       "1          F   N       Y          1      247500.0  Commercial associate   \n",
       "2          M   Y       Y          0      450000.0               Working   \n",
       "3          F   N       Y          0      202500.0  Commercial associate   \n",
       "4          F   Y       Y          0      157500.0         State servant   \n",
       "...      ...  ..     ...        ...           ...                   ...   \n",
       "26452      F   N       N          2      225000.0         State servant   \n",
       "26453      F   N       Y          1      180000.0               Working   \n",
       "26454      F   Y       N          0      292500.0               Working   \n",
       "26455      M   N       Y          0      171000.0               Working   \n",
       "26456      F   N       N          0       81000.0               Working   \n",
       "\n",
       "                            edu_type           family_type  \\\n",
       "0                   Higher education               Married   \n",
       "1      Secondary / secondary special        Civil marriage   \n",
       "2                   Higher education               Married   \n",
       "3      Secondary / secondary special               Married   \n",
       "4                   Higher education               Married   \n",
       "...                              ...                   ...   \n",
       "26452  Secondary / secondary special               Married   \n",
       "26453               Higher education             Separated   \n",
       "26454  Secondary / secondary special        Civil marriage   \n",
       "26455              Incomplete higher  Single / not married   \n",
       "26456  Secondary / secondary special        Civil marriage   \n",
       "\n",
       "                house_type  DAYS_BIRTH DAYS_EMPLOYED  work_phone  phone  \\\n",
       "0      Municipal apartment      -13899           485           0      0   \n",
       "1        House / apartment      -11380           481           0      0   \n",
       "2        House / apartment      -19087           485           0      1   \n",
       "3        House / apartment      -15088           482           0      1   \n",
       "4        House / apartment      -15037           482           0      0   \n",
       "...                    ...         ...           ...         ...    ...   \n",
       "26452    House / apartment      -12079           481           0      0   \n",
       "26453    House / apartment      -15291           482           0      0   \n",
       "26454         With parents      -10082           482           0      0   \n",
       "26455    House / apartment      -10145           479           0      0   \n",
       "26456    House / apartment      -19569           480           0      0   \n",
       "\n",
       "       email  family_size begin_month  credit  Age  occyp_type_Accountants  \\\n",
       "0          0          2.0          49     1.0   30                       0   \n",
       "1          1          3.0          41     1.0   30                       0   \n",
       "2          0          2.0         183     2.0   50                       0   \n",
       "3          0          2.0         308     0.0   40                       0   \n",
       "4          0          2.0         216     2.0   40                       0   \n",
       "...      ...          ...         ...     ...  ...                     ...   \n",
       "26452      0          4.0          16     1.0   30                       0   \n",
       "26453      0          2.0         391     2.0   40                       0   \n",
       "26454      0          2.0         208     2.0   20                       0   \n",
       "26455      0          1.0         491     2.0   20                       0   \n",
       "26456      0          2.0          74     2.0   50                       0   \n",
       "\n",
       "       occyp_type_Cleaning staff  occyp_type_Cooking staff  \\\n",
       "0                              0                         0   \n",
       "1                              0                         0   \n",
       "2                              0                         0   \n",
       "3                              0                         0   \n",
       "4                              0                         0   \n",
       "...                          ...                       ...   \n",
       "26452                          0                         0   \n",
       "26453                          0                         0   \n",
       "26454                          0                         0   \n",
       "26455                          0                         0   \n",
       "26456                          0                         0   \n",
       "\n",
       "       occyp_type_Core staff  occyp_type_Drivers  occyp_type_HR staff  \\\n",
       "0                          0                   0                    0   \n",
       "1                          0                   0                    0   \n",
       "2                          0                   0                    0   \n",
       "3                          0                   0                    0   \n",
       "4                          0                   0                    0   \n",
       "...                      ...                 ...                  ...   \n",
       "26452                      1                   0                    0   \n",
       "26453                      0                   0                    0   \n",
       "26454                      1                   0                    0   \n",
       "26455                      0                   0                    0   \n",
       "26456                      0                   0                    0   \n",
       "\n",
       "       occyp_type_High skill tech staff  occyp_type_IT staff  \\\n",
       "0                                     0                    0   \n",
       "1                                     0                    0   \n",
       "2                                     0                    0   \n",
       "3                                     0                    0   \n",
       "4                                     0                    0   \n",
       "...                                 ...                  ...   \n",
       "26452                                 0                    0   \n",
       "26453                                 0                    0   \n",
       "26454                                 0                    0   \n",
       "26455                                 0                    0   \n",
       "26456                                 0                    0   \n",
       "\n",
       "       occyp_type_Laborers  occyp_type_Low-skill Laborers  \\\n",
       "0                        0                              0   \n",
       "1                        1                              0   \n",
       "2                        0                              0   \n",
       "3                        0                              0   \n",
       "4                        0                              0   \n",
       "...                    ...                            ...   \n",
       "26452                    0                              0   \n",
       "26453                    0                              0   \n",
       "26454                    0                              0   \n",
       "26455                    1                              0   \n",
       "26456                    0                              0   \n",
       "\n",
       "       occyp_type_Managers  occyp_type_Medicine staff  \\\n",
       "0                        0                          0   \n",
       "1                        0                          0   \n",
       "2                        1                          0   \n",
       "3                        0                          0   \n",
       "4                        1                          0   \n",
       "...                    ...                        ...   \n",
       "26452                    0                          0   \n",
       "26453                    0                          0   \n",
       "26454                    0                          0   \n",
       "26455                    0                          0   \n",
       "26456                    0                          0   \n",
       "\n",
       "       occyp_type_Private service staff  occyp_type_Realty agents  \\\n",
       "0                                     0                         0   \n",
       "1                                     0                         0   \n",
       "2                                     0                         0   \n",
       "3                                     0                         0   \n",
       "4                                     0                         0   \n",
       "...                                 ...                       ...   \n",
       "26452                                 0                         0   \n",
       "26453                                 0                         0   \n",
       "26454                                 0                         0   \n",
       "26455                                 0                         0   \n",
       "26456                                 0                         0   \n",
       "\n",
       "       occyp_type_Sales staff  occyp_type_Secretaries  \\\n",
       "0                           0                       0   \n",
       "1                           0                       0   \n",
       "2                           0                       0   \n",
       "3                           1                       0   \n",
       "4                           0                       0   \n",
       "...                       ...                     ...   \n",
       "26452                       0                       0   \n",
       "26453                       0                       0   \n",
       "26454                       0                       0   \n",
       "26455                       0                       0   \n",
       "26456                       0                       0   \n",
       "\n",
       "       occyp_type_Security staff  occyp_type_Unknown  \\\n",
       "0                              0                   1   \n",
       "1                              0                   0   \n",
       "2                              0                   0   \n",
       "3                              0                   0   \n",
       "4                              0                   0   \n",
       "...                          ...                 ...   \n",
       "26452                          0                   0   \n",
       "26453                          0                   1   \n",
       "26454                          0                   0   \n",
       "26455                          0                   0   \n",
       "26456                          1                   0   \n",
       "\n",
       "       occyp_type_Waiters/barmen staff  \n",
       "0                                    0  \n",
       "1                                    0  \n",
       "2                                    0  \n",
       "3                                    0  \n",
       "4                                    0  \n",
       "...                                ...  \n",
       "26452                                0  \n",
       "26453                                0  \n",
       "26454                                0  \n",
       "26455                                0  \n",
       "26456                                0  \n",
       "\n",
       "[26457 rows x 37 columns]"
      ],
      "text/html": "<div>\n<style scoped>\n    .dataframe tbody tr th:only-of-type {\n        vertical-align: middle;\n    }\n\n    .dataframe tbody tr th {\n        vertical-align: top;\n    }\n\n    .dataframe thead th {\n        text-align: right;\n    }\n</style>\n<table border=\"1\" class=\"dataframe\">\n  <thead>\n    <tr style=\"text-align: right;\">\n      <th></th>\n      <th>gender</th>\n      <th>car</th>\n      <th>reality</th>\n      <th>child_num</th>\n      <th>income_total</th>\n      <th>income_type</th>\n      <th>edu_type</th>\n      <th>family_type</th>\n      <th>house_type</th>\n      <th>DAYS_BIRTH</th>\n      <th>DAYS_EMPLOYED</th>\n      <th>work_phone</th>\n      <th>phone</th>\n      <th>email</th>\n      <th>family_size</th>\n      <th>begin_month</th>\n      <th>credit</th>\n      <th>Age</th>\n      <th>occyp_type_Accountants</th>\n      <th>occyp_type_Cleaning staff</th>\n      <th>occyp_type_Cooking staff</th>\n      <th>occyp_type_Core staff</th>\n      <th>occyp_type_Drivers</th>\n      <th>occyp_type_HR staff</th>\n      <th>occyp_type_High skill tech staff</th>\n      <th>occyp_type_IT staff</th>\n      <th>occyp_type_Laborers</th>\n      <th>occyp_type_Low-skill Laborers</th>\n      <th>occyp_type_Managers</th>\n      <th>occyp_type_Medicine staff</th>\n      <th>occyp_type_Private service staff</th>\n      <th>occyp_type_Realty agents</th>\n      <th>occyp_type_Sales staff</th>\n      <th>occyp_type_Secretaries</th>\n      <th>occyp_type_Security staff</th>\n      <th>occyp_type_Unknown</th>\n      <th>occyp_type_Waiters/barmen staff</th>\n    </tr>\n  </thead>\n  <tbody>\n    <tr>\n      <th>0</th>\n      <td>F</td>\n      <td>N</td>\n      <td>N</td>\n      <td>0</td>\n      <td>202500.0</td>\n      <td>Commercial associate</td>\n      <td>Higher education</td>\n      <td>Married</td>\n      <td>Municipal apartment</td>\n      <td>-13899</td>\n      <td>485</td>\n      <td>0</td>\n      <td>0</td>\n      <td>0</td>\n      <td>2.0</td>\n      <td>49</td>\n      <td>1.0</td>\n      <td>30</td>\n      <td>0</td>\n      <td>0</td>\n      <td>0</td>\n      <td>0</td>\n      <td>0</td>\n      <td>0</td>\n      <td>0</td>\n      <td>0</td>\n      <td>0</td>\n      <td>0</td>\n      <td>0</td>\n      <td>0</td>\n      <td>0</td>\n      <td>0</td>\n      <td>0</td>\n      <td>0</td>\n      <td>0</td>\n      <td>1</td>\n      <td>0</td>\n    </tr>\n    <tr>\n      <th>1</th>\n      <td>F</td>\n      <td>N</td>\n      <td>Y</td>\n      <td>1</td>\n      <td>247500.0</td>\n      <td>Commercial associate</td>\n      <td>Secondary / secondary special</td>\n      <td>Civil marriage</td>\n      <td>House / apartment</td>\n      <td>-11380</td>\n      <td>481</td>\n      <td>0</td>\n      <td>0</td>\n      <td>1</td>\n      <td>3.0</td>\n      <td>41</td>\n      <td>1.0</td>\n      <td>30</td>\n      <td>0</td>\n      <td>0</td>\n      <td>0</td>\n      <td>0</td>\n      <td>0</td>\n      <td>0</td>\n      <td>0</td>\n      <td>0</td>\n      <td>1</td>\n      <td>0</td>\n      <td>0</td>\n      <td>0</td>\n      <td>0</td>\n      <td>0</td>\n      <td>0</td>\n      <td>0</td>\n      <td>0</td>\n      <td>0</td>\n      <td>0</td>\n    </tr>\n    <tr>\n      <th>2</th>\n      <td>M</td>\n      <td>Y</td>\n      <td>Y</td>\n      <td>0</td>\n      <td>450000.0</td>\n      <td>Working</td>\n      <td>Higher education</td>\n      <td>Married</td>\n      <td>House / apartment</td>\n      <td>-19087</td>\n      <td>485</td>\n      <td>0</td>\n      <td>1</td>\n      <td>0</td>\n      <td>2.0</td>\n      <td>183</td>\n      <td>2.0</td>\n      <td>50</td>\n      <td>0</td>\n      <td>0</td>\n      <td>0</td>\n      <td>0</td>\n      <td>0</td>\n      <td>0</td>\n      <td>0</td>\n      <td>0</td>\n      <td>0</td>\n      <td>0</td>\n      <td>1</td>\n      <td>0</td>\n      <td>0</td>\n      <td>0</td>\n      <td>0</td>\n      <td>0</td>\n      <td>0</td>\n      <td>0</td>\n      <td>0</td>\n    </tr>\n    <tr>\n      <th>3</th>\n      <td>F</td>\n      <td>N</td>\n      <td>Y</td>\n      <td>0</td>\n      <td>202500.0</td>\n      <td>Commercial associate</td>\n      <td>Secondary / secondary special</td>\n      <td>Married</td>\n      <td>House / apartment</td>\n      <td>-15088</td>\n      <td>482</td>\n      <td>0</td>\n      <td>1</td>\n      <td>0</td>\n      <td>2.0</td>\n      <td>308</td>\n      <td>0.0</td>\n      <td>40</td>\n      <td>0</td>\n      <td>0</td>\n      <td>0</td>\n      <td>0</td>\n      <td>0</td>\n      <td>0</td>\n      <td>0</td>\n      <td>0</td>\n      <td>0</td>\n      <td>0</td>\n      <td>0</td>\n      <td>0</td>\n      <td>0</td>\n      <td>0</td>\n      <td>1</td>\n      <td>0</td>\n      <td>0</td>\n      <td>0</td>\n      <td>0</td>\n    </tr>\n    <tr>\n      <th>4</th>\n      <td>F</td>\n      <td>Y</td>\n      <td>Y</td>\n      <td>0</td>\n      <td>157500.0</td>\n      <td>State servant</td>\n      <td>Higher education</td>\n      <td>Married</td>\n      <td>House / apartment</td>\n      <td>-15037</td>\n      <td>482</td>\n      <td>0</td>\n      <td>0</td>\n      <td>0</td>\n      <td>2.0</td>\n      <td>216</td>\n      <td>2.0</td>\n      <td>40</td>\n      <td>0</td>\n      <td>0</td>\n      <td>0</td>\n      <td>0</td>\n      <td>0</td>\n      <td>0</td>\n      <td>0</td>\n      <td>0</td>\n      <td>0</td>\n      <td>0</td>\n      <td>1</td>\n      <td>0</td>\n      <td>0</td>\n      <td>0</td>\n      <td>0</td>\n      <td>0</td>\n      <td>0</td>\n      <td>0</td>\n      <td>0</td>\n    </tr>\n    <tr>\n      <th>...</th>\n      <td>...</td>\n      <td>...</td>\n      <td>...</td>\n      <td>...</td>\n      <td>...</td>\n      <td>...</td>\n      <td>...</td>\n      <td>...</td>\n      <td>...</td>\n      <td>...</td>\n      <td>...</td>\n      <td>...</td>\n      <td>...</td>\n      <td>...</td>\n      <td>...</td>\n      <td>...</td>\n      <td>...</td>\n      <td>...</td>\n      <td>...</td>\n      <td>...</td>\n      <td>...</td>\n      <td>...</td>\n      <td>...</td>\n      <td>...</td>\n      <td>...</td>\n      <td>...</td>\n      <td>...</td>\n      <td>...</td>\n      <td>...</td>\n      <td>...</td>\n      <td>...</td>\n      <td>...</td>\n      <td>...</td>\n      <td>...</td>\n      <td>...</td>\n      <td>...</td>\n      <td>...</td>\n    </tr>\n    <tr>\n      <th>26452</th>\n      <td>F</td>\n      <td>N</td>\n      <td>N</td>\n      <td>2</td>\n      <td>225000.0</td>\n      <td>State servant</td>\n      <td>Secondary / secondary special</td>\n      <td>Married</td>\n      <td>House / apartment</td>\n      <td>-12079</td>\n      <td>481</td>\n      <td>0</td>\n      <td>0</td>\n      <td>0</td>\n      <td>4.0</td>\n      <td>16</td>\n      <td>1.0</td>\n      <td>30</td>\n      <td>0</td>\n      <td>0</td>\n      <td>0</td>\n      <td>1</td>\n      <td>0</td>\n      <td>0</td>\n      <td>0</td>\n      <td>0</td>\n      <td>0</td>\n      <td>0</td>\n      <td>0</td>\n      <td>0</td>\n      <td>0</td>\n      <td>0</td>\n      <td>0</td>\n      <td>0</td>\n      <td>0</td>\n      <td>0</td>\n      <td>0</td>\n    </tr>\n    <tr>\n      <th>26453</th>\n      <td>F</td>\n      <td>N</td>\n      <td>Y</td>\n      <td>1</td>\n      <td>180000.0</td>\n      <td>Working</td>\n      <td>Higher education</td>\n      <td>Separated</td>\n      <td>House / apartment</td>\n      <td>-15291</td>\n      <td>482</td>\n      <td>0</td>\n      <td>0</td>\n      <td>0</td>\n      <td>2.0</td>\n      <td>391</td>\n      <td>2.0</td>\n      <td>40</td>\n      <td>0</td>\n      <td>0</td>\n      <td>0</td>\n      <td>0</td>\n      <td>0</td>\n      <td>0</td>\n      <td>0</td>\n      <td>0</td>\n      <td>0</td>\n      <td>0</td>\n      <td>0</td>\n      <td>0</td>\n      <td>0</td>\n      <td>0</td>\n      <td>0</td>\n      <td>0</td>\n      <td>0</td>\n      <td>1</td>\n      <td>0</td>\n    </tr>\n    <tr>\n      <th>26454</th>\n      <td>F</td>\n      <td>Y</td>\n      <td>N</td>\n      <td>0</td>\n      <td>292500.0</td>\n      <td>Working</td>\n      <td>Secondary / secondary special</td>\n      <td>Civil marriage</td>\n      <td>With parents</td>\n      <td>-10082</td>\n      <td>482</td>\n      <td>0</td>\n      <td>0</td>\n      <td>0</td>\n      <td>2.0</td>\n      <td>208</td>\n      <td>2.0</td>\n      <td>20</td>\n      <td>0</td>\n      <td>0</td>\n      <td>0</td>\n      <td>1</td>\n      <td>0</td>\n      <td>0</td>\n      <td>0</td>\n      <td>0</td>\n      <td>0</td>\n      <td>0</td>\n      <td>0</td>\n      <td>0</td>\n      <td>0</td>\n      <td>0</td>\n      <td>0</td>\n      <td>0</td>\n      <td>0</td>\n      <td>0</td>\n      <td>0</td>\n    </tr>\n    <tr>\n      <th>26455</th>\n      <td>M</td>\n      <td>N</td>\n      <td>Y</td>\n      <td>0</td>\n      <td>171000.0</td>\n      <td>Working</td>\n      <td>Incomplete higher</td>\n      <td>Single / not married</td>\n      <td>House / apartment</td>\n      <td>-10145</td>\n      <td>479</td>\n      <td>0</td>\n      <td>0</td>\n      <td>0</td>\n      <td>1.0</td>\n      <td>491</td>\n      <td>2.0</td>\n      <td>20</td>\n      <td>0</td>\n      <td>0</td>\n      <td>0</td>\n      <td>0</td>\n      <td>0</td>\n      <td>0</td>\n      <td>0</td>\n      <td>0</td>\n      <td>1</td>\n      <td>0</td>\n      <td>0</td>\n      <td>0</td>\n      <td>0</td>\n      <td>0</td>\n      <td>0</td>\n      <td>0</td>\n      <td>0</td>\n      <td>0</td>\n      <td>0</td>\n    </tr>\n    <tr>\n      <th>26456</th>\n      <td>F</td>\n      <td>N</td>\n      <td>N</td>\n      <td>0</td>\n      <td>81000.0</td>\n      <td>Working</td>\n      <td>Secondary / secondary special</td>\n      <td>Civil marriage</td>\n      <td>House / apartment</td>\n      <td>-19569</td>\n      <td>480</td>\n      <td>0</td>\n      <td>0</td>\n      <td>0</td>\n      <td>2.0</td>\n      <td>74</td>\n      <td>2.0</td>\n      <td>50</td>\n      <td>0</td>\n      <td>0</td>\n      <td>0</td>\n      <td>0</td>\n      <td>0</td>\n      <td>0</td>\n      <td>0</td>\n      <td>0</td>\n      <td>0</td>\n      <td>0</td>\n      <td>0</td>\n      <td>0</td>\n      <td>0</td>\n      <td>0</td>\n      <td>0</td>\n      <td>0</td>\n      <td>1</td>\n      <td>0</td>\n      <td>0</td>\n    </tr>\n  </tbody>\n</table>\n<p>26457 rows × 37 columns</p>\n</div>"
     },
     "metadata": {},
     "execution_count": 98
    }
   ],
   "source": [
    "train"
   ]
  },
  {
   "source": [
    "## 범주형 Feature 실수화"
   ],
   "cell_type": "markdown",
   "metadata": {}
  },
  {
   "cell_type": "code",
   "execution_count": 99,
   "metadata": {},
   "outputs": [
    {
     "output_type": "stream",
     "name": "stdout",
     "text": [
      "gender : \n0    17697\n1     8760\nName: gender, dtype: int64\n----------------------------\ncar : \n0    16410\n1    10047\nName: car, dtype: int64\n----------------------------\nreality : \n1    17830\n0     8627\nName: reality, dtype: int64\n----------------------------\nedu_type : \n2    17995\n3     7162\n1     1020\n0      257\n4       23\nName: edu_type, dtype: int64\n----------------------------\n"
     ]
    }
   ],
   "source": [
    "train['gender'] = train['gender'].replace(['F', 'M'], [0, 1])\n",
    "test['gender'] = test['gender'].replace(['F', 'M'], [0, 1])\n",
    "print('gender : ')\n",
    "print(train['gender'].value_counts())\n",
    "print(\"----------------------------\")\n",
    "\n",
    "train['car'] = train['car'].replace(['N', 'Y'], [0, 1])\n",
    "test['car'] = test['car'].replace(['N', 'Y'], [0, 1])\n",
    "print('car : ')\n",
    "print(train['car'].value_counts())\n",
    "print(\"----------------------------\")\n",
    "\n",
    "train['reality'] = train['reality'].replace(['N', 'Y'], [0, 1])\n",
    "test['reality'] = test['reality'].replace(['N', 'Y'], [0, 1])\n",
    "print('reality : ')\n",
    "print(train['reality'].value_counts())\n",
    "print(\"----------------------------\")\n",
    "\n",
    "train['edu_type'] = train['edu_type'].replace([ 'Academic degree','Higher education' ,'Secondary / secondary special', 'Incomplete higher', 'Lower secondary'],[4,3,2,1,0])\n",
    "test['edu_type'] = test['edu_type'].replace([ 'Academic degree','Higher education' ,'Secondary / secondary special', 'Incomplete higher', 'Lower secondary'],[4,3,2,1,0])\n",
    "print('edu_type : ')\n",
    "print(train['edu_type'].value_counts())\n",
    "print(\"----------------------------\")"
   ]
  },
  {
   "source": [
    "## income_type"
   ],
   "cell_type": "markdown",
   "metadata": {}
  },
  {
   "cell_type": "code",
   "execution_count": 100,
   "metadata": {},
   "outputs": [
    {
     "output_type": "execute_result",
     "data": {
      "text/plain": [
       "array(['Commercial associate', 'Working', 'State servant', 'Pensioner',\n",
       "       'Student'], dtype=object)"
      ]
     },
     "metadata": {},
     "execution_count": 100
    }
   ],
   "source": [
    "train['income_type'].unique()"
   ]
  },
  {
   "cell_type": "code",
   "execution_count": 101,
   "metadata": {},
   "outputs": [],
   "source": [
    "from sklearn import preprocessing\n",
    "\n",
    "label_encoder=preprocessing.LabelEncoder()\n",
    "\n",
    "train['income_type']=label_encoder.fit_transform(train['income_type'])\n",
    "test['income_type']=label_encoder.transform(test['income_type'])\n",
    "########################################################################\n",
    "train['family_type']=label_encoder.fit_transform(train['family_type'])\n",
    "test['family_type']=label_encoder.transform(test['family_type'])\n",
    "########################################################################\n",
    "train['house_type']=label_encoder.fit_transform(train['house_type'])\n",
    "test['house_type']=label_encoder.transform(test['house_type'])"
   ]
  },
  {
   "source": [
    "## Income total"
   ],
   "cell_type": "markdown",
   "metadata": {}
  },
  {
   "cell_type": "code",
   "execution_count": 102,
   "metadata": {},
   "outputs": [],
   "source": [
    "# income total 전처리\n",
    "\n",
    "import matplotlib.pyplot as plt\n",
    "import seaborn as sns"
   ]
  },
  {
   "cell_type": "code",
   "execution_count": 103,
   "metadata": {},
   "outputs": [
    {
     "output_type": "execute_result",
     "data": {
      "text/plain": [
       "     counts  income_values\n",
       "0      3164       135000.0\n",
       "1      2233       157500.0\n",
       "2      2225       180000.0\n",
       "3      2178       112500.0\n",
       "4      2170       225000.0\n",
       "..      ...            ...\n",
       "244       1       227250.0\n",
       "245       1        91530.0\n",
       "246       1        39600.0\n",
       "247       1       432000.0\n",
       "248       1       215100.0\n",
       "\n",
       "[249 rows x 2 columns]"
      ],
      "text/html": "<div>\n<style scoped>\n    .dataframe tbody tr th:only-of-type {\n        vertical-align: middle;\n    }\n\n    .dataframe tbody tr th {\n        vertical-align: top;\n    }\n\n    .dataframe thead th {\n        text-align: right;\n    }\n</style>\n<table border=\"1\" class=\"dataframe\">\n  <thead>\n    <tr style=\"text-align: right;\">\n      <th></th>\n      <th>counts</th>\n      <th>income_values</th>\n    </tr>\n  </thead>\n  <tbody>\n    <tr>\n      <th>0</th>\n      <td>3164</td>\n      <td>135000.0</td>\n    </tr>\n    <tr>\n      <th>1</th>\n      <td>2233</td>\n      <td>157500.0</td>\n    </tr>\n    <tr>\n      <th>2</th>\n      <td>2225</td>\n      <td>180000.0</td>\n    </tr>\n    <tr>\n      <th>3</th>\n      <td>2178</td>\n      <td>112500.0</td>\n    </tr>\n    <tr>\n      <th>4</th>\n      <td>2170</td>\n      <td>225000.0</td>\n    </tr>\n    <tr>\n      <th>...</th>\n      <td>...</td>\n      <td>...</td>\n    </tr>\n    <tr>\n      <th>244</th>\n      <td>1</td>\n      <td>227250.0</td>\n    </tr>\n    <tr>\n      <th>245</th>\n      <td>1</td>\n      <td>91530.0</td>\n    </tr>\n    <tr>\n      <th>246</th>\n      <td>1</td>\n      <td>39600.0</td>\n    </tr>\n    <tr>\n      <th>247</th>\n      <td>1</td>\n      <td>432000.0</td>\n    </tr>\n    <tr>\n      <th>248</th>\n      <td>1</td>\n      <td>215100.0</td>\n    </tr>\n  </tbody>\n</table>\n<p>249 rows × 2 columns</p>\n</div>"
     },
     "metadata": {},
     "execution_count": 103
    }
   ],
   "source": [
    "income_counts = train['income_total'].value_counts()\n",
    "unique_income = income_counts.index\n",
    "\n",
    "income_counts = pd.DataFrame(income_counts)\n",
    "income_counts.index = range(len(income_counts))\n",
    "income_counts['income_value'] = unique_income\n",
    "income_counts.columns = ['counts', 'income_values']\n",
    "\n",
    "income_counts"
   ]
  },
  {
   "cell_type": "code",
   "execution_count": 104,
   "metadata": {},
   "outputs": [
    {
     "output_type": "stream",
     "name": "stdout",
     "text": [
      "1575000.0 27000.0\n"
     ]
    }
   ],
   "source": [
    "max_income = income_counts['income_values'].max()\n",
    "min_income = income_counts['income_values'].min()\n",
    "\n",
    "print(max_income, min_income)"
   ]
  },
  {
   "source": [
    "### bins=5"
   ],
   "cell_type": "markdown",
   "metadata": {}
  },
  {
   "cell_type": "code",
   "execution_count": 105,
   "metadata": {},
   "outputs": [
    {
     "output_type": "stream",
     "name": "stdout",
     "text": [
      "========[num_bins : 5]==========\ntrain bin counts : \n소득0    24542\n소득1     1736\n소득2      165\n소득4        9\n소득3        5\nName: income_total, dtype: int64\nshape :  (26457, 37)\n=================================\n"
     ]
    }
   ],
   "source": [
    "num_bins_ = 5\n",
    "\n",
    "train_bin5 = train.copy()\n",
    "test_bin5 = test.copy()\n",
    "\n",
    "train_bin5['income_total'] = train_bin5['income_total']/10000\n",
    "test_bin5['income_total'] = test_bin5['income_total']/10000\n",
    "\n",
    "count, bin_dividers = np.histogram(train_bin5['income_total'], bins=num_bins_)\n",
    "bin_names=['소득'+str(i) for i in range(num_bins_) ]\n",
    "\n",
    "train_bin5['income_total']=pd.cut(x=train_bin5['income_total'], bins=bin_dividers, labels=bin_names, include_lowest=True)\n",
    "test_bin5['income_total']=pd.cut(x=test_bin5['income_total'], bins=bin_dividers, labels=bin_names, include_lowest=True)\n",
    "\n",
    "print(f\"========[num_bins : {num_bins_}]==========\")\n",
    "print(\"train bin counts : \")\n",
    "print(train_bin5['income_total'].value_counts())\n",
    "\n",
    "print(\"shape : \", train_bin5.shape)\n",
    "print(\"=================================\")"
   ]
  },
  {
   "source": [
    "### bins=7"
   ],
   "cell_type": "markdown",
   "metadata": {}
  },
  {
   "cell_type": "code",
   "execution_count": 106,
   "metadata": {},
   "outputs": [
    {
     "output_type": "stream",
     "name": "stdout",
     "text": [
      "========[num_bins : 7]==========\ntrain bin counts : \n소득0    21601\n소득1     4462\n소득2      305\n소득3       71\n소득4        9\n소득6        5\n소득5        4\nName: income_total, dtype: int64\nshape :  (26457, 37)\n=================================\n"
     ]
    }
   ],
   "source": [
    "num_bins_ = 7\n",
    "\n",
    "train_bin7 = train.copy()\n",
    "test_bin7 = test.copy()\n",
    "\n",
    "train_bin7['income_total'] = train_bin7['income_total']/10000\n",
    "test_bin7['income_total'] = test_bin7['income_total']/10000\n",
    "\n",
    "count, bin_dividers = np.histogram(train_bin7['income_total'], bins=num_bins_)\n",
    "bin_names=['소득'+str(i) for i in range(num_bins_) ]\n",
    "\n",
    "train_bin7['income_total']=pd.cut(x=train_bin7['income_total'], bins=bin_dividers, labels=bin_names, include_lowest=True)\n",
    "test_bin7['income_total']=pd.cut(x=test_bin7['income_total'], bins=bin_dividers, labels=bin_names, include_lowest=True)\n",
    "\n",
    "print(f\"========[num_bins : {num_bins_}]==========\")\n",
    "print(\"train bin counts : \")\n",
    "print(train_bin7['income_total'].value_counts())\n",
    "\n",
    "print(\"shape : \", train_bin7.shape)\n",
    "print(\"=================================\")"
   ]
  },
  {
   "source": [
    "### bins=10"
   ],
   "cell_type": "markdown",
   "metadata": {}
  },
  {
   "cell_type": "code",
   "execution_count": 107,
   "metadata": {},
   "outputs": [
    {
     "output_type": "stream",
     "name": "stdout",
     "text": [
      "========[num_bins : 10]==========\ntrain bin counts : \n소득0    16212\n소득1     8330\n소득2     1530\n소득3      206\n소득4      121\n소득5       44\n소득9        5\n소득8        4\n소득6        3\n소득7        2\nName: income_total, dtype: int64\nshape :  (26457, 37)\n=================================\n"
     ]
    }
   ],
   "source": [
    "num_bins_ = 10\n",
    "\n",
    "train_bin10 = train.copy()\n",
    "test_bin10 = test.copy()\n",
    "\n",
    "train_bin10['income_total'] = train_bin10['income_total']/10000\n",
    "test_bin10['income_total'] = test_bin10['income_total']/10000\n",
    "\n",
    "count, bin_dividers = np.histogram(train_bin10['income_total'], bins=num_bins_)\n",
    "bin_names=['소득'+str(i) for i in range(num_bins_) ]\n",
    "\n",
    "train_bin10['income_total']=pd.cut(x=train_bin10['income_total'], bins=bin_dividers, labels=bin_names, include_lowest=True)\n",
    "test_bin10['income_total']=pd.cut(x=test_bin10['income_total'], bins=bin_dividers, labels=bin_names, include_lowest=True)\n",
    "\n",
    "print(f\"========[num_bins : {num_bins_}]==========\")\n",
    "print(\"train bin counts : \")\n",
    "print(train_bin10['income_total'].value_counts())\n",
    "\n",
    "print(\"shape : \", train_bin10.shape)\n",
    "print(\"=================================\")"
   ]
  },
  {
   "source": [
    "### income_total Labeling"
   ],
   "cell_type": "markdown",
   "metadata": {}
  },
  {
   "source": [
    "#### bins=5"
   ],
   "cell_type": "markdown",
   "metadata": {}
  },
  {
   "cell_type": "code",
   "execution_count": 108,
   "metadata": {},
   "outputs": [
    {
     "output_type": "execute_result",
     "data": {
      "text/plain": [
       "       gender  car  reality  child_num  income_total  income_type  edu_type  \\\n",
       "0           0    0        0          0             0            0         3   \n",
       "1           0    0        1          1             0            0         2   \n",
       "2           1    1        1          0             1            4         3   \n",
       "3           0    0        1          0             0            0         2   \n",
       "4           0    1        1          0             0            2         3   \n",
       "...       ...  ...      ...        ...           ...          ...       ...   \n",
       "26452       0    0        0          2             0            2         2   \n",
       "26453       0    0        1          1             0            4         3   \n",
       "26454       0    1        0          0             0            4         2   \n",
       "26455       1    0        1          0             0            4         1   \n",
       "26456       0    0        0          0             0            4         2   \n",
       "\n",
       "       family_type  house_type  DAYS_BIRTH DAYS_EMPLOYED  work_phone  phone  \\\n",
       "0                1           2      -13899           485           0      0   \n",
       "1                0           1      -11380           481           0      0   \n",
       "2                1           1      -19087           485           0      1   \n",
       "3                1           1      -15088           482           0      1   \n",
       "4                1           1      -15037           482           0      0   \n",
       "...            ...         ...         ...           ...         ...    ...   \n",
       "26452            1           1      -12079           481           0      0   \n",
       "26453            2           1      -15291           482           0      0   \n",
       "26454            0           5      -10082           482           0      0   \n",
       "26455            3           1      -10145           479           0      0   \n",
       "26456            0           1      -19569           480           0      0   \n",
       "\n",
       "       email  family_size begin_month  credit  Age  occyp_type_Accountants  \\\n",
       "0          0          2.0          49     1.0   30                       0   \n",
       "1          1          3.0          41     1.0   30                       0   \n",
       "2          0          2.0         183     2.0   50                       0   \n",
       "3          0          2.0         308     0.0   40                       0   \n",
       "4          0          2.0         216     2.0   40                       0   \n",
       "...      ...          ...         ...     ...  ...                     ...   \n",
       "26452      0          4.0          16     1.0   30                       0   \n",
       "26453      0          2.0         391     2.0   40                       0   \n",
       "26454      0          2.0         208     2.0   20                       0   \n",
       "26455      0          1.0         491     2.0   20                       0   \n",
       "26456      0          2.0          74     2.0   50                       0   \n",
       "\n",
       "       occyp_type_Cleaning staff  occyp_type_Cooking staff  \\\n",
       "0                              0                         0   \n",
       "1                              0                         0   \n",
       "2                              0                         0   \n",
       "3                              0                         0   \n",
       "4                              0                         0   \n",
       "...                          ...                       ...   \n",
       "26452                          0                         0   \n",
       "26453                          0                         0   \n",
       "26454                          0                         0   \n",
       "26455                          0                         0   \n",
       "26456                          0                         0   \n",
       "\n",
       "       occyp_type_Core staff  occyp_type_Drivers  occyp_type_HR staff  \\\n",
       "0                          0                   0                    0   \n",
       "1                          0                   0                    0   \n",
       "2                          0                   0                    0   \n",
       "3                          0                   0                    0   \n",
       "4                          0                   0                    0   \n",
       "...                      ...                 ...                  ...   \n",
       "26452                      1                   0                    0   \n",
       "26453                      0                   0                    0   \n",
       "26454                      1                   0                    0   \n",
       "26455                      0                   0                    0   \n",
       "26456                      0                   0                    0   \n",
       "\n",
       "       occyp_type_High skill tech staff  occyp_type_IT staff  \\\n",
       "0                                     0                    0   \n",
       "1                                     0                    0   \n",
       "2                                     0                    0   \n",
       "3                                     0                    0   \n",
       "4                                     0                    0   \n",
       "...                                 ...                  ...   \n",
       "26452                                 0                    0   \n",
       "26453                                 0                    0   \n",
       "26454                                 0                    0   \n",
       "26455                                 0                    0   \n",
       "26456                                 0                    0   \n",
       "\n",
       "       occyp_type_Laborers  occyp_type_Low-skill Laborers  \\\n",
       "0                        0                              0   \n",
       "1                        1                              0   \n",
       "2                        0                              0   \n",
       "3                        0                              0   \n",
       "4                        0                              0   \n",
       "...                    ...                            ...   \n",
       "26452                    0                              0   \n",
       "26453                    0                              0   \n",
       "26454                    0                              0   \n",
       "26455                    1                              0   \n",
       "26456                    0                              0   \n",
       "\n",
       "       occyp_type_Managers  occyp_type_Medicine staff  \\\n",
       "0                        0                          0   \n",
       "1                        0                          0   \n",
       "2                        1                          0   \n",
       "3                        0                          0   \n",
       "4                        1                          0   \n",
       "...                    ...                        ...   \n",
       "26452                    0                          0   \n",
       "26453                    0                          0   \n",
       "26454                    0                          0   \n",
       "26455                    0                          0   \n",
       "26456                    0                          0   \n",
       "\n",
       "       occyp_type_Private service staff  occyp_type_Realty agents  \\\n",
       "0                                     0                         0   \n",
       "1                                     0                         0   \n",
       "2                                     0                         0   \n",
       "3                                     0                         0   \n",
       "4                                     0                         0   \n",
       "...                                 ...                       ...   \n",
       "26452                                 0                         0   \n",
       "26453                                 0                         0   \n",
       "26454                                 0                         0   \n",
       "26455                                 0                         0   \n",
       "26456                                 0                         0   \n",
       "\n",
       "       occyp_type_Sales staff  occyp_type_Secretaries  \\\n",
       "0                           0                       0   \n",
       "1                           0                       0   \n",
       "2                           0                       0   \n",
       "3                           1                       0   \n",
       "4                           0                       0   \n",
       "...                       ...                     ...   \n",
       "26452                       0                       0   \n",
       "26453                       0                       0   \n",
       "26454                       0                       0   \n",
       "26455                       0                       0   \n",
       "26456                       0                       0   \n",
       "\n",
       "       occyp_type_Security staff  occyp_type_Unknown  \\\n",
       "0                              0                   1   \n",
       "1                              0                   0   \n",
       "2                              0                   0   \n",
       "3                              0                   0   \n",
       "4                              0                   0   \n",
       "...                          ...                 ...   \n",
       "26452                          0                   0   \n",
       "26453                          0                   1   \n",
       "26454                          0                   0   \n",
       "26455                          0                   0   \n",
       "26456                          1                   0   \n",
       "\n",
       "       occyp_type_Waiters/barmen staff  \n",
       "0                                    0  \n",
       "1                                    0  \n",
       "2                                    0  \n",
       "3                                    0  \n",
       "4                                    0  \n",
       "...                                ...  \n",
       "26452                                0  \n",
       "26453                                0  \n",
       "26454                                0  \n",
       "26455                                0  \n",
       "26456                                0  \n",
       "\n",
       "[26457 rows x 37 columns]"
      ],
      "text/html": "<div>\n<style scoped>\n    .dataframe tbody tr th:only-of-type {\n        vertical-align: middle;\n    }\n\n    .dataframe tbody tr th {\n        vertical-align: top;\n    }\n\n    .dataframe thead th {\n        text-align: right;\n    }\n</style>\n<table border=\"1\" class=\"dataframe\">\n  <thead>\n    <tr style=\"text-align: right;\">\n      <th></th>\n      <th>gender</th>\n      <th>car</th>\n      <th>reality</th>\n      <th>child_num</th>\n      <th>income_total</th>\n      <th>income_type</th>\n      <th>edu_type</th>\n      <th>family_type</th>\n      <th>house_type</th>\n      <th>DAYS_BIRTH</th>\n      <th>DAYS_EMPLOYED</th>\n      <th>work_phone</th>\n      <th>phone</th>\n      <th>email</th>\n      <th>family_size</th>\n      <th>begin_month</th>\n      <th>credit</th>\n      <th>Age</th>\n      <th>occyp_type_Accountants</th>\n      <th>occyp_type_Cleaning staff</th>\n      <th>occyp_type_Cooking staff</th>\n      <th>occyp_type_Core staff</th>\n      <th>occyp_type_Drivers</th>\n      <th>occyp_type_HR staff</th>\n      <th>occyp_type_High skill tech staff</th>\n      <th>occyp_type_IT staff</th>\n      <th>occyp_type_Laborers</th>\n      <th>occyp_type_Low-skill Laborers</th>\n      <th>occyp_type_Managers</th>\n      <th>occyp_type_Medicine staff</th>\n      <th>occyp_type_Private service staff</th>\n      <th>occyp_type_Realty agents</th>\n      <th>occyp_type_Sales staff</th>\n      <th>occyp_type_Secretaries</th>\n      <th>occyp_type_Security staff</th>\n      <th>occyp_type_Unknown</th>\n      <th>occyp_type_Waiters/barmen staff</th>\n    </tr>\n  </thead>\n  <tbody>\n    <tr>\n      <th>0</th>\n      <td>0</td>\n      <td>0</td>\n      <td>0</td>\n      <td>0</td>\n      <td>0</td>\n      <td>0</td>\n      <td>3</td>\n      <td>1</td>\n      <td>2</td>\n      <td>-13899</td>\n      <td>485</td>\n      <td>0</td>\n      <td>0</td>\n      <td>0</td>\n      <td>2.0</td>\n      <td>49</td>\n      <td>1.0</td>\n      <td>30</td>\n      <td>0</td>\n      <td>0</td>\n      <td>0</td>\n      <td>0</td>\n      <td>0</td>\n      <td>0</td>\n      <td>0</td>\n      <td>0</td>\n      <td>0</td>\n      <td>0</td>\n      <td>0</td>\n      <td>0</td>\n      <td>0</td>\n      <td>0</td>\n      <td>0</td>\n      <td>0</td>\n      <td>0</td>\n      <td>1</td>\n      <td>0</td>\n    </tr>\n    <tr>\n      <th>1</th>\n      <td>0</td>\n      <td>0</td>\n      <td>1</td>\n      <td>1</td>\n      <td>0</td>\n      <td>0</td>\n      <td>2</td>\n      <td>0</td>\n      <td>1</td>\n      <td>-11380</td>\n      <td>481</td>\n      <td>0</td>\n      <td>0</td>\n      <td>1</td>\n      <td>3.0</td>\n      <td>41</td>\n      <td>1.0</td>\n      <td>30</td>\n      <td>0</td>\n      <td>0</td>\n      <td>0</td>\n      <td>0</td>\n      <td>0</td>\n      <td>0</td>\n      <td>0</td>\n      <td>0</td>\n      <td>1</td>\n      <td>0</td>\n      <td>0</td>\n      <td>0</td>\n      <td>0</td>\n      <td>0</td>\n      <td>0</td>\n      <td>0</td>\n      <td>0</td>\n      <td>0</td>\n      <td>0</td>\n    </tr>\n    <tr>\n      <th>2</th>\n      <td>1</td>\n      <td>1</td>\n      <td>1</td>\n      <td>0</td>\n      <td>1</td>\n      <td>4</td>\n      <td>3</td>\n      <td>1</td>\n      <td>1</td>\n      <td>-19087</td>\n      <td>485</td>\n      <td>0</td>\n      <td>1</td>\n      <td>0</td>\n      <td>2.0</td>\n      <td>183</td>\n      <td>2.0</td>\n      <td>50</td>\n      <td>0</td>\n      <td>0</td>\n      <td>0</td>\n      <td>0</td>\n      <td>0</td>\n      <td>0</td>\n      <td>0</td>\n      <td>0</td>\n      <td>0</td>\n      <td>0</td>\n      <td>1</td>\n      <td>0</td>\n      <td>0</td>\n      <td>0</td>\n      <td>0</td>\n      <td>0</td>\n      <td>0</td>\n      <td>0</td>\n      <td>0</td>\n    </tr>\n    <tr>\n      <th>3</th>\n      <td>0</td>\n      <td>0</td>\n      <td>1</td>\n      <td>0</td>\n      <td>0</td>\n      <td>0</td>\n      <td>2</td>\n      <td>1</td>\n      <td>1</td>\n      <td>-15088</td>\n      <td>482</td>\n      <td>0</td>\n      <td>1</td>\n      <td>0</td>\n      <td>2.0</td>\n      <td>308</td>\n      <td>0.0</td>\n      <td>40</td>\n      <td>0</td>\n      <td>0</td>\n      <td>0</td>\n      <td>0</td>\n      <td>0</td>\n      <td>0</td>\n      <td>0</td>\n      <td>0</td>\n      <td>0</td>\n      <td>0</td>\n      <td>0</td>\n      <td>0</td>\n      <td>0</td>\n      <td>0</td>\n      <td>1</td>\n      <td>0</td>\n      <td>0</td>\n      <td>0</td>\n      <td>0</td>\n    </tr>\n    <tr>\n      <th>4</th>\n      <td>0</td>\n      <td>1</td>\n      <td>1</td>\n      <td>0</td>\n      <td>0</td>\n      <td>2</td>\n      <td>3</td>\n      <td>1</td>\n      <td>1</td>\n      <td>-15037</td>\n      <td>482</td>\n      <td>0</td>\n      <td>0</td>\n      <td>0</td>\n      <td>2.0</td>\n      <td>216</td>\n      <td>2.0</td>\n      <td>40</td>\n      <td>0</td>\n      <td>0</td>\n      <td>0</td>\n      <td>0</td>\n      <td>0</td>\n      <td>0</td>\n      <td>0</td>\n      <td>0</td>\n      <td>0</td>\n      <td>0</td>\n      <td>1</td>\n      <td>0</td>\n      <td>0</td>\n      <td>0</td>\n      <td>0</td>\n      <td>0</td>\n      <td>0</td>\n      <td>0</td>\n      <td>0</td>\n    </tr>\n    <tr>\n      <th>...</th>\n      <td>...</td>\n      <td>...</td>\n      <td>...</td>\n      <td>...</td>\n      <td>...</td>\n      <td>...</td>\n      <td>...</td>\n      <td>...</td>\n      <td>...</td>\n      <td>...</td>\n      <td>...</td>\n      <td>...</td>\n      <td>...</td>\n      <td>...</td>\n      <td>...</td>\n      <td>...</td>\n      <td>...</td>\n      <td>...</td>\n      <td>...</td>\n      <td>...</td>\n      <td>...</td>\n      <td>...</td>\n      <td>...</td>\n      <td>...</td>\n      <td>...</td>\n      <td>...</td>\n      <td>...</td>\n      <td>...</td>\n      <td>...</td>\n      <td>...</td>\n      <td>...</td>\n      <td>...</td>\n      <td>...</td>\n      <td>...</td>\n      <td>...</td>\n      <td>...</td>\n      <td>...</td>\n    </tr>\n    <tr>\n      <th>26452</th>\n      <td>0</td>\n      <td>0</td>\n      <td>0</td>\n      <td>2</td>\n      <td>0</td>\n      <td>2</td>\n      <td>2</td>\n      <td>1</td>\n      <td>1</td>\n      <td>-12079</td>\n      <td>481</td>\n      <td>0</td>\n      <td>0</td>\n      <td>0</td>\n      <td>4.0</td>\n      <td>16</td>\n      <td>1.0</td>\n      <td>30</td>\n      <td>0</td>\n      <td>0</td>\n      <td>0</td>\n      <td>1</td>\n      <td>0</td>\n      <td>0</td>\n      <td>0</td>\n      <td>0</td>\n      <td>0</td>\n      <td>0</td>\n      <td>0</td>\n      <td>0</td>\n      <td>0</td>\n      <td>0</td>\n      <td>0</td>\n      <td>0</td>\n      <td>0</td>\n      <td>0</td>\n      <td>0</td>\n    </tr>\n    <tr>\n      <th>26453</th>\n      <td>0</td>\n      <td>0</td>\n      <td>1</td>\n      <td>1</td>\n      <td>0</td>\n      <td>4</td>\n      <td>3</td>\n      <td>2</td>\n      <td>1</td>\n      <td>-15291</td>\n      <td>482</td>\n      <td>0</td>\n      <td>0</td>\n      <td>0</td>\n      <td>2.0</td>\n      <td>391</td>\n      <td>2.0</td>\n      <td>40</td>\n      <td>0</td>\n      <td>0</td>\n      <td>0</td>\n      <td>0</td>\n      <td>0</td>\n      <td>0</td>\n      <td>0</td>\n      <td>0</td>\n      <td>0</td>\n      <td>0</td>\n      <td>0</td>\n      <td>0</td>\n      <td>0</td>\n      <td>0</td>\n      <td>0</td>\n      <td>0</td>\n      <td>0</td>\n      <td>1</td>\n      <td>0</td>\n    </tr>\n    <tr>\n      <th>26454</th>\n      <td>0</td>\n      <td>1</td>\n      <td>0</td>\n      <td>0</td>\n      <td>0</td>\n      <td>4</td>\n      <td>2</td>\n      <td>0</td>\n      <td>5</td>\n      <td>-10082</td>\n      <td>482</td>\n      <td>0</td>\n      <td>0</td>\n      <td>0</td>\n      <td>2.0</td>\n      <td>208</td>\n      <td>2.0</td>\n      <td>20</td>\n      <td>0</td>\n      <td>0</td>\n      <td>0</td>\n      <td>1</td>\n      <td>0</td>\n      <td>0</td>\n      <td>0</td>\n      <td>0</td>\n      <td>0</td>\n      <td>0</td>\n      <td>0</td>\n      <td>0</td>\n      <td>0</td>\n      <td>0</td>\n      <td>0</td>\n      <td>0</td>\n      <td>0</td>\n      <td>0</td>\n      <td>0</td>\n    </tr>\n    <tr>\n      <th>26455</th>\n      <td>1</td>\n      <td>0</td>\n      <td>1</td>\n      <td>0</td>\n      <td>0</td>\n      <td>4</td>\n      <td>1</td>\n      <td>3</td>\n      <td>1</td>\n      <td>-10145</td>\n      <td>479</td>\n      <td>0</td>\n      <td>0</td>\n      <td>0</td>\n      <td>1.0</td>\n      <td>491</td>\n      <td>2.0</td>\n      <td>20</td>\n      <td>0</td>\n      <td>0</td>\n      <td>0</td>\n      <td>0</td>\n      <td>0</td>\n      <td>0</td>\n      <td>0</td>\n      <td>0</td>\n      <td>1</td>\n      <td>0</td>\n      <td>0</td>\n      <td>0</td>\n      <td>0</td>\n      <td>0</td>\n      <td>0</td>\n      <td>0</td>\n      <td>0</td>\n      <td>0</td>\n      <td>0</td>\n    </tr>\n    <tr>\n      <th>26456</th>\n      <td>0</td>\n      <td>0</td>\n      <td>0</td>\n      <td>0</td>\n      <td>0</td>\n      <td>4</td>\n      <td>2</td>\n      <td>0</td>\n      <td>1</td>\n      <td>-19569</td>\n      <td>480</td>\n      <td>0</td>\n      <td>0</td>\n      <td>0</td>\n      <td>2.0</td>\n      <td>74</td>\n      <td>2.0</td>\n      <td>50</td>\n      <td>0</td>\n      <td>0</td>\n      <td>0</td>\n      <td>0</td>\n      <td>0</td>\n      <td>0</td>\n      <td>0</td>\n      <td>0</td>\n      <td>0</td>\n      <td>0</td>\n      <td>0</td>\n      <td>0</td>\n      <td>0</td>\n      <td>0</td>\n      <td>0</td>\n      <td>0</td>\n      <td>1</td>\n      <td>0</td>\n      <td>0</td>\n    </tr>\n  </tbody>\n</table>\n<p>26457 rows × 37 columns</p>\n</div>"
     },
     "metadata": {},
     "execution_count": 108
    }
   ],
   "source": [
    "label_encoder = LabelEncoder()\n",
    "\n",
    "train_bin5['income_total'] = label_encoder.fit_transform(train_bin5['income_total'])\n",
    "test_bin5['income_total'] = label_encoder.transform(test_bin5['income_total'])\n",
    "\n",
    "train_bin5"
   ]
  },
  {
   "source": [
    "#### bins=7"
   ],
   "cell_type": "markdown",
   "metadata": {}
  },
  {
   "cell_type": "code",
   "execution_count": 109,
   "metadata": {},
   "outputs": [
    {
     "output_type": "execute_result",
     "data": {
      "text/plain": [
       "       gender  car  reality  child_num  income_total  income_type  edu_type  \\\n",
       "0           0    0        0          0             0            0         3   \n",
       "1           0    0        1          1             0            0         2   \n",
       "2           1    1        1          0             1            4         3   \n",
       "3           0    0        1          0             0            0         2   \n",
       "4           0    1        1          0             0            2         3   \n",
       "...       ...  ...      ...        ...           ...          ...       ...   \n",
       "26452       0    0        0          2             0            2         2   \n",
       "26453       0    0        1          1             0            4         3   \n",
       "26454       0    1        0          0             1            4         2   \n",
       "26455       1    0        1          0             0            4         1   \n",
       "26456       0    0        0          0             0            4         2   \n",
       "\n",
       "       family_type  house_type  DAYS_BIRTH DAYS_EMPLOYED  work_phone  phone  \\\n",
       "0                1           2      -13899           485           0      0   \n",
       "1                0           1      -11380           481           0      0   \n",
       "2                1           1      -19087           485           0      1   \n",
       "3                1           1      -15088           482           0      1   \n",
       "4                1           1      -15037           482           0      0   \n",
       "...            ...         ...         ...           ...         ...    ...   \n",
       "26452            1           1      -12079           481           0      0   \n",
       "26453            2           1      -15291           482           0      0   \n",
       "26454            0           5      -10082           482           0      0   \n",
       "26455            3           1      -10145           479           0      0   \n",
       "26456            0           1      -19569           480           0      0   \n",
       "\n",
       "       email  family_size begin_month  credit  Age  occyp_type_Accountants  \\\n",
       "0          0          2.0          49     1.0   30                       0   \n",
       "1          1          3.0          41     1.0   30                       0   \n",
       "2          0          2.0         183     2.0   50                       0   \n",
       "3          0          2.0         308     0.0   40                       0   \n",
       "4          0          2.0         216     2.0   40                       0   \n",
       "...      ...          ...         ...     ...  ...                     ...   \n",
       "26452      0          4.0          16     1.0   30                       0   \n",
       "26453      0          2.0         391     2.0   40                       0   \n",
       "26454      0          2.0         208     2.0   20                       0   \n",
       "26455      0          1.0         491     2.0   20                       0   \n",
       "26456      0          2.0          74     2.0   50                       0   \n",
       "\n",
       "       occyp_type_Cleaning staff  occyp_type_Cooking staff  \\\n",
       "0                              0                         0   \n",
       "1                              0                         0   \n",
       "2                              0                         0   \n",
       "3                              0                         0   \n",
       "4                              0                         0   \n",
       "...                          ...                       ...   \n",
       "26452                          0                         0   \n",
       "26453                          0                         0   \n",
       "26454                          0                         0   \n",
       "26455                          0                         0   \n",
       "26456                          0                         0   \n",
       "\n",
       "       occyp_type_Core staff  occyp_type_Drivers  occyp_type_HR staff  \\\n",
       "0                          0                   0                    0   \n",
       "1                          0                   0                    0   \n",
       "2                          0                   0                    0   \n",
       "3                          0                   0                    0   \n",
       "4                          0                   0                    0   \n",
       "...                      ...                 ...                  ...   \n",
       "26452                      1                   0                    0   \n",
       "26453                      0                   0                    0   \n",
       "26454                      1                   0                    0   \n",
       "26455                      0                   0                    0   \n",
       "26456                      0                   0                    0   \n",
       "\n",
       "       occyp_type_High skill tech staff  occyp_type_IT staff  \\\n",
       "0                                     0                    0   \n",
       "1                                     0                    0   \n",
       "2                                     0                    0   \n",
       "3                                     0                    0   \n",
       "4                                     0                    0   \n",
       "...                                 ...                  ...   \n",
       "26452                                 0                    0   \n",
       "26453                                 0                    0   \n",
       "26454                                 0                    0   \n",
       "26455                                 0                    0   \n",
       "26456                                 0                    0   \n",
       "\n",
       "       occyp_type_Laborers  occyp_type_Low-skill Laborers  \\\n",
       "0                        0                              0   \n",
       "1                        1                              0   \n",
       "2                        0                              0   \n",
       "3                        0                              0   \n",
       "4                        0                              0   \n",
       "...                    ...                            ...   \n",
       "26452                    0                              0   \n",
       "26453                    0                              0   \n",
       "26454                    0                              0   \n",
       "26455                    1                              0   \n",
       "26456                    0                              0   \n",
       "\n",
       "       occyp_type_Managers  occyp_type_Medicine staff  \\\n",
       "0                        0                          0   \n",
       "1                        0                          0   \n",
       "2                        1                          0   \n",
       "3                        0                          0   \n",
       "4                        1                          0   \n",
       "...                    ...                        ...   \n",
       "26452                    0                          0   \n",
       "26453                    0                          0   \n",
       "26454                    0                          0   \n",
       "26455                    0                          0   \n",
       "26456                    0                          0   \n",
       "\n",
       "       occyp_type_Private service staff  occyp_type_Realty agents  \\\n",
       "0                                     0                         0   \n",
       "1                                     0                         0   \n",
       "2                                     0                         0   \n",
       "3                                     0                         0   \n",
       "4                                     0                         0   \n",
       "...                                 ...                       ...   \n",
       "26452                                 0                         0   \n",
       "26453                                 0                         0   \n",
       "26454                                 0                         0   \n",
       "26455                                 0                         0   \n",
       "26456                                 0                         0   \n",
       "\n",
       "       occyp_type_Sales staff  occyp_type_Secretaries  \\\n",
       "0                           0                       0   \n",
       "1                           0                       0   \n",
       "2                           0                       0   \n",
       "3                           1                       0   \n",
       "4                           0                       0   \n",
       "...                       ...                     ...   \n",
       "26452                       0                       0   \n",
       "26453                       0                       0   \n",
       "26454                       0                       0   \n",
       "26455                       0                       0   \n",
       "26456                       0                       0   \n",
       "\n",
       "       occyp_type_Security staff  occyp_type_Unknown  \\\n",
       "0                              0                   1   \n",
       "1                              0                   0   \n",
       "2                              0                   0   \n",
       "3                              0                   0   \n",
       "4                              0                   0   \n",
       "...                          ...                 ...   \n",
       "26452                          0                   0   \n",
       "26453                          0                   1   \n",
       "26454                          0                   0   \n",
       "26455                          0                   0   \n",
       "26456                          1                   0   \n",
       "\n",
       "       occyp_type_Waiters/barmen staff  \n",
       "0                                    0  \n",
       "1                                    0  \n",
       "2                                    0  \n",
       "3                                    0  \n",
       "4                                    0  \n",
       "...                                ...  \n",
       "26452                                0  \n",
       "26453                                0  \n",
       "26454                                0  \n",
       "26455                                0  \n",
       "26456                                0  \n",
       "\n",
       "[26457 rows x 37 columns]"
      ],
      "text/html": "<div>\n<style scoped>\n    .dataframe tbody tr th:only-of-type {\n        vertical-align: middle;\n    }\n\n    .dataframe tbody tr th {\n        vertical-align: top;\n    }\n\n    .dataframe thead th {\n        text-align: right;\n    }\n</style>\n<table border=\"1\" class=\"dataframe\">\n  <thead>\n    <tr style=\"text-align: right;\">\n      <th></th>\n      <th>gender</th>\n      <th>car</th>\n      <th>reality</th>\n      <th>child_num</th>\n      <th>income_total</th>\n      <th>income_type</th>\n      <th>edu_type</th>\n      <th>family_type</th>\n      <th>house_type</th>\n      <th>DAYS_BIRTH</th>\n      <th>DAYS_EMPLOYED</th>\n      <th>work_phone</th>\n      <th>phone</th>\n      <th>email</th>\n      <th>family_size</th>\n      <th>begin_month</th>\n      <th>credit</th>\n      <th>Age</th>\n      <th>occyp_type_Accountants</th>\n      <th>occyp_type_Cleaning staff</th>\n      <th>occyp_type_Cooking staff</th>\n      <th>occyp_type_Core staff</th>\n      <th>occyp_type_Drivers</th>\n      <th>occyp_type_HR staff</th>\n      <th>occyp_type_High skill tech staff</th>\n      <th>occyp_type_IT staff</th>\n      <th>occyp_type_Laborers</th>\n      <th>occyp_type_Low-skill Laborers</th>\n      <th>occyp_type_Managers</th>\n      <th>occyp_type_Medicine staff</th>\n      <th>occyp_type_Private service staff</th>\n      <th>occyp_type_Realty agents</th>\n      <th>occyp_type_Sales staff</th>\n      <th>occyp_type_Secretaries</th>\n      <th>occyp_type_Security staff</th>\n      <th>occyp_type_Unknown</th>\n      <th>occyp_type_Waiters/barmen staff</th>\n    </tr>\n  </thead>\n  <tbody>\n    <tr>\n      <th>0</th>\n      <td>0</td>\n      <td>0</td>\n      <td>0</td>\n      <td>0</td>\n      <td>0</td>\n      <td>0</td>\n      <td>3</td>\n      <td>1</td>\n      <td>2</td>\n      <td>-13899</td>\n      <td>485</td>\n      <td>0</td>\n      <td>0</td>\n      <td>0</td>\n      <td>2.0</td>\n      <td>49</td>\n      <td>1.0</td>\n      <td>30</td>\n      <td>0</td>\n      <td>0</td>\n      <td>0</td>\n      <td>0</td>\n      <td>0</td>\n      <td>0</td>\n      <td>0</td>\n      <td>0</td>\n      <td>0</td>\n      <td>0</td>\n      <td>0</td>\n      <td>0</td>\n      <td>0</td>\n      <td>0</td>\n      <td>0</td>\n      <td>0</td>\n      <td>0</td>\n      <td>1</td>\n      <td>0</td>\n    </tr>\n    <tr>\n      <th>1</th>\n      <td>0</td>\n      <td>0</td>\n      <td>1</td>\n      <td>1</td>\n      <td>0</td>\n      <td>0</td>\n      <td>2</td>\n      <td>0</td>\n      <td>1</td>\n      <td>-11380</td>\n      <td>481</td>\n      <td>0</td>\n      <td>0</td>\n      <td>1</td>\n      <td>3.0</td>\n      <td>41</td>\n      <td>1.0</td>\n      <td>30</td>\n      <td>0</td>\n      <td>0</td>\n      <td>0</td>\n      <td>0</td>\n      <td>0</td>\n      <td>0</td>\n      <td>0</td>\n      <td>0</td>\n      <td>1</td>\n      <td>0</td>\n      <td>0</td>\n      <td>0</td>\n      <td>0</td>\n      <td>0</td>\n      <td>0</td>\n      <td>0</td>\n      <td>0</td>\n      <td>0</td>\n      <td>0</td>\n    </tr>\n    <tr>\n      <th>2</th>\n      <td>1</td>\n      <td>1</td>\n      <td>1</td>\n      <td>0</td>\n      <td>1</td>\n      <td>4</td>\n      <td>3</td>\n      <td>1</td>\n      <td>1</td>\n      <td>-19087</td>\n      <td>485</td>\n      <td>0</td>\n      <td>1</td>\n      <td>0</td>\n      <td>2.0</td>\n      <td>183</td>\n      <td>2.0</td>\n      <td>50</td>\n      <td>0</td>\n      <td>0</td>\n      <td>0</td>\n      <td>0</td>\n      <td>0</td>\n      <td>0</td>\n      <td>0</td>\n      <td>0</td>\n      <td>0</td>\n      <td>0</td>\n      <td>1</td>\n      <td>0</td>\n      <td>0</td>\n      <td>0</td>\n      <td>0</td>\n      <td>0</td>\n      <td>0</td>\n      <td>0</td>\n      <td>0</td>\n    </tr>\n    <tr>\n      <th>3</th>\n      <td>0</td>\n      <td>0</td>\n      <td>1</td>\n      <td>0</td>\n      <td>0</td>\n      <td>0</td>\n      <td>2</td>\n      <td>1</td>\n      <td>1</td>\n      <td>-15088</td>\n      <td>482</td>\n      <td>0</td>\n      <td>1</td>\n      <td>0</td>\n      <td>2.0</td>\n      <td>308</td>\n      <td>0.0</td>\n      <td>40</td>\n      <td>0</td>\n      <td>0</td>\n      <td>0</td>\n      <td>0</td>\n      <td>0</td>\n      <td>0</td>\n      <td>0</td>\n      <td>0</td>\n      <td>0</td>\n      <td>0</td>\n      <td>0</td>\n      <td>0</td>\n      <td>0</td>\n      <td>0</td>\n      <td>1</td>\n      <td>0</td>\n      <td>0</td>\n      <td>0</td>\n      <td>0</td>\n    </tr>\n    <tr>\n      <th>4</th>\n      <td>0</td>\n      <td>1</td>\n      <td>1</td>\n      <td>0</td>\n      <td>0</td>\n      <td>2</td>\n      <td>3</td>\n      <td>1</td>\n      <td>1</td>\n      <td>-15037</td>\n      <td>482</td>\n      <td>0</td>\n      <td>0</td>\n      <td>0</td>\n      <td>2.0</td>\n      <td>216</td>\n      <td>2.0</td>\n      <td>40</td>\n      <td>0</td>\n      <td>0</td>\n      <td>0</td>\n      <td>0</td>\n      <td>0</td>\n      <td>0</td>\n      <td>0</td>\n      <td>0</td>\n      <td>0</td>\n      <td>0</td>\n      <td>1</td>\n      <td>0</td>\n      <td>0</td>\n      <td>0</td>\n      <td>0</td>\n      <td>0</td>\n      <td>0</td>\n      <td>0</td>\n      <td>0</td>\n    </tr>\n    <tr>\n      <th>...</th>\n      <td>...</td>\n      <td>...</td>\n      <td>...</td>\n      <td>...</td>\n      <td>...</td>\n      <td>...</td>\n      <td>...</td>\n      <td>...</td>\n      <td>...</td>\n      <td>...</td>\n      <td>...</td>\n      <td>...</td>\n      <td>...</td>\n      <td>...</td>\n      <td>...</td>\n      <td>...</td>\n      <td>...</td>\n      <td>...</td>\n      <td>...</td>\n      <td>...</td>\n      <td>...</td>\n      <td>...</td>\n      <td>...</td>\n      <td>...</td>\n      <td>...</td>\n      <td>...</td>\n      <td>...</td>\n      <td>...</td>\n      <td>...</td>\n      <td>...</td>\n      <td>...</td>\n      <td>...</td>\n      <td>...</td>\n      <td>...</td>\n      <td>...</td>\n      <td>...</td>\n      <td>...</td>\n    </tr>\n    <tr>\n      <th>26452</th>\n      <td>0</td>\n      <td>0</td>\n      <td>0</td>\n      <td>2</td>\n      <td>0</td>\n      <td>2</td>\n      <td>2</td>\n      <td>1</td>\n      <td>1</td>\n      <td>-12079</td>\n      <td>481</td>\n      <td>0</td>\n      <td>0</td>\n      <td>0</td>\n      <td>4.0</td>\n      <td>16</td>\n      <td>1.0</td>\n      <td>30</td>\n      <td>0</td>\n      <td>0</td>\n      <td>0</td>\n      <td>1</td>\n      <td>0</td>\n      <td>0</td>\n      <td>0</td>\n      <td>0</td>\n      <td>0</td>\n      <td>0</td>\n      <td>0</td>\n      <td>0</td>\n      <td>0</td>\n      <td>0</td>\n      <td>0</td>\n      <td>0</td>\n      <td>0</td>\n      <td>0</td>\n      <td>0</td>\n    </tr>\n    <tr>\n      <th>26453</th>\n      <td>0</td>\n      <td>0</td>\n      <td>1</td>\n      <td>1</td>\n      <td>0</td>\n      <td>4</td>\n      <td>3</td>\n      <td>2</td>\n      <td>1</td>\n      <td>-15291</td>\n      <td>482</td>\n      <td>0</td>\n      <td>0</td>\n      <td>0</td>\n      <td>2.0</td>\n      <td>391</td>\n      <td>2.0</td>\n      <td>40</td>\n      <td>0</td>\n      <td>0</td>\n      <td>0</td>\n      <td>0</td>\n      <td>0</td>\n      <td>0</td>\n      <td>0</td>\n      <td>0</td>\n      <td>0</td>\n      <td>0</td>\n      <td>0</td>\n      <td>0</td>\n      <td>0</td>\n      <td>0</td>\n      <td>0</td>\n      <td>0</td>\n      <td>0</td>\n      <td>1</td>\n      <td>0</td>\n    </tr>\n    <tr>\n      <th>26454</th>\n      <td>0</td>\n      <td>1</td>\n      <td>0</td>\n      <td>0</td>\n      <td>1</td>\n      <td>4</td>\n      <td>2</td>\n      <td>0</td>\n      <td>5</td>\n      <td>-10082</td>\n      <td>482</td>\n      <td>0</td>\n      <td>0</td>\n      <td>0</td>\n      <td>2.0</td>\n      <td>208</td>\n      <td>2.0</td>\n      <td>20</td>\n      <td>0</td>\n      <td>0</td>\n      <td>0</td>\n      <td>1</td>\n      <td>0</td>\n      <td>0</td>\n      <td>0</td>\n      <td>0</td>\n      <td>0</td>\n      <td>0</td>\n      <td>0</td>\n      <td>0</td>\n      <td>0</td>\n      <td>0</td>\n      <td>0</td>\n      <td>0</td>\n      <td>0</td>\n      <td>0</td>\n      <td>0</td>\n    </tr>\n    <tr>\n      <th>26455</th>\n      <td>1</td>\n      <td>0</td>\n      <td>1</td>\n      <td>0</td>\n      <td>0</td>\n      <td>4</td>\n      <td>1</td>\n      <td>3</td>\n      <td>1</td>\n      <td>-10145</td>\n      <td>479</td>\n      <td>0</td>\n      <td>0</td>\n      <td>0</td>\n      <td>1.0</td>\n      <td>491</td>\n      <td>2.0</td>\n      <td>20</td>\n      <td>0</td>\n      <td>0</td>\n      <td>0</td>\n      <td>0</td>\n      <td>0</td>\n      <td>0</td>\n      <td>0</td>\n      <td>0</td>\n      <td>1</td>\n      <td>0</td>\n      <td>0</td>\n      <td>0</td>\n      <td>0</td>\n      <td>0</td>\n      <td>0</td>\n      <td>0</td>\n      <td>0</td>\n      <td>0</td>\n      <td>0</td>\n    </tr>\n    <tr>\n      <th>26456</th>\n      <td>0</td>\n      <td>0</td>\n      <td>0</td>\n      <td>0</td>\n      <td>0</td>\n      <td>4</td>\n      <td>2</td>\n      <td>0</td>\n      <td>1</td>\n      <td>-19569</td>\n      <td>480</td>\n      <td>0</td>\n      <td>0</td>\n      <td>0</td>\n      <td>2.0</td>\n      <td>74</td>\n      <td>2.0</td>\n      <td>50</td>\n      <td>0</td>\n      <td>0</td>\n      <td>0</td>\n      <td>0</td>\n      <td>0</td>\n      <td>0</td>\n      <td>0</td>\n      <td>0</td>\n      <td>0</td>\n      <td>0</td>\n      <td>0</td>\n      <td>0</td>\n      <td>0</td>\n      <td>0</td>\n      <td>0</td>\n      <td>0</td>\n      <td>1</td>\n      <td>0</td>\n      <td>0</td>\n    </tr>\n  </tbody>\n</table>\n<p>26457 rows × 37 columns</p>\n</div>"
     },
     "metadata": {},
     "execution_count": 109
    }
   ],
   "source": [
    "label_encoder = LabelEncoder()\n",
    "\n",
    "train_bin7['income_total'] = label_encoder.fit_transform(train_bin7['income_total'])\n",
    "test_bin7['income_total'] = label_encoder.transform(test_bin7['income_total'])\n",
    "\n",
    "train_bin7"
   ]
  },
  {
   "source": [
    "#### bins=10"
   ],
   "cell_type": "markdown",
   "metadata": {}
  },
  {
   "cell_type": "code",
   "execution_count": 110,
   "metadata": {},
   "outputs": [
    {
     "output_type": "execute_result",
     "data": {
      "text/plain": [
       "       gender  car  reality  child_num  income_total  income_type  edu_type  \\\n",
       "0           0    0        0          0             1            0         3   \n",
       "1           0    0        1          1             1            0         2   \n",
       "2           1    1        1          0             2            4         3   \n",
       "3           0    0        1          0             1            0         2   \n",
       "4           0    1        1          0             0            2         3   \n",
       "...       ...  ...      ...        ...           ...          ...       ...   \n",
       "26452       0    0        0          2             1            2         2   \n",
       "26453       0    0        1          1             0            4         3   \n",
       "26454       0    1        0          0             1            4         2   \n",
       "26455       1    0        1          0             0            4         1   \n",
       "26456       0    0        0          0             0            4         2   \n",
       "\n",
       "       family_type  house_type  DAYS_BIRTH DAYS_EMPLOYED  work_phone  phone  \\\n",
       "0                1           2      -13899           485           0      0   \n",
       "1                0           1      -11380           481           0      0   \n",
       "2                1           1      -19087           485           0      1   \n",
       "3                1           1      -15088           482           0      1   \n",
       "4                1           1      -15037           482           0      0   \n",
       "...            ...         ...         ...           ...         ...    ...   \n",
       "26452            1           1      -12079           481           0      0   \n",
       "26453            2           1      -15291           482           0      0   \n",
       "26454            0           5      -10082           482           0      0   \n",
       "26455            3           1      -10145           479           0      0   \n",
       "26456            0           1      -19569           480           0      0   \n",
       "\n",
       "       email  family_size begin_month  credit  Age  occyp_type_Accountants  \\\n",
       "0          0          2.0          49     1.0   30                       0   \n",
       "1          1          3.0          41     1.0   30                       0   \n",
       "2          0          2.0         183     2.0   50                       0   \n",
       "3          0          2.0         308     0.0   40                       0   \n",
       "4          0          2.0         216     2.0   40                       0   \n",
       "...      ...          ...         ...     ...  ...                     ...   \n",
       "26452      0          4.0          16     1.0   30                       0   \n",
       "26453      0          2.0         391     2.0   40                       0   \n",
       "26454      0          2.0         208     2.0   20                       0   \n",
       "26455      0          1.0         491     2.0   20                       0   \n",
       "26456      0          2.0          74     2.0   50                       0   \n",
       "\n",
       "       occyp_type_Cleaning staff  occyp_type_Cooking staff  \\\n",
       "0                              0                         0   \n",
       "1                              0                         0   \n",
       "2                              0                         0   \n",
       "3                              0                         0   \n",
       "4                              0                         0   \n",
       "...                          ...                       ...   \n",
       "26452                          0                         0   \n",
       "26453                          0                         0   \n",
       "26454                          0                         0   \n",
       "26455                          0                         0   \n",
       "26456                          0                         0   \n",
       "\n",
       "       occyp_type_Core staff  occyp_type_Drivers  occyp_type_HR staff  \\\n",
       "0                          0                   0                    0   \n",
       "1                          0                   0                    0   \n",
       "2                          0                   0                    0   \n",
       "3                          0                   0                    0   \n",
       "4                          0                   0                    0   \n",
       "...                      ...                 ...                  ...   \n",
       "26452                      1                   0                    0   \n",
       "26453                      0                   0                    0   \n",
       "26454                      1                   0                    0   \n",
       "26455                      0                   0                    0   \n",
       "26456                      0                   0                    0   \n",
       "\n",
       "       occyp_type_High skill tech staff  occyp_type_IT staff  \\\n",
       "0                                     0                    0   \n",
       "1                                     0                    0   \n",
       "2                                     0                    0   \n",
       "3                                     0                    0   \n",
       "4                                     0                    0   \n",
       "...                                 ...                  ...   \n",
       "26452                                 0                    0   \n",
       "26453                                 0                    0   \n",
       "26454                                 0                    0   \n",
       "26455                                 0                    0   \n",
       "26456                                 0                    0   \n",
       "\n",
       "       occyp_type_Laborers  occyp_type_Low-skill Laborers  \\\n",
       "0                        0                              0   \n",
       "1                        1                              0   \n",
       "2                        0                              0   \n",
       "3                        0                              0   \n",
       "4                        0                              0   \n",
       "...                    ...                            ...   \n",
       "26452                    0                              0   \n",
       "26453                    0                              0   \n",
       "26454                    0                              0   \n",
       "26455                    1                              0   \n",
       "26456                    0                              0   \n",
       "\n",
       "       occyp_type_Managers  occyp_type_Medicine staff  \\\n",
       "0                        0                          0   \n",
       "1                        0                          0   \n",
       "2                        1                          0   \n",
       "3                        0                          0   \n",
       "4                        1                          0   \n",
       "...                    ...                        ...   \n",
       "26452                    0                          0   \n",
       "26453                    0                          0   \n",
       "26454                    0                          0   \n",
       "26455                    0                          0   \n",
       "26456                    0                          0   \n",
       "\n",
       "       occyp_type_Private service staff  occyp_type_Realty agents  \\\n",
       "0                                     0                         0   \n",
       "1                                     0                         0   \n",
       "2                                     0                         0   \n",
       "3                                     0                         0   \n",
       "4                                     0                         0   \n",
       "...                                 ...                       ...   \n",
       "26452                                 0                         0   \n",
       "26453                                 0                         0   \n",
       "26454                                 0                         0   \n",
       "26455                                 0                         0   \n",
       "26456                                 0                         0   \n",
       "\n",
       "       occyp_type_Sales staff  occyp_type_Secretaries  \\\n",
       "0                           0                       0   \n",
       "1                           0                       0   \n",
       "2                           0                       0   \n",
       "3                           1                       0   \n",
       "4                           0                       0   \n",
       "...                       ...                     ...   \n",
       "26452                       0                       0   \n",
       "26453                       0                       0   \n",
       "26454                       0                       0   \n",
       "26455                       0                       0   \n",
       "26456                       0                       0   \n",
       "\n",
       "       occyp_type_Security staff  occyp_type_Unknown  \\\n",
       "0                              0                   1   \n",
       "1                              0                   0   \n",
       "2                              0                   0   \n",
       "3                              0                   0   \n",
       "4                              0                   0   \n",
       "...                          ...                 ...   \n",
       "26452                          0                   0   \n",
       "26453                          0                   1   \n",
       "26454                          0                   0   \n",
       "26455                          0                   0   \n",
       "26456                          1                   0   \n",
       "\n",
       "       occyp_type_Waiters/barmen staff  \n",
       "0                                    0  \n",
       "1                                    0  \n",
       "2                                    0  \n",
       "3                                    0  \n",
       "4                                    0  \n",
       "...                                ...  \n",
       "26452                                0  \n",
       "26453                                0  \n",
       "26454                                0  \n",
       "26455                                0  \n",
       "26456                                0  \n",
       "\n",
       "[26457 rows x 37 columns]"
      ],
      "text/html": "<div>\n<style scoped>\n    .dataframe tbody tr th:only-of-type {\n        vertical-align: middle;\n    }\n\n    .dataframe tbody tr th {\n        vertical-align: top;\n    }\n\n    .dataframe thead th {\n        text-align: right;\n    }\n</style>\n<table border=\"1\" class=\"dataframe\">\n  <thead>\n    <tr style=\"text-align: right;\">\n      <th></th>\n      <th>gender</th>\n      <th>car</th>\n      <th>reality</th>\n      <th>child_num</th>\n      <th>income_total</th>\n      <th>income_type</th>\n      <th>edu_type</th>\n      <th>family_type</th>\n      <th>house_type</th>\n      <th>DAYS_BIRTH</th>\n      <th>DAYS_EMPLOYED</th>\n      <th>work_phone</th>\n      <th>phone</th>\n      <th>email</th>\n      <th>family_size</th>\n      <th>begin_month</th>\n      <th>credit</th>\n      <th>Age</th>\n      <th>occyp_type_Accountants</th>\n      <th>occyp_type_Cleaning staff</th>\n      <th>occyp_type_Cooking staff</th>\n      <th>occyp_type_Core staff</th>\n      <th>occyp_type_Drivers</th>\n      <th>occyp_type_HR staff</th>\n      <th>occyp_type_High skill tech staff</th>\n      <th>occyp_type_IT staff</th>\n      <th>occyp_type_Laborers</th>\n      <th>occyp_type_Low-skill Laborers</th>\n      <th>occyp_type_Managers</th>\n      <th>occyp_type_Medicine staff</th>\n      <th>occyp_type_Private service staff</th>\n      <th>occyp_type_Realty agents</th>\n      <th>occyp_type_Sales staff</th>\n      <th>occyp_type_Secretaries</th>\n      <th>occyp_type_Security staff</th>\n      <th>occyp_type_Unknown</th>\n      <th>occyp_type_Waiters/barmen staff</th>\n    </tr>\n  </thead>\n  <tbody>\n    <tr>\n      <th>0</th>\n      <td>0</td>\n      <td>0</td>\n      <td>0</td>\n      <td>0</td>\n      <td>1</td>\n      <td>0</td>\n      <td>3</td>\n      <td>1</td>\n      <td>2</td>\n      <td>-13899</td>\n      <td>485</td>\n      <td>0</td>\n      <td>0</td>\n      <td>0</td>\n      <td>2.0</td>\n      <td>49</td>\n      <td>1.0</td>\n      <td>30</td>\n      <td>0</td>\n      <td>0</td>\n      <td>0</td>\n      <td>0</td>\n      <td>0</td>\n      <td>0</td>\n      <td>0</td>\n      <td>0</td>\n      <td>0</td>\n      <td>0</td>\n      <td>0</td>\n      <td>0</td>\n      <td>0</td>\n      <td>0</td>\n      <td>0</td>\n      <td>0</td>\n      <td>0</td>\n      <td>1</td>\n      <td>0</td>\n    </tr>\n    <tr>\n      <th>1</th>\n      <td>0</td>\n      <td>0</td>\n      <td>1</td>\n      <td>1</td>\n      <td>1</td>\n      <td>0</td>\n      <td>2</td>\n      <td>0</td>\n      <td>1</td>\n      <td>-11380</td>\n      <td>481</td>\n      <td>0</td>\n      <td>0</td>\n      <td>1</td>\n      <td>3.0</td>\n      <td>41</td>\n      <td>1.0</td>\n      <td>30</td>\n      <td>0</td>\n      <td>0</td>\n      <td>0</td>\n      <td>0</td>\n      <td>0</td>\n      <td>0</td>\n      <td>0</td>\n      <td>0</td>\n      <td>1</td>\n      <td>0</td>\n      <td>0</td>\n      <td>0</td>\n      <td>0</td>\n      <td>0</td>\n      <td>0</td>\n      <td>0</td>\n      <td>0</td>\n      <td>0</td>\n      <td>0</td>\n    </tr>\n    <tr>\n      <th>2</th>\n      <td>1</td>\n      <td>1</td>\n      <td>1</td>\n      <td>0</td>\n      <td>2</td>\n      <td>4</td>\n      <td>3</td>\n      <td>1</td>\n      <td>1</td>\n      <td>-19087</td>\n      <td>485</td>\n      <td>0</td>\n      <td>1</td>\n      <td>0</td>\n      <td>2.0</td>\n      <td>183</td>\n      <td>2.0</td>\n      <td>50</td>\n      <td>0</td>\n      <td>0</td>\n      <td>0</td>\n      <td>0</td>\n      <td>0</td>\n      <td>0</td>\n      <td>0</td>\n      <td>0</td>\n      <td>0</td>\n      <td>0</td>\n      <td>1</td>\n      <td>0</td>\n      <td>0</td>\n      <td>0</td>\n      <td>0</td>\n      <td>0</td>\n      <td>0</td>\n      <td>0</td>\n      <td>0</td>\n    </tr>\n    <tr>\n      <th>3</th>\n      <td>0</td>\n      <td>0</td>\n      <td>1</td>\n      <td>0</td>\n      <td>1</td>\n      <td>0</td>\n      <td>2</td>\n      <td>1</td>\n      <td>1</td>\n      <td>-15088</td>\n      <td>482</td>\n      <td>0</td>\n      <td>1</td>\n      <td>0</td>\n      <td>2.0</td>\n      <td>308</td>\n      <td>0.0</td>\n      <td>40</td>\n      <td>0</td>\n      <td>0</td>\n      <td>0</td>\n      <td>0</td>\n      <td>0</td>\n      <td>0</td>\n      <td>0</td>\n      <td>0</td>\n      <td>0</td>\n      <td>0</td>\n      <td>0</td>\n      <td>0</td>\n      <td>0</td>\n      <td>0</td>\n      <td>1</td>\n      <td>0</td>\n      <td>0</td>\n      <td>0</td>\n      <td>0</td>\n    </tr>\n    <tr>\n      <th>4</th>\n      <td>0</td>\n      <td>1</td>\n      <td>1</td>\n      <td>0</td>\n      <td>0</td>\n      <td>2</td>\n      <td>3</td>\n      <td>1</td>\n      <td>1</td>\n      <td>-15037</td>\n      <td>482</td>\n      <td>0</td>\n      <td>0</td>\n      <td>0</td>\n      <td>2.0</td>\n      <td>216</td>\n      <td>2.0</td>\n      <td>40</td>\n      <td>0</td>\n      <td>0</td>\n      <td>0</td>\n      <td>0</td>\n      <td>0</td>\n      <td>0</td>\n      <td>0</td>\n      <td>0</td>\n      <td>0</td>\n      <td>0</td>\n      <td>1</td>\n      <td>0</td>\n      <td>0</td>\n      <td>0</td>\n      <td>0</td>\n      <td>0</td>\n      <td>0</td>\n      <td>0</td>\n      <td>0</td>\n    </tr>\n    <tr>\n      <th>...</th>\n      <td>...</td>\n      <td>...</td>\n      <td>...</td>\n      <td>...</td>\n      <td>...</td>\n      <td>...</td>\n      <td>...</td>\n      <td>...</td>\n      <td>...</td>\n      <td>...</td>\n      <td>...</td>\n      <td>...</td>\n      <td>...</td>\n      <td>...</td>\n      <td>...</td>\n      <td>...</td>\n      <td>...</td>\n      <td>...</td>\n      <td>...</td>\n      <td>...</td>\n      <td>...</td>\n      <td>...</td>\n      <td>...</td>\n      <td>...</td>\n      <td>...</td>\n      <td>...</td>\n      <td>...</td>\n      <td>...</td>\n      <td>...</td>\n      <td>...</td>\n      <td>...</td>\n      <td>...</td>\n      <td>...</td>\n      <td>...</td>\n      <td>...</td>\n      <td>...</td>\n      <td>...</td>\n    </tr>\n    <tr>\n      <th>26452</th>\n      <td>0</td>\n      <td>0</td>\n      <td>0</td>\n      <td>2</td>\n      <td>1</td>\n      <td>2</td>\n      <td>2</td>\n      <td>1</td>\n      <td>1</td>\n      <td>-12079</td>\n      <td>481</td>\n      <td>0</td>\n      <td>0</td>\n      <td>0</td>\n      <td>4.0</td>\n      <td>16</td>\n      <td>1.0</td>\n      <td>30</td>\n      <td>0</td>\n      <td>0</td>\n      <td>0</td>\n      <td>1</td>\n      <td>0</td>\n      <td>0</td>\n      <td>0</td>\n      <td>0</td>\n      <td>0</td>\n      <td>0</td>\n      <td>0</td>\n      <td>0</td>\n      <td>0</td>\n      <td>0</td>\n      <td>0</td>\n      <td>0</td>\n      <td>0</td>\n      <td>0</td>\n      <td>0</td>\n    </tr>\n    <tr>\n      <th>26453</th>\n      <td>0</td>\n      <td>0</td>\n      <td>1</td>\n      <td>1</td>\n      <td>0</td>\n      <td>4</td>\n      <td>3</td>\n      <td>2</td>\n      <td>1</td>\n      <td>-15291</td>\n      <td>482</td>\n      <td>0</td>\n      <td>0</td>\n      <td>0</td>\n      <td>2.0</td>\n      <td>391</td>\n      <td>2.0</td>\n      <td>40</td>\n      <td>0</td>\n      <td>0</td>\n      <td>0</td>\n      <td>0</td>\n      <td>0</td>\n      <td>0</td>\n      <td>0</td>\n      <td>0</td>\n      <td>0</td>\n      <td>0</td>\n      <td>0</td>\n      <td>0</td>\n      <td>0</td>\n      <td>0</td>\n      <td>0</td>\n      <td>0</td>\n      <td>0</td>\n      <td>1</td>\n      <td>0</td>\n    </tr>\n    <tr>\n      <th>26454</th>\n      <td>0</td>\n      <td>1</td>\n      <td>0</td>\n      <td>0</td>\n      <td>1</td>\n      <td>4</td>\n      <td>2</td>\n      <td>0</td>\n      <td>5</td>\n      <td>-10082</td>\n      <td>482</td>\n      <td>0</td>\n      <td>0</td>\n      <td>0</td>\n      <td>2.0</td>\n      <td>208</td>\n      <td>2.0</td>\n      <td>20</td>\n      <td>0</td>\n      <td>0</td>\n      <td>0</td>\n      <td>1</td>\n      <td>0</td>\n      <td>0</td>\n      <td>0</td>\n      <td>0</td>\n      <td>0</td>\n      <td>0</td>\n      <td>0</td>\n      <td>0</td>\n      <td>0</td>\n      <td>0</td>\n      <td>0</td>\n      <td>0</td>\n      <td>0</td>\n      <td>0</td>\n      <td>0</td>\n    </tr>\n    <tr>\n      <th>26455</th>\n      <td>1</td>\n      <td>0</td>\n      <td>1</td>\n      <td>0</td>\n      <td>0</td>\n      <td>4</td>\n      <td>1</td>\n      <td>3</td>\n      <td>1</td>\n      <td>-10145</td>\n      <td>479</td>\n      <td>0</td>\n      <td>0</td>\n      <td>0</td>\n      <td>1.0</td>\n      <td>491</td>\n      <td>2.0</td>\n      <td>20</td>\n      <td>0</td>\n      <td>0</td>\n      <td>0</td>\n      <td>0</td>\n      <td>0</td>\n      <td>0</td>\n      <td>0</td>\n      <td>0</td>\n      <td>1</td>\n      <td>0</td>\n      <td>0</td>\n      <td>0</td>\n      <td>0</td>\n      <td>0</td>\n      <td>0</td>\n      <td>0</td>\n      <td>0</td>\n      <td>0</td>\n      <td>0</td>\n    </tr>\n    <tr>\n      <th>26456</th>\n      <td>0</td>\n      <td>0</td>\n      <td>0</td>\n      <td>0</td>\n      <td>0</td>\n      <td>4</td>\n      <td>2</td>\n      <td>0</td>\n      <td>1</td>\n      <td>-19569</td>\n      <td>480</td>\n      <td>0</td>\n      <td>0</td>\n      <td>0</td>\n      <td>2.0</td>\n      <td>74</td>\n      <td>2.0</td>\n      <td>50</td>\n      <td>0</td>\n      <td>0</td>\n      <td>0</td>\n      <td>0</td>\n      <td>0</td>\n      <td>0</td>\n      <td>0</td>\n      <td>0</td>\n      <td>0</td>\n      <td>0</td>\n      <td>0</td>\n      <td>0</td>\n      <td>0</td>\n      <td>0</td>\n      <td>0</td>\n      <td>0</td>\n      <td>1</td>\n      <td>0</td>\n      <td>0</td>\n    </tr>\n  </tbody>\n</table>\n<p>26457 rows × 37 columns</p>\n</div>"
     },
     "metadata": {},
     "execution_count": 110
    }
   ],
   "source": [
    "label_encoder = LabelEncoder()\n",
    "\n",
    "train_bin10['income_total'] = label_encoder.fit_transform(train_bin10['income_total'])\n",
    "test_bin10['income_total'] = label_encoder.transform(test_bin10['income_total'])\n",
    "\n",
    "train_bin10"
   ]
  },
  {
   "source": [
    "# Make preprocessed files"
   ],
   "cell_type": "markdown",
   "metadata": {}
  },
  {
   "cell_type": "code",
   "execution_count": 111,
   "metadata": {},
   "outputs": [],
   "source": [
    "process_dir = \"../result_file/preprocess_results/\"\n",
    "\n",
    "train_bin5.to_csv(os.path.join(process_dir, \"train_income_bin5.csv\"), index=False)\n",
    "train_bin7.to_csv(os.path.join(process_dir, \"train_income_bin7.csv\"), index=False)\n",
    "train_bin10.to_csv(os.path.join(process_dir, \"train_income_bin10.csv\"), index=False)\n",
    "\n",
    "test_bin5.to_csv(os.path.join(process_dir, \"test_income_bin5.csv\"), index=False)\n",
    "test_bin7.to_csv(os.path.join(process_dir, \"test_income_bin7.csv\"), index=False)\n",
    "test_bin10.to_csv(os.path.join(process_dir, \"test_income_bin10.csv\"), index=False)"
   ]
  }
 ],
 "metadata": {
  "kernelspec": {
   "name": "python388jvsc74a57bd033a3111211be4281f3a8c4a9b25563b8d253df502c7e31f5318895c1792a97cb",
   "display_name": "Python 3.8.8 64-bit ('py38': conda)"
  },
  "language_info": {
   "codemirror_mode": {
    "name": "ipython",
    "version": 3
   },
   "file_extension": ".py",
   "mimetype": "text/x-python",
   "name": "python",
   "nbconvert_exporter": "python",
   "pygments_lexer": "ipython3",
   "version": "3.8.8"
  }
 },
 "nbformat": 4,
 "nbformat_minor": 5
}