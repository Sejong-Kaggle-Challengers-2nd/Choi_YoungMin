{
 "cells": [
  {
   "cell_type": "markdown",
   "source": [
    "# Additional EDA\r\n",
    "\r\n",
    "## To Do\r\n",
    "\r\n",
    "- Train에서 공급유형이 `장기전세`, `공공분양`, `공공임대(5년)`인 example들의 `단지코드`가 차지하는 비율 살펴보기\r\n",
    "- 하나의 단지코드내에 `임대건물구분` 값 존재 양상(상가/아파트/상가&아파트)에 따른 `등록차량수` 살펴보기\r\n",
    "- `자격유형`별로 `임대보증금`과 `임대료`의 평균값들을 계산하여 소득수준과 관련한 판단 지표가 될 수 있는 지 확인하기.\r\n",
    "\r\n",
    "\r\n",
    "## 살펴보면 좋을 것 같은 feature 관계\r\n",
    "\r\n",
    "- 총세대수, 전용면적, 전용면적별세대수, 단지내주차면수 <==> 등록차량수\r\n",
    "- 자하철, 버스 <==> 등록차량수"
   ],
   "metadata": {}
  },
  {
   "cell_type": "markdown",
   "source": [
    "## Import Module"
   ],
   "metadata": {}
  },
  {
   "cell_type": "code",
   "execution_count": 2,
   "source": [
    "import pandas as pd\r\n",
    "import numpy as np\r\n",
    "import os\r\n",
    "from tqdm.notebook import tqdm\r\n",
    "\r\n",
    "import matplotlib\r\n",
    "import matplotlib.pyplot as plt\r\n",
    "from matplotlib import font_manager, rc\r\n",
    "from matplotlib import pyplot as plt\r\n",
    "import platform\r\n",
    "\r\n",
    "if platform.system() == 'Window':\r\n",
    "    font_name = font_manager.FontProperties(fname='c:/Windows/Fonts/malgun.ttf').get_name()\r\n",
    "    rc('font', family=font_name)\r\n",
    "else:\r\n",
    "    rc('font', family='AppleChthic')\r\n",
    "\r\n",
    "matplotlib.rcParams['axes.unicode_minus'] = False"
   ],
   "outputs": [],
   "metadata": {}
  },
  {
   "cell_type": "markdown",
   "source": [
    "## Data Load"
   ],
   "metadata": {}
  },
  {
   "cell_type": "code",
   "execution_count": 3,
   "source": [
    "DATA_ROOT = ''\r\n",
    "DATA_ROOT = os.path.join(DATA_ROOT, \"../../../competition_data/parking_data/\")\r\n",
    "\r\n",
    "TRAIN_ROOT = os.path.join(DATA_ROOT, \"train.csv\")\r\n",
    "TEST_ROOT = os.path.join(DATA_ROOT, \"test.csv\")\r\n",
    "AGE_GENDER_INFO_ROOT = os.path.join(DATA_ROOT, \"age_gender_info.csv\")\r\n",
    "\r\n",
    "print(f\"DATA_ROOT : {DATA_ROOT}\")\r\n",
    "print(f\"TRAIN_ROOT : {TRAIN_ROOT}\")\r\n",
    "print(f\"TEST_ROOT : {TEST_ROOT}\")\r\n",
    "print(F\"SUBMISSION_ROOT : {AGE_GENDER_INFO_ROOT}\")"
   ],
   "outputs": [
    {
     "output_type": "stream",
     "name": "stdout",
     "text": [
      "DATA_ROOT : ../../../competition_data/parking_data/\n",
      "TRAIN_ROOT : ../../../competition_data/parking_data/train.csv\n",
      "TEST_ROOT : ../../../competition_data/parking_data/test.csv\n",
      "SUBMISSION_ROOT : ../../../competition_data/parking_data/age_gender_info.csv\n"
     ]
    }
   ],
   "metadata": {}
  },
  {
   "cell_type": "code",
   "execution_count": 4,
   "source": [
    "train = pd.read_csv(TRAIN_ROOT)\r\n",
    "test = pd.read_csv(TEST_ROOT)\r\n",
    "age_gender_info = pd.read_csv(AGE_GENDER_INFO_ROOT)\r\n",
    "\r\n",
    "print(\"Data Loaded!\")"
   ],
   "outputs": [
    {
     "output_type": "stream",
     "name": "stdout",
     "text": [
      "Data Loaded!\n"
     ]
    }
   ],
   "metadata": {}
  },
  {
   "cell_type": "markdown",
   "source": [
    "## Preprocess (Version 2)\r\n",
    "\r\n",
    "- 임대보증금, 임대료 -> `'-'` -> NULL, dtype을 float으로 변경\r\n",
    "- NULL 값 처리\r\n",
    "    - 임대보증금, 임대료, 지하철, 버스 -> fillna(0)\r\n",
    "    - 자격유형 -> Case별 'A', 'C'로 채우기"
   ],
   "metadata": {}
  },
  {
   "cell_type": "markdown",
   "source": [
    "### `'-'` -> NULL, dtype을 float으로 변경"
   ],
   "metadata": {}
  },
  {
   "cell_type": "code",
   "execution_count": 5,
   "source": [
    "columns = ['임대보증금', '임대료']\r\n",
    "\r\n",
    "for col in columns:\r\n",
    "    train.loc[train[col] == '-', col] = np.nan\r\n",
    "    test.loc[test[col] == '-', col] = np.nan\r\n",
    "\r\n",
    "    train[col] = train[col].astype(float)\r\n",
    "    test[col] = test[col].astype(float)"
   ],
   "outputs": [],
   "metadata": {}
  },
  {
   "cell_type": "markdown",
   "source": [
    "### NULL 값 처리"
   ],
   "metadata": {}
  },
  {
   "cell_type": "markdown",
   "source": [
    "#### 임대보증금, 임대료"
   ],
   "metadata": {}
  },
  {
   "cell_type": "code",
   "execution_count": 6,
   "source": [
    "train[['임대보증금', '임대료']] = train[['임대보증금', '임대료']].fillna(0)\r\n",
    "test[['임대보증금', '임대료']] = test[['임대보증금', '임대료']].fillna(0)"
   ],
   "outputs": [],
   "metadata": {}
  },
  {
   "cell_type": "markdown",
   "source": [
    "#### 지하철, 버스"
   ],
   "metadata": {}
  },
  {
   "cell_type": "code",
   "execution_count": 7,
   "source": [
    "cols = ['도보 10분거리 내 지하철역 수(환승노선 수 반영)', '도보 10분거리 내 버스정류장 수']\r\n",
    "train[cols] = train[cols].fillna(0)\r\n",
    "test[cols] = test[cols].fillna(0)"
   ],
   "outputs": [],
   "metadata": {}
  },
  {
   "cell_type": "markdown",
   "source": [
    "#### 자격유형"
   ],
   "metadata": {}
  },
  {
   "cell_type": "code",
   "execution_count": 8,
   "source": [
    "test.loc[test.단지코드.isin(['C2411']) & test.자격유형.isnull(), '자격유형'] = 'A'\r\n",
    "test.loc[test.단지코드.isin(['C2253']) & test.자격유형.isnull(), '자격유형'] = 'C'"
   ],
   "outputs": [],
   "metadata": {}
  },
  {
   "cell_type": "markdown",
   "source": [
    "#### 중복 example 제거"
   ],
   "metadata": {}
  },
  {
   "cell_type": "code",
   "execution_count": 9,
   "source": [
    "train = train.drop_duplicates()\r\n",
    "test = test.drop_duplicates()"
   ],
   "outputs": [],
   "metadata": {}
  },
  {
   "cell_type": "markdown",
   "source": [
    "## Additional EDA"
   ],
   "metadata": {}
  },
  {
   "cell_type": "markdown",
   "source": [
    "### Train에서 공급유형이 `장기전세`, `공공분양`, `공공임대(5년)`인 example들의 `단지코드`가 차지하는 비율 살펴보기"
   ],
   "metadata": {}
  },
  {
   "cell_type": "markdown",
   "source": [
    "#### EDA 함수 정의"
   ],
   "metadata": {}
  },
  {
   "cell_type": "code",
   "execution_count": 10,
   "source": [
    "def describe_provide(data, value):\r\n",
    "\r\n",
    "    print(\"\\n==================================\\n\")\r\n",
    "\r\n",
    "    # 해당 공급유형을 가지는 example 개수 출력\r\n",
    "    print(f\"공급유형이 '{value}'인 example의 수 : {len(data.loc[data.공급유형 == value, :])}\")\r\n",
    "\r\n",
    "    print(\"\\n==================================\\n\")\r\n",
    "\r\n",
    "    # 해당 공급유형을 가지는 단지 코드의 Unique 값 출력\r\n",
    "    codes = data.loc[data.공급유형 == value, '단지코드'].unique().tolist()\r\n",
    "    print(f\"공급유형이 '{value}'인 단지코드 : {codes}\")\r\n",
    "\r\n",
    "    print(\"\\n==================================\\n\")\r\n",
    "\r\n",
    "    # 각 단지코드별 공급유형 양상 출력(value_counts)\r\n",
    "    for code in codes:\r\n",
    "        print(f\"['{code}'의 공급유형 양상] : \\n{data.loc[data.단지코드 == code, '공급유형'].value_counts()}\\n\")\r\n",
    "    \r\n",
    "    print(\"==================================\\n\")\r\n",
    "\r\n",
    "    # 각 단지코드가 전체 단지코드에서 차지하는 비중 출력\r\n",
    "    for code in codes:\r\n",
    "        print(\"[전체 단지코드 중 '{}'의 비중] : {} / {} ({:.2f} %)\\n\".format(code, len(data.loc[data.단지코드 == code, :]), len(data), 100. * len(data.loc[data.단지코드 == code, :]) / len(data)))\r\n",
    "\r\n",
    "    print(\"==================================\\n\")"
   ],
   "outputs": [],
   "metadata": {}
  },
  {
   "cell_type": "markdown",
   "source": [
    "#### 장기전세"
   ],
   "metadata": {}
  },
  {
   "cell_type": "code",
   "execution_count": 11,
   "source": [
    "train.loc[train.공급유형 == '장기전세', :]"
   ],
   "outputs": [
    {
     "output_type": "execute_result",
     "data": {
      "text/plain": [
       "       단지코드  총세대수 임대건물구분     지역  공급유형   전용면적  전용면적별세대수   공가수 자격유형  \\\n",
       "2043  C1397   370    아파트  서울특별시  장기전세  23.32        51   9.0    A   \n",
       "2044  C1397   370    아파트  서울특별시  장기전세  46.79         4   9.0    A   \n",
       "2045  C1397   370    아파트  서울특별시  장기전세  46.91        69   9.0    A   \n",
       "2046  C1397   370    아파트  서울특별시  장기전세  51.96        24   9.0    A   \n",
       "2047  C1397   370    아파트  서울특별시  장기전세  51.99        80   9.0    A   \n",
       "2048  C1397   370    아파트  서울특별시  장기전세  59.93       142   9.0    A   \n",
       "2100  C1039   790    아파트  서울특별시  장기전세  51.32       126  13.0    A   \n",
       "2101  C1039   790    아파트  서울특별시  장기전세  59.88        49  13.0    A   \n",
       "2102  C1039   790    아파트  서울특별시  장기전세  59.94        75  13.0    A   \n",
       "\n",
       "            임대보증금  임대료  도보 10분거리 내 지하철역 수(환승노선 수 반영)  도보 10분거리 내 버스정류장 수  \\\n",
       "2043   87444000.0  0.0                           0.0                 3.0   \n",
       "2044  174888000.0  0.0                           0.0                 3.0   \n",
       "2045  174888000.0  0.0                           0.0                 3.0   \n",
       "2046  194562000.0  0.0                           0.0                 3.0   \n",
       "2047  194562000.0  0.0                           0.0                 3.0   \n",
       "2048  216423000.0  0.0                           0.0                 3.0   \n",
       "2100  187694000.0  0.0                           0.0                 3.0   \n",
       "2101  213863000.0  0.0                           0.0                 3.0   \n",
       "2102  213863000.0  0.0                           0.0                 3.0   \n",
       "\n",
       "      단지내주차면수   등록차량수  \n",
       "2043   1590.0  1595.0  \n",
       "2044   1590.0  1595.0  \n",
       "2045   1590.0  1595.0  \n",
       "2046   1590.0  1595.0  \n",
       "2047   1590.0  1595.0  \n",
       "2048   1590.0  1595.0  \n",
       "2100    673.0   645.0  \n",
       "2101    673.0   645.0  \n",
       "2102    673.0   645.0  "
      ],
      "text/html": [
       "<div>\n",
       "<style scoped>\n",
       "    .dataframe tbody tr th:only-of-type {\n",
       "        vertical-align: middle;\n",
       "    }\n",
       "\n",
       "    .dataframe tbody tr th {\n",
       "        vertical-align: top;\n",
       "    }\n",
       "\n",
       "    .dataframe thead th {\n",
       "        text-align: right;\n",
       "    }\n",
       "</style>\n",
       "<table border=\"1\" class=\"dataframe\">\n",
       "  <thead>\n",
       "    <tr style=\"text-align: right;\">\n",
       "      <th></th>\n",
       "      <th>단지코드</th>\n",
       "      <th>총세대수</th>\n",
       "      <th>임대건물구분</th>\n",
       "      <th>지역</th>\n",
       "      <th>공급유형</th>\n",
       "      <th>전용면적</th>\n",
       "      <th>전용면적별세대수</th>\n",
       "      <th>공가수</th>\n",
       "      <th>자격유형</th>\n",
       "      <th>임대보증금</th>\n",
       "      <th>임대료</th>\n",
       "      <th>도보 10분거리 내 지하철역 수(환승노선 수 반영)</th>\n",
       "      <th>도보 10분거리 내 버스정류장 수</th>\n",
       "      <th>단지내주차면수</th>\n",
       "      <th>등록차량수</th>\n",
       "    </tr>\n",
       "  </thead>\n",
       "  <tbody>\n",
       "    <tr>\n",
       "      <th>2043</th>\n",
       "      <td>C1397</td>\n",
       "      <td>370</td>\n",
       "      <td>아파트</td>\n",
       "      <td>서울특별시</td>\n",
       "      <td>장기전세</td>\n",
       "      <td>23.32</td>\n",
       "      <td>51</td>\n",
       "      <td>9.0</td>\n",
       "      <td>A</td>\n",
       "      <td>87444000.0</td>\n",
       "      <td>0.0</td>\n",
       "      <td>0.0</td>\n",
       "      <td>3.0</td>\n",
       "      <td>1590.0</td>\n",
       "      <td>1595.0</td>\n",
       "    </tr>\n",
       "    <tr>\n",
       "      <th>2044</th>\n",
       "      <td>C1397</td>\n",
       "      <td>370</td>\n",
       "      <td>아파트</td>\n",
       "      <td>서울특별시</td>\n",
       "      <td>장기전세</td>\n",
       "      <td>46.79</td>\n",
       "      <td>4</td>\n",
       "      <td>9.0</td>\n",
       "      <td>A</td>\n",
       "      <td>174888000.0</td>\n",
       "      <td>0.0</td>\n",
       "      <td>0.0</td>\n",
       "      <td>3.0</td>\n",
       "      <td>1590.0</td>\n",
       "      <td>1595.0</td>\n",
       "    </tr>\n",
       "    <tr>\n",
       "      <th>2045</th>\n",
       "      <td>C1397</td>\n",
       "      <td>370</td>\n",
       "      <td>아파트</td>\n",
       "      <td>서울특별시</td>\n",
       "      <td>장기전세</td>\n",
       "      <td>46.91</td>\n",
       "      <td>69</td>\n",
       "      <td>9.0</td>\n",
       "      <td>A</td>\n",
       "      <td>174888000.0</td>\n",
       "      <td>0.0</td>\n",
       "      <td>0.0</td>\n",
       "      <td>3.0</td>\n",
       "      <td>1590.0</td>\n",
       "      <td>1595.0</td>\n",
       "    </tr>\n",
       "    <tr>\n",
       "      <th>2046</th>\n",
       "      <td>C1397</td>\n",
       "      <td>370</td>\n",
       "      <td>아파트</td>\n",
       "      <td>서울특별시</td>\n",
       "      <td>장기전세</td>\n",
       "      <td>51.96</td>\n",
       "      <td>24</td>\n",
       "      <td>9.0</td>\n",
       "      <td>A</td>\n",
       "      <td>194562000.0</td>\n",
       "      <td>0.0</td>\n",
       "      <td>0.0</td>\n",
       "      <td>3.0</td>\n",
       "      <td>1590.0</td>\n",
       "      <td>1595.0</td>\n",
       "    </tr>\n",
       "    <tr>\n",
       "      <th>2047</th>\n",
       "      <td>C1397</td>\n",
       "      <td>370</td>\n",
       "      <td>아파트</td>\n",
       "      <td>서울특별시</td>\n",
       "      <td>장기전세</td>\n",
       "      <td>51.99</td>\n",
       "      <td>80</td>\n",
       "      <td>9.0</td>\n",
       "      <td>A</td>\n",
       "      <td>194562000.0</td>\n",
       "      <td>0.0</td>\n",
       "      <td>0.0</td>\n",
       "      <td>3.0</td>\n",
       "      <td>1590.0</td>\n",
       "      <td>1595.0</td>\n",
       "    </tr>\n",
       "    <tr>\n",
       "      <th>2048</th>\n",
       "      <td>C1397</td>\n",
       "      <td>370</td>\n",
       "      <td>아파트</td>\n",
       "      <td>서울특별시</td>\n",
       "      <td>장기전세</td>\n",
       "      <td>59.93</td>\n",
       "      <td>142</td>\n",
       "      <td>9.0</td>\n",
       "      <td>A</td>\n",
       "      <td>216423000.0</td>\n",
       "      <td>0.0</td>\n",
       "      <td>0.0</td>\n",
       "      <td>3.0</td>\n",
       "      <td>1590.0</td>\n",
       "      <td>1595.0</td>\n",
       "    </tr>\n",
       "    <tr>\n",
       "      <th>2100</th>\n",
       "      <td>C1039</td>\n",
       "      <td>790</td>\n",
       "      <td>아파트</td>\n",
       "      <td>서울특별시</td>\n",
       "      <td>장기전세</td>\n",
       "      <td>51.32</td>\n",
       "      <td>126</td>\n",
       "      <td>13.0</td>\n",
       "      <td>A</td>\n",
       "      <td>187694000.0</td>\n",
       "      <td>0.0</td>\n",
       "      <td>0.0</td>\n",
       "      <td>3.0</td>\n",
       "      <td>673.0</td>\n",
       "      <td>645.0</td>\n",
       "    </tr>\n",
       "    <tr>\n",
       "      <th>2101</th>\n",
       "      <td>C1039</td>\n",
       "      <td>790</td>\n",
       "      <td>아파트</td>\n",
       "      <td>서울특별시</td>\n",
       "      <td>장기전세</td>\n",
       "      <td>59.88</td>\n",
       "      <td>49</td>\n",
       "      <td>13.0</td>\n",
       "      <td>A</td>\n",
       "      <td>213863000.0</td>\n",
       "      <td>0.0</td>\n",
       "      <td>0.0</td>\n",
       "      <td>3.0</td>\n",
       "      <td>673.0</td>\n",
       "      <td>645.0</td>\n",
       "    </tr>\n",
       "    <tr>\n",
       "      <th>2102</th>\n",
       "      <td>C1039</td>\n",
       "      <td>790</td>\n",
       "      <td>아파트</td>\n",
       "      <td>서울특별시</td>\n",
       "      <td>장기전세</td>\n",
       "      <td>59.94</td>\n",
       "      <td>75</td>\n",
       "      <td>13.0</td>\n",
       "      <td>A</td>\n",
       "      <td>213863000.0</td>\n",
       "      <td>0.0</td>\n",
       "      <td>0.0</td>\n",
       "      <td>3.0</td>\n",
       "      <td>673.0</td>\n",
       "      <td>645.0</td>\n",
       "    </tr>\n",
       "  </tbody>\n",
       "</table>\n",
       "</div>"
      ]
     },
     "metadata": {},
     "execution_count": 11
    }
   ],
   "metadata": {}
  },
  {
   "cell_type": "code",
   "execution_count": 12,
   "source": [
    "describe_provide(train, '장기전세')"
   ],
   "outputs": [
    {
     "output_type": "stream",
     "name": "stdout",
     "text": [
      "\n",
      "==================================\n",
      "\n",
      "공급유형이 '장기전세'인 example의 수 : 9\n",
      "\n",
      "==================================\n",
      "\n",
      "공급유형이 '장기전세'인 단지코드 : ['C1397', 'C1039']\n",
      "\n",
      "==================================\n",
      "\n",
      "['C1397'의 공급유형 양상] : \n",
      "장기전세    6\n",
      "Name: 공급유형, dtype: int64\n",
      "\n",
      "['C1039'의 공급유형 양상] : \n",
      "국민임대    6\n",
      "장기전세    3\n",
      "영구임대    2\n",
      "Name: 공급유형, dtype: int64\n",
      "\n",
      "==================================\n",
      "\n",
      "[전체 단지코드 중 'C1397'의 비중] : 6 / 2632 (0.23 %)\n",
      "\n",
      "[전체 단지코드 중 'C1039'의 비중] : 11 / 2632 (0.42 %)\n",
      "\n",
      "==================================\n",
      "\n"
     ]
    }
   ],
   "metadata": {}
  },
  {
   "cell_type": "markdown",
   "source": [
    "#### 공공분양"
   ],
   "metadata": {}
  },
  {
   "cell_type": "code",
   "execution_count": 13,
   "source": [
    "train.loc[train.공급유형 == '공공분양', :]"
   ],
   "outputs": [
    {
     "output_type": "execute_result",
     "data": {
      "text/plain": [
       "       단지코드  총세대수 임대건물구분     지역  공급유형   전용면적  전용면적별세대수  공가수 자격유형  임대보증금  임대료  \\\n",
       "2331  C1350  1401    아파트  대전광역시  공공분양  74.94       317  2.0    D    0.0  0.0   \n",
       "2332  C1350  1401    아파트  대전광역시  공공분양  74.94       137  2.0    D    0.0  0.0   \n",
       "2333  C1350  1401    아파트  대전광역시  공공분양  74.94        22  2.0    D    0.0  0.0   \n",
       "2334  C1350  1401    아파트  대전광역시  공공분양  84.94       164  2.0    D    0.0  0.0   \n",
       "2335  C1350  1401    아파트  대전광역시  공공분양  84.94        19  2.0    D    0.0  0.0   \n",
       "2336  C1350  1401    아파트  대전광역시  공공분양  84.96        26  2.0    D    0.0  0.0   \n",
       "2337  C1350  1401    아파트  대전광역시  공공분양  84.97        26  2.0    D    0.0  0.0   \n",
       "\n",
       "      도보 10분거리 내 지하철역 수(환승노선 수 반영)  도보 10분거리 내 버스정류장 수  단지내주차면수   등록차량수  \n",
       "2331                           0.0                 6.0   1636.0  2315.0  \n",
       "2332                           0.0                 6.0   1636.0  2315.0  \n",
       "2333                           0.0                 6.0   1636.0  2315.0  \n",
       "2334                           0.0                 6.0   1636.0  2315.0  \n",
       "2335                           0.0                 6.0   1636.0  2315.0  \n",
       "2336                           0.0                 6.0   1636.0  2315.0  \n",
       "2337                           0.0                 6.0   1636.0  2315.0  "
      ],
      "text/html": [
       "<div>\n",
       "<style scoped>\n",
       "    .dataframe tbody tr th:only-of-type {\n",
       "        vertical-align: middle;\n",
       "    }\n",
       "\n",
       "    .dataframe tbody tr th {\n",
       "        vertical-align: top;\n",
       "    }\n",
       "\n",
       "    .dataframe thead th {\n",
       "        text-align: right;\n",
       "    }\n",
       "</style>\n",
       "<table border=\"1\" class=\"dataframe\">\n",
       "  <thead>\n",
       "    <tr style=\"text-align: right;\">\n",
       "      <th></th>\n",
       "      <th>단지코드</th>\n",
       "      <th>총세대수</th>\n",
       "      <th>임대건물구분</th>\n",
       "      <th>지역</th>\n",
       "      <th>공급유형</th>\n",
       "      <th>전용면적</th>\n",
       "      <th>전용면적별세대수</th>\n",
       "      <th>공가수</th>\n",
       "      <th>자격유형</th>\n",
       "      <th>임대보증금</th>\n",
       "      <th>임대료</th>\n",
       "      <th>도보 10분거리 내 지하철역 수(환승노선 수 반영)</th>\n",
       "      <th>도보 10분거리 내 버스정류장 수</th>\n",
       "      <th>단지내주차면수</th>\n",
       "      <th>등록차량수</th>\n",
       "    </tr>\n",
       "  </thead>\n",
       "  <tbody>\n",
       "    <tr>\n",
       "      <th>2331</th>\n",
       "      <td>C1350</td>\n",
       "      <td>1401</td>\n",
       "      <td>아파트</td>\n",
       "      <td>대전광역시</td>\n",
       "      <td>공공분양</td>\n",
       "      <td>74.94</td>\n",
       "      <td>317</td>\n",
       "      <td>2.0</td>\n",
       "      <td>D</td>\n",
       "      <td>0.0</td>\n",
       "      <td>0.0</td>\n",
       "      <td>0.0</td>\n",
       "      <td>6.0</td>\n",
       "      <td>1636.0</td>\n",
       "      <td>2315.0</td>\n",
       "    </tr>\n",
       "    <tr>\n",
       "      <th>2332</th>\n",
       "      <td>C1350</td>\n",
       "      <td>1401</td>\n",
       "      <td>아파트</td>\n",
       "      <td>대전광역시</td>\n",
       "      <td>공공분양</td>\n",
       "      <td>74.94</td>\n",
       "      <td>137</td>\n",
       "      <td>2.0</td>\n",
       "      <td>D</td>\n",
       "      <td>0.0</td>\n",
       "      <td>0.0</td>\n",
       "      <td>0.0</td>\n",
       "      <td>6.0</td>\n",
       "      <td>1636.0</td>\n",
       "      <td>2315.0</td>\n",
       "    </tr>\n",
       "    <tr>\n",
       "      <th>2333</th>\n",
       "      <td>C1350</td>\n",
       "      <td>1401</td>\n",
       "      <td>아파트</td>\n",
       "      <td>대전광역시</td>\n",
       "      <td>공공분양</td>\n",
       "      <td>74.94</td>\n",
       "      <td>22</td>\n",
       "      <td>2.0</td>\n",
       "      <td>D</td>\n",
       "      <td>0.0</td>\n",
       "      <td>0.0</td>\n",
       "      <td>0.0</td>\n",
       "      <td>6.0</td>\n",
       "      <td>1636.0</td>\n",
       "      <td>2315.0</td>\n",
       "    </tr>\n",
       "    <tr>\n",
       "      <th>2334</th>\n",
       "      <td>C1350</td>\n",
       "      <td>1401</td>\n",
       "      <td>아파트</td>\n",
       "      <td>대전광역시</td>\n",
       "      <td>공공분양</td>\n",
       "      <td>84.94</td>\n",
       "      <td>164</td>\n",
       "      <td>2.0</td>\n",
       "      <td>D</td>\n",
       "      <td>0.0</td>\n",
       "      <td>0.0</td>\n",
       "      <td>0.0</td>\n",
       "      <td>6.0</td>\n",
       "      <td>1636.0</td>\n",
       "      <td>2315.0</td>\n",
       "    </tr>\n",
       "    <tr>\n",
       "      <th>2335</th>\n",
       "      <td>C1350</td>\n",
       "      <td>1401</td>\n",
       "      <td>아파트</td>\n",
       "      <td>대전광역시</td>\n",
       "      <td>공공분양</td>\n",
       "      <td>84.94</td>\n",
       "      <td>19</td>\n",
       "      <td>2.0</td>\n",
       "      <td>D</td>\n",
       "      <td>0.0</td>\n",
       "      <td>0.0</td>\n",
       "      <td>0.0</td>\n",
       "      <td>6.0</td>\n",
       "      <td>1636.0</td>\n",
       "      <td>2315.0</td>\n",
       "    </tr>\n",
       "    <tr>\n",
       "      <th>2336</th>\n",
       "      <td>C1350</td>\n",
       "      <td>1401</td>\n",
       "      <td>아파트</td>\n",
       "      <td>대전광역시</td>\n",
       "      <td>공공분양</td>\n",
       "      <td>84.96</td>\n",
       "      <td>26</td>\n",
       "      <td>2.0</td>\n",
       "      <td>D</td>\n",
       "      <td>0.0</td>\n",
       "      <td>0.0</td>\n",
       "      <td>0.0</td>\n",
       "      <td>6.0</td>\n",
       "      <td>1636.0</td>\n",
       "      <td>2315.0</td>\n",
       "    </tr>\n",
       "    <tr>\n",
       "      <th>2337</th>\n",
       "      <td>C1350</td>\n",
       "      <td>1401</td>\n",
       "      <td>아파트</td>\n",
       "      <td>대전광역시</td>\n",
       "      <td>공공분양</td>\n",
       "      <td>84.97</td>\n",
       "      <td>26</td>\n",
       "      <td>2.0</td>\n",
       "      <td>D</td>\n",
       "      <td>0.0</td>\n",
       "      <td>0.0</td>\n",
       "      <td>0.0</td>\n",
       "      <td>6.0</td>\n",
       "      <td>1636.0</td>\n",
       "      <td>2315.0</td>\n",
       "    </tr>\n",
       "  </tbody>\n",
       "</table>\n",
       "</div>"
      ]
     },
     "metadata": {},
     "execution_count": 13
    }
   ],
   "metadata": {}
  },
  {
   "cell_type": "code",
   "execution_count": 14,
   "source": [
    "describe_provide(train, '공공분양')"
   ],
   "outputs": [
    {
     "output_type": "stream",
     "name": "stdout",
     "text": [
      "\n",
      "==================================\n",
      "\n",
      "공급유형이 '공공분양'인 example의 수 : 7\n",
      "\n",
      "==================================\n",
      "\n",
      "공급유형이 '공공분양'인 단지코드 : ['C1350']\n",
      "\n",
      "==================================\n",
      "\n",
      "['C1350'의 공급유형 양상] : \n",
      "공공분양         7\n",
      "공공임대(10년)    3\n",
      "공공임대(분납)     3\n",
      "Name: 공급유형, dtype: int64\n",
      "\n",
      "==================================\n",
      "\n",
      "[전체 단지코드 중 'C1350'의 비중] : 13 / 2632 (0.49 %)\n",
      "\n",
      "==================================\n",
      "\n"
     ]
    }
   ],
   "metadata": {}
  },
  {
   "cell_type": "markdown",
   "source": [
    "#### 공공임대(5년)"
   ],
   "metadata": {}
  },
  {
   "cell_type": "code",
   "execution_count": 15,
   "source": [
    "train.loc[train.공급유형 == '공공임대(5년)', :]"
   ],
   "outputs": [
    {
     "output_type": "execute_result",
     "data": {
      "text/plain": [
       "       단지코드  총세대수 임대건물구분     지역      공급유형   전용면적  전용면적별세대수  공가수 자격유형  \\\n",
       "2580  C2470   636    아파트  대전광역시  공공임대(5년)  39.90        96  1.0    A   \n",
       "2581  C2470   636    아파트  대전광역시  공공임대(5년)  46.81       264  1.0    A   \n",
       "2582  C2470   636    아파트  대전광역시  공공임대(5년)  59.95        46  1.0    A   \n",
       "\n",
       "           임대보증금       임대료  도보 10분거리 내 지하철역 수(환승노선 수 반영)  도보 10분거리 내 버스정류장 수  \\\n",
       "2580  23000000.0  340000.0                           1.0                 2.0   \n",
       "2581  26000000.0  380000.0                           1.0                 2.0   \n",
       "2582  32000000.0  480000.0                           1.0                 2.0   \n",
       "\n",
       "      단지내주차면수  등록차량수  \n",
       "2580    772.0  887.0  \n",
       "2581    772.0  887.0  \n",
       "2582    772.0  887.0  "
      ],
      "text/html": [
       "<div>\n",
       "<style scoped>\n",
       "    .dataframe tbody tr th:only-of-type {\n",
       "        vertical-align: middle;\n",
       "    }\n",
       "\n",
       "    .dataframe tbody tr th {\n",
       "        vertical-align: top;\n",
       "    }\n",
       "\n",
       "    .dataframe thead th {\n",
       "        text-align: right;\n",
       "    }\n",
       "</style>\n",
       "<table border=\"1\" class=\"dataframe\">\n",
       "  <thead>\n",
       "    <tr style=\"text-align: right;\">\n",
       "      <th></th>\n",
       "      <th>단지코드</th>\n",
       "      <th>총세대수</th>\n",
       "      <th>임대건물구분</th>\n",
       "      <th>지역</th>\n",
       "      <th>공급유형</th>\n",
       "      <th>전용면적</th>\n",
       "      <th>전용면적별세대수</th>\n",
       "      <th>공가수</th>\n",
       "      <th>자격유형</th>\n",
       "      <th>임대보증금</th>\n",
       "      <th>임대료</th>\n",
       "      <th>도보 10분거리 내 지하철역 수(환승노선 수 반영)</th>\n",
       "      <th>도보 10분거리 내 버스정류장 수</th>\n",
       "      <th>단지내주차면수</th>\n",
       "      <th>등록차량수</th>\n",
       "    </tr>\n",
       "  </thead>\n",
       "  <tbody>\n",
       "    <tr>\n",
       "      <th>2580</th>\n",
       "      <td>C2470</td>\n",
       "      <td>636</td>\n",
       "      <td>아파트</td>\n",
       "      <td>대전광역시</td>\n",
       "      <td>공공임대(5년)</td>\n",
       "      <td>39.90</td>\n",
       "      <td>96</td>\n",
       "      <td>1.0</td>\n",
       "      <td>A</td>\n",
       "      <td>23000000.0</td>\n",
       "      <td>340000.0</td>\n",
       "      <td>1.0</td>\n",
       "      <td>2.0</td>\n",
       "      <td>772.0</td>\n",
       "      <td>887.0</td>\n",
       "    </tr>\n",
       "    <tr>\n",
       "      <th>2581</th>\n",
       "      <td>C2470</td>\n",
       "      <td>636</td>\n",
       "      <td>아파트</td>\n",
       "      <td>대전광역시</td>\n",
       "      <td>공공임대(5년)</td>\n",
       "      <td>46.81</td>\n",
       "      <td>264</td>\n",
       "      <td>1.0</td>\n",
       "      <td>A</td>\n",
       "      <td>26000000.0</td>\n",
       "      <td>380000.0</td>\n",
       "      <td>1.0</td>\n",
       "      <td>2.0</td>\n",
       "      <td>772.0</td>\n",
       "      <td>887.0</td>\n",
       "    </tr>\n",
       "    <tr>\n",
       "      <th>2582</th>\n",
       "      <td>C2470</td>\n",
       "      <td>636</td>\n",
       "      <td>아파트</td>\n",
       "      <td>대전광역시</td>\n",
       "      <td>공공임대(5년)</td>\n",
       "      <td>59.95</td>\n",
       "      <td>46</td>\n",
       "      <td>1.0</td>\n",
       "      <td>A</td>\n",
       "      <td>32000000.0</td>\n",
       "      <td>480000.0</td>\n",
       "      <td>1.0</td>\n",
       "      <td>2.0</td>\n",
       "      <td>772.0</td>\n",
       "      <td>887.0</td>\n",
       "    </tr>\n",
       "  </tbody>\n",
       "</table>\n",
       "</div>"
      ]
     },
     "metadata": {},
     "execution_count": 15
    }
   ],
   "metadata": {}
  },
  {
   "cell_type": "code",
   "execution_count": 16,
   "source": [
    "describe_provide(train, '공공임대(5년)')"
   ],
   "outputs": [
    {
     "output_type": "stream",
     "name": "stdout",
     "text": [
      "\n",
      "==================================\n",
      "\n",
      "공급유형이 '공공임대(5년)'인 example의 수 : 3\n",
      "\n",
      "==================================\n",
      "\n",
      "공급유형이 '공공임대(5년)'인 단지코드 : ['C2470']\n",
      "\n",
      "==================================\n",
      "\n",
      "['C2470'의 공급유형 양상] : \n",
      "공공임대(5년)    3\n",
      "Name: 공급유형, dtype: int64\n",
      "\n",
      "==================================\n",
      "\n",
      "[전체 단지코드 중 'C2470'의 비중] : 3 / 2632 (0.11 %)\n",
      "\n",
      "==================================\n",
      "\n"
     ]
    }
   ],
   "metadata": {}
  },
  {
   "cell_type": "markdown",
   "source": [
    "#### Result\r\n",
    "\r\n",
    "- '장기전세', '공공분양', '공공임대(5년)' 인 example을 모두 Drop 하면, \r\n",
    "    - 전체 단지코드 중 9개 (0.34 %)의 단지 코드가 사라진다.\r\n",
    "    - 전체 example 중 0.7% 가 사라진다.\r\n",
    "    > 이 공급 유형들이 **Test 에 나타나지 않는다**는 점과 **전체 example 중 0.7 %**, 특히 이들을 **제거해도 전제 단지코드 중 0.34 % 의 단지코드만이 사라진다**는 점을 감안하면, 이들을 **제거하여 성능 평가를 해보는 것도 좋을 것** 같다."
   ],
   "metadata": {}
  },
  {
   "cell_type": "markdown",
   "source": [
    "### 하나의 단지코드내에 `임대건물구분` 값 존재 양상(상가/아파트/상가&아파트)에 따른 `등록차량수` 살펴보기"
   ],
   "metadata": {}
  },
  {
   "cell_type": "markdown",
   "source": [
    "#### EDA 함수 정의"
   ],
   "metadata": {}
  },
  {
   "cell_type": "code",
   "execution_count": 38,
   "source": [
    "def car_per_building(data):\r\n",
    "    codes = data.단지코드.unique().tolist()\r\n",
    "\r\n",
    "    apartment_car = 0\r\n",
    "    apartment_cnt = 0\r\n",
    "    both_car = 0\r\n",
    "    both_cnt = 0\r\n",
    "\r\n",
    "    for code in tqdm(codes) :\r\n",
    "        roi = data.loc[data.단지코드 == code, :]\r\n",
    "        car = data.loc[data.단지코드 == code, '등록차량수'].unique().item()\r\n",
    "\r\n",
    "        values = roi.임대건물구분.unique().tolist()\r\n",
    "\r\n",
    "        if ('아파트' in values) & ('상가' in values):\r\n",
    "            both_car += car\r\n",
    "            both_cnt += 1\r\n",
    "        elif '아파트' in values:\r\n",
    "            apartment_car += car\r\n",
    "            apartment_cnt += 1\r\n",
    "    \r\n",
    "    print(\"[각 단지 내에 임대건물구분이 '아파트'일 때 '평균 등록차량수'] : {:.2f}\\n\".format(apartment_car / apartment_cnt))\r\n",
    "    print(\"[각 단지 내에 임대건물구분이 '상가&아파트'일 때 '평균 등록차량수'] : {:.2f}\\n\".format(both_car / both_cnt))"
   ],
   "outputs": [],
   "metadata": {}
  },
  {
   "cell_type": "markdown",
   "source": [
    "#### 각 단지 내 임대건물 유형 별 등록차량수 평균 분석"
   ],
   "metadata": {}
  },
  {
   "cell_type": "code",
   "execution_count": 39,
   "source": [
    "car_per_building(train)"
   ],
   "outputs": [
    {
     "output_type": "display_data",
     "data": {
      "text/plain": [
       "  0%|          | 0/423 [00:00<?, ?it/s]"
      ],
      "application/vnd.jupyter.widget-view+json": {
       "version_major": 2,
       "version_minor": 0,
       "model_id": "dc6fb2739dfa4deeb917e5e4423ac58e"
      }
     },
     "metadata": {}
    },
    {
     "output_type": "stream",
     "name": "stdout",
     "text": [
      "[각 단지 내에 임대건물구분이 '아파트'일 때 '평균 등록차량수'] : 608.13\n",
      "\n",
      "[각 단지 내에 임대건물구분이 '상가&아파트'일 때 '평균 등록차량수'] : 149.36\n",
      "\n"
     ]
    }
   ],
   "metadata": {}
  },
  {
   "cell_type": "markdown",
   "source": [
    "#### Result\r\n",
    "\r\n",
    "- 각 단지 내에 `임대건물구분`이 '아파트'일 때(608.13)가 '상가&아파트'일 때(149.36) 보다 등록차량수 가 더 높았다.\r\n",
    "    > 즉, `주상복합`일 때 주차 수요가 더 높을 것이라는 예상은 옳지 못하다.\r\n",
    "- '상가'만 존재하는 경우는 없었다.\r\n",
    "    - 즉, '아파트'와 '상가&아파트' 의 양상만 보였다.\r\n",
    "    - 전처리 Version 2 에서 처럼 feature를 늘리는 것 보다는....\r\n",
    "    > '아파트'일 때와 '상가&아파트'일 때 2가지 경우로 LabelEncoding하는 것이 더 좋아보인다.\r\n",
    "\r\n",
    "    > 단, '아파트'일 때의 주차 수요가 더 높았으므로 `'아파트'-> 1, '상가&아파트' -> 0` 으로 매핑해보자!"
   ],
   "metadata": {}
  },
  {
   "cell_type": "markdown",
   "source": [
    "### `자격유형`별로 `임대보증금`과 `임대료`의 평균값들을 계산하여 소득수준과 관련한 판단 지표가 될 수 있는 지 확인하기."
   ],
   "metadata": {}
  },
  {
   "cell_type": "markdown",
   "source": [
    "#### EDA 함수 정의"
   ],
   "metadata": {}
  },
  {
   "cell_type": "code",
   "execution_count": 106,
   "source": [
    "def calc_mean_per_qualify(data):\r\n",
    "    values = data.자격유형.unique().tolist()\r\n",
    "\r\n",
    "    deposit = dict()\r\n",
    "    rent = dict()\r\n",
    "    deposit_rent = dict()\r\n",
    "\r\n",
    "    for val in values:\r\n",
    "        deposit[val] = data.loc[data.자격유형 == val, '임대보증금'].mean()\r\n",
    "        rent[val] = data.loc[data.자격유형 == val, '임대료'].mean()\r\n",
    "        data_agg = data.loc[data.자격유형 == val, '임대보증금'] + data.loc[data.자격유형 == val, '임대료']\r\n",
    "        deposit_rent[val] = data_agg.mean()\r\n",
    "    \r\n",
    "    deposit = sorted(deposit.items(), reverse=True, key = lambda item: item[1])\r\n",
    "    rent = sorted(rent.items(), reverse=True, key = lambda item: item[1])\r\n",
    "    deposit_rent = sorted(deposit_rent.items(), reverse=True, key = lambda item: item[1])\r\n",
    "\r\n",
    "    for key, val in deposit:\r\n",
    "        print(\"[자격유형 '{}'의 평균 (임대보증금)] : {:.2f}\".format(key, val))\r\n",
    "\r\n",
    "    print(\"\\n=============================\\n\")\r\n",
    "\r\n",
    "    for key, val in rent:\r\n",
    "        print(\"[자격유형 '{}'의 (평균 임대료)] : {:.2f}\".format(key, val))\r\n",
    "    \r\n",
    "    print(\"\\n=============================\\n\")\r\n",
    "\r\n",
    "    for key, val in deposit_rent:\r\n",
    "        print(\"[자격유형 '{}'의 평균 (임대보증금+임대료)] : {:.2f}\".format(key, val))\r\n",
    "    \r\n",
    "    return deposit, rent, deposit_rent\r\n",
    "\r\n",
    "\r\n",
    "\r\n",
    "\r\n",
    "\r\n",
    "def car_per_qualify(data, criteria=None):\r\n",
    "    if criteria == None:\r\n",
    "        values = data.자격유형.unique().tolist()\r\n",
    "        car = dict()\r\n",
    "\r\n",
    "        for val in values:\r\n",
    "            car[val] = data.loc[data.자격유형 == val, '등록차량수'].mean()\r\n",
    "        \r\n",
    "        car = sorted(car.items(), reverse=True, key=lambda item:item[1])\r\n",
    "\r\n",
    "        for key, val in car:\r\n",
    "            print(\"['{}' 자격유형의 평균 등록차량수] : {:.2f}\".format(key, val))\r\n",
    "\r\n",
    "        \r\n",
    "    else :\r\n",
    "        values = list()\r\n",
    "\r\n",
    "        for idx in range(len(criteria)):\r\n",
    "            values.append(criteria[idx][0])\r\n",
    "\r\n",
    "        for val in values:\r\n",
    "            print(\"['{}' 자격유형의 평균 등록차량수] : {:.2f}\".format(val, data.loc[train.자격유형 == val, '등록차량수'].mean()))"
   ],
   "outputs": [],
   "metadata": {}
  },
  {
   "cell_type": "code",
   "execution_count": 107,
   "source": [
    "deposit, rent, deposit_rent = calc_mean_per_qualify(train)"
   ],
   "outputs": [
    {
     "output_type": "stream",
     "name": "stdout",
     "text": [
      "[자격유형 'E'의 평균 (임대보증금)] : 91535140.54\n",
      "[자격유형 'K'의 평균 (임대보증금)] : 47874181.82\n",
      "[자격유형 'O'의 평균 (임대보증금)] : 41120000.00\n",
      "[자격유형 'J'의 평균 (임대보증금)] : 32255628.57\n",
      "[자격유형 'N'의 평균 (임대보증금)] : 31958000.00\n",
      "[자격유형 'L'의 평균 (임대보증금)] : 30499272.73\n",
      "[자격유형 'A'의 평균 (임대보증금)] : 26242505.35\n",
      "[자격유형 'H'의 평균 (임대보증금)] : 25804461.04\n",
      "[자격유형 'B'의 평균 (임대보증금)] : 16764833.33\n",
      "[자격유형 'M'의 평균 (임대보증금)] : 14616000.00\n",
      "[자격유형 'G'의 평균 (임대보증금)] : 13229222.22\n",
      "[자격유형 'I'의 평균 (임대보증금)] : 9677122.45\n",
      "[자격유형 'C'의 평균 (임대보증금)] : 6883108.70\n",
      "[자격유형 'F'의 평균 (임대보증금)] : 4156666.67\n",
      "[자격유형 'D'의 평균 (임대보증금)] : 0.00\n",
      "\n",
      "=============================\n",
      "\n",
      "[자격유형 'G'의 (평균 임대료)] : 233505.56\n",
      "[자격유형 'O'의 (평균 임대료)] : 233010.00\n",
      "[자격유형 'H'의 (평균 임대료)] : 213940.06\n",
      "[자격유형 'A'의 (평균 임대료)] : 211465.00\n",
      "[자격유형 'N'의 (평균 임대료)] : 151807.24\n",
      "[자격유형 'L'의 (평균 임대료)] : 143742.12\n",
      "[자격유형 'J'의 (평균 임대료)] : 141160.67\n",
      "[자격유형 'B'의 (평균 임대료)] : 137213.89\n",
      "[자격유형 'C'의 (평균 임대료)] : 101108.48\n",
      "[자격유형 'M'의 (평균 임대료)] : 82820.00\n",
      "[자격유형 'I'의 (평균 임대료)] : 82552.24\n",
      "[자격유형 'F'의 (평균 임대료)] : 71470.00\n",
      "[자격유형 'E'의 (평균 임대료)] : 47670.81\n",
      "[자격유형 'K'의 (평균 임대료)] : 24930.61\n",
      "[자격유형 'D'의 (평균 임대료)] : 0.00\n",
      "\n",
      "=============================\n",
      "\n",
      "[자격유형 'E'의 평균 (임대보증금+임대료)] : 91582811.35\n",
      "[자격유형 'K'의 평균 (임대보증금+임대료)] : 47899112.42\n",
      "[자격유형 'O'의 평균 (임대보증금+임대료)] : 41353010.00\n",
      "[자격유형 'J'의 평균 (임대보증금+임대료)] : 32396789.24\n",
      "[자격유형 'N'의 평균 (임대보증금+임대료)] : 32109807.24\n",
      "[자격유형 'L'의 평균 (임대보증금+임대료)] : 30643014.85\n",
      "[자격유형 'A'의 평균 (임대보증금+임대료)] : 26453970.35\n",
      "[자격유형 'H'의 평균 (임대보증금+임대료)] : 26018401.10\n",
      "[자격유형 'B'의 평균 (임대보증금+임대료)] : 16902047.22\n",
      "[자격유형 'M'의 평균 (임대보증금+임대료)] : 14698820.00\n",
      "[자격유형 'G'의 평균 (임대보증금+임대료)] : 13462727.78\n",
      "[자격유형 'I'의 평균 (임대보증금+임대료)] : 9759674.69\n",
      "[자격유형 'C'의 평균 (임대보증금+임대료)] : 6984217.17\n",
      "[자격유형 'F'의 평균 (임대보증금+임대료)] : 4228136.67\n",
      "[자격유형 'D'의 평균 (임대보증금+임대료)] : 0.00\n"
     ]
    }
   ],
   "metadata": {}
  },
  {
   "cell_type": "code",
   "execution_count": 108,
   "source": [
    "car_per_qualify(train)"
   ],
   "outputs": [
    {
     "output_type": "stream",
     "name": "stdout",
     "text": [
      "['H' 자격유형의 평균 등록차량수] : 914.43\n",
      "['I' 자격유형의 평균 등록차량수] : 777.35\n",
      "['G' 자격유형의 평균 등록차량수] : 748.56\n",
      "['N' 자격유형의 평균 등록차량수] : 683.86\n",
      "['A' 자격유형의 평균 등록차량수] : 678.96\n",
      "['E' 자격유형의 평균 등록차량수] : 666.14\n",
      "['B' 자격유형의 평균 등록차량수] : 558.28\n",
      "['M' 자격유형의 평균 등록차량수] : 416.00\n",
      "['O' 자격유형의 평균 등록차량수] : 416.00\n",
      "['F' 자격유형의 평균 등록차량수] : 359.00\n",
      "['K' 자격유형의 평균 등록차량수] : 332.06\n",
      "['J' 자격유형의 평균 등록차량수] : 323.40\n",
      "['L' 자격유형의 평균 등록차량수] : 277.55\n",
      "['D' 자격유형의 평균 등록차량수] : 218.21\n",
      "['C' 자격유형의 평균 등록차량수] : 173.59\n"
     ]
    }
   ],
   "metadata": {}
  },
  {
   "cell_type": "markdown",
   "source": [
    "#### Result\r\n",
    "\r\n",
    "- 완벽하지는 않지만, '자격유형별 등록차량수'가 '자격유형별 평균 임대료'와 비슷한 양상을 보이는 듯 하다.\r\n",
    "- 반면, '자격유형별 평균 임대보증금'은 같은 양상을 보인다고 판단하기 힘들었다.\r\n",
    "> **`'자격유형별 평균 임대료'`를 feature로 이용하여 성능평가를 해보는 것도 좋아보인다.**"
   ],
   "metadata": {}
  }
 ],
 "metadata": {
  "orig_nbformat": 4,
  "language_info": {
   "name": "python"
  }
 },
 "nbformat": 4,
 "nbformat_minor": 2
}