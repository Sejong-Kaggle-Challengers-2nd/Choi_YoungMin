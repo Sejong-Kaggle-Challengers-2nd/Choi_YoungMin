{
 "cells": [
  {
   "cell_type": "markdown",
   "source": [
    "# Model Performance Test\r\n",
    "\r\n",
    "## Test Coverage\r\n",
    "\r\n",
    "1. RandomForest (Baseline)\r\n",
    "2. RandomForest (GridSearch)\r\n",
    "3. XGBoost\r\n",
    "4. lightgbm\r\n",
    "5. Ridge\r\n",
    "6. Lasso\r\n",
    "\r\n",
    "## Result\r\n",
    "\r\n",
    "### Version 5\r\n",
    "\r\n",
    "1. RandomForest (Baseline) : **-135.3542569213732**\r\n",
    "2. RandomForest (GridSearch) : **-129.82509272712304**\r\n",
    "3. XGBoost : **-133.05619049563796**\r\n",
    "4. lightgbm : **-129.29797683448098**\r\n",
    "5. Ridge : **-129.53765260865381**\r\n",
    "6. Lasso : **-126.23847596987002**\r\n",
    "\r\n",
    "### version 6\r\n",
    "\r\n",
    "1. RandomForest (Baseline) : **-131.47390586932448**\r\n",
    "2. RandomForest (GridSearch) : **-124.0621623994042**\r\n",
    "3. XGBoost : **-124.64631778252223**\r\n",
    "4. lightgbm : fit 불가\r\n",
    "5. Ridge : **-129.52106875849282**\r\n",
    "6. Lasso : **-126.43471733505991**"
   ],
   "metadata": {}
  },
  {
   "cell_type": "markdown",
   "source": [
    "## Import Module"
   ],
   "metadata": {}
  },
  {
   "cell_type": "code",
   "execution_count": 1,
   "source": [
    "import pandas as pd\r\n",
    "import numpy as np\r\n",
    "from os.path import join as Join\r\n",
    "\r\n",
    "from sklearn.ensemble import RandomForestRegressor\r\n",
    "from sklearn.linear_model import Ridge, Lasso\r\n",
    "from lightgbm import LGBMRegressor\r\n",
    "from xgboost import XGBRegressor\r\n",
    "\r\n",
    "from sklearn.model_selection import cross_val_score, GridSearchCV, StratifiedKFold"
   ],
   "outputs": [],
   "metadata": {}
  },
  {
   "cell_type": "markdown",
   "source": [
    "## Data Load"
   ],
   "metadata": {}
  },
  {
   "cell_type": "code",
   "execution_count": 2,
   "source": [
    "DATA_ROOT = ''\r\n",
    "DATA_ROOT = Join(DATA_ROOT, '../../../../competition_data/parking_data/')\r\n",
    "\r\n",
    "TRAIN_5_ROOT = Join(DATA_ROOT, 'train_version_5.csv')\r\n",
    "TEST_5_ROOT = Join(DATA_ROOT, 'test_version_5.csv')\r\n",
    "TRAIN_6_ROOT = Join(DATA_ROOT, 'train_version_6.csv')\r\n",
    "TEST_6_ROOT = Join(DATA_ROOT, 'test_version_6.csv')\r\n",
    "SUBMISSION_ROOT = Join(DATA_ROOT, 'sample_submission.csv')\r\n",
    "\r\n",
    "print(f\"DATA_ROOT : {DATA_ROOT}\")\r\n",
    "print(f\"TRAIN_5_ROOT : {TRAIN_5_ROOT}\")\r\n",
    "print(f\"TEST_5_ROOT : {TEST_5_ROOT}\")\r\n",
    "print(f\"TRAIN_6_ROOT : {TRAIN_6_ROOT}\")\r\n",
    "print(f\"TEST_6_ROOT : {TEST_6_ROOT}\")\r\n",
    "print(f\"SUBMISSION_ROOT : {SUBMISSION_ROOT}\")"
   ],
   "outputs": [
    {
     "output_type": "stream",
     "name": "stdout",
     "text": [
      "DATA_ROOT : ../../../../competition_data/parking_data/\n",
      "TRAIN_5_ROOT : ../../../../competition_data/parking_data/train_version_5.csv\n",
      "TEST_5_ROOT : ../../../../competition_data/parking_data/test_version_5.csv\n",
      "TRAIN_6_ROOT : ../../../../competition_data/parking_data/train_version_6.csv\n",
      "TEST_6_ROOT : ../../../../competition_data/parking_data/test_version_6.csv\n",
      "SUBMISSION_ROOT : ../../../../competition_data/parking_data/sample_submission.csv\n"
     ]
    }
   ],
   "metadata": {}
  },
  {
   "cell_type": "code",
   "execution_count": 3,
   "source": [
    "train_5 = pd.read_csv(TRAIN_5_ROOT)\r\n",
    "test_5 = pd.read_csv(TEST_5_ROOT)\r\n",
    "train_6 = pd.read_csv(TRAIN_6_ROOT)\r\n",
    "test_6 = pd.read_csv(TEST_6_ROOT)\r\n",
    "submission = pd.read_csv(SUBMISSION_ROOT)\r\n",
    "\r\n",
    "print(\"Data Loaded!\")"
   ],
   "outputs": [
    {
     "output_type": "stream",
     "name": "stdout",
     "text": [
      "Data Loaded!\n"
     ]
    }
   ],
   "metadata": {}
  },
  {
   "cell_type": "markdown",
   "source": [
    "## Data Split"
   ],
   "metadata": {}
  },
  {
   "cell_type": "code",
   "execution_count": 4,
   "source": [
    "train_5 = train_5.set_index('단지코드')\r\n",
    "test_5 = test_5.set_index('단지코드')\r\n",
    "\r\n",
    "train_6 = train_6.set_index('단지코드')\r\n",
    "test_6 = test_6.set_index('단지코드')"
   ],
   "outputs": [],
   "metadata": {}
  },
  {
   "cell_type": "code",
   "execution_count": 5,
   "source": [
    "X_train_5 = train_5.drop(['등록차량수'], axis=1)\r\n",
    "y_train_5 = train_5['등록차량수']\r\n",
    "X_test_5 = test_5\r\n",
    "\r\n",
    "X_train_6 = train_6.drop(['등록차량수'], axis=1)\r\n",
    "y_train_6 = train_6['등록차량수']\r\n",
    "X_test_6 = test_6"
   ],
   "outputs": [],
   "metadata": {}
  },
  {
   "cell_type": "markdown",
   "source": [
    "## Model Performance"
   ],
   "metadata": {}
  },
  {
   "cell_type": "code",
   "execution_count": 6,
   "source": [
    "k_fold = StratifiedKFold(n_splits=5, shuffle=True, random_state=42)"
   ],
   "outputs": [],
   "metadata": {}
  },
  {
   "cell_type": "markdown",
   "source": [
    "### [Test 1] RandomForest (Baseline)"
   ],
   "metadata": {}
  },
  {
   "cell_type": "code",
   "execution_count": 7,
   "source": [
    "model_1 = RandomForestRegressor(n_jobs=-1, random_state=42)"
   ],
   "outputs": [],
   "metadata": {}
  },
  {
   "cell_type": "markdown",
   "source": [
    "#### Version 5"
   ],
   "metadata": {}
  },
  {
   "cell_type": "code",
   "execution_count": 11,
   "source": [
    "print(f\"[RandomForest (Baseline) : {cross_val_score(model_1, X_train_5, y_train_5, cv=10, scoring='neg_mean_absolute_error').mean()}\")"
   ],
   "outputs": [
    {
     "output_type": "stream",
     "name": "stdout",
     "text": [
      "[RandomForest (Baseline) : -135.3542569213732\n"
     ]
    }
   ],
   "metadata": {}
  },
  {
   "cell_type": "markdown",
   "source": [
    "#### Version 6"
   ],
   "metadata": {}
  },
  {
   "cell_type": "code",
   "execution_count": 12,
   "source": [
    "print(f\"[RandomForest (Baseline) : {cross_val_score(model_1, X_train_6, y_train_6, cv=10, scoring='neg_mean_absolute_error').mean()}\")"
   ],
   "outputs": [
    {
     "output_type": "stream",
     "name": "stdout",
     "text": [
      "[RandomForest (Baseline) : -131.47390586932448\n"
     ]
    }
   ],
   "metadata": {}
  },
  {
   "cell_type": "markdown",
   "source": [
    "### [Test 2] RandomForest (GridSearch)"
   ],
   "metadata": {}
  },
  {
   "cell_type": "markdown",
   "source": [
    "#### Version 5"
   ],
   "metadata": {}
  },
  {
   "cell_type": "code",
   "execution_count": 15,
   "source": [
    "model_2 = RandomForestRegressor()\r\n",
    "\r\n",
    "param_grid = {\r\n",
    "    \"max_depth\" : [11, 15, 19],\r\n",
    "    \"n_estimators\" : [300, 500, 700],\r\n",
    "    \"random_state\" : [42]\r\n",
    "}\r\n",
    "\r\n",
    "gs = GridSearchCV(\r\n",
    "    model_2, param_grid,\r\n",
    "    cv=k_fold, scoring='neg_mean_absolute_error'\r\n",
    ")\r\n",
    "\r\n",
    "gs.fit(X_train_5, y_train_5)\r\n",
    "\r\n",
    "print(f\"Best Score : {gs.best_score_}\")\r\n",
    "print(f\"Best Params : {gs.best_params_}\")"
   ],
   "outputs": [
    {
     "output_type": "stream",
     "name": "stderr",
     "text": [
      "C:\\Users\\marti\\anaconda3\\envs\\py38\\lib\\site-packages\\sklearn\\model_selection\\_split.py:666: UserWarning: The least populated class in y has only 1 members, which is less than n_splits=5.\n",
      "  warnings.warn((\"The least populated class in y has only %d\"\n"
     ]
    },
    {
     "output_type": "stream",
     "name": "stdout",
     "text": [
      "Best Score : -129.82509272712304\n",
      "Best Params : {'max_depth': 15, 'n_estimators': 500, 'random_state': 42}\n"
     ]
    }
   ],
   "metadata": {}
  },
  {
   "cell_type": "markdown",
   "source": [
    "#### Version 6"
   ],
   "metadata": {}
  },
  {
   "cell_type": "code",
   "execution_count": 17,
   "source": [
    "model_2 = RandomForestRegressor()\r\n",
    "\r\n",
    "param_grid = {\r\n",
    "    \"max_depth\" : [15, 19, 21],\r\n",
    "    \"n_estimators\" : [100, 300, 500],\r\n",
    "    \"random_state\" : [42]\r\n",
    "}\r\n",
    "\r\n",
    "gs = GridSearchCV(\r\n",
    "    model_2, param_grid,\r\n",
    "    cv=k_fold, scoring='neg_mean_absolute_error'\r\n",
    ")\r\n",
    "\r\n",
    "gs.fit(X_train_6, y_train_6)\r\n",
    "\r\n",
    "print(f\"Best Score : {gs.best_score_}\")\r\n",
    "print(f\"Best Params : {gs.best_params_}\")"
   ],
   "outputs": [
    {
     "output_type": "stream",
     "name": "stderr",
     "text": [
      "C:\\Users\\marti\\anaconda3\\envs\\py38\\lib\\site-packages\\sklearn\\model_selection\\_split.py:666: UserWarning: The least populated class in y has only 1 members, which is less than n_splits=5.\n",
      "  warnings.warn((\"The least populated class in y has only %d\"\n"
     ]
    },
    {
     "output_type": "stream",
     "name": "stdout",
     "text": [
      "Best Score : -124.0621623994042\n",
      "Best Params : {'max_depth': 19, 'n_estimators': 300, 'random_state': 42}\n"
     ]
    }
   ],
   "metadata": {}
  },
  {
   "cell_type": "markdown",
   "source": [
    "### [Test 3] XGBoost"
   ],
   "metadata": {}
  },
  {
   "cell_type": "markdown",
   "source": [
    "#### Version 5"
   ],
   "metadata": {}
  },
  {
   "cell_type": "code",
   "execution_count": 18,
   "source": [
    "model_3 = XGBRegressor()\r\n",
    "\r\n",
    "param_grid = {\r\n",
    "    \"n_estimators\" : [50, 100, 300, 500, 1000],\r\n",
    "    \"eval_metric\" : ['mae'],\r\n",
    "    \"learning_rate\" : [0.01, 0.001],\r\n",
    "    \"max_depth\" : [7, 9, 11, 15],\r\n",
    "    \"use_label_encoder\" : [False],\r\n",
    "    \"seed\" : [42],\r\n",
    "    \"reg_lambda\" : [1.7256912198205319]\r\n",
    "}\r\n",
    "\r\n",
    "gs = GridSearchCV(\r\n",
    "    model_3, param_grid,\r\n",
    "    cv=k_fold, scoring='neg_mean_absolute_error'\r\n",
    ")\r\n",
    "\r\n",
    "gs.fit(X_train_5, y_train_5)\r\n",
    "\r\n",
    "print(f\"Best Score : {gs.best_score_}\")\r\n",
    "print(f\"Best params : {gs.best_params_}\")"
   ],
   "outputs": [
    {
     "output_type": "stream",
     "name": "stderr",
     "text": [
      "C:\\Users\\marti\\anaconda3\\envs\\py38\\lib\\site-packages\\sklearn\\model_selection\\_split.py:666: UserWarning: The least populated class in y has only 1 members, which is less than n_splits=5.\n",
      "  warnings.warn((\"The least populated class in y has only %d\"\n"
     ]
    },
    {
     "output_type": "stream",
     "name": "stdout",
     "text": [
      "Best Score : -133.05619049563796\n",
      "Best params : {'eval_metric': 'mae', 'learning_rate': 0.01, 'max_depth': 11, 'n_estimators': 1000, 'reg_lambda': 1.7256912198205319, 'seed': 42, 'use_label_encoder': False}\n"
     ]
    }
   ],
   "metadata": {}
  },
  {
   "cell_type": "markdown",
   "source": [
    "#### Version 6"
   ],
   "metadata": {}
  },
  {
   "cell_type": "code",
   "execution_count": 20,
   "source": [
    "model_3 = XGBRegressor()\r\n",
    "\r\n",
    "param_grid = {\r\n",
    "    \"n_estimators\" : [1000, 1500],\r\n",
    "    \"eval_metric\" : ['mae'],\r\n",
    "    \"learning_rate\" : [0.01, 0.001],\r\n",
    "    \"max_depth\" : [5, 7, 9],\r\n",
    "    \"use_label_encoder\" : [False],\r\n",
    "    \"seed\" : [42],\r\n",
    "    \"reg_lambda\" : [1.7256912198205319]\r\n",
    "}\r\n",
    "\r\n",
    "gs = GridSearchCV(\r\n",
    "    model_3, param_grid,\r\n",
    "    cv=k_fold, scoring='neg_mean_absolute_error'\r\n",
    ")\r\n",
    "\r\n",
    "gs.fit(X_train_6, y_train_6)\r\n",
    "\r\n",
    "print(f\"Best Score : {gs.best_score_}\")\r\n",
    "print(f\"Best params : {gs.best_params_}\")"
   ],
   "outputs": [
    {
     "output_type": "stream",
     "name": "stderr",
     "text": [
      "C:\\Users\\marti\\anaconda3\\envs\\py38\\lib\\site-packages\\sklearn\\model_selection\\_split.py:666: UserWarning: The least populated class in y has only 1 members, which is less than n_splits=5.\n",
      "  warnings.warn((\"The least populated class in y has only %d\"\n"
     ]
    },
    {
     "output_type": "stream",
     "name": "stdout",
     "text": [
      "Best Score : -124.64631778252223\n",
      "Best params : {'eval_metric': 'mae', 'learning_rate': 0.01, 'max_depth': 7, 'n_estimators': 1000, 'reg_lambda': 1.7256912198205319, 'seed': 42, 'use_label_encoder': False}\n"
     ]
    }
   ],
   "metadata": {}
  },
  {
   "cell_type": "markdown",
   "source": [
    "### [Test 4] lightGBM"
   ],
   "metadata": {}
  },
  {
   "cell_type": "markdown",
   "source": [
    "#### Version 5"
   ],
   "metadata": {}
  },
  {
   "cell_type": "code",
   "execution_count": 21,
   "source": [
    "model_4 = LGBMRegressor()\r\n",
    "\r\n",
    "param_grid = {\r\n",
    "    \"n_estimators\" : [1000, 1500, 2000],\r\n",
    "    \"learning_rate\" : [0.01],\r\n",
    "    \"max_depth\" : [3, 5, 9, 11],\r\n",
    "    \"random_state\" : [42]\r\n",
    "}\r\n",
    "\r\n",
    "gs = GridSearchCV(\r\n",
    "    model_4, param_grid,\r\n",
    "    cv=k_fold, scoring='neg_mean_absolute_error'\r\n",
    ")\r\n",
    "\r\n",
    "gs.fit(X_train_5, y_train_5)\r\n",
    "\r\n",
    "print(f\"Best Score : {gs.best_score_}\")\r\n",
    "print(f\"Best params : {gs.best_params_}\")"
   ],
   "outputs": [
    {
     "output_type": "stream",
     "name": "stderr",
     "text": [
      "C:\\Users\\marti\\anaconda3\\envs\\py38\\lib\\site-packages\\sklearn\\model_selection\\_split.py:666: UserWarning: The least populated class in y has only 1 members, which is less than n_splits=5.\n",
      "  warnings.warn((\"The least populated class in y has only %d\"\n"
     ]
    },
    {
     "output_type": "stream",
     "name": "stdout",
     "text": [
      "Best Score : -129.29797683448098\n",
      "Best params : {'learning_rate': 0.01, 'max_depth': 3, 'n_estimators': 1000, 'random_state': 42}\n"
     ]
    }
   ],
   "metadata": {}
  },
  {
   "cell_type": "markdown",
   "source": [
    "### [Test 5] Ridge"
   ],
   "metadata": {}
  },
  {
   "cell_type": "markdown",
   "source": [
    "#### Version 5"
   ],
   "metadata": {}
  },
  {
   "cell_type": "code",
   "execution_count": 24,
   "source": [
    "model_5 = Ridge()\r\n",
    "\r\n",
    "param_grid = {\r\n",
    "    \"alpha\" : [0.01, 0.05, 0.1],\r\n",
    "    \"normalize\" : [True],\r\n",
    "    \"max_iter\" : [1000],\r\n",
    "    \"solver\" : ['svd', 'cholesky', 'lsqr', 'sparse_cg', 'sag', 'saga'],\r\n",
    "    \"random_state\" : [42]\r\n",
    "}\r\n",
    "\r\n",
    "gs = GridSearchCV(\r\n",
    "    model_5, param_grid,\r\n",
    "    cv=k_fold, scoring='neg_mean_absolute_error'\r\n",
    ")\r\n",
    "\r\n",
    "gs.fit(X_train_5, y_train_5)\r\n",
    "\r\n",
    "print(f\"Best Score : {gs.best_score_}\")\r\n",
    "print(f\"Best Params : {gs.best_params_}\")"
   ],
   "outputs": [
    {
     "output_type": "stream",
     "name": "stderr",
     "text": [
      "C:\\Users\\marti\\anaconda3\\envs\\py38\\lib\\site-packages\\sklearn\\model_selection\\_split.py:666: UserWarning: The least populated class in y has only 1 members, which is less than n_splits=5.\n",
      "  warnings.warn((\"The least populated class in y has only %d\"\n"
     ]
    },
    {
     "output_type": "stream",
     "name": "stdout",
     "text": [
      "Best Score : -129.53765260865381\n",
      "Best Params : {'alpha': 0.05, 'max_iter': 1000, 'normalize': True, 'random_state': 42, 'solver': 'svd'}\n"
     ]
    }
   ],
   "metadata": {}
  },
  {
   "cell_type": "markdown",
   "source": [
    "#### Version 6"
   ],
   "metadata": {}
  },
  {
   "cell_type": "code",
   "execution_count": 25,
   "source": [
    "model_5 = Ridge()\r\n",
    "\r\n",
    "param_grid = {\r\n",
    "    \"alpha\" : [0.01, 0.05, 0.1],\r\n",
    "    \"normalize\" : [True],\r\n",
    "    \"max_iter\" : [1000],\r\n",
    "    \"solver\" : ['svd', 'cholesky', 'lsqr', 'sparse_cg', 'sag', 'saga'],\r\n",
    "    \"random_state\" : [42]\r\n",
    "}\r\n",
    "\r\n",
    "gs = GridSearchCV(\r\n",
    "    model_5, param_grid,\r\n",
    "    cv=k_fold, scoring='neg_mean_absolute_error'\r\n",
    ")\r\n",
    "\r\n",
    "gs.fit(X_train_6, y_train_6)\r\n",
    "\r\n",
    "print(f\"Best Score : {gs.best_score_}\")\r\n",
    "print(f\"Best Params : {gs.best_params_}\")"
   ],
   "outputs": [
    {
     "output_type": "stream",
     "name": "stderr",
     "text": [
      "C:\\Users\\marti\\anaconda3\\envs\\py38\\lib\\site-packages\\sklearn\\model_selection\\_split.py:666: UserWarning: The least populated class in y has only 1 members, which is less than n_splits=5.\n",
      "  warnings.warn((\"The least populated class in y has only %d\"\n"
     ]
    },
    {
     "output_type": "stream",
     "name": "stdout",
     "text": [
      "Best Score : -129.52106875849282\n",
      "Best Params : {'alpha': 0.05, 'max_iter': 1000, 'normalize': True, 'random_state': 42, 'solver': 'svd'}\n"
     ]
    }
   ],
   "metadata": {}
  },
  {
   "cell_type": "markdown",
   "source": [
    "### [Test 6] Lasso"
   ],
   "metadata": {}
  },
  {
   "cell_type": "markdown",
   "source": [
    "#### Version 5"
   ],
   "metadata": {}
  },
  {
   "cell_type": "code",
   "execution_count": 27,
   "source": [
    "model_6 = Lasso()\r\n",
    "\r\n",
    "param_grid = {\r\n",
    "    \"alpha\" : [0.1, 0.5, 0.7, 1.0],\r\n",
    "    \"normalize\" : [True],\r\n",
    "    \"max_iter\" : [1000],\r\n",
    "    \"warm_start\" : [True],\r\n",
    "    \"selection\" : ['cyclic', 'random'],\r\n",
    "    \"random_state\" : [42]\r\n",
    "}\r\n",
    "\r\n",
    "gs = GridSearchCV(\r\n",
    "    model_6, param_grid,\r\n",
    "    cv=k_fold, scoring='neg_mean_absolute_error'\r\n",
    ")\r\n",
    "\r\n",
    "gs.fit(X_train_5, y_train_5)\r\n",
    "\r\n",
    "print(f\"Best Score : {gs.best_score_}\")\r\n",
    "print(f\"Best Params : {gs.best_params_}\")"
   ],
   "outputs": [
    {
     "output_type": "stream",
     "name": "stderr",
     "text": [
      "C:\\Users\\marti\\anaconda3\\envs\\py38\\lib\\site-packages\\sklearn\\model_selection\\_split.py:666: UserWarning: The least populated class in y has only 1 members, which is less than n_splits=5.\n",
      "  warnings.warn((\"The least populated class in y has only %d\"\n"
     ]
    },
    {
     "output_type": "stream",
     "name": "stdout",
     "text": [
      "Best Score : -126.23847596987002\n",
      "Best Params : {'alpha': 0.5, 'max_iter': 1000, 'normalize': True, 'random_state': 42, 'selection': 'random', 'warm_start': True}\n"
     ]
    }
   ],
   "metadata": {}
  },
  {
   "cell_type": "markdown",
   "source": [
    "#### Version 6"
   ],
   "metadata": {}
  },
  {
   "cell_type": "code",
   "execution_count": 28,
   "source": [
    "model_6 = Lasso()\r\n",
    "\r\n",
    "param_grid = {\r\n",
    "    \"alpha\" : [0.1, 0.5, 0.7, 1.0],\r\n",
    "    \"normalize\" : [True],\r\n",
    "    \"max_iter\" : [1000],\r\n",
    "    \"warm_start\" : [True],\r\n",
    "    \"selection\" : ['cyclic', 'random'],\r\n",
    "    \"random_state\" : [42]\r\n",
    "}\r\n",
    "\r\n",
    "gs = GridSearchCV(\r\n",
    "    model_6, param_grid,\r\n",
    "    cv=k_fold, scoring='neg_mean_absolute_error'\r\n",
    ")\r\n",
    "\r\n",
    "gs.fit(X_train_6, y_train_6)\r\n",
    "\r\n",
    "print(f\"Best Score : {gs.best_score_}\")\r\n",
    "print(f\"Best Params : {gs.best_params_}\")"
   ],
   "outputs": [
    {
     "output_type": "stream",
     "name": "stderr",
     "text": [
      "C:\\Users\\marti\\anaconda3\\envs\\py38\\lib\\site-packages\\sklearn\\model_selection\\_split.py:666: UserWarning: The least populated class in y has only 1 members, which is less than n_splits=5.\n",
      "  warnings.warn((\"The least populated class in y has only %d\"\n"
     ]
    },
    {
     "output_type": "stream",
     "name": "stdout",
     "text": [
      "Best Score : -126.43471733505991\n",
      "Best Params : {'alpha': 0.5, 'max_iter': 1000, 'normalize': True, 'random_state': 42, 'selection': 'cyclic', 'warm_start': True}\n"
     ]
    }
   ],
   "metadata": {}
  },
  {
   "cell_type": "markdown",
   "source": [
    "## Train"
   ],
   "metadata": {}
  },
  {
   "cell_type": "code",
   "execution_count": 34,
   "source": [
    "model = Lasso(alpha=0.5, max_iter=1000, normalize=True, random_state=42, selection='cyclic', warm_start=True)"
   ],
   "outputs": [],
   "metadata": {}
  },
  {
   "cell_type": "code",
   "execution_count": 35,
   "source": [
    "model.fit(X_train_6, y_train_6)"
   ],
   "outputs": [
    {
     "output_type": "execute_result",
     "data": {
      "text/plain": [
       "Lasso(alpha=0.5, normalize=True, random_state=42, warm_start=True)"
      ]
     },
     "metadata": {},
     "execution_count": 35
    }
   ],
   "metadata": {}
  },
  {
   "cell_type": "markdown",
   "source": [
    "## Inference & Submit"
   ],
   "metadata": {}
  },
  {
   "cell_type": "code",
   "execution_count": 36,
   "source": [
    "predict = model.predict(X_test_6)"
   ],
   "outputs": [],
   "metadata": {}
  },
  {
   "cell_type": "code",
   "execution_count": 37,
   "source": [
    "submission['num'] = predict"
   ],
   "outputs": [],
   "metadata": {}
  },
  {
   "cell_type": "code",
   "execution_count": 40,
   "source": [
    "submission.to_csv('Lasso_with_version_6.csv', index=False)"
   ],
   "outputs": [],
   "metadata": {}
  }
 ],
 "metadata": {
  "orig_nbformat": 4,
  "language_info": {
   "name": "python",
   "version": "3.8.8",
   "mimetype": "text/x-python",
   "codemirror_mode": {
    "name": "ipython",
    "version": 3
   },
   "pygments_lexer": "ipython3",
   "nbconvert_exporter": "python",
   "file_extension": ".py"
  },
  "kernelspec": {
   "name": "python3",
   "display_name": "Python 3.8.8 64-bit ('py38': conda)"
  },
  "interpreter": {
   "hash": "33a3111211be4281f3a8c4a9b25563b8d253df502c7e31f5318895c1792a97cb"
  }
 },
 "nbformat": 4,
 "nbformat_minor": 2
}