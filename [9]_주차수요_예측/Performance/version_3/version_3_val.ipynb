{
 "cells": [
  {
   "cell_type": "markdown",
   "source": [
    "# Version 3 Validation\r\n",
    "\r\n",
    "## 검증 내용\r\n",
    "\r\n",
    "> `Version 3`에서 적용한 아래 3가지의 전처리 방안을 각각 적용하여 성능의 변화를 살펴본다.\r\n",
    "\r\n",
    "1. [Test 1] Train에서 공급유형이 장기전세, 공공분양, 공공임대(5년)인 example을 아예 Drop한다.\r\n",
    "2. [Test 2] 각 단지코드 내에 임대건물구분 -> '아파트'이면 1, '상가&아파트'이면 0 으로 매핑\r\n",
    "3. [Test 3] '자격유형별 평균 임대료' feature 추가\r\n",
    "\r\n",
    "## 검증 순서\r\n",
    "\r\n",
    "1. **Version_3-1** : [Test 1] 만 적용\r\n",
    "2. **Version_3-2** : [Test 2] 만 적용\r\n",
    "3. **Version_3-3** : [Test 3] 만 적용\r\n",
    "4. **Version_3-4** : [Test 1] & [Test 2] 적용\r\n",
    "5. **Version_3-5** : [Test 1] & [Test 3] 적용\r\n",
    "6. **Version_3-6** : [Test 2] & [Test 3] 적용\r\n",
    "7. **Version_3-7** : 모든 전처리 방안 적용\r\n",
    "\r\n",
    "## 검증 결과\r\n",
    "\r\n",
    "### 가장 좋은 CV 점수\r\n",
    "\r\n",
    "- **[Test 1] & [Test 3]** : -148.1634"
   ],
   "metadata": {}
  },
  {
   "cell_type": "markdown",
   "source": [
    "## Import Module"
   ],
   "metadata": {}
  },
  {
   "cell_type": "code",
   "execution_count": 1,
   "source": [
    "import pandas as pd\r\n",
    "import numpy as np\r\n",
    "from os.path import join as Join\r\n",
    "from tqdm.notebook import tqdm"
   ],
   "outputs": [],
   "metadata": {}
  },
  {
   "cell_type": "markdown",
   "source": [
    "## Data Load"
   ],
   "metadata": {}
  },
  {
   "cell_type": "code",
   "execution_count": 2,
   "source": [
    "DATA_ROOT = ''\r\n",
    "DATA_ROOT = Join(DATA_ROOT, '../../../../competition_data/parking_data/')\r\n",
    "\r\n",
    "TRAIN_ROOT = Join(DATA_ROOT, 'train.csv')\r\n",
    "TEST_ROOT = Join(DATA_ROOT, 'test.csv')\r\n",
    "SUBMISSION_ROOT = Join(DATA_ROOT, 'sample_submission.csv')\r\n",
    "\r\n",
    "print(f\"DATA_ROOT : {DATA_ROOT}\")\r\n",
    "print(f\"TRAIN_ROOT : {TRAIN_ROOT}\")\r\n",
    "print(f\"TEST_ROOT : {TEST_ROOT}\")\r\n",
    "print(f\"SUBMISSION_ROOT : {SUBMISSION_ROOT}\")"
   ],
   "outputs": [
    {
     "output_type": "stream",
     "name": "stdout",
     "text": [
      "DATA_ROOT : ../../../../competition_data/parking_data/\n",
      "TRAIN_ROOT : ../../../../competition_data/parking_data/train.csv\n",
      "TEST_ROOT : ../../../../competition_data/parking_data/test.csv\n",
      "SUBMISSION_ROOT : ../../../../competition_data/parking_data/sample_submission.csv\n"
     ]
    }
   ],
   "metadata": {}
  },
  {
   "cell_type": "code",
   "execution_count": 3,
   "source": [
    "train = pd.read_csv(TRAIN_ROOT)\r\n",
    "test = pd.read_csv(TEST_ROOT)\r\n",
    "submission = pd.read_csv(SUBMISSION_ROOT)\r\n",
    "\r\n",
    "print(\"Data Loaded!\")"
   ],
   "outputs": [
    {
     "output_type": "stream",
     "name": "stdout",
     "text": [
      "Data Loaded!\n"
     ]
    }
   ],
   "metadata": {}
  },
  {
   "cell_type": "markdown",
   "source": [
    "## Preprocessing (Version 1)"
   ],
   "metadata": {}
  },
  {
   "cell_type": "markdown",
   "source": [
    "### 지역명 숫자로 매핑"
   ],
   "metadata": {}
  },
  {
   "cell_type": "code",
   "execution_count": 4,
   "source": [
    "local_map = {}\r\n",
    "\r\n",
    "for i, loc in enumerate(train['지역'].unique()):\r\n",
    "    local_map[loc] = i\r\n",
    "\r\n",
    "train['지역'] = train['지역'].map(local_map)\r\n",
    "test['지역'] = test['지역'].map(local_map)"
   ],
   "outputs": [],
   "metadata": {}
  },
  {
   "cell_type": "markdown",
   "source": [
    "### 전용면적 처리"
   ],
   "metadata": {}
  },
  {
   "cell_type": "code",
   "execution_count": 5,
   "source": [
    "train['전용면적'] = train['전용면적']//5*5\r\n",
    "test['전용면적'] = test['전용면적']//5*5"
   ],
   "outputs": [],
   "metadata": {}
  },
  {
   "cell_type": "markdown",
   "source": [
    "## Preprocessing (Version 2)"
   ],
   "metadata": {}
  },
  {
   "cell_type": "markdown",
   "source": [
    "`'-'` -> NULL, dtype을 float으로 변경"
   ],
   "metadata": {}
  },
  {
   "cell_type": "code",
   "execution_count": 6,
   "source": [
    "columns = ['임대보증금', '임대료']\r\n",
    "\r\n",
    "for col in columns:\r\n",
    "    train.loc[train[col] == '-', col] = np.nan\r\n",
    "    test.loc[test[col] == '-', col] = np.nan\r\n",
    "\r\n",
    "    train[col] = train[col].astype(float)\r\n",
    "    test[col] = test[col].astype(float)"
   ],
   "outputs": [],
   "metadata": {}
  },
  {
   "cell_type": "markdown",
   "source": [
    "### NULL 값 처리"
   ],
   "metadata": {}
  },
  {
   "cell_type": "markdown",
   "source": [
    "#### **임대보증금, 임대료**"
   ],
   "metadata": {}
  },
  {
   "cell_type": "code",
   "execution_count": 7,
   "source": [
    "train[['임대보증금', '임대료']] = train[['임대보증금', '임대료']].fillna(0)\r\n",
    "test[['임대보증금', '임대료']] = test[['임대보증금', '임대료']].fillna(0)"
   ],
   "outputs": [],
   "metadata": {}
  },
  {
   "cell_type": "markdown",
   "source": [
    "#### **지하철, 버스**"
   ],
   "metadata": {}
  },
  {
   "cell_type": "code",
   "execution_count": 8,
   "source": [
    "cols = ['도보 10분거리 내 지하철역 수(환승노선 수 반영)', '도보 10분거리 내 버스정류장 수']\r\n",
    "train[cols] = train[cols].fillna(0)\r\n",
    "test[cols] = test[cols].fillna(0)"
   ],
   "outputs": [],
   "metadata": {}
  },
  {
   "cell_type": "markdown",
   "source": [
    "#### **자격유형**"
   ],
   "metadata": {}
  },
  {
   "cell_type": "code",
   "execution_count": 9,
   "source": [
    "test.loc[test.단지코드.isin(['C2411']) & test.자격유형.isnull(), '자격유형'] = 'A'\r\n",
    "test.loc[test.단지코드.isin(['C2253']) & test.자격유형.isnull(), '자격유형'] = 'C'"
   ],
   "outputs": [],
   "metadata": {}
  },
  {
   "cell_type": "markdown",
   "source": [
    "### 중복 example 제거"
   ],
   "metadata": {}
  },
  {
   "cell_type": "code",
   "execution_count": 10,
   "source": [
    "train = train.drop_duplicates()\r\n",
    "test = test.drop_duplicates()"
   ],
   "outputs": [],
   "metadata": {}
  },
  {
   "cell_type": "markdown",
   "source": [
    "### 자격유형 병합"
   ],
   "metadata": {}
  },
  {
   "cell_type": "code",
   "execution_count": 11,
   "source": [
    "train.loc[train.자격유형.isin(['J', 'L', 'K', 'N', 'M', 'O']), '자격유형'] = '행복주택_공급대상'\r\n",
    "test.loc[test.자격유형.isin(['J', 'L', 'K', 'N', 'M', 'O']), '자격유형'] = '행복주택_공급대상'\r\n",
    "\r\n",
    "train.loc[train.자격유형.isin(['H', 'B', 'E', 'G']), '자격유형'] = '국민임대_공급대상'\r\n",
    "test.loc[test.자격유형.isin(['H', 'B', 'E', 'G']), '자격유형'] = '국민임대_공급대상'\r\n",
    "\r\n",
    "train.loc[train.자격유형.isin(['C', 'I', 'F']), '자격유형'] = '영구임대_공급대상'\r\n",
    "test.loc[test.자격유형.isin(['C', 'I', 'F']), '자격유형'] = '영구임대_공급대상'"
   ],
   "outputs": [],
   "metadata": {}
  },
  {
   "cell_type": "markdown",
   "source": [
    "### 공급유형 병합"
   ],
   "metadata": {}
  },
  {
   "cell_type": "code",
   "execution_count": 12,
   "source": [
    "train.loc[train.공급유형.isin(['공공임대(10년)', '공공임대(분납)']), '공급유형'] = '공공임대(10년/분납)'\r\n",
    "test.loc[test.공급유형.isin(['공공임대(10년)', '공공임대(분납)']), '공급유형'] = '공공임대(10년/분납)'"
   ],
   "outputs": [],
   "metadata": {}
  },
  {
   "cell_type": "markdown",
   "source": [
    "## Preprocessing (Version 3)"
   ],
   "metadata": {}
  },
  {
   "cell_type": "markdown",
   "source": [
    "### **Versoin_3-1** : [Test 1] 만 적용\r\n",
    "\r\n",
    "- [Test 1] Train에서 공급유형이 장기전세, 공공분양, 공공임대(5년)인 example을 아예 Drop한다."
   ],
   "metadata": {}
  },
  {
   "cell_type": "code",
   "execution_count": 13,
   "source": [
    "idx = train[(train.공급유형 == '장기전세') | (train.공급유형 == '공공분양') | (train.공급유형 == '공공임대(5년)')].index\r\n",
    "version_3_1_train = train.drop(idx)\r\n",
    "\r\n",
    "version_3_1_train.공급유형.unique().tolist()"
   ],
   "outputs": [
    {
     "output_type": "execute_result",
     "data": {
      "text/plain": [
       "['국민임대', '공공임대(50년)', '영구임대', '임대상가', '공공임대(10년/분납)', '행복주택']"
      ]
     },
     "metadata": {},
     "execution_count": 13
    }
   ],
   "metadata": {}
  },
  {
   "cell_type": "markdown",
   "source": [
    "### **Version_3-2** : [Test 2] 만 적용\r\n",
    "\r\n",
    "- [Test 2] 각 단지코드 내에 임대건물구분 -> '아파트'이면 1, '상가&아파트'이면 0 으로 매핑"
   ],
   "metadata": {}
  },
  {
   "cell_type": "code",
   "execution_count": 14,
   "source": [
    "version_3_2_train = train.copy()\r\n",
    "\r\n",
    "codes = version_3_2_train.단지코드.unique().tolist()\r\n",
    "\r\n",
    "for code in tqdm(codes):\r\n",
    "    values = version_3_2_train.loc[version_3_2_train.단지코드 == code, '임대건물구분'].unique().tolist()\r\n",
    "\r\n",
    "    if '상가' in values:\r\n",
    "        version_3_2_train.loc[version_3_2_train.단지코드 == code, '임대건물구분'] = 0\r\n",
    "    else:\r\n",
    "        version_3_2_train.loc[version_3_2_train.단지코드 == code, '임대건물구분'] = 1"
   ],
   "outputs": [
    {
     "output_type": "display_data",
     "data": {
      "text/plain": [
       "  0%|          | 0/423 [00:00<?, ?it/s]"
      ],
      "application/vnd.jupyter.widget-view+json": {
       "version_major": 2,
       "version_minor": 0,
       "model_id": "9000fb296c644e6e9942f7058b6a9f1f"
      }
     },
     "metadata": {}
    }
   ],
   "metadata": {}
  },
  {
   "cell_type": "code",
   "execution_count": 15,
   "source": [
    "version_3_2_test = test.copy()\r\n",
    "\r\n",
    "codes = version_3_2_test.단지코드.unique().tolist()\r\n",
    "\r\n",
    "for code in tqdm(codes):\r\n",
    "    values = version_3_2_test.loc[version_3_2_test.단지코드 == code, '임대건물구분'].unique().tolist()\r\n",
    "\r\n",
    "    if '상가' in values:\r\n",
    "        version_3_2_test.loc[version_3_2_test.단지코드 == code, '임대건물구분'] = 0\r\n",
    "    else:\r\n",
    "        version_3_2_test.loc[version_3_2_test.단지코드 == code, '임대건물구분'] = 1"
   ],
   "outputs": [
    {
     "output_type": "display_data",
     "data": {
      "text/plain": [
       "  0%|          | 0/150 [00:00<?, ?it/s]"
      ],
      "application/vnd.jupyter.widget-view+json": {
       "version_major": 2,
       "version_minor": 0,
       "model_id": "fe591dcef3854aa192f62e613db745dd"
      }
     },
     "metadata": {}
    }
   ],
   "metadata": {}
  },
  {
   "cell_type": "markdown",
   "source": [
    "### **Version_3-3** : [Test 3] 만 적용\r\n",
    "\r\n",
    "- [Test 3] '자격유형별 평균 임대료' feature 추가"
   ],
   "metadata": {}
  },
  {
   "cell_type": "code",
   "execution_count": 16,
   "source": [
    "version_3_3_train = train.copy()\r\n",
    "\r\n",
    "qualifies = version_3_3_train.자격유형.unique().tolist()\r\n",
    "\r\n",
    "for qualify in tqdm(qualifies):\r\n",
    "    version_3_3_train.loc[version_3_3_train.자격유형 == qualify, '평균임대료(자격유형)'] = version_3_3_train.loc[version_3_3_train.자격유형 == qualify, '임대료'].mean()"
   ],
   "outputs": [
    {
     "output_type": "display_data",
     "data": {
      "text/plain": [
       "  0%|          | 0/5 [00:00<?, ?it/s]"
      ],
      "application/vnd.jupyter.widget-view+json": {
       "version_major": 2,
       "version_minor": 0,
       "model_id": "12d7500aaebc4abab49017dddbbfebb3"
      }
     },
     "metadata": {}
    }
   ],
   "metadata": {}
  },
  {
   "cell_type": "code",
   "execution_count": 17,
   "source": [
    "version_3_3_test = test.copy()\r\n",
    "\r\n",
    "qualifies = version_3_3_test.자격유형.unique().tolist()\r\n",
    "\r\n",
    "for qualify in tqdm(qualifies):\r\n",
    "    version_3_3_test.loc[version_3_3_test.자격유형 == qualify, '평균임대료(자격유형)'] = version_3_3_test.loc[version_3_3_test.자격유형 == qualify, '임대료'].mean()"
   ],
   "outputs": [
    {
     "output_type": "display_data",
     "data": {
      "text/plain": [
       "  0%|          | 0/5 [00:00<?, ?it/s]"
      ],
      "application/vnd.jupyter.widget-view+json": {
       "version_major": 2,
       "version_minor": 0,
       "model_id": "6dd4b304acbe4aa2afb2df0884592ec8"
      }
     },
     "metadata": {}
    }
   ],
   "metadata": {}
  },
  {
   "cell_type": "markdown",
   "source": [
    "### **Versoin_3_4** : [Test 1] & [Test 2] 적용\r\n",
    "\r\n",
    "- [Test 1] Train에서 공급유형이 장기전세, 공공분양, 공공임대(5년)인 example을 아예 Drop한다.\r\n",
    "- [Test 2] 각 단지코드 내에 임대건물구분 -> '아파트'이면 1, '상가&아파트'이면 0 으로 매핑"
   ],
   "metadata": {}
  },
  {
   "cell_type": "markdown",
   "source": [
    "#### [Test 1]"
   ],
   "metadata": {}
  },
  {
   "cell_type": "code",
   "execution_count": 18,
   "source": [
    "idx = train[(train.공급유형 == '장기전세') | (train.공급유형 == '공공분양') | (train.공급유형 == '공공임대(5년)')].index\r\n",
    "version_3_4_train = train.drop(idx)\r\n",
    "\r\n",
    "version_3_4_train.공급유형.unique().tolist()"
   ],
   "outputs": [
    {
     "output_type": "execute_result",
     "data": {
      "text/plain": [
       "['국민임대', '공공임대(50년)', '영구임대', '임대상가', '공공임대(10년/분납)', '행복주택']"
      ]
     },
     "metadata": {},
     "execution_count": 18
    }
   ],
   "metadata": {}
  },
  {
   "cell_type": "markdown",
   "source": [
    "#### [Test 2]"
   ],
   "metadata": {}
  },
  {
   "cell_type": "code",
   "execution_count": 19,
   "source": [
    "codes = version_3_4_train.단지코드.unique().tolist()\r\n",
    "\r\n",
    "for code in tqdm(codes):\r\n",
    "    values = version_3_4_train.loc[version_3_4_train.단지코드 == code, '임대건물구분'].unique().tolist()\r\n",
    "\r\n",
    "    if '상가' in values :\r\n",
    "        version_3_4_train.loc[version_3_4_train.단지코드 == code, '임대건물구분'] = 0\r\n",
    "    else :\r\n",
    "        version_3_4_train.loc[version_3_4_train.단지코드 == code, '임대건물구분'] = 1"
   ],
   "outputs": [
    {
     "output_type": "display_data",
     "data": {
      "text/plain": [
       "  0%|          | 0/421 [00:00<?, ?it/s]"
      ],
      "application/vnd.jupyter.widget-view+json": {
       "version_major": 2,
       "version_minor": 0,
       "model_id": "70cd2d09c4f14929914e87b9cf35c513"
      }
     },
     "metadata": {}
    }
   ],
   "metadata": {}
  },
  {
   "cell_type": "code",
   "execution_count": 20,
   "source": [
    "version_3_4_test = test.copy()\r\n",
    "\r\n",
    "codes = version_3_4_test.단지코드.unique().tolist()\r\n",
    "\r\n",
    "for code in tqdm(codes):\r\n",
    "    values = version_3_4_test.loc[version_3_4_test.단지코드 == code, '임대건물구분'].unique().tolist()\r\n",
    "\r\n",
    "    if '상가' in values:\r\n",
    "        version_3_4_test.loc[version_3_4_test.단지코드 == code, '임대건물구분'] = 0\r\n",
    "    else:\r\n",
    "        version_3_4_test.loc[version_3_4_test.단지코드 == code, '임대건물구분'] = 1"
   ],
   "outputs": [
    {
     "output_type": "display_data",
     "data": {
      "text/plain": [
       "  0%|          | 0/150 [00:00<?, ?it/s]"
      ],
      "application/vnd.jupyter.widget-view+json": {
       "version_major": 2,
       "version_minor": 0,
       "model_id": "5236c58134c0411bab3433b4cfa921eb"
      }
     },
     "metadata": {}
    }
   ],
   "metadata": {}
  },
  {
   "cell_type": "markdown",
   "source": [
    "### **Version_3_5** : [Test 1] & [Test 3] 적용\r\n",
    "\r\n",
    "- [Test 1] Train에서 공급유형이 장기전세, 공공분양, 공공임대(5년)인 example을 아예 Drop한다.\r\n",
    "- [Test 3] '자격유형별 평균 임대료' feature 추가"
   ],
   "metadata": {}
  },
  {
   "cell_type": "markdown",
   "source": [
    "#### [Test 1]"
   ],
   "metadata": {}
  },
  {
   "cell_type": "code",
   "execution_count": 21,
   "source": [
    "idx = train[(train.공급유형 == '장기전세') | (train.공급유형 == '공공분양') | (train.공급유형 == '공공임대(5년)')].index\r\n",
    "version_3_5_train = train.drop(idx)\r\n",
    "\r\n",
    "version_3_5_train.공급유형.unique().tolist()"
   ],
   "outputs": [
    {
     "output_type": "execute_result",
     "data": {
      "text/plain": [
       "['국민임대', '공공임대(50년)', '영구임대', '임대상가', '공공임대(10년/분납)', '행복주택']"
      ]
     },
     "metadata": {},
     "execution_count": 21
    }
   ],
   "metadata": {}
  },
  {
   "cell_type": "markdown",
   "source": [
    "#### [Test 3]"
   ],
   "metadata": {}
  },
  {
   "cell_type": "code",
   "execution_count": 22,
   "source": [
    "qualifies = version_3_5_train.자격유형.unique().tolist()\r\n",
    "\r\n",
    "for qualify in tqdm(qualifies):\r\n",
    "    version_3_5_train.loc[version_3_5_train.자격유형 == qualify, '평균임대료(자격유형)'] = version_3_5_train.loc[version_3_5_train.자격유형 == qualify, '임대료'].mean()"
   ],
   "outputs": [
    {
     "output_type": "display_data",
     "data": {
      "text/plain": [
       "  0%|          | 0/5 [00:00<?, ?it/s]"
      ],
      "application/vnd.jupyter.widget-view+json": {
       "version_major": 2,
       "version_minor": 0,
       "model_id": "321d0828d79a43cd865c72acee394e29"
      }
     },
     "metadata": {}
    }
   ],
   "metadata": {}
  },
  {
   "cell_type": "code",
   "execution_count": 23,
   "source": [
    "version_3_5_test = test.copy()\r\n",
    "\r\n",
    "qualifies = version_3_5_test.자격유형.unique().tolist()\r\n",
    "\r\n",
    "for qulify in tqdm(qualifies):\r\n",
    "    version_3_5_test.loc[version_3_5_test.자격유형 == qualify, '평균임대료(자격유형)'] = version_3_5_test.loc[version_3_5_test.자격유형 == qualify, '임대료'].mean()"
   ],
   "outputs": [
    {
     "output_type": "display_data",
     "data": {
      "text/plain": [
       "  0%|          | 0/5 [00:00<?, ?it/s]"
      ],
      "application/vnd.jupyter.widget-view+json": {
       "version_major": 2,
       "version_minor": 0,
       "model_id": "15762c038711445eb4f0953860771e4c"
      }
     },
     "metadata": {}
    }
   ],
   "metadata": {}
  },
  {
   "cell_type": "markdown",
   "source": [
    "### **Version_3-6** : [Test 2] & [Test 3] 적용\r\n",
    "\r\n",
    "- [Test 2] 각 단지코드 내에 임대건물구분 -> '아파트'이면 1, '상가&아파트'이면 0 으로 매핑\r\n",
    "- [Test 3] '자격유형별 평균 임대료' feature 추가"
   ],
   "metadata": {}
  },
  {
   "cell_type": "markdown",
   "source": [
    "#### [Test 2]"
   ],
   "metadata": {}
  },
  {
   "cell_type": "code",
   "execution_count": 24,
   "source": [
    "version_3_6_train = train.copy()\r\n",
    "\r\n",
    "codes = version_3_6_train.단지코드.unique().tolist()\r\n",
    "\r\n",
    "for code in tqdm(codes):\r\n",
    "    values = version_3_6_train.loc[version_3_6_train.단지코드 == code, '임대건물구분'].unique().tolist()\r\n",
    "\r\n",
    "    if '상가' in values:\r\n",
    "        version_3_6_train.loc[version_3_6_train.단지코드 == code, '임대건물구분'] = 0\r\n",
    "    else :\r\n",
    "        version_3_6_train.loc[version_3_6_train.단지코드 == code, '임대건물구분'] = 1"
   ],
   "outputs": [
    {
     "output_type": "display_data",
     "data": {
      "text/plain": [
       "  0%|          | 0/423 [00:00<?, ?it/s]"
      ],
      "application/vnd.jupyter.widget-view+json": {
       "version_major": 2,
       "version_minor": 0,
       "model_id": "efc9603edf834860900d285a40633229"
      }
     },
     "metadata": {}
    }
   ],
   "metadata": {}
  },
  {
   "cell_type": "code",
   "execution_count": 25,
   "source": [
    "version_3_6_test = test.copy()\r\n",
    "\r\n",
    "codes = version_3_6_test.단지코드.unique().tolist()\r\n",
    "\r\n",
    "for code in tqdm(codes):\r\n",
    "    values = version_3_6_test.loc[version_3_6_test.단지코드 == code, '임대건물구분'].unique().tolist()\r\n",
    "\r\n",
    "    if '상가' in values:\r\n",
    "        version_3_6_test.loc[version_3_6_test.단지코드 == code, '임대건물구분'] = 0\r\n",
    "    else:\r\n",
    "        version_3_6_test.loc[version_3_6_test.단지코드 == code, '임대건물구분'] = 1"
   ],
   "outputs": [
    {
     "output_type": "display_data",
     "data": {
      "text/plain": [
       "  0%|          | 0/150 [00:00<?, ?it/s]"
      ],
      "application/vnd.jupyter.widget-view+json": {
       "version_major": 2,
       "version_minor": 0,
       "model_id": "7b0ee6a03b974ec3b70b45114f996221"
      }
     },
     "metadata": {}
    }
   ],
   "metadata": {}
  },
  {
   "cell_type": "markdown",
   "source": [
    "#### [Test 3]"
   ],
   "metadata": {}
  },
  {
   "cell_type": "code",
   "execution_count": 26,
   "source": [
    "qualifies = version_3_6_train.자격유형.unique().tolist()\r\n",
    "\r\n",
    "for qualify in tqdm(qualifies):\r\n",
    "    version_3_6_train.loc[version_3_6_train.자격유형 == qualify, '평균임대료(자격유형)'] = version_3_6_train.loc[version_3_6_train.자격유형 == qualify, '임대료'].mean()"
   ],
   "outputs": [
    {
     "output_type": "display_data",
     "data": {
      "text/plain": [
       "  0%|          | 0/5 [00:00<?, ?it/s]"
      ],
      "application/vnd.jupyter.widget-view+json": {
       "version_major": 2,
       "version_minor": 0,
       "model_id": "7b2e913350604885b89cef50dbb34f4c"
      }
     },
     "metadata": {}
    }
   ],
   "metadata": {}
  },
  {
   "cell_type": "code",
   "execution_count": 27,
   "source": [
    "qualifies = version_3_6_test.자격유형.unique().tolist()\r\n",
    "\r\n",
    "for qulify in tqdm(qualifies):\r\n",
    "    version_3_6_test.loc[version_3_6_test.자격유형 == qualify, '평균임대료(자격유형)'] = version_3_6_test.loc[version_3_6_test.자격유형 == qualify, '임대료'].mean()"
   ],
   "outputs": [
    {
     "output_type": "display_data",
     "data": {
      "text/plain": [
       "  0%|          | 0/5 [00:00<?, ?it/s]"
      ],
      "application/vnd.jupyter.widget-view+json": {
       "version_major": 2,
       "version_minor": 0,
       "model_id": "847ed240bc2144bea84ca46ffd700299"
      }
     },
     "metadata": {}
    }
   ],
   "metadata": {}
  },
  {
   "cell_type": "markdown",
   "source": [
    "### **Version_3-7** : 모든 전처리 방안 적용\r\n",
    "\r\n",
    "- [Test 1] Train에서 공급유형이 장기전세, 공공분양, 공공임대(5년)인 example을 아예 Drop한다.\r\n",
    "- [Test 2] 각 단지코드 내에 임대건물구분 -> '아파트'이면 1, '상가&아파트'이면 0 으로 매핑\r\n",
    "- [Test 3] '자격유형별 평균 임대료' feature 추가"
   ],
   "metadata": {}
  },
  {
   "cell_type": "markdown",
   "source": [
    "#### [Test 1]"
   ],
   "metadata": {}
  },
  {
   "cell_type": "code",
   "execution_count": 28,
   "source": [
    "idx = train[(train.공급유형 == '장기전세') | (train.공급유형 == '공공분양') | (train.공급유형 == '공공임대(5년)')].index\r\n",
    "version_3_7_train = train.drop(idx)\r\n",
    "\r\n",
    "version_3_7_train.공급유형.unique().tolist()"
   ],
   "outputs": [
    {
     "output_type": "execute_result",
     "data": {
      "text/plain": [
       "['국민임대', '공공임대(50년)', '영구임대', '임대상가', '공공임대(10년/분납)', '행복주택']"
      ]
     },
     "metadata": {},
     "execution_count": 28
    }
   ],
   "metadata": {}
  },
  {
   "cell_type": "markdown",
   "source": [
    "#### [Test 2]"
   ],
   "metadata": {}
  },
  {
   "cell_type": "code",
   "execution_count": 29,
   "source": [
    "codes = version_3_7_train.단지코드.unique().tolist()\r\n",
    "\r\n",
    "for code in tqdm(codes):\r\n",
    "    values = version_3_7_train.loc[version_3_7_train.단지코드 == code, '임대건물구분'].unique().tolist()\r\n",
    "\r\n",
    "    if '상가' in values:\r\n",
    "        version_3_7_train.loc[version_3_7_train.단지코드 == code, '임대건물구분'] = 0\r\n",
    "    else :\r\n",
    "        version_3_7_train.loc[version_3_7_train.단지코드 == code, '임대건물구분'] = 1"
   ],
   "outputs": [
    {
     "output_type": "display_data",
     "data": {
      "text/plain": [
       "  0%|          | 0/421 [00:00<?, ?it/s]"
      ],
      "application/vnd.jupyter.widget-view+json": {
       "version_major": 2,
       "version_minor": 0,
       "model_id": "3ef65076880344e2a4a6ae2cbc030d2f"
      }
     },
     "metadata": {}
    }
   ],
   "metadata": {}
  },
  {
   "cell_type": "code",
   "execution_count": 30,
   "source": [
    "version_3_7_test = test.copy()\r\n",
    "\r\n",
    "codes = version_3_7_test.단지코드.unique().tolist()\r\n",
    "\r\n",
    "for code in tqdm(codes):\r\n",
    "    values = version_3_7_test.loc[version_3_7_test.단지코드 == code, '임대건물구분'].unique().tolist()\r\n",
    "\r\n",
    "    if '상가' in values:\r\n",
    "        version_3_7_test.loc[version_3_7_test.단지코드 == code, '임대건물구분'] = 0\r\n",
    "    else:\r\n",
    "        version_3_7_test.loc[version_3_7_test.단지코드 == code, '임대건물구분'] = 1"
   ],
   "outputs": [
    {
     "output_type": "display_data",
     "data": {
      "text/plain": [
       "  0%|          | 0/150 [00:00<?, ?it/s]"
      ],
      "application/vnd.jupyter.widget-view+json": {
       "version_major": 2,
       "version_minor": 0,
       "model_id": "9a98eec89e7248e690130b3b3d0c9bea"
      }
     },
     "metadata": {}
    }
   ],
   "metadata": {}
  },
  {
   "cell_type": "markdown",
   "source": [
    "#### [Test 3]"
   ],
   "metadata": {}
  },
  {
   "cell_type": "code",
   "execution_count": 31,
   "source": [
    "qualifies = version_3_7_train.자격유형.unique().tolist()\r\n",
    "\r\n",
    "for qualify in tqdm(qualifies):\r\n",
    "    version_3_7_train.loc[version_3_7_train.자격유형 == qualify, '평균임대료(자격유형)'] = version_3_7_train.loc[version_3_7_train.자격유형 == qualify, '임대료'].mean()"
   ],
   "outputs": [
    {
     "output_type": "display_data",
     "data": {
      "text/plain": [
       "  0%|          | 0/5 [00:00<?, ?it/s]"
      ],
      "application/vnd.jupyter.widget-view+json": {
       "version_major": 2,
       "version_minor": 0,
       "model_id": "488b081289dd46dcb9f7e897d636a090"
      }
     },
     "metadata": {}
    }
   ],
   "metadata": {}
  },
  {
   "cell_type": "code",
   "execution_count": 32,
   "source": [
    "qualifies = version_3_7_test.자격유형.unique().tolist()\r\n",
    "\r\n",
    "for qulify in tqdm(qualifies):\r\n",
    "    version_3_7_test.loc[version_3_7_test.자격유형 == qualify, '평균임대료(자격유형)'] = version_3_7_test.loc[version_3_7_test.자격유형 == qualify, '임대료'].mean()"
   ],
   "outputs": [
    {
     "output_type": "display_data",
     "data": {
      "text/plain": [
       "  0%|          | 0/5 [00:00<?, ?it/s]"
      ],
      "application/vnd.jupyter.widget-view+json": {
       "version_major": 2,
       "version_minor": 0,
       "model_id": "c778b8a56f164187839402e4e741d763"
      }
     },
     "metadata": {}
    }
   ],
   "metadata": {}
  },
  {
   "cell_type": "markdown",
   "source": [
    "## Aggregation"
   ],
   "metadata": {}
  },
  {
   "cell_type": "markdown",
   "source": [
    "### 단지코드 별로 모두 같은 값을 가지는 feature"
   ],
   "metadata": {}
  },
  {
   "cell_type": "code",
   "execution_count": 33,
   "source": [
    "idx = train[(train.공급유형 == '장기전세') | (train.공급유형 == '공공분양') | (train.공급유형 == '공공임대(5년)')].index\r\n",
    "train_drop = train.drop(idx)\r\n",
    "\r\n",
    "train_drop.공급유형.unique().tolist()"
   ],
   "outputs": [
    {
     "output_type": "execute_result",
     "data": {
      "text/plain": [
       "['국민임대', '공공임대(50년)', '영구임대', '임대상가', '공공임대(10년/분납)', '행복주택']"
      ]
     },
     "metadata": {},
     "execution_count": 33
    }
   ],
   "metadata": {}
  },
  {
   "cell_type": "code",
   "execution_count": 34,
   "source": [
    "unique_cols = ['총세대수', '지역', '공가수', '도보 10분거리 내 지하철역 수(환승노선 수 반영)', '도보 10분거리 내 버스정류장 수', '단지내주차면수', '등록차량수']\r\n",
    "\r\n",
    "train_eq = train.set_index('단지코드')[unique_cols].drop_duplicates()\r\n",
    "test_eq = test.set_index('단지코드')[[col for col in unique_cols if col != '등록차량수']].drop_duplicates()\r\n",
    "\r\n",
    "train_drop = train_drop.set_index('단지코드')[unique_cols].drop_duplicates()"
   ],
   "outputs": [],
   "metadata": {}
  },
  {
   "cell_type": "markdown",
   "source": [
    "### 단지코드 별로 다양한 값을 가지는 feature"
   ],
   "metadata": {}
  },
  {
   "cell_type": "markdown",
   "source": [
    "#### feature reshape 함수 정의"
   ],
   "metadata": {}
  },
  {
   "cell_type": "code",
   "execution_count": 35,
   "source": [
    "def reshape_cat_features(data, cast_col, value_col):\r\n",
    "    res = data.drop_duplicates(['단지코드', cast_col]).assign(counter=1).pivot(index='단지코드', columns=cast_col, values=value_col).fillna(0)\r\n",
    "    res.columns.name = None\r\n",
    "    res = res.rename(columns={col:cast_col+'_'+col for col in res.columns})\r\n",
    "    return res"
   ],
   "outputs": [],
   "metadata": {}
  },
  {
   "cell_type": "markdown",
   "source": [
    "#### **Version_3-1** : [Test 1]"
   ],
   "metadata": {}
  },
  {
   "cell_type": "code",
   "execution_count": 36,
   "source": [
    "version_3_1_train = version_3_1_train.drop(unique_cols, axis=1)\r\n",
    "version_3_1_test = test.drop([col for col in unique_cols if col != '등록차량수'], axis=1)"
   ],
   "outputs": [],
   "metadata": {}
  },
  {
   "cell_type": "code",
   "execution_count": 37,
   "source": [
    "version_3_1_train = pd.concat([train_drop, \\\r\n",
    "    reshape_cat_features(data=version_3_1_train, cast_col='임대건물구분', value_col='counter'),\r\n",
    "    reshape_cat_features(data=version_3_1_train, cast_col='공급유형', value_col='counter'),\r\n",
    "    reshape_cat_features(data=version_3_1_train, cast_col='자격유형', value_col='counter')], axis=1)"
   ],
   "outputs": [],
   "metadata": {}
  },
  {
   "cell_type": "code",
   "execution_count": 38,
   "source": [
    "version_3_1_test = pd.concat([test_eq, \\\r\n",
    "    reshape_cat_features(data=version_3_1_test, cast_col='임대건물구분', value_col='counter'),\r\n",
    "    reshape_cat_features(data=version_3_1_test, cast_col='공급유형', value_col='counter'),\r\n",
    "    reshape_cat_features(data=version_3_1_test, cast_col='자격유형', value_col='counter')], axis=1)"
   ],
   "outputs": [],
   "metadata": {}
  },
  {
   "cell_type": "markdown",
   "source": [
    "#### Version_3-2 : [Test 2]"
   ],
   "metadata": {}
  },
  {
   "cell_type": "code",
   "execution_count": 39,
   "source": [
    "version_3_2_train = version_3_2_train.drop(unique_cols, axis=1)\r\n",
    "version_3_2_test = version_3_2_test.drop([col for col in unique_cols if col != '등록차량수'], axis=1)"
   ],
   "outputs": [],
   "metadata": {}
  },
  {
   "cell_type": "code",
   "execution_count": 40,
   "source": [
    "version_3_2_train = pd.concat([train_eq, version_3_2_train[['단지코드', '임대건물구분']].drop_duplicates().set_index('단지코드'), \\\r\n",
    "    reshape_cat_features(data=version_3_2_train, cast_col='공급유형', value_col='counter'),\r\n",
    "    reshape_cat_features(data=version_3_2_train, cast_col='자격유형', value_col='counter')], axis=1)"
   ],
   "outputs": [],
   "metadata": {}
  },
  {
   "cell_type": "code",
   "execution_count": 41,
   "source": [
    "version_3_2_test = pd.concat([test_eq, version_3_2_test[['단지코드', '임대건물구분']].drop_duplicates().set_index('단지코드'), \\\r\n",
    "    reshape_cat_features(data=version_3_2_test, cast_col='공급유형', value_col='counter'),\r\n",
    "    reshape_cat_features(data=version_3_2_test, cast_col='자격유형', value_col='counter')], axis=1)"
   ],
   "outputs": [],
   "metadata": {}
  },
  {
   "cell_type": "markdown",
   "source": [
    "#### Version_3-3 : [Test 3]"
   ],
   "metadata": {}
  },
  {
   "cell_type": "code",
   "execution_count": 42,
   "source": [
    "version_3_3_train = version_3_3_train.drop(unique_cols, axis=1)\r\n",
    "version_3_3_test = version_3_3_test.drop([col for col in cols if col != '등록차량수'], axis=1)"
   ],
   "outputs": [],
   "metadata": {}
  },
  {
   "cell_type": "code",
   "execution_count": 43,
   "source": [
    "mean_vals = version_3_3_train[['단지코드', '임대료', '평균임대료(자격유형)']].copy()\r\n",
    "\r\n",
    "codes = mean_vals.단지코드.unique().tolist()\r\n",
    "\r\n",
    "for code in tqdm(codes):\r\n",
    "    mean_vals.loc[mean_vals.단지코드 == code, '평균임대료(자격유형)'] = mean_vals.loc[mean_vals.단지코드 == code, '평균임대료(자격유형)'].mean()\r\n",
    "    mean_vals.loc[mean_vals.단지코드 == code, '임대료'] = mean_vals.loc[mean_vals.단지코드 == code, '임대료'].mean()\r\n",
    "\r\n",
    "mean_vals = mean_vals.drop_duplicates().set_index('단지코드')"
   ],
   "outputs": [
    {
     "output_type": "display_data",
     "data": {
      "text/plain": [
       "  0%|          | 0/423 [00:00<?, ?it/s]"
      ],
      "application/vnd.jupyter.widget-view+json": {
       "version_major": 2,
       "version_minor": 0,
       "model_id": "840b078c0fa744e29011e2bfab3b4d7e"
      }
     },
     "metadata": {}
    }
   ],
   "metadata": {}
  },
  {
   "cell_type": "code",
   "execution_count": 44,
   "source": [
    "version_3_3_train = pd.concat([train_eq, mean_vals, \\\r\n",
    "    reshape_cat_features(data=version_3_3_train, cast_col='임대건물구분', value_col='counter'),\r\n",
    "    reshape_cat_features(data=version_3_3_train, cast_col='공급유형', value_col='counter'),\r\n",
    "    reshape_cat_features(data=version_3_3_train, cast_col='자격유형', value_col='counter')], axis=1)"
   ],
   "outputs": [],
   "metadata": {}
  },
  {
   "cell_type": "code",
   "execution_count": 45,
   "source": [
    "mean_vals = version_3_3_test[['단지코드', '임대료', '평균임대료(자격유형)']].copy()\r\n",
    "\r\n",
    "codes = mean_vals.단지코드.unique().tolist()\r\n",
    "\r\n",
    "for code in tqdm(codes):\r\n",
    "    mean_vals.loc[mean_vals.단지코드 == code, '평균임대료(자격유형)'] = mean_vals.loc[mean_vals.단지코드 == code, '평균임대료(자격유형)'].mean()\r\n",
    "    mean_vals.loc[mean_vals.단지코드 == code, '임대료'] = mean_vals.loc[mean_vals.단지코드 == code, '임대료'].mean()\r\n",
    "\r\n",
    "mean_vals = mean_vals.drop_duplicates().set_index('단지코드')"
   ],
   "outputs": [
    {
     "output_type": "display_data",
     "data": {
      "text/plain": [
       "  0%|          | 0/150 [00:00<?, ?it/s]"
      ],
      "application/vnd.jupyter.widget-view+json": {
       "version_major": 2,
       "version_minor": 0,
       "model_id": "1b005dc4154748c8be124886b5808d7e"
      }
     },
     "metadata": {}
    }
   ],
   "metadata": {}
  },
  {
   "cell_type": "code",
   "execution_count": 46,
   "source": [
    "version_3_3_test = pd.concat([test_eq, mean_vals, \\\r\n",
    "    reshape_cat_features(data=version_3_3_test, cast_col='임대건물구분', value_col='counter'),\r\n",
    "    reshape_cat_features(data=version_3_3_test, cast_col='공급유형', value_col='counter'),\r\n",
    "    reshape_cat_features(data=version_3_3_test, cast_col='자격유형', value_col='counter')], axis=1)"
   ],
   "outputs": [],
   "metadata": {}
  },
  {
   "cell_type": "markdown",
   "source": [
    "#### Version_3-4 : [Test 1] & [Test 2]"
   ],
   "metadata": {}
  },
  {
   "cell_type": "code",
   "execution_count": 47,
   "source": [
    "version_3_4_train = version_3_4_train.drop(unique_cols, axis=1)\r\n",
    "version_3_4_test = version_3_4_test.drop([col for col in unique_cols if col != '등록차량수'], axis=1)"
   ],
   "outputs": [],
   "metadata": {}
  },
  {
   "cell_type": "code",
   "execution_count": 48,
   "source": [
    "version_3_4_train = pd.concat([train_drop, version_3_4_train[['단지코드', '임대건물구분']].drop_duplicates().set_index('단지코드'), \\\r\n",
    "    reshape_cat_features(data=version_3_4_train, cast_col='공급유형', value_col='counter'),\r\n",
    "    reshape_cat_features(data=version_3_4_train, cast_col='자격유형', value_col='counter')], axis=1)"
   ],
   "outputs": [],
   "metadata": {}
  },
  {
   "cell_type": "code",
   "execution_count": 49,
   "source": [
    "version_3_4_test = pd.concat([test_eq, version_3_4_test[['단지코드', '임대건물구분']].drop_duplicates().set_index('단지코드'), \\\r\n",
    "    reshape_cat_features(data=version_3_4_test, cast_col='공급유형', value_col='counter'),\r\n",
    "    reshape_cat_features(data=version_3_4_test, cast_col='자격유형', value_col='counter')], axis=1)"
   ],
   "outputs": [],
   "metadata": {}
  },
  {
   "cell_type": "markdown",
   "source": [
    "#### Version_3-5 : [Test 1] & [Test 3]"
   ],
   "metadata": {}
  },
  {
   "cell_type": "code",
   "execution_count": 50,
   "source": [
    "version_3_5_train = version_3_5_train.drop(unique_cols, axis=1)\r\n",
    "version_3_5_test = version_3_5_test.drop([col for col in unique_cols if col != '등록차량수'], axis=1)"
   ],
   "outputs": [],
   "metadata": {}
  },
  {
   "cell_type": "code",
   "execution_count": 51,
   "source": [
    "mean_vals = version_3_5_train[['단지코드', '임대료', '평균임대료(자격유형)']].copy()\r\n",
    "\r\n",
    "codes = mean_vals.단지코드.unique().tolist()\r\n",
    "\r\n",
    "for code in tqdm(codes):\r\n",
    "    mean_vals.loc[mean_vals.단지코드 == code, '평균임대료(자격유형)'] = mean_vals.loc[mean_vals.단지코드 == code, '평균임대료(자격유형)'].mean()\r\n",
    "    mean_vals.loc[mean_vals.단지코드 == code, '임대료'] = mean_vals.loc[mean_vals.단지코드 == code, '임대료'].mean()\r\n",
    "\r\n",
    "mean_vals = mean_vals.drop_duplicates().set_index('단지코드')"
   ],
   "outputs": [
    {
     "output_type": "display_data",
     "data": {
      "text/plain": [
       "  0%|          | 0/421 [00:00<?, ?it/s]"
      ],
      "application/vnd.jupyter.widget-view+json": {
       "version_major": 2,
       "version_minor": 0,
       "model_id": "55333ed2117d462b823578c9f94b9300"
      }
     },
     "metadata": {}
    }
   ],
   "metadata": {}
  },
  {
   "cell_type": "code",
   "execution_count": 52,
   "source": [
    "version_3_5_train = pd.concat([train_drop, mean_vals, \\\r\n",
    "    reshape_cat_features(data=version_3_5_train, cast_col='임대건물구분', value_col='counter'),\r\n",
    "    reshape_cat_features(data=version_3_5_train, cast_col='공급유형', value_col='counter'),\r\n",
    "    reshape_cat_features(data=version_3_5_train, cast_col='자격유형', value_col='counter')], axis=1)"
   ],
   "outputs": [],
   "metadata": {}
  },
  {
   "cell_type": "code",
   "execution_count": 53,
   "source": [
    "mean_vals = version_3_5_test[['단지코드', '임대료', '평균임대료(자격유형)']].copy()\r\n",
    "\r\n",
    "codes = mean_vals.단지코드.unique().tolist()\r\n",
    "\r\n",
    "for code in tqdm(codes):\r\n",
    "    mean_vals.loc[mean_vals.단지코드 == code, '평균임대료(자격유형)'] = mean_vals.loc[mean_vals.단지코드 == code, '평균임대료(자격유형)'].mean()\r\n",
    "    mean_vals.loc[mean_vals.단지코드 == code, '임대료'] = mean_vals.loc[mean_vals.단지코드 == code, '임대료'].mean()\r\n",
    "\r\n",
    "mean_vals = mean_vals.drop_duplicates().set_index('단지코드')"
   ],
   "outputs": [
    {
     "output_type": "display_data",
     "data": {
      "text/plain": [
       "  0%|          | 0/150 [00:00<?, ?it/s]"
      ],
      "application/vnd.jupyter.widget-view+json": {
       "version_major": 2,
       "version_minor": 0,
       "model_id": "7deb121541924ff6a0ee14b8ffcd7203"
      }
     },
     "metadata": {}
    }
   ],
   "metadata": {}
  },
  {
   "cell_type": "code",
   "execution_count": 54,
   "source": [
    "version_3_5_test = pd.concat([test_eq, mean_vals, \\\r\n",
    "    reshape_cat_features(data=version_3_5_test, cast_col='임대건물구분', value_col='counter'),\r\n",
    "    reshape_cat_features(data=version_3_5_test, cast_col='공급유형', value_col='counter'),\r\n",
    "    reshape_cat_features(data=version_3_5_test, cast_col='자격유형', value_col='counter')], axis=1)"
   ],
   "outputs": [],
   "metadata": {}
  },
  {
   "cell_type": "markdown",
   "source": [
    "#### Version_3-6 : [Test 2] & [Test 3]"
   ],
   "metadata": {}
  },
  {
   "cell_type": "code",
   "execution_count": 55,
   "source": [
    "version_3_6_train = version_3_6_train.drop(unique_cols, axis=1)\r\n",
    "version_3_6_test = version_3_6_test.drop([col for col in unique_cols if col != '등록차량수'], axis=1)"
   ],
   "outputs": [],
   "metadata": {}
  },
  {
   "cell_type": "code",
   "execution_count": 56,
   "source": [
    "mean_vals = version_3_6_train[['단지코드', '임대료', '평균임대료(자격유형)']].copy()\r\n",
    "\r\n",
    "codes = mean_vals.단지코드.unique().tolist()\r\n",
    "\r\n",
    "for code in tqdm(codes):\r\n",
    "    mean_vals.loc[mean_vals.단지코드 == code, '평균임대료(자격유형)'] = mean_vals.loc[mean_vals.단지코드 == code, '평균임대료(자격유형)'].mean()\r\n",
    "    mean_vals.loc[mean_vals.단지코드 == code, '임대료'] = mean_vals.loc[mean_vals.단지코드 == code, '임대료'].mean()\r\n",
    "\r\n",
    "mean_vals = mean_vals.drop_duplicates().set_index('단지코드')"
   ],
   "outputs": [
    {
     "output_type": "display_data",
     "data": {
      "text/plain": [
       "  0%|          | 0/423 [00:00<?, ?it/s]"
      ],
      "application/vnd.jupyter.widget-view+json": {
       "version_major": 2,
       "version_minor": 0,
       "model_id": "6078d612bd9e4c098228f4f9b80add1f"
      }
     },
     "metadata": {}
    }
   ],
   "metadata": {}
  },
  {
   "cell_type": "code",
   "execution_count": 57,
   "source": [
    "version_3_6_train = pd.concat([train_eq, version_3_6_train[['단지코드', '임대건물구분']].drop_duplicates().set_index('단지코드'), mean_vals, \\\r\n",
    "    reshape_cat_features(data=version_3_6_train, cast_col='공급유형', value_col='counter'),\r\n",
    "    reshape_cat_features(data=version_3_6_train, cast_col='자격유형', value_col='counter')], axis=1)"
   ],
   "outputs": [],
   "metadata": {}
  },
  {
   "cell_type": "code",
   "execution_count": 58,
   "source": [
    "mean_vals = version_3_6_test[['단지코드', '임대료', '평균임대료(자격유형)']].copy()\r\n",
    "\r\n",
    "codes = mean_vals.단지코드.unique().tolist()\r\n",
    "\r\n",
    "for code in tqdm(codes):\r\n",
    "    mean_vals.loc[mean_vals.단지코드 == code, '평균임대료(자격유형)'] = mean_vals.loc[mean_vals.단지코드 == code, '평균임대료(자격유형)'].mean()\r\n",
    "    mean_vals.loc[mean_vals.단지코드 == code, '임대료'] = mean_vals.loc[mean_vals.단지코드 == code, '임대료'].mean()\r\n",
    "\r\n",
    "mean_vals = mean_vals.drop_duplicates().set_index('단지코드')"
   ],
   "outputs": [
    {
     "output_type": "display_data",
     "data": {
      "text/plain": [
       "  0%|          | 0/150 [00:00<?, ?it/s]"
      ],
      "application/vnd.jupyter.widget-view+json": {
       "version_major": 2,
       "version_minor": 0,
       "model_id": "e48665cac87343ec9642c59f255556da"
      }
     },
     "metadata": {}
    }
   ],
   "metadata": {}
  },
  {
   "cell_type": "code",
   "execution_count": 59,
   "source": [
    "version_3_6_test = pd.concat([test_eq, version_3_6_test[['단지코드', '임대건물구분']].drop_duplicates().set_index('단지코드'), mean_vals, \\\r\n",
    "    reshape_cat_features(data=version_3_6_test, cast_col='공급유형', value_col='counter'),\r\n",
    "    reshape_cat_features(data=version_3_6_test, cast_col='자격유형', value_col='counter')], axis=1)"
   ],
   "outputs": [],
   "metadata": {}
  },
  {
   "cell_type": "markdown",
   "source": [
    "#### Version_3-7 : 모든 전처리 방안 적용"
   ],
   "metadata": {}
  },
  {
   "cell_type": "code",
   "execution_count": 60,
   "source": [
    "version_3_7_train = version_3_7_train.drop(unique_cols, axis=1)\r\n",
    "version_3_7_test = version_3_7_test.drop([col for col in unique_cols if col != '등록차량수'], axis=1)"
   ],
   "outputs": [],
   "metadata": {}
  },
  {
   "cell_type": "code",
   "execution_count": 61,
   "source": [
    "mean_vals = version_3_7_train[['단지코드', '임대료', '평균임대료(자격유형)']].copy()\r\n",
    "\r\n",
    "codes = mean_vals.단지코드.unique().tolist()\r\n",
    "\r\n",
    "for code in tqdm(codes):\r\n",
    "    mean_vals.loc[mean_vals.단지코드 == code, '평균임대료(자격유형)'] = mean_vals.loc[mean_vals.단지코드 == code, '평균임대료(자격유형)'].mean()\r\n",
    "    mean_vals.loc[mean_vals.단지코드 == code, '임대료'] = mean_vals.loc[mean_vals.단지코드 == code, '임대료'].mean()\r\n",
    "\r\n",
    "mean_vals = mean_vals.drop_duplicates().set_index('단지코드')"
   ],
   "outputs": [
    {
     "output_type": "display_data",
     "data": {
      "text/plain": [
       "  0%|          | 0/421 [00:00<?, ?it/s]"
      ],
      "application/vnd.jupyter.widget-view+json": {
       "version_major": 2,
       "version_minor": 0,
       "model_id": "14ce65ecc78742eab3fb833f48a97172"
      }
     },
     "metadata": {}
    }
   ],
   "metadata": {}
  },
  {
   "cell_type": "code",
   "execution_count": 62,
   "source": [
    "version_3_7_train = pd.concat([train_drop, version_3_7_train[['단지코드', '임대건물구분']].drop_duplicates().set_index('단지코드'), mean_vals, \\\r\n",
    "    reshape_cat_features(data=version_3_7_train, cast_col='공급유형', value_col='counter'),\r\n",
    "    reshape_cat_features(data=version_3_7_train, cast_col='자격유형', value_col='counter')], axis=1)"
   ],
   "outputs": [],
   "metadata": {}
  },
  {
   "cell_type": "code",
   "execution_count": 63,
   "source": [
    "mean_vals = version_3_7_test[['단지코드', '임대료', '평균임대료(자격유형)']].copy()\r\n",
    "\r\n",
    "codes = mean_vals.단지코드.unique().tolist()\r\n",
    "\r\n",
    "for code in tqdm(codes):\r\n",
    "    mean_vals.loc[mean_vals.단지코드 == code, '평균임대료(자격유형)'] = mean_vals.loc[mean_vals.단지코드 == code, '평균임대료(자격유형)'].mean()\r\n",
    "    mean_vals.loc[mean_vals.단지코드 == code, '임대료'] = mean_vals.loc[mean_vals.단지코드 == code, '임대료'].mean()\r\n",
    "\r\n",
    "mean_vals = mean_vals.drop_duplicates().set_index('단지코드')"
   ],
   "outputs": [
    {
     "output_type": "display_data",
     "data": {
      "text/plain": [
       "  0%|          | 0/150 [00:00<?, ?it/s]"
      ],
      "application/vnd.jupyter.widget-view+json": {
       "version_major": 2,
       "version_minor": 0,
       "model_id": "b7e5a2d94b674720b284bf3183707064"
      }
     },
     "metadata": {}
    }
   ],
   "metadata": {}
  },
  {
   "cell_type": "code",
   "execution_count": 64,
   "source": [
    "version_3_7_test = pd.concat([test_eq, version_3_7_test[['단지코드', '임대건물구분']].drop_duplicates().set_index('단지코드'), mean_vals, \\\r\n",
    "    reshape_cat_features(data=version_3_7_test, cast_col='공급유형', value_col='counter'),\r\n",
    "    reshape_cat_features(data=version_3_7_test, cast_col='자격유형', value_col='counter')], axis=1)"
   ],
   "outputs": [],
   "metadata": {}
  },
  {
   "cell_type": "markdown",
   "source": [
    "## Performance Test"
   ],
   "metadata": {}
  },
  {
   "cell_type": "markdown",
   "source": [
    "### Model Define (Baseline Model)"
   ],
   "metadata": {}
  },
  {
   "cell_type": "code",
   "execution_count": 65,
   "source": [
    "from sklearn.ensemble import RandomForestRegressor\r\n",
    "\r\n",
    "model = RandomForestRegressor(n_jobs=-1, random_state=42)"
   ],
   "outputs": [],
   "metadata": {}
  },
  {
   "cell_type": "markdown",
   "source": [
    "### CV Score (‘neg_mean_absolute_error’)"
   ],
   "metadata": {}
  },
  {
   "cell_type": "code",
   "execution_count": 66,
   "source": [
    "from sklearn.model_selection import cross_val_score"
   ],
   "outputs": [],
   "metadata": {}
  },
  {
   "cell_type": "markdown",
   "source": [
    "#### Version_3-1 : [Test 1]"
   ],
   "metadata": {}
  },
  {
   "cell_type": "code",
   "execution_count": 67,
   "source": [
    "X_train = version_3_1_train.drop(['등록차량수'], axis=1)\r\n",
    "y_train = version_3_1_train['등록차량수']"
   ],
   "outputs": [],
   "metadata": {}
  },
  {
   "cell_type": "code",
   "execution_count": 68,
   "source": [
    "print(f\"[Test 1] 만 적용한 경우 : {cross_val_score(model, X_train, y_train, cv=5, scoring='neg_mean_absolute_error').mean()}\")"
   ],
   "outputs": [
    {
     "output_type": "stream",
     "name": "stdout",
     "text": [
      "[Test 1] 만 적용한 경우 : -150.15621848739497\n"
     ]
    }
   ],
   "metadata": {}
  },
  {
   "cell_type": "markdown",
   "source": [
    "#### Version_3-2 : [Test 2]"
   ],
   "metadata": {}
  },
  {
   "cell_type": "code",
   "execution_count": 69,
   "source": [
    "X_train = version_3_2_train.drop(['등록차량수'], axis=1)\r\n",
    "y_train = version_3_2_train['등록차량수']"
   ],
   "outputs": [],
   "metadata": {}
  },
  {
   "cell_type": "code",
   "execution_count": 70,
   "source": [
    "print(f\"[Test 2] 만 적용한 경우 : {cross_val_score(model, X_train, y_train, cv=5, scoring='neg_mean_absolute_error').mean()}\")"
   ],
   "outputs": [
    {
     "output_type": "stream",
     "name": "stdout",
     "text": [
      "[Test 2] 만 적용한 경우 : -150.4797406162465\n"
     ]
    }
   ],
   "metadata": {}
  },
  {
   "cell_type": "markdown",
   "source": [
    "#### Version_3-3 : [Test 3]"
   ],
   "metadata": {}
  },
  {
   "cell_type": "code",
   "execution_count": 71,
   "source": [
    "X_train = version_3_3_train.drop(['등록차량수'], axis=1)\r\n",
    "y_train = version_3_3_train['등록차량수']"
   ],
   "outputs": [],
   "metadata": {}
  },
  {
   "cell_type": "code",
   "execution_count": 72,
   "source": [
    "print(f\"[Test 3] 만 적용한 경우 : {cross_val_score(model, X_train, y_train, cv=5, scoring='neg_mean_absolute_error').mean()}\")"
   ],
   "outputs": [
    {
     "output_type": "stream",
     "name": "stdout",
     "text": [
      "[Test 3] 만 적용한 경우 : -149.68167647058823\n"
     ]
    }
   ],
   "metadata": {}
  },
  {
   "cell_type": "markdown",
   "source": [
    "#### Version_3-4 : [Test 1] & [Test 2]"
   ],
   "metadata": {}
  },
  {
   "cell_type": "code",
   "execution_count": 73,
   "source": [
    "X_train = version_3_4_train.drop(['등록차량수'], axis=1)\r\n",
    "y_train = version_3_4_train['등록차량수']"
   ],
   "outputs": [],
   "metadata": {}
  },
  {
   "cell_type": "code",
   "execution_count": 74,
   "source": [
    "print(f\"[Test 1] & [Test 2] 적용한 경우 : {cross_val_score(model, X_train, y_train, cv=5, scoring='neg_mean_absolute_error').mean()}\")"
   ],
   "outputs": [
    {
     "output_type": "stream",
     "name": "stdout",
     "text": [
      "[Test 1] & [Test 2] 적용한 경우 : -149.67148151260503\n"
     ]
    }
   ],
   "metadata": {}
  },
  {
   "cell_type": "markdown",
   "source": [
    "#### Versoin_3-5 : [Test 1] & [Test 3]"
   ],
   "metadata": {}
  },
  {
   "cell_type": "code",
   "execution_count": 75,
   "source": [
    "X_train = version_3_5_train.drop(['등록차량수'], axis=1)\r\n",
    "y_train = version_3_5_train['등록차량수']"
   ],
   "outputs": [],
   "metadata": {}
  },
  {
   "cell_type": "code",
   "execution_count": 76,
   "source": [
    "print(f\"[Test 1] & [Test 3] 적용한 경우 : {cross_val_score(model, X_train, y_train, cv=5, scoring='neg_mean_absolute_error').mean()}\")"
   ],
   "outputs": [
    {
     "output_type": "stream",
     "name": "stdout",
     "text": [
      "[Test 1] & [Test 3] 적용한 경우 : -148.16336526610647\n"
     ]
    }
   ],
   "metadata": {}
  },
  {
   "cell_type": "markdown",
   "source": [
    "#### Version_3-6 : [Test 2] & [Test 3]"
   ],
   "metadata": {}
  },
  {
   "cell_type": "code",
   "execution_count": 77,
   "source": [
    "X_train = version_3_6_train.drop(['등록차량수'], axis=1)\r\n",
    "y_train = version_3_6_train['등록차량수']"
   ],
   "outputs": [],
   "metadata": {}
  },
  {
   "cell_type": "code",
   "execution_count": 78,
   "source": [
    "print(f\"[Test 2] & [Test 3] 적용한 경우 : {cross_val_score(model, X_train, y_train, cv=5, scoring='neg_mean_absolute_error').mean()}\")"
   ],
   "outputs": [
    {
     "output_type": "stream",
     "name": "stdout",
     "text": [
      "[Test 2] & [Test 3] 적용한 경우 : -150.09751596638654\n"
     ]
    }
   ],
   "metadata": {}
  },
  {
   "cell_type": "markdown",
   "source": [
    "#### Version_3-7 : [Test 1] & [Test 2] & [Test 3]"
   ],
   "metadata": {}
  },
  {
   "cell_type": "code",
   "execution_count": 79,
   "source": [
    "X_train = version_3_7_train.drop(['등록차량수'], axis=1)\r\n",
    "y_train = version_3_7_train['등록차량수']"
   ],
   "outputs": [],
   "metadata": {}
  },
  {
   "cell_type": "code",
   "execution_count": 80,
   "source": [
    "print(f\"[Test 1] & [Test 2] & [Test 3] 적용한 경우 : {cross_val_score(model, X_train, y_train, cv=5, scoring='neg_mean_absolute_error').mean()}\")"
   ],
   "outputs": [
    {
     "output_type": "stream",
     "name": "stdout",
     "text": [
      "[Test 1] & [Test 2] & [Test 3] 적용한 경우 : -149.82798487394956\n"
     ]
    }
   ],
   "metadata": {}
  }
 ],
 "metadata": {
  "orig_nbformat": 4,
  "language_info": {
   "name": "python",
   "version": "3.8.8",
   "mimetype": "text/x-python",
   "codemirror_mode": {
    "name": "ipython",
    "version": 3
   },
   "pygments_lexer": "ipython3",
   "nbconvert_exporter": "python",
   "file_extension": ".py"
  },
  "kernelspec": {
   "name": "python3",
   "display_name": "Python 3.8.8 64-bit ('py38': conda)"
  },
  "interpreter": {
   "hash": "33a3111211be4281f3a8c4a9b25563b8d253df502c7e31f5318895c1792a97cb"
  }
 },
 "nbformat": 4,
 "nbformat_minor": 2
}