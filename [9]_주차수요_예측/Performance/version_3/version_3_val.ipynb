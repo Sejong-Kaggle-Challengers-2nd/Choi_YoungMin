{
 "cells": [
  {
   "cell_type": "markdown",
   "source": [
    "# Version 3 Validation\r\n",
    "\r\n",
    "## 검증 내용\r\n",
    "\r\n",
    "> `Version 3`에서 적용한 아래 3가지의 전처리 방안을 각각 적용하여 성능의 변화를 살펴본다.\r\n",
    "\r\n",
    "1. [Test 1] Train에서 공급유형이 장기전세, 공공분양, 공공임대(5년)인 example을 아예 Drop한다.\r\n",
    "2. [Test 2] 각 단지코드 내에 임대건물구분 -> '아파트'이면 1, '상가&아파트'이면 0 으로 매핑\r\n",
    "3. [Test 3] '자격유형별 평균 임대료' feature 추가\r\n",
    "\r\n",
    "## 검증 순서\r\n",
    "\r\n",
    "1. **Version_3-1** : [Test 1] 만 적용\r\n",
    "2. **Version_3-2** : [Test 2] 만 적용\r\n",
    "3. **Version_3-3** : [Test 3] 만 적용\r\n",
    "4. **Version_3-4** : [Test 1] & [Test 2] 적용\r\n",
    "5. **Version_3-5** : [Test 1] & [Test 3] 적용\r\n",
    "6. **Version_3-6** : [Test 2] & [Test 3] 적용\r\n",
    "7. **Version_3-7** : 모든 전처리 방안 적용"
   ],
   "metadata": {}
  },
  {
   "cell_type": "markdown",
   "source": [
    "## Import Module"
   ],
   "metadata": {}
  },
  {
   "cell_type": "code",
   "execution_count": 1,
   "source": [
    "import pandas as pd\r\n",
    "import numpy as np\r\n",
    "from os.path import join as Join\r\n",
    "from tqdm.notebook import tqdm"
   ],
   "outputs": [],
   "metadata": {}
  },
  {
   "cell_type": "markdown",
   "source": [
    "## Data Load"
   ],
   "metadata": {}
  },
  {
   "cell_type": "code",
   "execution_count": 2,
   "source": [
    "DATA_ROOT = ''\r\n",
    "DATA_ROOT = Join(DATA_ROOT, '../../../../competition_data/parking_data/')\r\n",
    "\r\n",
    "TRAIN_ROOT = Join(DATA_ROOT, 'train.csv')\r\n",
    "TEST_ROOT = Join(DATA_ROOT, 'test.csv')\r\n",
    "SUBMISSION_ROOT = Join(DATA_ROOT, 'sample_submission.csv')\r\n",
    "\r\n",
    "print(f\"DATA_ROOT : {DATA_ROOT}\")\r\n",
    "print(f\"TRAIN_ROOT : {TRAIN_ROOT}\")\r\n",
    "print(f\"TEST_ROOT : {TEST_ROOT}\")\r\n",
    "print(f\"SUBMISSION_ROOT : {SUBMISSION_ROOT}\")"
   ],
   "outputs": [
    {
     "output_type": "stream",
     "name": "stdout",
     "text": [
      "DATA_ROOT : ../../../../competition_data/parking_data/\n",
      "TRAIN_ROOT : ../../../../competition_data/parking_data/train.csv\n",
      "TEST_ROOT : ../../../../competition_data/parking_data/test.csv\n",
      "SUBMISSION_ROOT : ../../../../competition_data/parking_data/sample_submission.csv\n"
     ]
    }
   ],
   "metadata": {}
  },
  {
   "cell_type": "code",
   "execution_count": 3,
   "source": [
    "train = pd.read_csv(TRAIN_ROOT)\r\n",
    "test = pd.read_csv(TEST_ROOT)\r\n",
    "submission = pd.read_csv(SUBMISSION_ROOT)\r\n",
    "\r\n",
    "print(\"Data Loaded!\")"
   ],
   "outputs": [
    {
     "output_type": "stream",
     "name": "stdout",
     "text": [
      "Data Loaded!\n"
     ]
    }
   ],
   "metadata": {}
  },
  {
   "cell_type": "markdown",
   "source": [
    "## Preprocessing (Version 1)"
   ],
   "metadata": {}
  },
  {
   "cell_type": "markdown",
   "source": [
    "### 지역명 숫자로 매핑"
   ],
   "metadata": {}
  },
  {
   "cell_type": "code",
   "execution_count": 4,
   "source": [
    "local_map = {}\r\n",
    "\r\n",
    "for i, loc in enumerate(train['지역'].unique()):\r\n",
    "    local_map[loc] = i\r\n",
    "\r\n",
    "train['지역'] = train['지역'].map(local_map)\r\n",
    "test['지역'] = test['지역'].map(local_map)"
   ],
   "outputs": [],
   "metadata": {}
  },
  {
   "cell_type": "markdown",
   "source": [
    "### 전용면적 처리"
   ],
   "metadata": {}
  },
  {
   "cell_type": "code",
   "execution_count": 5,
   "source": [
    "train['전용면적'] = train['전용면적']//5*5\r\n",
    "test['전용면적'] = test['전용면적']//5*5"
   ],
   "outputs": [],
   "metadata": {}
  },
  {
   "cell_type": "markdown",
   "source": [
    "## Preprocessing (Version 2)"
   ],
   "metadata": {}
  },
  {
   "cell_type": "markdown",
   "source": [
    "`'-'` -> NULL, dtype을 float으로 변경"
   ],
   "metadata": {}
  },
  {
   "cell_type": "code",
   "execution_count": 6,
   "source": [
    "columns = ['임대보증금', '임대료']\r\n",
    "\r\n",
    "for col in columns:\r\n",
    "    train.loc[train[col] == '-', col] = np.nan\r\n",
    "    test.loc[test[col] == '-', col] = np.nan\r\n",
    "\r\n",
    "    train[col] = train[col].astype(float)\r\n",
    "    test[col] = test[col].astype(float)"
   ],
   "outputs": [],
   "metadata": {}
  },
  {
   "cell_type": "markdown",
   "source": [
    "### NULL 값 처리"
   ],
   "metadata": {}
  },
  {
   "cell_type": "markdown",
   "source": [
    "#### **임대보증금, 임대료**"
   ],
   "metadata": {}
  },
  {
   "cell_type": "code",
   "execution_count": 7,
   "source": [
    "train[['임대보증금', '임대료']] = train[['임대보증금', '임대료']].fillna(0)\r\n",
    "test[['임대보증금', '임대료']] = test[['임대보증금', '임대료']].fillna(0)"
   ],
   "outputs": [],
   "metadata": {}
  },
  {
   "cell_type": "markdown",
   "source": [
    "#### **지하철, 버스**"
   ],
   "metadata": {}
  },
  {
   "cell_type": "code",
   "execution_count": 8,
   "source": [
    "cols = ['도보 10분거리 내 지하철역 수(환승노선 수 반영)', '도보 10분거리 내 버스정류장 수']\r\n",
    "train[cols] = train[cols].fillna(0)\r\n",
    "test[cols] = test[cols].fillna(0)"
   ],
   "outputs": [],
   "metadata": {}
  },
  {
   "cell_type": "markdown",
   "source": [
    "#### **자격유형**"
   ],
   "metadata": {}
  },
  {
   "cell_type": "code",
   "execution_count": 9,
   "source": [
    "test.loc[test.단지코드.isin(['C2411']) & test.자격유형.isnull(), '자격유형'] = 'A'\r\n",
    "test.loc[test.단지코드.isin(['C2253']) & test.자격유형.isnull(), '자격유형'] = 'C'"
   ],
   "outputs": [],
   "metadata": {}
  },
  {
   "cell_type": "markdown",
   "source": [
    "### 중복 example 제거"
   ],
   "metadata": {}
  },
  {
   "cell_type": "code",
   "execution_count": 10,
   "source": [
    "train = train.drop_duplicates()\r\n",
    "test = test.drop_duplicates()"
   ],
   "outputs": [],
   "metadata": {}
  },
  {
   "cell_type": "markdown",
   "source": [
    "### 자격유형 병합"
   ],
   "metadata": {}
  },
  {
   "cell_type": "code",
   "execution_count": 11,
   "source": [
    "train.loc[train.자격유형.isin(['J', 'L', 'K', 'N', 'M', 'O']), '자격유형'] = '행복주택_공급대상'\r\n",
    "test.loc[test.자격유형.isin(['J', 'L', 'K', 'N', 'M', 'O']), '자격유형'] = '행복주택_공급대상'\r\n",
    "\r\n",
    "train.loc[train.자격유형.isin(['H', 'B', 'E', 'G']), '자격유형'] = '국민임대_공급대상'\r\n",
    "test.loc[test.자격유형.isin(['H', 'B', 'E', 'G']), '자격유형'] = '국민임대_공급대상'\r\n",
    "\r\n",
    "train.loc[train.자격유형.isin(['C', 'I', 'F']), '자격유형'] = '영구임대_공급대상'\r\n",
    "test.loc[test.자격유형.isin(['C', 'I', 'F']), '자격유형'] = '영구임대_공급대상'"
   ],
   "outputs": [],
   "metadata": {}
  },
  {
   "cell_type": "markdown",
   "source": [
    "### 공급유형 병합"
   ],
   "metadata": {}
  },
  {
   "cell_type": "code",
   "execution_count": 12,
   "source": [
    "train.loc[train.공급유형.isin(['공공임대(10년)', '공공임대(분납)']), '공급유형'] = '공공임대(10년/분납)'\r\n",
    "test.loc[test.공급유형.isin(['공공임대(10년)', '공공임대(분납)']), '공급유형'] = '공공임대(10년/분납)'"
   ],
   "outputs": [],
   "metadata": {}
  },
  {
   "cell_type": "markdown",
   "source": [
    "## Preprocessing (Version 3)"
   ],
   "metadata": {}
  },
  {
   "cell_type": "markdown",
   "source": [
    "### **Versoin_3-1** : [Test 1] 만 적용\r\n",
    "\r\n",
    "- [Test 1] Train에서 공급유형이 장기전세, 공공분양, 공공임대(5년)인 example을 아예 Drop한다."
   ],
   "metadata": {}
  },
  {
   "cell_type": "code",
   "execution_count": 13,
   "source": [
    "idx = train[(train.공급유형 == '장기전세') | (train.공급유형 == '공공분양') | (train.공급유형 == '공공임대(5년)')].index\r\n",
    "version_3_1_train = train.drop(idx)\r\n",
    "\r\n",
    "version_3_1_train.공급유형.unique().tolist()"
   ],
   "outputs": [
    {
     "output_type": "execute_result",
     "data": {
      "text/plain": [
       "['국민임대', '공공임대(50년)', '영구임대', '임대상가', '공공임대(10년/분납)', '행복주택']"
      ]
     },
     "metadata": {},
     "execution_count": 13
    }
   ],
   "metadata": {}
  },
  {
   "cell_type": "markdown",
   "source": [
    "### **Version_3-2** : [Test 2] 만 적용\r\n",
    "\r\n",
    "- [Test 2] 각 단지코드 내에 임대건물구분 -> '아파트'이면 1, '상가&아파트'이면 0 으로 매핑"
   ],
   "metadata": {}
  },
  {
   "cell_type": "code",
   "execution_count": 14,
   "source": [
    "version_3_2_train = train.copy()\r\n",
    "\r\n",
    "codes = version_3_2_train.단지코드.unique().tolist()\r\n",
    "\r\n",
    "for code in tqdm(codes):\r\n",
    "    values = version_3_2_train.loc[version_3_2_train.단지코드 == code, '임대건물구분'].unique().tolist()\r\n",
    "\r\n",
    "    if '상가' in values:\r\n",
    "        version_3_2_train.loc[version_3_2_train.단지코드 == code, '임대건물구분'] = 0\r\n",
    "    else:\r\n",
    "        version_3_2_train.loc[version_3_2_train.단지코드 == code, '임대건물구분'] = 1"
   ],
   "outputs": [
    {
     "output_type": "display_data",
     "data": {
      "text/plain": [
       "  0%|          | 0/423 [00:00<?, ?it/s]"
      ],
      "application/vnd.jupyter.widget-view+json": {
       "version_major": 2,
       "version_minor": 0,
       "model_id": "ce6b1d61439345039293e8b13480d4f5"
      }
     },
     "metadata": {}
    }
   ],
   "metadata": {}
  },
  {
   "cell_type": "code",
   "execution_count": 15,
   "source": [
    "version_3_2_test = test.copy()\r\n",
    "\r\n",
    "codes = version_3_2_test.단지코드.unique().tolist()\r\n",
    "\r\n",
    "for code in tqdm(codes):\r\n",
    "    values = version_3_2_test.loc[version_3_2_test.단지코드 == code, '임대건물구분'].unique().tolist()\r\n",
    "\r\n",
    "    if '상가' in values:\r\n",
    "        version_3_2_test.loc[version_3_2_test.단지코드 == code, '임대건물구분'] = 0\r\n",
    "    else:\r\n",
    "        version_3_2_test.loc[version_3_2_test.단지코드 == code, '임대건물구분'] = 1"
   ],
   "outputs": [
    {
     "output_type": "display_data",
     "data": {
      "text/plain": [
       "  0%|          | 0/150 [00:00<?, ?it/s]"
      ],
      "application/vnd.jupyter.widget-view+json": {
       "version_major": 2,
       "version_minor": 0,
       "model_id": "c8f99df86e4d4718830ffd0c452d403f"
      }
     },
     "metadata": {}
    }
   ],
   "metadata": {}
  },
  {
   "cell_type": "markdown",
   "source": [
    "### **Version_3-3** : [Test 3] 만 적용\r\n",
    "\r\n",
    "- [Test 3] '자격유형별 평균 임대료' feature 추가"
   ],
   "metadata": {}
  },
  {
   "cell_type": "code",
   "execution_count": 16,
   "source": [
    "version_3_3_train = train.copy()\r\n",
    "\r\n",
    "qualifies = version_3_3_train.자격유형.unique().tolist()\r\n",
    "\r\n",
    "for qualify in tqdm(qualifies):\r\n",
    "    version_3_3_train.loc[version_3_3_train.자격유형 == qualify, '평균임대료(자격유형)'] = version_3_3_train.loc[version_3_3_train.자격유형 == qualify, '임대료'].mean()"
   ],
   "outputs": [
    {
     "output_type": "display_data",
     "data": {
      "text/plain": [
       "  0%|          | 0/5 [00:00<?, ?it/s]"
      ],
      "application/vnd.jupyter.widget-view+json": {
       "version_major": 2,
       "version_minor": 0,
       "model_id": "7b5ec3e3ccdb47558cbb8e4ce9a18b29"
      }
     },
     "metadata": {}
    }
   ],
   "metadata": {}
  },
  {
   "cell_type": "code",
   "execution_count": 17,
   "source": [
    "version_3_3_test = test.copy()\r\n",
    "\r\n",
    "qualifies = version_3_3_test.자격유형.unique().tolist()\r\n",
    "\r\n",
    "for qualify in tqdm(qualifies):\r\n",
    "    version_3_3_test.loc[version_3_3_test.자격유형 == qualify, '평균임대료(자격유형)'] = version_3_3_test.loc[version_3_3_test.자격유형 == qualify, '임대료'].mean()"
   ],
   "outputs": [
    {
     "output_type": "display_data",
     "data": {
      "text/plain": [
       "  0%|          | 0/5 [00:00<?, ?it/s]"
      ],
      "application/vnd.jupyter.widget-view+json": {
       "version_major": 2,
       "version_minor": 0,
       "model_id": "2079c3eb97ba43e1bdee2d00a384547d"
      }
     },
     "metadata": {}
    }
   ],
   "metadata": {}
  },
  {
   "cell_type": "markdown",
   "source": [
    "### **Versoin_3_4** : [Test 1] & [Test 2] 적용\r\n",
    "\r\n",
    "- [Test 1] Train에서 공급유형이 장기전세, 공공분양, 공공임대(5년)인 example을 아예 Drop한다.\r\n",
    "- [Test 2] 각 단지코드 내에 임대건물구분 -> '아파트'이면 1, '상가&아파트'이면 0 으로 매핑"
   ],
   "metadata": {}
  },
  {
   "cell_type": "markdown",
   "source": [
    "#### [Test 1]"
   ],
   "metadata": {}
  },
  {
   "cell_type": "code",
   "execution_count": 18,
   "source": [
    "idx = train[(train.공급유형 == '장기전세') | (train.공급유형 == '공공분양') | (train.공급유형 == '공공임대(5년)')].index\r\n",
    "version_3_4_train = train.drop(idx)\r\n",
    "\r\n",
    "version_3_4_train.공급유형.unique().tolist()"
   ],
   "outputs": [
    {
     "output_type": "execute_result",
     "data": {
      "text/plain": [
       "['국민임대', '공공임대(50년)', '영구임대', '임대상가', '공공임대(10년/분납)', '행복주택']"
      ]
     },
     "metadata": {},
     "execution_count": 18
    }
   ],
   "metadata": {}
  },
  {
   "cell_type": "markdown",
   "source": [
    "#### [Test 2]"
   ],
   "metadata": {}
  },
  {
   "cell_type": "code",
   "execution_count": 19,
   "source": [
    "codes = version_3_4_train.단지코드.unique().tolist()\r\n",
    "\r\n",
    "for code in tqdm(codes):\r\n",
    "    values = version_3_4_train.loc[version_3_4_train.단지코드 == code, '임대건물구분'].unique().tolist()\r\n",
    "\r\n",
    "    if '상가' in values :\r\n",
    "        version_3_4_train.loc[version_3_4_train.단지코드 == code, '임대건물구분'] = 0\r\n",
    "    else :\r\n",
    "        version_3_4_train.loc[version_3_4_train.단지코드 == code, '임대건물구분'] = 0"
   ],
   "outputs": [
    {
     "output_type": "display_data",
     "data": {
      "text/plain": [
       "  0%|          | 0/421 [00:00<?, ?it/s]"
      ],
      "application/vnd.jupyter.widget-view+json": {
       "version_major": 2,
       "version_minor": 0,
       "model_id": "e05bcd9372524aecabb3643195791800"
      }
     },
     "metadata": {}
    }
   ],
   "metadata": {}
  },
  {
   "cell_type": "code",
   "execution_count": 20,
   "source": [
    "version_3_4_test = test.copy()\r\n",
    "\r\n",
    "codes = version_3_4_test.단지코드.unique().tolist()\r\n",
    "\r\n",
    "for code in tqdm(codes):\r\n",
    "    values = version_3_4_test.loc[version_3_4_test.단지코드 == code, '임대건물구분'].unique().tolist()\r\n",
    "\r\n",
    "    if '상가' in values:\r\n",
    "        version_3_4_test.loc[version_3_4_test.단지코드 == code, '임대건물구분'] == 0\r\n",
    "    else:\r\n",
    "        version_3_4_test.loc[version_3_4_test.단지코드 == code, '임대건물구분'] == 1"
   ],
   "outputs": [
    {
     "output_type": "display_data",
     "data": {
      "text/plain": [
       "  0%|          | 0/150 [00:00<?, ?it/s]"
      ],
      "application/vnd.jupyter.widget-view+json": {
       "version_major": 2,
       "version_minor": 0,
       "model_id": "89a5092a898b40dc8f2badf1efb94e72"
      }
     },
     "metadata": {}
    }
   ],
   "metadata": {}
  },
  {
   "cell_type": "markdown",
   "source": [
    "### **Version_3_5** : [Test 1] & [Test 3] 적용\r\n",
    "\r\n",
    "- [Test 1] Train에서 공급유형이 장기전세, 공공분양, 공공임대(5년)인 example을 아예 Drop한다.\r\n",
    "- [Test 3] '자격유형별 평균 임대료' feature 추가"
   ],
   "metadata": {}
  },
  {
   "cell_type": "markdown",
   "source": [
    "#### [Test 1]"
   ],
   "metadata": {}
  },
  {
   "cell_type": "code",
   "execution_count": 21,
   "source": [
    "idx = train[(train.공급유형 == '장기전세') | (train.공급유형 == '공공분양') | (train.공급유형 == '공공임대(5년)')].index\r\n",
    "version_3_5_train = train.drop(idx)\r\n",
    "\r\n",
    "version_3_5_train.공급유형.unique().tolist()"
   ],
   "outputs": [
    {
     "output_type": "execute_result",
     "data": {
      "text/plain": [
       "['국민임대', '공공임대(50년)', '영구임대', '임대상가', '공공임대(10년/분납)', '행복주택']"
      ]
     },
     "metadata": {},
     "execution_count": 21
    }
   ],
   "metadata": {}
  },
  {
   "cell_type": "markdown",
   "source": [
    "#### [Test 3]"
   ],
   "metadata": {}
  },
  {
   "cell_type": "code",
   "execution_count": 22,
   "source": [
    "qualifies = version_3_5_train.자격유형.unique().tolist()\r\n",
    "\r\n",
    "for qualify in tqdm(qualifies):\r\n",
    "    version_3_5_train.loc[version_3_5_train.자격유형 == qualify, '평균임대료(자격유형)'] = version_3_5_train.loc[version_3_5_train.자격유형 == qualify, '임대료'].mean()"
   ],
   "outputs": [
    {
     "output_type": "display_data",
     "data": {
      "text/plain": [
       "  0%|          | 0/5 [00:00<?, ?it/s]"
      ],
      "application/vnd.jupyter.widget-view+json": {
       "version_major": 2,
       "version_minor": 0,
       "model_id": "87cdb7bc0141490ab338844651b74ca1"
      }
     },
     "metadata": {}
    }
   ],
   "metadata": {}
  },
  {
   "cell_type": "code",
   "execution_count": 23,
   "source": [
    "version_3_5_test = test.copy()\r\n",
    "\r\n",
    "qualifies = version_3_5_test.자격유형.unique().tolist()\r\n",
    "\r\n",
    "for qulify in tqdm(qualifies):\r\n",
    "    version_3_5_test.loc[version_3_5_test.자격유형 == qualify, '평균임대료(자격유형)'] = version_3_5_test.loc[version_3_5_test.자격유형 == qualify, '임대료'].mean()"
   ],
   "outputs": [
    {
     "output_type": "display_data",
     "data": {
      "text/plain": [
       "  0%|          | 0/5 [00:00<?, ?it/s]"
      ],
      "application/vnd.jupyter.widget-view+json": {
       "version_major": 2,
       "version_minor": 0,
       "model_id": "7610c1af2ece4934b2e2b36dcefc5e87"
      }
     },
     "metadata": {}
    }
   ],
   "metadata": {}
  },
  {
   "cell_type": "markdown",
   "source": [
    "### **Version_3-6** : [Test 2] & [Test 3] 적용\r\n",
    "\r\n",
    "- [Test 2] 각 단지코드 내에 임대건물구분 -> '아파트'이면 1, '상가&아파트'이면 0 으로 매핑\r\n",
    "- [Test 3] '자격유형별 평균 임대료' feature 추가"
   ],
   "metadata": {}
  },
  {
   "cell_type": "markdown",
   "source": [
    "#### [Test 2]"
   ],
   "metadata": {}
  },
  {
   "cell_type": "code",
   "execution_count": 24,
   "source": [
    "version_3_6_train = train.copy()\r\n",
    "\r\n",
    "codes = version_3_6_train.단지코드.unique().tolist()\r\n",
    "\r\n",
    "for code in tqdm(codes):\r\n",
    "    values = version_3_6_train.loc[version_3_6_train.단지코드 == code, '임대건물구분'].unique().tolist()\r\n",
    "\r\n",
    "    if '상가' in values:\r\n",
    "        version_3_6_train.loc[version_3_6_train.단지코드 == code, '임대건물구분'] = 0\r\n",
    "    else :\r\n",
    "        version_3_6_train.loc[version_3_6_train.단지코드 == code, '임대건물구분'] = 1"
   ],
   "outputs": [
    {
     "output_type": "display_data",
     "data": {
      "text/plain": [
       "  0%|          | 0/423 [00:00<?, ?it/s]"
      ],
      "application/vnd.jupyter.widget-view+json": {
       "version_major": 2,
       "version_minor": 0,
       "model_id": "571b7423d3e34c2bb2802449a4b05857"
      }
     },
     "metadata": {}
    }
   ],
   "metadata": {}
  },
  {
   "cell_type": "code",
   "execution_count": 25,
   "source": [
    "version_3_6_test = test.copy()\r\n",
    "\r\n",
    "codes = version_3_6_test.단지코드.unique().tolist()\r\n",
    "\r\n",
    "for code in tqdm(codes):\r\n",
    "    values = version_3_6_test.loc[version_3_6_test.단지코드 == code, '임대건물구분'].unique().tolist()\r\n",
    "\r\n",
    "    if '상가' in values:\r\n",
    "        version_3_6_test.loc[version_3_6_test.단지코드 == code, '임대건물구분'] = 0\r\n",
    "    else:\r\n",
    "        version_3_6_test.loc[version_3_6_test.단지코드 == code, '임대건물구분'] = 1"
   ],
   "outputs": [
    {
     "output_type": "display_data",
     "data": {
      "text/plain": [
       "  0%|          | 0/150 [00:00<?, ?it/s]"
      ],
      "application/vnd.jupyter.widget-view+json": {
       "version_major": 2,
       "version_minor": 0,
       "model_id": "c2e86a64bbb5487f99e1a528203b088c"
      }
     },
     "metadata": {}
    }
   ],
   "metadata": {}
  },
  {
   "cell_type": "markdown",
   "source": [
    "#### [Test 3]"
   ],
   "metadata": {}
  },
  {
   "cell_type": "code",
   "execution_count": 26,
   "source": [
    "qualifies = version_3_6_train.자격유형.unique().tolist()\r\n",
    "\r\n",
    "for qualify in tqdm(qualifies):\r\n",
    "    version_3_6_train.loc[version_3_6_train.자격유형 == qualify, '평균임대료(자격유형)'] = version_3_6_train.loc[version_3_6_train.자격유형 == qualify, '임대료'].mean()"
   ],
   "outputs": [
    {
     "output_type": "display_data",
     "data": {
      "text/plain": [
       "  0%|          | 0/5 [00:00<?, ?it/s]"
      ],
      "application/vnd.jupyter.widget-view+json": {
       "version_major": 2,
       "version_minor": 0,
       "model_id": "9ee927fe70c24b1cadf7a40046c127c3"
      }
     },
     "metadata": {}
    }
   ],
   "metadata": {}
  },
  {
   "cell_type": "code",
   "execution_count": 27,
   "source": [
    "qualifies = version_3_6_test.자격유형.unique().tolist()\r\n",
    "\r\n",
    "for qulify in tqdm(qualifies):\r\n",
    "    version_3_6_test.loc[version_3_6_test.자격유형 == qualify, '평균임대료(자격유형)'] = version_3_6_test.loc[version_3_6_test.자격유형 == qualify, '임대료'].mean()"
   ],
   "outputs": [
    {
     "output_type": "display_data",
     "data": {
      "text/plain": [
       "  0%|          | 0/5 [00:00<?, ?it/s]"
      ],
      "application/vnd.jupyter.widget-view+json": {
       "version_major": 2,
       "version_minor": 0,
       "model_id": "cc03fda81129458c8630a125fbe2a69c"
      }
     },
     "metadata": {}
    }
   ],
   "metadata": {}
  },
  {
   "cell_type": "markdown",
   "source": [
    "### **Version_3-7** : 모든 전처리 방안 적용\r\n",
    "\r\n",
    "- [Test 1] Train에서 공급유형이 장기전세, 공공분양, 공공임대(5년)인 example을 아예 Drop한다.\r\n",
    "- [Test 2] 각 단지코드 내에 임대건물구분 -> '아파트'이면 1, '상가&아파트'이면 0 으로 매핑\r\n",
    "- [Test 3] '자격유형별 평균 임대료' feature 추가"
   ],
   "metadata": {}
  },
  {
   "cell_type": "markdown",
   "source": [
    "#### [Test 1]"
   ],
   "metadata": {}
  },
  {
   "cell_type": "code",
   "execution_count": 28,
   "source": [
    "idx = train[(train.공급유형 == '장기전세') | (train.공급유형 == '공공분양') | (train.공급유형 == '공공임대(5년)')].index\r\n",
    "version_3_7_train = train.drop(idx)\r\n",
    "\r\n",
    "version_3_7_train.공급유형.unique().tolist()"
   ],
   "outputs": [
    {
     "output_type": "execute_result",
     "data": {
      "text/plain": [
       "['국민임대', '공공임대(50년)', '영구임대', '임대상가', '공공임대(10년/분납)', '행복주택']"
      ]
     },
     "metadata": {},
     "execution_count": 28
    }
   ],
   "metadata": {}
  },
  {
   "cell_type": "markdown",
   "source": [
    "#### [Test 2]"
   ],
   "metadata": {}
  },
  {
   "cell_type": "code",
   "execution_count": 29,
   "source": [
    "codes = version_3_7_train.단지코드.unique().tolist()\r\n",
    "\r\n",
    "for code in tqdm(codes):\r\n",
    "    values = version_3_7_train.loc[version_3_7_train.단지코드 == code, '임대건물구분'].unique().tolist()\r\n",
    "\r\n",
    "    if '상가' in values:\r\n",
    "        version_3_7_train.loc[version_3_7_train.단지코드 == code, '임대건물구분'] = 0\r\n",
    "    else :\r\n",
    "        version_3_7_train.loc[version_3_7_train.단지코드 == code, '임대건물구분'] = 1"
   ],
   "outputs": [
    {
     "output_type": "display_data",
     "data": {
      "text/plain": [
       "  0%|          | 0/421 [00:00<?, ?it/s]"
      ],
      "application/vnd.jupyter.widget-view+json": {
       "version_major": 2,
       "version_minor": 0,
       "model_id": "2b4f4cbc1cd241eb973b5dac34c63059"
      }
     },
     "metadata": {}
    }
   ],
   "metadata": {}
  },
  {
   "cell_type": "code",
   "execution_count": 30,
   "source": [
    "version_3_7_test = test.copy()\r\n",
    "\r\n",
    "codes = version_3_7_test.단지코드.unique().tolist()\r\n",
    "\r\n",
    "for code in tqdm(codes):\r\n",
    "    values = version_3_7_test.loc[version_3_7_test.단지코드 == code, '임대건물구분'].unique().tolist()\r\n",
    "\r\n",
    "    if '상가' in values:\r\n",
    "        version_3_7_test.loc[version_3_7_test.단지코드 == code, '임대건물구분'] = 0\r\n",
    "    else:\r\n",
    "        version_3_7_test.loc[version_3_7_test.단지코드 == code, '임대건물구분'] = 1"
   ],
   "outputs": [
    {
     "output_type": "display_data",
     "data": {
      "text/plain": [
       "  0%|          | 0/150 [00:00<?, ?it/s]"
      ],
      "application/vnd.jupyter.widget-view+json": {
       "version_major": 2,
       "version_minor": 0,
       "model_id": "758787637f90472897e7bd5acb702cec"
      }
     },
     "metadata": {}
    }
   ],
   "metadata": {}
  },
  {
   "cell_type": "markdown",
   "source": [
    "#### [Test 3]"
   ],
   "metadata": {}
  },
  {
   "cell_type": "code",
   "execution_count": 31,
   "source": [
    "qualifies = version_3_7_train.자격유형.unique().tolist()\r\n",
    "\r\n",
    "for qualify in tqdm(qualifies):\r\n",
    "    version_3_7_train.loc[version_3_7_train.자격유형 == qualify, '평균임대료(자격유형)'] = version_3_7_train.loc[version_3_7_train.자격유형 == qualify, '임대료'].mean()"
   ],
   "outputs": [
    {
     "output_type": "display_data",
     "data": {
      "text/plain": [
       "  0%|          | 0/5 [00:00<?, ?it/s]"
      ],
      "application/vnd.jupyter.widget-view+json": {
       "version_major": 2,
       "version_minor": 0,
       "model_id": "d45a069b70da42d8b8144d0d3ca7ff1f"
      }
     },
     "metadata": {}
    }
   ],
   "metadata": {}
  },
  {
   "cell_type": "code",
   "execution_count": 32,
   "source": [
    "qualifies = version_3_7_test.자격유형.unique().tolist()\r\n",
    "\r\n",
    "for qulify in tqdm(qualifies):\r\n",
    "    version_3_7_test.loc[version_3_7_test.자격유형 == qualify, '평균임대료(자격유형)'] = version_3_7_test.loc[version_3_7_test.자격유형 == qualify, '임대료'].mean()"
   ],
   "outputs": [
    {
     "output_type": "display_data",
     "data": {
      "text/plain": [
       "  0%|          | 0/5 [00:00<?, ?it/s]"
      ],
      "application/vnd.jupyter.widget-view+json": {
       "version_major": 2,
       "version_minor": 0,
       "model_id": "abc93a54dde9420b986ea372095d4664"
      }
     },
     "metadata": {}
    }
   ],
   "metadata": {}
  },
  {
   "cell_type": "markdown",
   "source": [
    "## Aggregation"
   ],
   "metadata": {}
  },
  {
   "cell_type": "markdown",
   "source": [
    "### 단지코드 별로 모두 같은 값을 가지는 feature"
   ],
   "metadata": {}
  },
  {
   "cell_type": "code",
   "execution_count": 33,
   "source": [
    "unique_cols = ['총세대수', '지역', '공가수', '도보 10분거리 내 지하철역 수(환승노선 수 반영)', '도보 10분거리 내 버스정류장 수', '단지내주차면수', '등록차량수']\r\n",
    "\r\n",
    "train_eq = train.set_index('단지코드')[unique_cols].drop_duplicates()\r\n",
    "test_eq = test.set_index('단지코드')[[col for col in unique_cols if col != '등록차량수']].drop_duplicates()"
   ],
   "outputs": [],
   "metadata": {}
  },
  {
   "cell_type": "code",
   "execution_count": 34,
   "source": [
    "train_eq"
   ],
   "outputs": [
    {
     "output_type": "execute_result",
     "data": {
      "text/plain": [
       "       총세대수  지역   공가수  도보 10분거리 내 지하철역 수(환승노선 수 반영)  도보 10분거리 내 버스정류장 수  \\\n",
       "단지코드                                                                      \n",
       "C2483   900   0  38.0                           0.0                 3.0   \n",
       "C2515   545   1  17.0                           0.0                 3.0   \n",
       "C1407  1216   2  13.0                           1.0                 1.0   \n",
       "C1945   755   3   6.0                           1.0                 3.0   \n",
       "C1470   696   4  14.0                           0.0                 2.0   \n",
       "...     ...  ..   ...                           ...                 ...   \n",
       "C2586    90   9   7.0                           0.0                 3.0   \n",
       "C2035   492   5  24.0                           0.0                 1.0   \n",
       "C2020    40   8   7.0                           1.0                 2.0   \n",
       "C2437    90  11  12.0                           0.0                 1.0   \n",
       "C2532   239   5   7.0                           0.0                 1.0   \n",
       "\n",
       "       단지내주차면수   등록차량수  \n",
       "단지코드                    \n",
       "C2483   1425.0  1015.0  \n",
       "C2515    624.0   205.0  \n",
       "C1407   1285.0  1064.0  \n",
       "C1945    734.0   730.0  \n",
       "C1470    645.0   553.0  \n",
       "...        ...     ...  \n",
       "C2586     66.0    57.0  \n",
       "C2035    521.0   246.0  \n",
       "C2020     25.0    19.0  \n",
       "C2437     30.0    16.0  \n",
       "C2532    166.0   146.0  \n",
       "\n",
       "[423 rows x 7 columns]"
      ],
      "text/html": [
       "<div>\n",
       "<style scoped>\n",
       "    .dataframe tbody tr th:only-of-type {\n",
       "        vertical-align: middle;\n",
       "    }\n",
       "\n",
       "    .dataframe tbody tr th {\n",
       "        vertical-align: top;\n",
       "    }\n",
       "\n",
       "    .dataframe thead th {\n",
       "        text-align: right;\n",
       "    }\n",
       "</style>\n",
       "<table border=\"1\" class=\"dataframe\">\n",
       "  <thead>\n",
       "    <tr style=\"text-align: right;\">\n",
       "      <th></th>\n",
       "      <th>총세대수</th>\n",
       "      <th>지역</th>\n",
       "      <th>공가수</th>\n",
       "      <th>도보 10분거리 내 지하철역 수(환승노선 수 반영)</th>\n",
       "      <th>도보 10분거리 내 버스정류장 수</th>\n",
       "      <th>단지내주차면수</th>\n",
       "      <th>등록차량수</th>\n",
       "    </tr>\n",
       "    <tr>\n",
       "      <th>단지코드</th>\n",
       "      <th></th>\n",
       "      <th></th>\n",
       "      <th></th>\n",
       "      <th></th>\n",
       "      <th></th>\n",
       "      <th></th>\n",
       "      <th></th>\n",
       "    </tr>\n",
       "  </thead>\n",
       "  <tbody>\n",
       "    <tr>\n",
       "      <th>C2483</th>\n",
       "      <td>900</td>\n",
       "      <td>0</td>\n",
       "      <td>38.0</td>\n",
       "      <td>0.0</td>\n",
       "      <td>3.0</td>\n",
       "      <td>1425.0</td>\n",
       "      <td>1015.0</td>\n",
       "    </tr>\n",
       "    <tr>\n",
       "      <th>C2515</th>\n",
       "      <td>545</td>\n",
       "      <td>1</td>\n",
       "      <td>17.0</td>\n",
       "      <td>0.0</td>\n",
       "      <td>3.0</td>\n",
       "      <td>624.0</td>\n",
       "      <td>205.0</td>\n",
       "    </tr>\n",
       "    <tr>\n",
       "      <th>C1407</th>\n",
       "      <td>1216</td>\n",
       "      <td>2</td>\n",
       "      <td>13.0</td>\n",
       "      <td>1.0</td>\n",
       "      <td>1.0</td>\n",
       "      <td>1285.0</td>\n",
       "      <td>1064.0</td>\n",
       "    </tr>\n",
       "    <tr>\n",
       "      <th>C1945</th>\n",
       "      <td>755</td>\n",
       "      <td>3</td>\n",
       "      <td>6.0</td>\n",
       "      <td>1.0</td>\n",
       "      <td>3.0</td>\n",
       "      <td>734.0</td>\n",
       "      <td>730.0</td>\n",
       "    </tr>\n",
       "    <tr>\n",
       "      <th>C1470</th>\n",
       "      <td>696</td>\n",
       "      <td>4</td>\n",
       "      <td>14.0</td>\n",
       "      <td>0.0</td>\n",
       "      <td>2.0</td>\n",
       "      <td>645.0</td>\n",
       "      <td>553.0</td>\n",
       "    </tr>\n",
       "    <tr>\n",
       "      <th>...</th>\n",
       "      <td>...</td>\n",
       "      <td>...</td>\n",
       "      <td>...</td>\n",
       "      <td>...</td>\n",
       "      <td>...</td>\n",
       "      <td>...</td>\n",
       "      <td>...</td>\n",
       "    </tr>\n",
       "    <tr>\n",
       "      <th>C2586</th>\n",
       "      <td>90</td>\n",
       "      <td>9</td>\n",
       "      <td>7.0</td>\n",
       "      <td>0.0</td>\n",
       "      <td>3.0</td>\n",
       "      <td>66.0</td>\n",
       "      <td>57.0</td>\n",
       "    </tr>\n",
       "    <tr>\n",
       "      <th>C2035</th>\n",
       "      <td>492</td>\n",
       "      <td>5</td>\n",
       "      <td>24.0</td>\n",
       "      <td>0.0</td>\n",
       "      <td>1.0</td>\n",
       "      <td>521.0</td>\n",
       "      <td>246.0</td>\n",
       "    </tr>\n",
       "    <tr>\n",
       "      <th>C2020</th>\n",
       "      <td>40</td>\n",
       "      <td>8</td>\n",
       "      <td>7.0</td>\n",
       "      <td>1.0</td>\n",
       "      <td>2.0</td>\n",
       "      <td>25.0</td>\n",
       "      <td>19.0</td>\n",
       "    </tr>\n",
       "    <tr>\n",
       "      <th>C2437</th>\n",
       "      <td>90</td>\n",
       "      <td>11</td>\n",
       "      <td>12.0</td>\n",
       "      <td>0.0</td>\n",
       "      <td>1.0</td>\n",
       "      <td>30.0</td>\n",
       "      <td>16.0</td>\n",
       "    </tr>\n",
       "    <tr>\n",
       "      <th>C2532</th>\n",
       "      <td>239</td>\n",
       "      <td>5</td>\n",
       "      <td>7.0</td>\n",
       "      <td>0.0</td>\n",
       "      <td>1.0</td>\n",
       "      <td>166.0</td>\n",
       "      <td>146.0</td>\n",
       "    </tr>\n",
       "  </tbody>\n",
       "</table>\n",
       "<p>423 rows × 7 columns</p>\n",
       "</div>"
      ]
     },
     "metadata": {},
     "execution_count": 34
    }
   ],
   "metadata": {}
  },
  {
   "cell_type": "markdown",
   "source": [
    "### 단지코드 별로 다양한 값을 가지는 feature"
   ],
   "metadata": {}
  },
  {
   "cell_type": "markdown",
   "source": [
    "#### feature reshape 함수 정의"
   ],
   "metadata": {}
  },
  {
   "cell_type": "code",
   "execution_count": 35,
   "source": [
    "def reshape_cat_features(data, cast_col, value_col):\r\n",
    "    res = data.drop_duplicates(['단지코드', cast_col]).assign(counter=1).pivot(index='단지코드', columns=cast_col, values=value_col).fillna(0)\r\n",
    "    res.columns.name = None\r\n",
    "    res = res.rename(columns={col:cast_col+'_'+col for col in res.columns})\r\n",
    "    return res"
   ],
   "outputs": [],
   "metadata": {}
  },
  {
   "cell_type": "markdown",
   "source": [
    "#### **Version_3-1** : [Test 1]"
   ],
   "metadata": {}
  },
  {
   "cell_type": "code",
   "execution_count": 36,
   "source": [
    "version_3_1_train = version_3_1_train.drop(unique_cols, axis=1)\r\n",
    "version_3_1_test = test.drop([col for col in unique_cols if col != '등록차량수'], axis=1)"
   ],
   "outputs": [],
   "metadata": {}
  },
  {
   "cell_type": "code",
   "execution_count": 37,
   "source": [
    "version_3_1_train = pd.concat([train_eq, \\\r\n",
    "    reshape_cat_features(data=version_3_1_train, cast_col='임대건물구분', value_col='counter'),\r\n",
    "    reshape_cat_features(data=version_3_1_train, cast_col='공급유형', value_col='counter'),\r\n",
    "    reshape_cat_features(data=version_3_1_train, cast_col='자격유형', value_col='counter')], axis=1)"
   ],
   "outputs": [],
   "metadata": {}
  },
  {
   "cell_type": "code",
   "execution_count": 38,
   "source": [
    "version_3_1_test = pd.concat([test_eq, \\\r\n",
    "    reshape_cat_features(data=version_3_1_test, cast_col='임대건물구분', value_col='counter'),\r\n",
    "    reshape_cat_features(data=version_3_1_test, cast_col='공급유형', value_col='counter'),\r\n",
    "    reshape_cat_features(data=version_3_1_test, cast_col='자격유형', value_col='counter')], axis=1)"
   ],
   "outputs": [],
   "metadata": {}
  },
  {
   "cell_type": "markdown",
   "source": [
    "#### Version_3-2 : [Test 2]"
   ],
   "metadata": {}
  },
  {
   "cell_type": "code",
   "execution_count": 39,
   "source": [
    "version_3_2_train = version_3_2_train.drop(unique_cols, axis=1)\r\n",
    "version_3_2_test = version_3_2_test.drop([col for col in unique_cols if col != '등록차량수'], axis=1)"
   ],
   "outputs": [],
   "metadata": {}
  },
  {
   "cell_type": "code",
   "execution_count": 40,
   "source": [
    "version_3_2_train = pd.concat([train_eq, version_3_2_train[['단지코드', '임대건물구분']].drop_duplicates().set_index('단지코드'), \\\r\n",
    "    reshape_cat_features(data=version_3_2_train, cast_col='공급유형', value_col='counter'),\r\n",
    "    reshape_cat_features(data=version_3_2_train, cast_col='자격유형', value_col='counter')], axis=1)"
   ],
   "outputs": [],
   "metadata": {}
  },
  {
   "cell_type": "code",
   "execution_count": 41,
   "source": [
    "version_3_2_test = pd.concat([test_eq, version_3_2_test[['단지코드', '임대건물구분']].drop_duplicates().set_index('단지코드'), \\\r\n",
    "    reshape_cat_features(data=version_3_2_test, cast_col='공급유형', value_col='counter'),\r\n",
    "    reshape_cat_features(data=version_3_2_test, cast_col='자격유형', value_col='counter')], axis=1)"
   ],
   "outputs": [],
   "metadata": {}
  },
  {
   "cell_type": "markdown",
   "source": [
    "#### Version_3-3 : [Test 3]"
   ],
   "metadata": {}
  },
  {
   "cell_type": "code",
   "execution_count": 42,
   "source": [
    "version_3_3_train = version_3_3_train.drop(unique_cols, axis=1)\r\n",
    "version_3_3_test = version_3_3_test.drop([col for col in cols if col != '등록차량수'], axis=1)"
   ],
   "outputs": [],
   "metadata": {}
  },
  {
   "cell_type": "code",
   "execution_count": 43,
   "source": [
    "mean_vals = version_3_3_train[['단지코드', '임대료', '평균임대료(자격유형)']].copy()\r\n",
    "\r\n",
    "codes = mean_vals.단지코드.unique().tolist()\r\n",
    "\r\n",
    "for code in tqdm(codes):\r\n",
    "    mean_vals.loc[mean_vals.단지코드 == code, '평균임대료(자격유형)'] = mean_vals.loc[mean_vals.단지코드 == code, '평균임대료(자격유형)'].mean()\r\n",
    "    mean_vals.loc[mean_vals.단지코드 == code, '임대료'] = mean_vals.loc[mean_vals.단지코드 == code, '임대료'].mean()\r\n",
    "\r\n",
    "mean_vals = mean_vals.drop_duplicates().set_index('단지코드')"
   ],
   "outputs": [
    {
     "output_type": "display_data",
     "data": {
      "text/plain": [
       "  0%|          | 0/423 [00:00<?, ?it/s]"
      ],
      "application/vnd.jupyter.widget-view+json": {
       "version_major": 2,
       "version_minor": 0,
       "model_id": "0c2defb9469d42f39ed68c730fefbf17"
      }
     },
     "metadata": {}
    }
   ],
   "metadata": {}
  },
  {
   "cell_type": "code",
   "execution_count": 44,
   "source": [
    "version_3_3_train = pd.concat([train_eq, mean_vals, \\\r\n",
    "    reshape_cat_features(data=version_3_3_train, cast_col='임대건물구분', value_col='counter'),\r\n",
    "    reshape_cat_features(data=version_3_3_train, cast_col='공급유형', value_col='counter'),\r\n",
    "    reshape_cat_features(data=version_3_3_train, cast_col='자격유형', value_col='counter')], axis=1)"
   ],
   "outputs": [],
   "metadata": {}
  },
  {
   "cell_type": "code",
   "execution_count": 45,
   "source": [
    "mean_vals = version_3_3_test[['단지코드', '임대료', '평균임대료(자격유형)']].copy()\r\n",
    "\r\n",
    "codes = mean_vals.단지코드.unique().tolist()\r\n",
    "\r\n",
    "for code in tqdm(codes):\r\n",
    "    mean_vals.loc[mean_vals.단지코드 == code, '평균임대료(자격유형)'] = mean_vals.loc[mean_vals.단지코드 == code, '평균임대료(자격유형)'].mean()\r\n",
    "    mean_vals.loc[mean_vals.단지코드 == code, '임대료'] = mean_vals.loc[mean_vals.단지코드 == code, '임대료'].mean()\r\n",
    "\r\n",
    "mean_vals = mean_vals.drop_duplicates().set_index('단지코드')"
   ],
   "outputs": [
    {
     "output_type": "display_data",
     "data": {
      "text/plain": [
       "  0%|          | 0/150 [00:00<?, ?it/s]"
      ],
      "application/vnd.jupyter.widget-view+json": {
       "version_major": 2,
       "version_minor": 0,
       "model_id": "08919afd9684473dafcf2642d7b55bca"
      }
     },
     "metadata": {}
    }
   ],
   "metadata": {}
  },
  {
   "cell_type": "code",
   "execution_count": 46,
   "source": [
    "version_3_3_train = pd.concat([test_eq, mean_vals, \\\r\n",
    "    reshape_cat_features(data=version_3_3_test, cast_col='임대건물구분', value_col='counter'),\r\n",
    "    reshape_cat_features(data=version_3_3_test, cast_col='공급유형', value_col='counter'),\r\n",
    "    reshape_cat_features(data=version_3_3_test, cast_col='자격유형', value_col='counter')], axis=1)"
   ],
   "outputs": [],
   "metadata": {}
  },
  {
   "cell_type": "markdown",
   "source": [
    "#### Version_3-4 : [Test 1] & [Test 2]"
   ],
   "metadata": {}
  },
  {
   "cell_type": "code",
   "execution_count": 47,
   "source": [
    "version_3_4_train = version_3_4_train.drop(unique_cols, axis=1)\r\n",
    "version_3_4_test = version_3_4_test.drop([col for col in unique_cols if col != '등록차량수'], axis=1)"
   ],
   "outputs": [],
   "metadata": {}
  }
 ],
 "metadata": {
  "orig_nbformat": 4,
  "language_info": {
   "name": "python",
   "version": "3.8.8",
   "mimetype": "text/x-python",
   "codemirror_mode": {
    "name": "ipython",
    "version": 3
   },
   "pygments_lexer": "ipython3",
   "nbconvert_exporter": "python",
   "file_extension": ".py"
  },
  "kernelspec": {
   "name": "python3",
   "display_name": "Python 3.8.8 64-bit ('py38': conda)"
  },
  "interpreter": {
   "hash": "33a3111211be4281f3a8c4a9b25563b8d253df502c7e31f5318895c1792a97cb"
  }
 },
 "nbformat": 4,
 "nbformat_minor": 2
}