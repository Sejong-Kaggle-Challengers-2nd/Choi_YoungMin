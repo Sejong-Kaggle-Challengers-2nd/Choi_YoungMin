{
 "cells": [
  {
   "cell_type": "markdown",
   "source": [
    "# Version 4\r\n",
    "\r\n",
    "## [Test Coverage]\r\n",
    "\r\n",
    "1. `age_gender_info` 추가 (상위 3 그룹)"
   ],
   "metadata": {}
  },
  {
   "cell_type": "markdown",
   "source": [
    "## Import Module"
   ],
   "metadata": {}
  },
  {
   "cell_type": "code",
   "execution_count": 1,
   "source": [
    "import pandas as pd\r\n",
    "import numpy as np\r\n",
    "import os\r\n",
    "from tqdm.notebook import tqdm"
   ],
   "outputs": [],
   "metadata": {}
  },
  {
   "cell_type": "markdown",
   "source": [
    "## Data Load"
   ],
   "metadata": {}
  },
  {
   "cell_type": "code",
   "execution_count": 2,
   "source": [
    "DATA_ROOT = ''\r\n",
    "DATA_ROOT = os.path.join(DATA_ROOT, \"../../../competition_data/parking_data/\")\r\n",
    "\r\n",
    "TRAIN_ROOT = os.path.join(DATA_ROOT, \"train_version_3.csv\")\r\n",
    "TEST_ROOT = os.path.join(DATA_ROOT, \"test_version_3.csv\")\r\n",
    "AGE_GENDER_INFO_ROOT = os.path.join(DATA_ROOT, \"age_gender_info.csv\")\r\n",
    "SUBMISSION_ROOT = os.path.join(DATA_ROOT, \"sample_submission.csv\")\r\n",
    "\r\n",
    "print(f\"DATA_ROOT : {DATA_ROOT}\")\r\n",
    "print(f\"TRAIN_ROOT : {TRAIN_ROOT}\")\r\n",
    "print(f\"TEST_ROOT : {TEST_ROOT}\")\r\n",
    "print(f\"AGE_GENDER_INFO_ROOT : {AGE_GENDER_INFO_ROOT}\")\r\n",
    "print(f\"SUBMISSION_ROOT : {SUBMISSION_ROOT}\")"
   ],
   "outputs": [
    {
     "output_type": "stream",
     "name": "stdout",
     "text": [
      "DATA_ROOT : ../../../competition_data/parking_data/\n",
      "TRAIN_ROOT : ../../../competition_data/parking_data/train_version_3.csv\n",
      "TEST_ROOT : ../../../competition_data/parking_data/test_version_3.csv\n",
      "AGE_GENDER_INFO_ROOT : ../../../competition_data/parking_data/age_gender_info.csv\n",
      "SUBMISSION_ROOT : ../../../competition_data/parking_data/sample_submission.csv\n"
     ]
    }
   ],
   "metadata": {}
  },
  {
   "cell_type": "code",
   "execution_count": 3,
   "source": [
    "train = pd.read_csv(TRAIN_ROOT)\r\n",
    "test = pd.read_csv(TEST_ROOT)\r\n",
    "age_gender_info = pd.read_csv(AGE_GENDER_INFO_ROOT)\r\n",
    "submission = pd.read_csv(SUBMISSION_ROOT)\r\n",
    "\r\n",
    "print(\"Data Loaded!\")"
   ],
   "outputs": [
    {
     "output_type": "stream",
     "name": "stdout",
     "text": [
      "Data Loaded!\n"
     ]
    }
   ],
   "metadata": {}
  },
  {
   "cell_type": "markdown",
   "source": [
    "## `age_gender_info` 추가"
   ],
   "metadata": {}
  },
  {
   "cell_type": "code",
   "execution_count": 5,
   "source": [
    "#열 이름 변경\r\n",
    "age_columns=[]\r\n",
    "for i in range(0,11):\r\n",
    "    for j in range(0,2):\r\n",
    "        temp=str(i)+\"_\"+str(j)\r\n",
    "        age_columns.append(temp)\r\n",
    "\r\n",
    "print(len(age_columns))\r\n",
    "print(age_columns)\r\n",
    "\r\n",
    "age_gender_info.columns = age_columns"
   ],
   "outputs": [
    {
     "output_type": "stream",
     "name": "stdout",
     "text": [
      "22\n",
      "['0_0', '0_1', '1_0', '1_1', '2_0', '2_1', '3_0', '3_1', '4_0', '4_1', '5_0', '5_1', '6_0', '6_1', '7_0', '7_1', '8_0', '8_1', '9_0', '9_1', '10_0', '10_1']\n"
     ]
    }
   ],
   "metadata": {}
  },
  {
   "cell_type": "code",
   "execution_count": 6,
   "source": [
    "#열 추가\r\n",
    "age_gender_info['1st']=0\r\n",
    "age_gender_info['1gender']=0\r\n",
    "age_gender_info['2nd']=0\r\n",
    "age_gender_info['2gender']=0\r\n",
    "age_gender_info['3rd']=0\r\n",
    "age_gender_info['3gender']=0"
   ],
   "outputs": [],
   "metadata": {}
  },
  {
   "cell_type": "code",
   "execution_count": 7,
   "source": [
    "for id in age_gender_info.index:\r\n",
    "    temp=pd.DataFrame(age_gender_info.loc[id]).T\r\n",
    "    temp=temp.sort_values(axis=1,by=[id],ascending=False)\r\n",
    "    temp_ascend=temp.columns\r\n",
    "    \r\n",
    "    age_gender_info['1st'].loc[id]=temp_ascend[0].split('_')[0]\r\n",
    "    age_gender_info['1gender'].loc[id]=temp_ascend[0].split('_')[1]\r\n",
    "    age_gender_info['2nd'].loc[id]=temp_ascend[1].split('_')[0]\r\n",
    "    age_gender_info['2gender'].loc[id]=temp_ascend[1].split('_')[1]\r\n",
    "    age_gender_info['3rd'].loc[id]=temp_ascend[2].split('_')[0]\r\n",
    "    age_gender_info['3gender'].loc[id]=temp_ascend[2].split('_')[1]"
   ],
   "outputs": [
    {
     "output_type": "stream",
     "name": "stderr",
     "text": [
      "C:\\Users\\marti\\anaconda3\\envs\\py38\\lib\\site-packages\\pandas\\core\\indexing.py:1637: SettingWithCopyWarning: \n",
      "A value is trying to be set on a copy of a slice from a DataFrame\n",
      "\n",
      "See the caveats in the documentation: https://pandas.pydata.org/pandas-docs/stable/user_guide/indexing.html#returning-a-view-versus-a-copy\n",
      "  self._setitem_single_block(indexer, value, name)\n"
     ]
    }
   ],
   "metadata": {}
  },
  {
   "cell_type": "markdown",
   "source": [
    "### train과 age_gender_info 병합"
   ],
   "metadata": {}
  },
  {
   "cell_type": "code",
   "execution_count": 10,
   "source": [
    "age_gender_info=age_gender_info.drop(columns=age_columns,axis=1)\r\n",
    "age_gender_info.head(2)"
   ],
   "outputs": [
    {
     "output_type": "execute_result",
     "data": {
      "text/plain": [
       "     1st 1gender 2nd 2gender 3rd 3gender\n",
       "지역                                      \n",
       "경상북도   5       0   4       0   6       0\n",
       "경상남도   6       0   5       0   4       0"
      ],
      "text/html": [
       "<div>\n",
       "<style scoped>\n",
       "    .dataframe tbody tr th:only-of-type {\n",
       "        vertical-align: middle;\n",
       "    }\n",
       "\n",
       "    .dataframe tbody tr th {\n",
       "        vertical-align: top;\n",
       "    }\n",
       "\n",
       "    .dataframe thead th {\n",
       "        text-align: right;\n",
       "    }\n",
       "</style>\n",
       "<table border=\"1\" class=\"dataframe\">\n",
       "  <thead>\n",
       "    <tr style=\"text-align: right;\">\n",
       "      <th></th>\n",
       "      <th>1st</th>\n",
       "      <th>1gender</th>\n",
       "      <th>2nd</th>\n",
       "      <th>2gender</th>\n",
       "      <th>3rd</th>\n",
       "      <th>3gender</th>\n",
       "    </tr>\n",
       "    <tr>\n",
       "      <th>지역</th>\n",
       "      <th></th>\n",
       "      <th></th>\n",
       "      <th></th>\n",
       "      <th></th>\n",
       "      <th></th>\n",
       "      <th></th>\n",
       "    </tr>\n",
       "  </thead>\n",
       "  <tbody>\n",
       "    <tr>\n",
       "      <th>경상북도</th>\n",
       "      <td>5</td>\n",
       "      <td>0</td>\n",
       "      <td>4</td>\n",
       "      <td>0</td>\n",
       "      <td>6</td>\n",
       "      <td>0</td>\n",
       "    </tr>\n",
       "    <tr>\n",
       "      <th>경상남도</th>\n",
       "      <td>6</td>\n",
       "      <td>0</td>\n",
       "      <td>5</td>\n",
       "      <td>0</td>\n",
       "      <td>4</td>\n",
       "      <td>0</td>\n",
       "    </tr>\n",
       "  </tbody>\n",
       "</table>\n",
       "</div>"
      ]
     },
     "metadata": {},
     "execution_count": 10
    }
   ],
   "metadata": {}
  },
  {
   "cell_type": "code",
   "execution_count": 11,
   "source": [
    "age_gender_info"
   ],
   "outputs": [
    {
     "output_type": "execute_result",
     "data": {
      "text/plain": [
       "        1st 1gender 2nd 2gender 3rd 3gender\n",
       "지역                                         \n",
       "경상북도      5       0   4       0   6       0\n",
       "경상남도      6       0   5       0   4       0\n",
       "대전광역시     6       0   5       0   4       0\n",
       "경기도       4       0   4       1   5       0\n",
       "전라북도      5       0   4       0   6       0\n",
       "강원도       6       0   5       0   4       0\n",
       "광주광역시     4       0   5       0   4       1\n",
       "충청남도      5       0   4       0   4       1\n",
       "부산광역시     6       0   6       1   5       0\n",
       "제주특별자치도   5       0   4       0   6       0\n",
       "울산광역시     6       0   5       0   4       0\n",
       "충청북도      5       0   4       0   6       0\n",
       "전라남도      5       0   4       0   5       1\n",
       "대구광역시     6       0   5       0   6       1\n",
       "서울특별시     6       0   7       0   6       1\n",
       "세종특별자치시   3       0   3       1   2       0"
      ],
      "text/html": [
       "<div>\n",
       "<style scoped>\n",
       "    .dataframe tbody tr th:only-of-type {\n",
       "        vertical-align: middle;\n",
       "    }\n",
       "\n",
       "    .dataframe tbody tr th {\n",
       "        vertical-align: top;\n",
       "    }\n",
       "\n",
       "    .dataframe thead th {\n",
       "        text-align: right;\n",
       "    }\n",
       "</style>\n",
       "<table border=\"1\" class=\"dataframe\">\n",
       "  <thead>\n",
       "    <tr style=\"text-align: right;\">\n",
       "      <th></th>\n",
       "      <th>1st</th>\n",
       "      <th>1gender</th>\n",
       "      <th>2nd</th>\n",
       "      <th>2gender</th>\n",
       "      <th>3rd</th>\n",
       "      <th>3gender</th>\n",
       "    </tr>\n",
       "    <tr>\n",
       "      <th>지역</th>\n",
       "      <th></th>\n",
       "      <th></th>\n",
       "      <th></th>\n",
       "      <th></th>\n",
       "      <th></th>\n",
       "      <th></th>\n",
       "    </tr>\n",
       "  </thead>\n",
       "  <tbody>\n",
       "    <tr>\n",
       "      <th>경상북도</th>\n",
       "      <td>5</td>\n",
       "      <td>0</td>\n",
       "      <td>4</td>\n",
       "      <td>0</td>\n",
       "      <td>6</td>\n",
       "      <td>0</td>\n",
       "    </tr>\n",
       "    <tr>\n",
       "      <th>경상남도</th>\n",
       "      <td>6</td>\n",
       "      <td>0</td>\n",
       "      <td>5</td>\n",
       "      <td>0</td>\n",
       "      <td>4</td>\n",
       "      <td>0</td>\n",
       "    </tr>\n",
       "    <tr>\n",
       "      <th>대전광역시</th>\n",
       "      <td>6</td>\n",
       "      <td>0</td>\n",
       "      <td>5</td>\n",
       "      <td>0</td>\n",
       "      <td>4</td>\n",
       "      <td>0</td>\n",
       "    </tr>\n",
       "    <tr>\n",
       "      <th>경기도</th>\n",
       "      <td>4</td>\n",
       "      <td>0</td>\n",
       "      <td>4</td>\n",
       "      <td>1</td>\n",
       "      <td>5</td>\n",
       "      <td>0</td>\n",
       "    </tr>\n",
       "    <tr>\n",
       "      <th>전라북도</th>\n",
       "      <td>5</td>\n",
       "      <td>0</td>\n",
       "      <td>4</td>\n",
       "      <td>0</td>\n",
       "      <td>6</td>\n",
       "      <td>0</td>\n",
       "    </tr>\n",
       "    <tr>\n",
       "      <th>강원도</th>\n",
       "      <td>6</td>\n",
       "      <td>0</td>\n",
       "      <td>5</td>\n",
       "      <td>0</td>\n",
       "      <td>4</td>\n",
       "      <td>0</td>\n",
       "    </tr>\n",
       "    <tr>\n",
       "      <th>광주광역시</th>\n",
       "      <td>4</td>\n",
       "      <td>0</td>\n",
       "      <td>5</td>\n",
       "      <td>0</td>\n",
       "      <td>4</td>\n",
       "      <td>1</td>\n",
       "    </tr>\n",
       "    <tr>\n",
       "      <th>충청남도</th>\n",
       "      <td>5</td>\n",
       "      <td>0</td>\n",
       "      <td>4</td>\n",
       "      <td>0</td>\n",
       "      <td>4</td>\n",
       "      <td>1</td>\n",
       "    </tr>\n",
       "    <tr>\n",
       "      <th>부산광역시</th>\n",
       "      <td>6</td>\n",
       "      <td>0</td>\n",
       "      <td>6</td>\n",
       "      <td>1</td>\n",
       "      <td>5</td>\n",
       "      <td>0</td>\n",
       "    </tr>\n",
       "    <tr>\n",
       "      <th>제주특별자치도</th>\n",
       "      <td>5</td>\n",
       "      <td>0</td>\n",
       "      <td>4</td>\n",
       "      <td>0</td>\n",
       "      <td>6</td>\n",
       "      <td>0</td>\n",
       "    </tr>\n",
       "    <tr>\n",
       "      <th>울산광역시</th>\n",
       "      <td>6</td>\n",
       "      <td>0</td>\n",
       "      <td>5</td>\n",
       "      <td>0</td>\n",
       "      <td>4</td>\n",
       "      <td>0</td>\n",
       "    </tr>\n",
       "    <tr>\n",
       "      <th>충청북도</th>\n",
       "      <td>5</td>\n",
       "      <td>0</td>\n",
       "      <td>4</td>\n",
       "      <td>0</td>\n",
       "      <td>6</td>\n",
       "      <td>0</td>\n",
       "    </tr>\n",
       "    <tr>\n",
       "      <th>전라남도</th>\n",
       "      <td>5</td>\n",
       "      <td>0</td>\n",
       "      <td>4</td>\n",
       "      <td>0</td>\n",
       "      <td>5</td>\n",
       "      <td>1</td>\n",
       "    </tr>\n",
       "    <tr>\n",
       "      <th>대구광역시</th>\n",
       "      <td>6</td>\n",
       "      <td>0</td>\n",
       "      <td>5</td>\n",
       "      <td>0</td>\n",
       "      <td>6</td>\n",
       "      <td>1</td>\n",
       "    </tr>\n",
       "    <tr>\n",
       "      <th>서울특별시</th>\n",
       "      <td>6</td>\n",
       "      <td>0</td>\n",
       "      <td>7</td>\n",
       "      <td>0</td>\n",
       "      <td>6</td>\n",
       "      <td>1</td>\n",
       "    </tr>\n",
       "    <tr>\n",
       "      <th>세종특별자치시</th>\n",
       "      <td>3</td>\n",
       "      <td>0</td>\n",
       "      <td>3</td>\n",
       "      <td>1</td>\n",
       "      <td>2</td>\n",
       "      <td>0</td>\n",
       "    </tr>\n",
       "  </tbody>\n",
       "</table>\n",
       "</div>"
      ]
     },
     "metadata": {},
     "execution_count": 11
    }
   ],
   "metadata": {}
  },
  {
   "cell_type": "code",
   "execution_count": 20,
   "source": [
    "local_map = {'경상북도': 0, \\\r\n",
    "    '경상남도': 1,\r\n",
    "    '대전광역시': 2,\r\n",
    "    '경기도': 3,\r\n",
    "    '전라북도': 4,\r\n",
    "    '강원도': 5,\r\n",
    "    '광주광역시': 6,\r\n",
    "    '충청남도': 7,\r\n",
    "    '부산광역시': 8,\r\n",
    "    '제주특별자치도': 9,\r\n",
    "    '울산광역시': 10,\r\n",
    "    '충청북도': 11,\r\n",
    "    '전라남도': 12,\r\n",
    "    '대구광역시': 13,\r\n",
    "    '서울특별시': 14,\r\n",
    "    '세종특별자치시': 15}\r\n",
    "\r\n",
    "regions = age_gender_info.index\r\n",
    "\r\n",
    "for region in tqdm(regions):\r\n",
    "    train.loc[train.지역 == local_map[region], '1st'] = age_gender_info.loc[region, '1st']\r\n",
    "    train.loc[train.지역 == local_map[region], '1gender'] = age_gender_info.loc[region, '1gender']\r\n",
    "    train.loc[train.지역 == local_map[region], '2nd'] = age_gender_info.loc[region, '2nd']\r\n",
    "    train.loc[train.지역 == local_map[region], '2gender'] = age_gender_info.loc[region, '2gender']\r\n",
    "    train.loc[train.지역 == local_map[region], '3rd'] = age_gender_info.loc[region, '3rd']\r\n",
    "    train.loc[train.지역 == local_map[region], '3gender'] = age_gender_info.loc[region, '3gender']\r\n",
    "\r\n",
    "for region in tqdm(regions):\r\n",
    "    test.loc[test.지역 == local_map[region], '1st'] = age_gender_info.loc[region, '1st']\r\n",
    "    test.loc[test.지역 == local_map[region], '1gender'] = age_gender_info.loc[region, '1gender']\r\n",
    "    test.loc[test.지역 == local_map[region], '2nd'] = age_gender_info.loc[region, '2nd']\r\n",
    "    test.loc[test.지역 == local_map[region], '2gender'] = age_gender_info.loc[region, '2gender']\r\n",
    "    test.loc[test.지역 == local_map[region], '3rd'] = age_gender_info.loc[region, '3rd']\r\n",
    "    test.loc[test.지역 == local_map[region], '3gender'] = age_gender_info.loc[region, '3gender']"
   ],
   "outputs": [
    {
     "output_type": "display_data",
     "data": {
      "text/plain": [
       "  0%|          | 0/16 [00:00<?, ?it/s]"
      ],
      "application/vnd.jupyter.widget-view+json": {
       "version_major": 2,
       "version_minor": 0,
       "model_id": "16ea49dd063f4df5b1968f5a7494f98d"
      }
     },
     "metadata": {}
    },
    {
     "output_type": "display_data",
     "data": {
      "text/plain": [
       "  0%|          | 0/16 [00:00<?, ?it/s]"
      ],
      "application/vnd.jupyter.widget-view+json": {
       "version_major": 2,
       "version_minor": 0,
       "model_id": "5c8545a6b8594fe1952308c71a98baa2"
      }
     },
     "metadata": {}
    }
   ],
   "metadata": {}
  },
  {
   "cell_type": "markdown",
   "source": [
    "## To CSV"
   ],
   "metadata": {}
  },
  {
   "cell_type": "code",
   "execution_count": 22,
   "source": [
    "train = train.set_index('단지코드')\r\n",
    "test = test.set_index('단지코드')"
   ],
   "outputs": [],
   "metadata": {}
  },
  {
   "cell_type": "code",
   "execution_count": 23,
   "source": [
    "TRAIN_VERSION_4_ROOT = os.path.join(DATA_ROOT, 'train_version_4.csv')\r\n",
    "TEST_VERSION_4_ROOT = os.path.join(DATA_ROOT, 'test_version_4.csv')\r\n",
    "\r\n",
    "train.to_csv(TRAIN_VERSION_4_ROOT)\r\n",
    "test.to_csv(TEST_VERSION_4_ROOT)"
   ],
   "outputs": [],
   "metadata": {}
  }
 ],
 "metadata": {
  "orig_nbformat": 4,
  "language_info": {
   "name": "python",
   "version": "3.8.8",
   "mimetype": "text/x-python",
   "codemirror_mode": {
    "name": "ipython",
    "version": 3
   },
   "pygments_lexer": "ipython3",
   "nbconvert_exporter": "python",
   "file_extension": ".py"
  },
  "kernelspec": {
   "name": "python3",
   "display_name": "Python 3.8.8 64-bit ('py38': conda)"
  },
  "interpreter": {
   "hash": "33a3111211be4281f3a8c4a9b25563b8d253df502c7e31f5318895c1792a97cb"
  }
 },
 "nbformat": 4,
 "nbformat_minor": 2
}