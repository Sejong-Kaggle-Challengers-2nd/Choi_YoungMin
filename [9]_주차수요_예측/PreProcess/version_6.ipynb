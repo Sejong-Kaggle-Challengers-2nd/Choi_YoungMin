{
 "cells": [
  {
   "cell_type": "markdown",
   "source": [
    "# Version 6\r\n",
    "\r\n",
    "## Test Coverage\r\n",
    "\r\n",
    "1. 임대보증금, 평균임대료(자격유형) -> 금액 구간 나누기\r\n",
    "    - 임대보증금 : **25구간**\r\n",
    "    - 임대료 : **15구간**\r\n",
    "    - 평균임대료(자격유형) : **10구간**"
   ],
   "metadata": {}
  },
  {
   "cell_type": "markdown",
   "source": [
    "## Import Module"
   ],
   "metadata": {}
  },
  {
   "cell_type": "code",
   "execution_count": 1,
   "source": [
    "import pandas as pd\r\n",
    "import numpy as np\r\n",
    "from os.path import join as Join\r\n",
    "from tqdm.notebook import tqdm\r\n",
    "\r\n",
    "from sklearn.preprocessing import LabelEncoder, StandardScaler"
   ],
   "outputs": [],
   "metadata": {}
  },
  {
   "cell_type": "markdown",
   "source": [
    "## Data Load"
   ],
   "metadata": {}
  },
  {
   "cell_type": "code",
   "execution_count": 2,
   "source": [
    "DATA_ROOT = ''\r\n",
    "DATA_ROOT = Join(DATA_ROOT, '../../../../competition_data/parking_data/')\r\n",
    "\r\n",
    "TRAIN_ROOT = Join(DATA_ROOT, 'train_version_5.csv')\r\n",
    "TEST_ROOT = Join(DATA_ROOT, 'test_version_5.csv')\r\n",
    "\r\n",
    "print(f\"DATA_ROOT : {DATA_ROOT}\")\r\n",
    "print(f\"TRAIN_ROOT : {TRAIN_ROOT}\")\r\n",
    "print(f\"TEST_ROOT : {TEST_ROOT}\")"
   ],
   "outputs": [
    {
     "output_type": "stream",
     "name": "stdout",
     "text": [
      "DATA_ROOT : ../../../../competition_data/parking_data/\n",
      "TRAIN_ROOT : ../../../../competition_data/parking_data/train_version_5.csv\n",
      "TEST_ROOT : ../../../../competition_data/parking_data/test_version_5.csv\n"
     ]
    }
   ],
   "metadata": {}
  },
  {
   "cell_type": "code",
   "execution_count": 3,
   "source": [
    "train = pd.read_csv(TRAIN_ROOT)\r\n",
    "test = pd.read_csv(TEST_ROOT)"
   ],
   "outputs": [],
   "metadata": {}
  },
  {
   "cell_type": "markdown",
   "source": [
    "## 구간화 함수 정의"
   ],
   "metadata": {}
  },
  {
   "cell_type": "code",
   "execution_count": 4,
   "source": [
    "label_encoder = LabelEncoder()\r\n",
    "\r\n",
    "def make_bin(data1, data2, variable, n):\r\n",
    "    _, bin_dividers =np.histogram(data1[variable], bins=n) #train의 구간화를 적용\r\n",
    "\r\n",
    "    bin_names=[str(i) for i in range(n)]\r\n",
    "\r\n",
    "    data1[variable]=pd.cut(x=data1[variable], bins=bin_dividers, labels=bin_names, include_lowest=True)\r\n",
    "    data2[variable]=pd.cut(x=data2[variable], bins=bin_dividers, labels=bin_names, include_lowest=True)\r\n",
    "\r\n",
    "    return data1, data2"
   ],
   "outputs": [],
   "metadata": {}
  },
  {
   "cell_type": "markdown",
   "source": [
    "## 구간 수 최적값 찾아보기"
   ],
   "metadata": {}
  },
  {
   "cell_type": "code",
   "execution_count": 5,
   "source": [
    "tmp_train = train.copy()\r\n",
    "tmp_test = test.copy()"
   ],
   "outputs": [],
   "metadata": {}
  },
  {
   "cell_type": "markdown",
   "source": [
    "### 임대보증금"
   ],
   "metadata": {}
  },
  {
   "cell_type": "code",
   "execution_count": 6,
   "source": [
    "n = 25"
   ],
   "outputs": [],
   "metadata": {}
  },
  {
   "cell_type": "code",
   "execution_count": 7,
   "source": [
    "counter, bin_dividers = np.histogram(tmp_train.임대보증금, bins=n)\r\n",
    "\r\n",
    "bin_names = bin_names=[str(i) for i in range(n)]\r\n",
    "\r\n",
    "pd.cut(x=tmp_train.임대보증금, bins=bin_dividers, labels=bin_names, include_lowest=True).value_counts()"
   ],
   "outputs": [
    {
     "output_type": "execute_result",
     "data": {
      "text/plain": [
       "3     90\n",
       "4     76\n",
       "2     47\n",
       "5     47\n",
       "6     34\n",
       "0     27\n",
       "7     25\n",
       "8     18\n",
       "10    12\n",
       "1     10\n",
       "9      9\n",
       "12     6\n",
       "11     5\n",
       "15     3\n",
       "13     2\n",
       "14     2\n",
       "16     2\n",
       "17     2\n",
       "19     1\n",
       "22     1\n",
       "23     1\n",
       "24     1\n",
       "18     0\n",
       "20     0\n",
       "21     0\n",
       "Name: 임대보증금, dtype: int64"
      ]
     },
     "metadata": {},
     "execution_count": 7
    }
   ],
   "metadata": {}
  },
  {
   "cell_type": "code",
   "execution_count": 8,
   "source": [
    "counter, bin_dividers = np.histogram(tmp_test.임대보증금, bins=n)\r\n",
    "\r\n",
    "bin_names = bin_names=[str(i) for i in range(n)]\r\n",
    "\r\n",
    "pd.cut(x=tmp_test.임대보증금, bins=bin_dividers, labels=bin_names, include_lowest=True).value_counts()"
   ],
   "outputs": [
    {
     "output_type": "execute_result",
     "data": {
      "text/plain": [
       "5     21\n",
       "7     19\n",
       "4     17\n",
       "6     17\n",
       "8     14\n",
       "9     13\n",
       "0      8\n",
       "13     6\n",
       "12     6\n",
       "10     5\n",
       "11     5\n",
       "3      3\n",
       "18     3\n",
       "24     3\n",
       "14     2\n",
       "20     2\n",
       "1      1\n",
       "2      1\n",
       "15     1\n",
       "17     1\n",
       "19     1\n",
       "21     1\n",
       "16     0\n",
       "22     0\n",
       "23     0\n",
       "Name: 임대보증금, dtype: int64"
      ]
     },
     "metadata": {},
     "execution_count": 8
    }
   ],
   "metadata": {}
  },
  {
   "cell_type": "markdown",
   "source": [
    "### 임대료"
   ],
   "metadata": {}
  },
  {
   "cell_type": "code",
   "execution_count": 9,
   "source": [
    "n = 15"
   ],
   "outputs": [],
   "metadata": {}
  },
  {
   "cell_type": "code",
   "execution_count": 10,
   "source": [
    "counter, bin_dividers = np.histogram(tmp_train.임대료, bins=n)\r\n",
    "\r\n",
    "bin_names = bin_names=[str(i) for i in range(n)]\r\n",
    "\r\n",
    "pd.cut(x=tmp_train.임대료, bins=bin_dividers, labels=bin_names, include_lowest=True).value_counts()"
   ],
   "outputs": [
    {
     "output_type": "execute_result",
     "data": {
      "text/plain": [
       "2     136\n",
       "1     118\n",
       "3      69\n",
       "0      34\n",
       "4      29\n",
       "7      10\n",
       "8      10\n",
       "5       5\n",
       "6       5\n",
       "9       4\n",
       "14      1\n",
       "10      0\n",
       "11      0\n",
       "12      0\n",
       "13      0\n",
       "Name: 임대료, dtype: int64"
      ]
     },
     "metadata": {},
     "execution_count": 10
    }
   ],
   "metadata": {}
  },
  {
   "cell_type": "code",
   "execution_count": 11,
   "source": [
    "counter, bin_dividers = np.histogram(tmp_test.임대료, bins=n)\r\n",
    "\r\n",
    "bin_names = bin_names=[str(i) for i in range(n)]\r\n",
    "\r\n",
    "pd.cut(x=tmp_test.임대료, bins=bin_dividers, labels=bin_names, include_lowest=True).value_counts()"
   ],
   "outputs": [
    {
     "output_type": "execute_result",
     "data": {
      "text/plain": [
       "3     50\n",
       "2     19\n",
       "4     19\n",
       "6     17\n",
       "5     15\n",
       "7      9\n",
       "0      8\n",
       "1      3\n",
       "12     3\n",
       "9      2\n",
       "13     2\n",
       "14     2\n",
       "8      1\n",
       "10     0\n",
       "11     0\n",
       "Name: 임대료, dtype: int64"
      ]
     },
     "metadata": {},
     "execution_count": 11
    }
   ],
   "metadata": {}
  },
  {
   "cell_type": "markdown",
   "source": [
    "### 평균임대료"
   ],
   "metadata": {}
  },
  {
   "cell_type": "code",
   "execution_count": 12,
   "source": [
    "n = 10"
   ],
   "outputs": [],
   "metadata": {}
  },
  {
   "cell_type": "code",
   "execution_count": 13,
   "source": [
    "counter, bin_dividers = np.histogram(tmp_train['평균임대료(자격유형)'], bins=n)\r\n",
    "\r\n",
    "bin_names = bin_names=[str(i) for i in range(n)]\r\n",
    "\r\n",
    "pd.cut(x=tmp_train['평균임대료(자격유형)'], bins=bin_dividers, labels=bin_names, include_lowest=True).value_counts()"
   ],
   "outputs": [
    {
     "output_type": "execute_result",
     "data": {
      "text/plain": [
       "9    313\n",
       "5     32\n",
       "8     29\n",
       "0     17\n",
       "1      9\n",
       "6      8\n",
       "7      7\n",
       "2      4\n",
       "3      1\n",
       "4      1\n",
       "Name: 평균임대료(자격유형), dtype: int64"
      ]
     },
     "metadata": {},
     "execution_count": 13
    }
   ],
   "metadata": {}
  },
  {
   "cell_type": "code",
   "execution_count": 14,
   "source": [
    "counter, bin_dividers = np.histogram(tmp_test['평균임대료(자격유형)'], bins=n)\r\n",
    "\r\n",
    "bin_names = bin_names=[str(i) for i in range(n)]\r\n",
    "\r\n",
    "pd.cut(x=tmp_test['평균임대료(자격유형)'], bins=bin_dividers, labels=bin_names, include_lowest=True).value_counts()"
   ],
   "outputs": [
    {
     "output_type": "execute_result",
     "data": {
      "text/plain": [
       "9    120\n",
       "4     15\n",
       "0      6\n",
       "7      5\n",
       "3      2\n",
       "1      1\n",
       "6      1\n",
       "2      0\n",
       "5      0\n",
       "8      0\n",
       "Name: 평균임대료(자격유형), dtype: int64"
      ]
     },
     "metadata": {},
     "execution_count": 14
    }
   ],
   "metadata": {}
  },
  {
   "cell_type": "markdown",
   "source": [
    "## Preprocessing (Version 6)"
   ],
   "metadata": {}
  },
  {
   "cell_type": "code",
   "execution_count": 15,
   "source": [
    "train, test = make_bin(data1=train, data2=test, variable='임대보증금', n=25)\r\n",
    "train, test = make_bin(data1=train, data2=test, variable='임대료', n=15)\r\n",
    "train, test = make_bin(data1=train, data2=test, variable='평균임대료(자격유형)', n=10)"
   ],
   "outputs": [],
   "metadata": {}
  },
  {
   "cell_type": "code",
   "execution_count": 16,
   "source": [
    "test.loc[test['평균임대료(자격유형)'].isnull(), '평균임대료(자격유형)'] = str(9)"
   ],
   "outputs": [],
   "metadata": {}
  },
  {
   "cell_type": "markdown",
   "source": [
    "## To CSV"
   ],
   "metadata": {}
  },
  {
   "cell_type": "code",
   "execution_count": 17,
   "source": [
    "TRAIN_VERSION_6_ROOT = Join(DATA_ROOT, 'train_version_6.csv')\r\n",
    "TEST_VERSION_6_ROOT = Join(DATA_ROOT, 'test_version_6.csv')\r\n",
    "\r\n",
    "train.to_csv(TRAIN_VERSION_6_ROOT)\r\n",
    "test.to_csv(TEST_VERSION_6_ROOT)"
   ],
   "outputs": [],
   "metadata": {}
  }
 ],
 "metadata": {
  "orig_nbformat": 4,
  "language_info": {
   "name": "python",
   "version": "3.8.8",
   "mimetype": "text/x-python",
   "codemirror_mode": {
    "name": "ipython",
    "version": 3
   },
   "pygments_lexer": "ipython3",
   "nbconvert_exporter": "python",
   "file_extension": ".py"
  },
  "kernelspec": {
   "name": "python3",
   "display_name": "Python 3.8.8 64-bit ('py38': conda)"
  },
  "interpreter": {
   "hash": "33a3111211be4281f3a8c4a9b25563b8d253df502c7e31f5318895c1792a97cb"
  }
 },
 "nbformat": 4,
 "nbformat_minor": 2
}