{
 "cells": [
  {
   "cell_type": "markdown",
   "source": [
    "# Version 5\r\n",
    "\r\n",
    "## Test Coverage\r\n",
    "\r\n",
    "- [Test 1] NULL 처리 방안 변화\r\n",
    "    - 지하철\r\n",
    "        - 충청남도 -> -1\r\n",
    "        - 대전광역시 -> -2\r\n",
    "        - 경상남도 -> -3\r\n",
    "    - 버스\r\n",
    "        - 중위값(median)"
   ],
   "metadata": {}
  },
  {
   "cell_type": "markdown",
   "source": [
    "## Import Module"
   ],
   "metadata": {}
  },
  {
   "cell_type": "code",
   "execution_count": 1,
   "source": [
    "import pandas as pd\r\n",
    "import numpy as np\r\n",
    "from os.path import join as Join\r\n",
    "from tqdm.notebook import tqdm\r\n",
    "\r\n",
    "from sklearn.linear_model import Lasso\r\n",
    "from sklearn.model_selection import StratifiedKFold"
   ],
   "outputs": [],
   "metadata": {}
  },
  {
   "cell_type": "markdown",
   "source": [
    "## Data Load"
   ],
   "metadata": {}
  },
  {
   "cell_type": "code",
   "execution_count": 2,
   "source": [
    "DATA_ROOT = ''\r\n",
    "DATA_ROOT = Join(DATA_ROOT, '../../../competition_data/parking_data/')\r\n",
    "\r\n",
    "TRAIN_ROOT = Join(DATA_ROOT, 'train.csv')\r\n",
    "TEST_ROOT = Join(DATA_ROOT, 'test.csv')\r\n",
    "AGE_GENDER_INFO_ROOT = Join(DATA_ROOT, 'age_gender_info.csv')\r\n",
    "\r\n",
    "print(f\"DATA_ROOT : {DATA_ROOT}\")\r\n",
    "print(f\"TRAIN_ROOT : {TRAIN_ROOT}\")\r\n",
    "print(f\"TEST_ROOT : {TEST_ROOT}\")\r\n",
    "print(f\"AGE_GENDER_INFO_ROOT : {AGE_GENDER_INFO_ROOT}\")"
   ],
   "outputs": [
    {
     "output_type": "stream",
     "name": "stdout",
     "text": [
      "DATA_ROOT : ../../../competition_data/parking_data/\n",
      "TRAIN_ROOT : ../../../competition_data/parking_data/train.csv\n",
      "TEST_ROOT : ../../../competition_data/parking_data/test.csv\n",
      "AGE_GENDER_INFO_ROOT : ../../../competition_data/parking_data/age_gender_info.csv\n"
     ]
    }
   ],
   "metadata": {}
  },
  {
   "cell_type": "code",
   "execution_count": 3,
   "source": [
    "train = pd.read_csv(TRAIN_ROOT)\r\n",
    "test = pd.read_csv(TEST_ROOT)\r\n",
    "age_gender_info = pd.read_csv(AGE_GENDER_INFO_ROOT)\r\n",
    "\r\n",
    "print(\"Data Loaded!\")"
   ],
   "outputs": [
    {
     "output_type": "stream",
     "name": "stdout",
     "text": [
      "Data Loaded!\n"
     ]
    }
   ],
   "metadata": {}
  },
  {
   "cell_type": "markdown",
   "source": [
    "## Preprocessing (Version 1)"
   ],
   "metadata": {}
  },
  {
   "cell_type": "markdown",
   "source": [
    "### 지역명 숫자로 매핑"
   ],
   "metadata": {}
  },
  {
   "cell_type": "code",
   "execution_count": 4,
   "source": [
    "local_map = {}\r\n",
    "\r\n",
    "for i, loc in enumerate(train['지역'].unique()):\r\n",
    "    local_map[loc] = i\r\n",
    "\r\n",
    "train['지역'] = train['지역'].map(local_map)\r\n",
    "test['지역'] = test['지역'].map(local_map)"
   ],
   "outputs": [],
   "metadata": {}
  },
  {
   "cell_type": "markdown",
   "source": [
    "### 전용면적 5의 배수로 변경"
   ],
   "metadata": {}
  },
  {
   "cell_type": "code",
   "execution_count": 5,
   "source": [
    "train['전용면적'] = train['전용면적']//5*5\r\n",
    "test['전용면적'] = test['전용면적']//5*5"
   ],
   "outputs": [],
   "metadata": {}
  },
  {
   "cell_type": "markdown",
   "source": [
    "### Column 명 간소화"
   ],
   "metadata": {}
  },
  {
   "cell_type": "code",
   "execution_count": 6,
   "source": [
    "train.columns = [\r\n",
    "    '단지코드', '총세대수', '임대건물구분', '지역', '공급유형', '전용면적', '전용면적별세대수', '공가수', '자격유형',\r\n",
    "    '임대보증금', '임대료', '지하철', '버스', '단지내주차면수', '등록차량수']\r\n",
    "\r\n",
    "test.columns = [\r\n",
    "    '단지코드', '총세대수', '임대건물구분', '지역', '공급유형', '전용면적', '전용면적별세대수', '공가수', '자격유형',\r\n",
    "    '임대보증금', '임대료', '지하철', '버스','단지내주차면수']"
   ],
   "outputs": [],
   "metadata": {}
  },
  {
   "cell_type": "markdown",
   "source": [
    "## Preprocessing (Version 2 & Version 5)"
   ],
   "metadata": {}
  },
  {
   "cell_type": "markdown",
   "source": [
    "### `'-'` -> NULL, dtype을 float으로 변경"
   ],
   "metadata": {}
  },
  {
   "cell_type": "code",
   "execution_count": 7,
   "source": [
    "columns = ['임대보증금', '임대료']\r\n",
    "\r\n",
    "for col in columns:\r\n",
    "    train.loc[train[col] == '-', col] = np.nan\r\n",
    "    test.loc[test[col] == '-', col] = np.nan\r\n",
    "\r\n",
    "    train[col] = train[col].astype(float)\r\n",
    "    test[col] = test[col].astype(float)"
   ],
   "outputs": [],
   "metadata": {}
  },
  {
   "cell_type": "markdown",
   "source": [
    "### NULL 값 처리"
   ],
   "metadata": {}
  },
  {
   "cell_type": "markdown",
   "source": [
    "#### 임대보증금, 임대료"
   ],
   "metadata": {}
  },
  {
   "cell_type": "code",
   "execution_count": 8,
   "source": [
    "train[['임대보증금', '임대료']] = train[['임대보증금', '임대료']].fillna(0)\r\n",
    "test[['임대보증금', '임대료']] = test[['임대보증금', '임대료']].fillna(0)"
   ],
   "outputs": [],
   "metadata": {}
  },
  {
   "cell_type": "markdown",
   "source": [
    "#### 지하철, 버스"
   ],
   "metadata": {}
  },
  {
   "cell_type": "code",
   "execution_count": 9,
   "source": [
    "train.loc[(train.지하철.isnull()) & (train.지역 == local_map['충청남도']), '지하철'] = -1\r\n",
    "train.loc[(train.지하철.isnull()) & (train.지역 == local_map['대전광역시']), '지하철'] = -2\r\n",
    "train.loc[(train.지하철.isnull()) & (train.지역 == local_map['경상남도']), '지하철'] = -3\r\n",
    "\r\n",
    "test.loc[(test.지하철.isnull()) & (test.지역 == local_map['충청남도']), '지하철'] = -1\r\n",
    "test.loc[(test.지하철.isnull()) & (test.지역 == local_map['대전광역시']), '지하철'] = -2"
   ],
   "outputs": [],
   "metadata": {}
  },
  {
   "cell_type": "code",
   "execution_count": 10,
   "source": [
    "train.loc[train.버스.isnull(), '버스'] = train.버스.median()"
   ],
   "outputs": [],
   "metadata": {}
  },
  {
   "cell_type": "markdown",
   "source": [
    "#### 자격유형"
   ],
   "metadata": {}
  },
  {
   "cell_type": "code",
   "execution_count": 11,
   "source": [
    "test.loc[test.단지코드.isin(['C2411']) & test.자격유형.isnull(), '자격유형'] = 'A'\r\n",
    "test.loc[test.단지코드.isin(['C2253']) & test.자격유형.isnull(), '자격유형'] = 'C'"
   ],
   "outputs": [],
   "metadata": {}
  },
  {
   "cell_type": "markdown",
   "source": [
    "### 중복 example 제거"
   ],
   "metadata": {}
  },
  {
   "cell_type": "code",
   "execution_count": 12,
   "source": [
    "train = train.drop_duplicates()\r\n",
    "test = test.drop_duplicates()"
   ],
   "outputs": [],
   "metadata": {}
  },
  {
   "cell_type": "markdown",
   "source": [
    "### 자격유형 병합"
   ],
   "metadata": {}
  },
  {
   "cell_type": "code",
   "execution_count": 13,
   "source": [
    "train.loc[train.자격유형.isin(['J', 'L', 'K', 'N', 'M', 'O']), '자격유형'] = '행복주택_공급대상'\r\n",
    "test.loc[test.자격유형.isin(['J', 'L', 'K', 'N', 'M', 'O']), '자격유형'] = '행복주택_공급대상'\r\n",
    "\r\n",
    "train.loc[train.자격유형.isin(['H', 'B', 'E', 'G']), '자격유형'] = '국민임대_공급대상'\r\n",
    "test.loc[test.자격유형.isin(['H', 'B', 'E', 'G']), '자격유형'] = '국민임대_공급대상'\r\n",
    "\r\n",
    "train.loc[train.자격유형.isin(['C', 'I', 'F']), '자격유형'] = '영구임대_공급대상'\r\n",
    "test.loc[test.자격유형.isin(['C', 'I', 'F']), '자격유형'] = '영구임대_공급대상'"
   ],
   "outputs": [],
   "metadata": {}
  },
  {
   "cell_type": "markdown",
   "source": [
    "### 공급유형 병합"
   ],
   "metadata": {}
  },
  {
   "cell_type": "code",
   "execution_count": 14,
   "source": [
    "train.loc[train.공급유형.isin(['공공임대(10년)', '공공임대(분납)']), '공급유형'] = '공공임대(10년/분납)'\r\n",
    "test.loc[test.공급유형.isin(['공공임대(10년)', '공공임대(분납)']), '공급유형'] = '공공임대(10년/분납)'"
   ],
   "outputs": [],
   "metadata": {}
  },
  {
   "cell_type": "markdown",
   "source": [
    "## Preprocessing (Version 3)"
   ],
   "metadata": {}
  },
  {
   "cell_type": "markdown",
   "source": [
    "### Train -> 공급유형이 장기전세, 공공분양, 공공임대(5년)인 example Drop"
   ],
   "metadata": {}
  },
  {
   "cell_type": "code",
   "execution_count": 15,
   "source": [
    "idx = train[(train.공급유형 == '장기전세') | (train.공급유형 == '공공분양') | (train.공급유형 == '공공임대(5년)')].index\r\n",
    "train = train.drop(idx)\r\n",
    "\r\n",
    "train.공급유형.unique().tolist()"
   ],
   "outputs": [
    {
     "output_type": "execute_result",
     "data": {
      "text/plain": [
       "['국민임대', '공공임대(50년)', '영구임대', '임대상가', '공공임대(10년/분납)', '행복주택']"
      ]
     },
     "metadata": {},
     "execution_count": 15
    }
   ],
   "metadata": {}
  },
  {
   "cell_type": "markdown",
   "source": [
    "### 각 단지코드 내에 임대건물구분 -> '아파트'이면 1, '상가&아파트'이면 0 으로 매핑"
   ],
   "metadata": {}
  },
  {
   "cell_type": "code",
   "execution_count": 16,
   "source": [
    "codes = train.단지코드.unique().tolist()\r\n",
    "\r\n",
    "for code in tqdm(codes):\r\n",
    "    values = train.loc[train.단지코드 == code, '임대건물구분'].unique().tolist()\r\n",
    "\r\n",
    "    if '상가' in values:\r\n",
    "        train.loc[train.단지코드 == code, '임대건물구분'] = 0\r\n",
    "    else:\r\n",
    "        train.loc[train.단지코드 == code, '임대건물구분'] = 1"
   ],
   "outputs": [
    {
     "output_type": "display_data",
     "data": {
      "text/plain": [
       "  0%|          | 0/421 [00:00<?, ?it/s]"
      ],
      "application/vnd.jupyter.widget-view+json": {
       "version_major": 2,
       "version_minor": 0,
       "model_id": "a8f3d0b0bf3f42d7b65cb6b66eea21a4"
      }
     },
     "metadata": {}
    }
   ],
   "metadata": {}
  },
  {
   "cell_type": "code",
   "execution_count": 17,
   "source": [
    "codes = test.단지코드.unique().tolist()\r\n",
    "\r\n",
    "for code in tqdm(codes):\r\n",
    "    values = test.loc[test.단지코드 == code, '임대건물구분'].unique().tolist()\r\n",
    "\r\n",
    "    if '상가' in values:\r\n",
    "        test.loc[test.단지코드 == code, '임대건물구분'] = 0\r\n",
    "    else:\r\n",
    "        test.loc[test.단지코드 == code, '임대건물구분'] = 1"
   ],
   "outputs": [
    {
     "output_type": "display_data",
     "data": {
      "text/plain": [
       "  0%|          | 0/150 [00:00<?, ?it/s]"
      ],
      "application/vnd.jupyter.widget-view+json": {
       "version_major": 2,
       "version_minor": 0,
       "model_id": "148da85d0f7d43e5bee1f9acee933834"
      }
     },
     "metadata": {}
    }
   ],
   "metadata": {}
  },
  {
   "cell_type": "markdown",
   "source": [
    "### '자격유형별 평균 임대료' feature 추가"
   ],
   "metadata": {}
  },
  {
   "cell_type": "code",
   "execution_count": 18,
   "source": [
    "qualifies = train.자격유형.unique().tolist()\r\n",
    "\r\n",
    "for qualify in tqdm(qualifies):\r\n",
    "    train.loc[train.자격유형 == qualify, '평균임대료(자격유형)'] = train.loc[train.자격유형 == qualify, '임대료'].mean()"
   ],
   "outputs": [
    {
     "output_type": "display_data",
     "data": {
      "text/plain": [
       "  0%|          | 0/5 [00:00<?, ?it/s]"
      ],
      "application/vnd.jupyter.widget-view+json": {
       "version_major": 2,
       "version_minor": 0,
       "model_id": "52fad1b3c90c423e8c04511f37e21fb4"
      }
     },
     "metadata": {}
    }
   ],
   "metadata": {}
  },
  {
   "cell_type": "code",
   "execution_count": 19,
   "source": [
    "qualifies = test.자격유형.unique().tolist()\r\n",
    "\r\n",
    "for qualify in tqdm(qualifies):\r\n",
    "    test.loc[test.자격유형 == qualify, '평균임대료(자격유형)'] = test.loc[test.자격유형 == qualify, '임대료'].mean()"
   ],
   "outputs": [
    {
     "output_type": "display_data",
     "data": {
      "text/plain": [
       "  0%|          | 0/5 [00:00<?, ?it/s]"
      ],
      "application/vnd.jupyter.widget-view+json": {
       "version_major": 2,
       "version_minor": 0,
       "model_id": "aab0f5622a814576af7941c738039d60"
      }
     },
     "metadata": {}
    }
   ],
   "metadata": {}
  },
  {
   "cell_type": "markdown",
   "source": [
    "## Aggregation"
   ],
   "metadata": {}
  },
  {
   "cell_type": "markdown",
   "source": [
    "### 단지코드 별로 모두 같은 값을 가지는 feature"
   ],
   "metadata": {}
  },
  {
   "cell_type": "code",
   "execution_count": 20,
   "source": [
    "unique_cols = ['총세대수', '지역', '공가수', '지하철', '버스', '단지내주차면수', '임대건물구분', '등록차량수']\r\n",
    "\r\n",
    "train_eq = train.set_index('단지코드')[unique_cols].drop_duplicates()\r\n",
    "test_eq = test.set_index('단지코드')[[col for col in unique_cols if col != '등록차량수']].drop_duplicates()"
   ],
   "outputs": [],
   "metadata": {}
  },
  {
   "cell_type": "markdown",
   "source": [
    "### 단지코드 별로 다양한 값을 가지는 feature"
   ],
   "metadata": {}
  },
  {
   "cell_type": "code",
   "execution_count": 21,
   "source": [
    "train_neq = train.drop(unique_cols, axis=1)\r\n",
    "test_neq = test.drop([col for col in unique_cols if col != '등록차량수'], axis=1)"
   ],
   "outputs": [],
   "metadata": {}
  },
  {
   "cell_type": "markdown",
   "source": [
    "#### 단지 별 평균 값으로 처리할 feature 들\r\n",
    "\r\n",
    "- 전용면적, 전용면적별세대수, 임대보증금, 임대료, 평균임대료(자격유형)"
   ],
   "metadata": {}
  },
  {
   "cell_type": "code",
   "execution_count": 23,
   "source": [
    "mean_cols = ['단지코드', '전용면적', '전용면적별세대수', '임대보증금', '임대료', '평균임대료(자격유형)']\r\n",
    "mean_vals_train = train_neq[mean_cols].copy()\r\n",
    "\r\n",
    "codes = mean_vals_train.단지코드.unique().tolist()\r\n",
    "\r\n",
    "for code in tqdm(codes):\r\n",
    "    mean_vals_train.loc[mean_vals_train.단지코드 == code, '전용면적'] = mean_vals_train.loc[mean_vals_train.단지코드 == code, '전용면적'].mean()\r\n",
    "    mean_vals_train.loc[mean_vals_train.단지코드 == code, '전용면적별세대수'] = mean_vals_train.loc[mean_vals_train.단지코드 == code, '전용면적별세대수'].mean()\r\n",
    "    mean_vals_train.loc[mean_vals_train.단지코드 == code, '임대보증금'] = mean_vals_train.loc[mean_vals_train.단지코드 == code, '임대보증금'].mean()\r\n",
    "    mean_vals_train.loc[mean_vals_train.단지코드 == code, '임대료'] = mean_vals_train.loc[mean_vals_train.단지코드 == code, '임대료'].mean()\r\n",
    "    mean_vals_train.loc[mean_vals_train.단지코드 == code, '평균임대료(자격유형)'] = mean_vals_train.loc[mean_vals_train.단지코드 == code, '평균임대료(자격유형)'].mean()\r\n",
    "\r\n",
    "mean_vals_train = mean_vals_train.drop_duplicates().set_index('단지코드')"
   ],
   "outputs": [
    {
     "output_type": "display_data",
     "data": {
      "text/plain": [
       "  0%|          | 0/421 [00:00<?, ?it/s]"
      ],
      "application/vnd.jupyter.widget-view+json": {
       "version_major": 2,
       "version_minor": 0,
       "model_id": "72ffa6e7afc045f18b51da4e677026a2"
      }
     },
     "metadata": {}
    }
   ],
   "metadata": {}
  },
  {
   "cell_type": "code",
   "execution_count": 24,
   "source": [
    "mean_cols = ['단지코드', '전용면적', '전용면적별세대수', '임대보증금', '임대료', '평균임대료(자격유형)']\r\n",
    "mean_vals_test = test_neq[mean_cols].copy()\r\n",
    "\r\n",
    "codes = mean_vals_test.단지코드.unique().tolist()\r\n",
    "\r\n",
    "for code in tqdm(codes):\r\n",
    "    mean_vals_test.loc[mean_vals_test.단지코드 == code, '전용면적'] = mean_vals_test.loc[mean_vals_test.단지코드 == code, '전용면적'].mean()\r\n",
    "    mean_vals_test.loc[mean_vals_test.단지코드 == code, '전용면적별세대수'] = mean_vals_test.loc[mean_vals_test.단지코드 == code, '전용면적별세대수'].mean()\r\n",
    "    mean_vals_test.loc[mean_vals_test.단지코드 == code, '임대보증금'] = mean_vals_test.loc[mean_vals_test.단지코드 == code, '임대보증금'].mean()\r\n",
    "    mean_vals_test.loc[mean_vals_test.단지코드 == code, '임대료'] = mean_vals_test.loc[mean_vals_test.단지코드 == code, '임대료'].mean()\r\n",
    "    mean_vals_test.loc[mean_vals_test.단지코드 == code, '평균임대료(자격유형)'] = mean_vals_test.loc[mean_vals_test.단지코드 == code, '평균임대료(자격유형)'].mean()\r\n",
    "\r\n",
    "mean_vals_test = mean_vals_test.drop_duplicates().set_index('단지코드')"
   ],
   "outputs": [
    {
     "output_type": "display_data",
     "data": {
      "text/plain": [
       "  0%|          | 0/150 [00:00<?, ?it/s]"
      ],
      "application/vnd.jupyter.widget-view+json": {
       "version_major": 2,
       "version_minor": 0,
       "model_id": "295617818ce940f98e1a7d33b0a9a757"
      }
     },
     "metadata": {}
    }
   ],
   "metadata": {}
  },
  {
   "cell_type": "markdown",
   "source": [
    "#### feature reshape\r\n",
    "\r\n",
    "- 공급유형, 자격유형"
   ],
   "metadata": {}
  },
  {
   "cell_type": "code",
   "execution_count": 25,
   "source": [
    "def reshape_cat_features(data, cast_col, value_col):\r\n",
    "    res = data.drop_duplicates(['단지코드', cast_col]).assign(counter=1).pivot(index='단지코드', columns=cast_col, values=value_col).fillna(0)\r\n",
    "    res.columns.name = None\r\n",
    "    res = res.rename(columns={col:cast_col+'_'+col for col in res.columns})\r\n",
    "    return res"
   ],
   "outputs": [],
   "metadata": {}
  },
  {
   "cell_type": "code",
   "execution_count": 26,
   "source": [
    "pattern_vals_train = pd.concat([reshape_cat_features(data=train_neq, cast_col='공급유형', value_col='counter'), \\\r\n",
    "    reshape_cat_features(data=train_neq, cast_col='자격유형', value_col='counter')], axis=1)\r\n",
    "\r\n",
    "pattern_vals_test = pd.concat([reshape_cat_features(data=test_neq, cast_col='공급유형', value_col='counter'), \\\r\n",
    "    reshape_cat_features(data=test_neq, cast_col='자격유형', value_col='counter')], axis=1)"
   ],
   "outputs": [],
   "metadata": {}
  },
  {
   "cell_type": "markdown",
   "source": [
    "### Final Aggregation"
   ],
   "metadata": {}
  },
  {
   "cell_type": "code",
   "execution_count": 29,
   "source": [
    "train = pd.concat([train_eq, mean_vals_train, pattern_vals_train], axis=1)\r\n",
    "test = pd.concat([test_eq, mean_vals_test, pattern_vals_test], axis=1)"
   ],
   "outputs": [],
   "metadata": {}
  },
  {
   "cell_type": "markdown",
   "source": [
    "## Preprocessing (Version 4)"
   ],
   "metadata": {}
  },
  {
   "cell_type": "code",
   "execution_count": 31,
   "source": [
    "age_gender_info = age_gender_info.set_index('지역')"
   ],
   "outputs": [],
   "metadata": {}
  },
  {
   "cell_type": "code",
   "execution_count": 32,
   "source": [
    "#열 이름 변경\r\n",
    "age_columns=[]\r\n",
    "for i in range(0,11):\r\n",
    "    for j in range(0,2):\r\n",
    "        temp=str(i)+\"_\"+str(j)\r\n",
    "        age_columns.append(temp)\r\n",
    "\r\n",
    "print(len(age_columns))\r\n",
    "print(age_columns)\r\n",
    "\r\n",
    "age_gender_info.columns = age_columns"
   ],
   "outputs": [
    {
     "output_type": "stream",
     "name": "stdout",
     "text": [
      "22\n",
      "['0_0', '0_1', '1_0', '1_1', '2_0', '2_1', '3_0', '3_1', '4_0', '4_1', '5_0', '5_1', '6_0', '6_1', '7_0', '7_1', '8_0', '8_1', '9_0', '9_1', '10_0', '10_1']\n"
     ]
    }
   ],
   "metadata": {}
  },
  {
   "cell_type": "code",
   "execution_count": 33,
   "source": [
    "#열 추가\r\n",
    "age_gender_info['1st']=0\r\n",
    "age_gender_info['1gender']=0\r\n",
    "age_gender_info['2nd']=0\r\n",
    "age_gender_info['2gender']=0\r\n",
    "age_gender_info['3rd']=0\r\n",
    "age_gender_info['3gender']=0"
   ],
   "outputs": [],
   "metadata": {}
  },
  {
   "cell_type": "code",
   "execution_count": 34,
   "source": [
    "for id in age_gender_info.index:\r\n",
    "    temp=pd.DataFrame(age_gender_info.loc[id]).T\r\n",
    "    temp=temp.sort_values(axis=1,by=[id],ascending=False)\r\n",
    "    temp_ascend=temp.columns\r\n",
    "    \r\n",
    "    age_gender_info['1st'].loc[id]=temp_ascend[0].split('_')[0]\r\n",
    "    age_gender_info['1gender'].loc[id]=temp_ascend[0].split('_')[1]\r\n",
    "    age_gender_info['2nd'].loc[id]=temp_ascend[1].split('_')[0]\r\n",
    "    age_gender_info['2gender'].loc[id]=temp_ascend[1].split('_')[1]\r\n",
    "    age_gender_info['3rd'].loc[id]=temp_ascend[2].split('_')[0]\r\n",
    "    age_gender_info['3gender'].loc[id]=temp_ascend[2].split('_')[1]"
   ],
   "outputs": [
    {
     "output_type": "stream",
     "name": "stderr",
     "text": [
      "C:\\Users\\marti\\anaconda3\\envs\\py38\\lib\\site-packages\\pandas\\core\\indexing.py:1637: SettingWithCopyWarning: \n",
      "A value is trying to be set on a copy of a slice from a DataFrame\n",
      "\n",
      "See the caveats in the documentation: https://pandas.pydata.org/pandas-docs/stable/user_guide/indexing.html#returning-a-view-versus-a-copy\n",
      "  self._setitem_single_block(indexer, value, name)\n"
     ]
    }
   ],
   "metadata": {}
  },
  {
   "cell_type": "markdown",
   "source": [
    "### Train/Test 와 age_gender_info 병합"
   ],
   "metadata": {}
  },
  {
   "cell_type": "code",
   "execution_count": 35,
   "source": [
    "age_gender_info=age_gender_info.drop(columns=age_columns,axis=1)\r\n",
    "age_gender_info.head(2)"
   ],
   "outputs": [
    {
     "output_type": "execute_result",
     "data": {
      "text/plain": [
       "     1st 1gender 2nd 2gender 3rd 3gender\n",
       "지역                                      \n",
       "경상북도   5       0   4       0   6       0\n",
       "경상남도   6       0   5       0   4       0"
      ],
      "text/html": [
       "<div>\n",
       "<style scoped>\n",
       "    .dataframe tbody tr th:only-of-type {\n",
       "        vertical-align: middle;\n",
       "    }\n",
       "\n",
       "    .dataframe tbody tr th {\n",
       "        vertical-align: top;\n",
       "    }\n",
       "\n",
       "    .dataframe thead th {\n",
       "        text-align: right;\n",
       "    }\n",
       "</style>\n",
       "<table border=\"1\" class=\"dataframe\">\n",
       "  <thead>\n",
       "    <tr style=\"text-align: right;\">\n",
       "      <th></th>\n",
       "      <th>1st</th>\n",
       "      <th>1gender</th>\n",
       "      <th>2nd</th>\n",
       "      <th>2gender</th>\n",
       "      <th>3rd</th>\n",
       "      <th>3gender</th>\n",
       "    </tr>\n",
       "    <tr>\n",
       "      <th>지역</th>\n",
       "      <th></th>\n",
       "      <th></th>\n",
       "      <th></th>\n",
       "      <th></th>\n",
       "      <th></th>\n",
       "      <th></th>\n",
       "    </tr>\n",
       "  </thead>\n",
       "  <tbody>\n",
       "    <tr>\n",
       "      <th>경상북도</th>\n",
       "      <td>5</td>\n",
       "      <td>0</td>\n",
       "      <td>4</td>\n",
       "      <td>0</td>\n",
       "      <td>6</td>\n",
       "      <td>0</td>\n",
       "    </tr>\n",
       "    <tr>\n",
       "      <th>경상남도</th>\n",
       "      <td>6</td>\n",
       "      <td>0</td>\n",
       "      <td>5</td>\n",
       "      <td>0</td>\n",
       "      <td>4</td>\n",
       "      <td>0</td>\n",
       "    </tr>\n",
       "  </tbody>\n",
       "</table>\n",
       "</div>"
      ]
     },
     "metadata": {},
     "execution_count": 35
    }
   ],
   "metadata": {}
  },
  {
   "cell_type": "code",
   "execution_count": 36,
   "source": [
    "local_map = {'경상북도': 0, \\\r\n",
    "    '경상남도': 1,\r\n",
    "    '대전광역시': 2,\r\n",
    "    '경기도': 3,\r\n",
    "    '전라북도': 4,\r\n",
    "    '강원도': 5,\r\n",
    "    '광주광역시': 6,\r\n",
    "    '충청남도': 7,\r\n",
    "    '부산광역시': 8,\r\n",
    "    '제주특별자치도': 9,\r\n",
    "    '울산광역시': 10,\r\n",
    "    '충청북도': 11,\r\n",
    "    '전라남도': 12,\r\n",
    "    '대구광역시': 13,\r\n",
    "    '서울특별시': 14,\r\n",
    "    '세종특별자치시': 15}\r\n",
    "\r\n",
    "regions = age_gender_info.index\r\n",
    "\r\n",
    "for region in tqdm(regions):\r\n",
    "    train.loc[train.지역 == local_map[region], '1st'] = age_gender_info.loc[region, '1st']\r\n",
    "    train.loc[train.지역 == local_map[region], '1gender'] = age_gender_info.loc[region, '1gender']\r\n",
    "    train.loc[train.지역 == local_map[region], '2nd'] = age_gender_info.loc[region, '2nd']\r\n",
    "    train.loc[train.지역 == local_map[region], '2gender'] = age_gender_info.loc[region, '2gender']\r\n",
    "    train.loc[train.지역 == local_map[region], '3rd'] = age_gender_info.loc[region, '3rd']\r\n",
    "    train.loc[train.지역 == local_map[region], '3gender'] = age_gender_info.loc[region, '3gender']\r\n",
    "\r\n",
    "for region in tqdm(regions):\r\n",
    "    test.loc[test.지역 == local_map[region], '1st'] = age_gender_info.loc[region, '1st']\r\n",
    "    test.loc[test.지역 == local_map[region], '1gender'] = age_gender_info.loc[region, '1gender']\r\n",
    "    test.loc[test.지역 == local_map[region], '2nd'] = age_gender_info.loc[region, '2nd']\r\n",
    "    test.loc[test.지역 == local_map[region], '2gender'] = age_gender_info.loc[region, '2gender']\r\n",
    "    test.loc[test.지역 == local_map[region], '3rd'] = age_gender_info.loc[region, '3rd']\r\n",
    "    test.loc[test.지역 == local_map[region], '3gender'] = age_gender_info.loc[region, '3gender']"
   ],
   "outputs": [
    {
     "output_type": "display_data",
     "data": {
      "text/plain": [
       "  0%|          | 0/16 [00:00<?, ?it/s]"
      ],
      "application/vnd.jupyter.widget-view+json": {
       "version_major": 2,
       "version_minor": 0,
       "model_id": "90483c306abb454abd93ede5587e600a"
      }
     },
     "metadata": {}
    },
    {
     "output_type": "display_data",
     "data": {
      "text/plain": [
       "  0%|          | 0/16 [00:00<?, ?it/s]"
      ],
      "application/vnd.jupyter.widget-view+json": {
       "version_major": 2,
       "version_minor": 0,
       "model_id": "d55fa29b92b3464eb4471d0bcb487781"
      }
     },
     "metadata": {}
    }
   ],
   "metadata": {}
  },
  {
   "cell_type": "markdown",
   "source": [
    "## To CSV"
   ],
   "metadata": {}
  },
  {
   "cell_type": "code",
   "execution_count": 40,
   "source": [
    "TRAIN_VERSION_5_ROOT = Join(DATA_ROOT, 'train_version_5.csv')\r\n",
    "TEST_VERSION_5_ROOT = Join(DATA_ROOT, 'test_version_5.csv')\r\n",
    "\r\n",
    "train.to_csv(TRAIN_VERSION_5_ROOT)\r\n",
    "test.to_csv(TEST_VERSION_5_ROOT)"
   ],
   "outputs": [],
   "metadata": {}
  }
 ],
 "metadata": {
  "orig_nbformat": 4,
  "language_info": {
   "name": "python",
   "version": "3.8.8",
   "mimetype": "text/x-python",
   "codemirror_mode": {
    "name": "ipython",
    "version": 3
   },
   "pygments_lexer": "ipython3",
   "nbconvert_exporter": "python",
   "file_extension": ".py"
  },
  "kernelspec": {
   "name": "python3",
   "display_name": "Python 3.8.8 64-bit ('py38': conda)"
  },
  "interpreter": {
   "hash": "33a3111211be4281f3a8c4a9b25563b8d253df502c7e31f5318895c1792a97cb"
  }
 },
 "nbformat": 4,
 "nbformat_minor": 2
}