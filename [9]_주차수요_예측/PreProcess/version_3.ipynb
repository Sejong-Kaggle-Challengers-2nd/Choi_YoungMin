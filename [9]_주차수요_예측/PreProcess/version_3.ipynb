{
 "cells": [
  {
   "cell_type": "markdown",
   "source": [
    "# Version 3\r\n",
    "\r\n",
    "## Test Coverage\r\n",
    "\r\n",
    "1. Train에서 공급유형이 장기전세, 공공분양, 공공임대(5년)인 example을 아예 Drop한다.\r\n",
    "2. 각 단지코드 내에 임대건물구분 -> '아파트'이면 1, '상가&아파트'이면 0 으로 매핑\r\n",
    "3. '자격유형별 평균 임대료' feature 추가"
   ],
   "metadata": {}
  },
  {
   "cell_type": "markdown",
   "source": [
    "## Import Module"
   ],
   "metadata": {}
  },
  {
   "cell_type": "code",
   "execution_count": 1,
   "source": [
    "import pandas as pd\r\n",
    "import numpy as np\r\n",
    "import os\r\n",
    "from tqdm.notebook import tqdm"
   ],
   "outputs": [],
   "metadata": {}
  },
  {
   "cell_type": "markdown",
   "source": [
    "## Data Load"
   ],
   "metadata": {}
  },
  {
   "cell_type": "code",
   "execution_count": 2,
   "source": [
    "DATA_ROOT = ''\r\n",
    "DATA_ROOT = os.path.join(DATA_ROOT, \"../../../competition_data/parking_data/\")\r\n",
    "\r\n",
    "TRAIN_ROOT = os.path.join(DATA_ROOT, \"train.csv\")\r\n",
    "TEST_ROOT = os.path.join(DATA_ROOT, \"test.csv\")\r\n",
    "AGE_GENDER_INFO_ROOT = os.path.join(DATA_ROOT, \"age_gender_info.csv\")\r\n",
    "\r\n",
    "print(f\"DATA_ROOT : {DATA_ROOT}\")\r\n",
    "print(f\"TRAIN_ROOT : {TRAIN_ROOT}\")\r\n",
    "print(f\"TEST_ROOT : {TEST_ROOT}\")\r\n",
    "print(F\"SUBMISSION_ROOT : {AGE_GENDER_INFO_ROOT}\")"
   ],
   "outputs": [
    {
     "output_type": "stream",
     "name": "stdout",
     "text": [
      "DATA_ROOT : ../../../competition_data/parking_data/\n",
      "TRAIN_ROOT : ../../../competition_data/parking_data/train.csv\n",
      "TEST_ROOT : ../../../competition_data/parking_data/test.csv\n",
      "SUBMISSION_ROOT : ../../../competition_data/parking_data/age_gender_info.csv\n"
     ]
    }
   ],
   "metadata": {}
  },
  {
   "cell_type": "code",
   "execution_count": 3,
   "source": [
    "train = pd.read_csv(TRAIN_ROOT)\r\n",
    "test = pd.read_csv(TEST_ROOT)\r\n",
    "age_gender_info = pd.read_csv(AGE_GENDER_INFO_ROOT)\r\n",
    "\r\n",
    "print(\"Data Loaded!\")"
   ],
   "outputs": [
    {
     "output_type": "stream",
     "name": "stdout",
     "text": [
      "Data Loaded!\n"
     ]
    }
   ],
   "metadata": {}
  },
  {
   "cell_type": "markdown",
   "source": [
    "## Preprocessing (Version 2)"
   ],
   "metadata": {}
  },
  {
   "cell_type": "markdown",
   "source": [
    "### `'-'` -> NULL, dtype을 float으로 변경"
   ],
   "metadata": {}
  },
  {
   "cell_type": "code",
   "execution_count": 4,
   "source": [
    "columns = ['임대보증금', '임대료']\r\n",
    "\r\n",
    "for col in columns:\r\n",
    "    train.loc[train[col] == '-', col] = np.nan\r\n",
    "    test.loc[test[col] == '-', col] = np.nan\r\n",
    "\r\n",
    "    train[col] = train[col].astype(float)\r\n",
    "    test[col] = test[col].astype(float)"
   ],
   "outputs": [],
   "metadata": {}
  },
  {
   "cell_type": "markdown",
   "source": [
    "### NULL 값 처리"
   ],
   "metadata": {}
  },
  {
   "cell_type": "markdown",
   "source": [
    "#### 임대보증금, 임대료"
   ],
   "metadata": {}
  },
  {
   "cell_type": "code",
   "execution_count": 5,
   "source": [
    "train[['임대보증금', '임대료']] = train[['임대보증금', '임대료']].fillna(0)\r\n",
    "test[['임대보증금', '임대료']] = test[['임대보증금', '임대료']].fillna(0)"
   ],
   "outputs": [],
   "metadata": {}
  },
  {
   "cell_type": "markdown",
   "source": [
    "#### 지하철, 버스"
   ],
   "metadata": {}
  },
  {
   "cell_type": "code",
   "execution_count": 6,
   "source": [
    "cols = ['도보 10분거리 내 지하철역 수(환승노선 수 반영)', '도보 10분거리 내 버스정류장 수']\r\n",
    "train[cols] = train[cols].fillna(0)\r\n",
    "test[cols] = test[cols].fillna(0)"
   ],
   "outputs": [],
   "metadata": {}
  },
  {
   "cell_type": "markdown",
   "source": [
    "#### 자격유형"
   ],
   "metadata": {}
  },
  {
   "cell_type": "code",
   "execution_count": 7,
   "source": [
    "test.loc[test.단지코드.isin(['C2411']) & test.자격유형.isnull(), '자격유형'] = 'A'\r\n",
    "test.loc[test.단지코드.isin(['C2253']) & test.자격유형.isnull(), '자격유형'] = 'C'"
   ],
   "outputs": [],
   "metadata": {}
  },
  {
   "cell_type": "markdown",
   "source": [
    "#### 중복 example 제거"
   ],
   "metadata": {}
  },
  {
   "cell_type": "code",
   "execution_count": 8,
   "source": [
    "train = train.drop_duplicates()\r\n",
    "test = test.drop_duplicates()"
   ],
   "outputs": [],
   "metadata": {}
  },
  {
   "cell_type": "markdown",
   "source": [
    "### 단지코드 별 집계\r\n",
    "\r\n",
    "- 단지코드 별로 값이 모두 같은 feature 병합"
   ],
   "metadata": {}
  },
  {
   "cell_type": "code",
   "execution_count": 9,
   "source": [
    "unique_cols = ['총세대수', '지역', '공가수', \\\r\n",
    "    '도보 10분거리 내 지하철역 수(환승노선 수 반영)', \r\n",
    "    '도보 10분거리 내 버스정류장 수', \r\n",
    "    '단지내주차면수', '등록차량수']\r\n",
    "\r\n",
    "train_agg = train.set_index('단지코드')[unique_cols].drop_duplicates()\r\n",
    "test_agg = test.set_index('단지코드')[[col for col in unique_cols if col != '등록차량수']].drop_duplicates()"
   ],
   "outputs": [],
   "metadata": {}
  },
  {
   "cell_type": "markdown",
   "source": [
    "## Preprocessing (Version 3)"
   ],
   "metadata": {}
  },
  {
   "cell_type": "markdown",
   "source": [
    "### [Test 1] Train에서 공급유형이 장기전세, 공공분양, 공공임대(5년)인 example을 아예 Drop한다."
   ],
   "metadata": {}
  },
  {
   "cell_type": "code",
   "execution_count": 10,
   "source": [
    "train_test_1 = pd.DataFrame(train.공급유형)\r\n",
    "\r\n",
    "idx = train_test_1[(train_test_1.공급유형 == '장기전세') | (train_test_1.공급유형 == '공공분양') | (train_test_1.공급유형 == '공공임대(5년)')].index\r\n",
    "train_test_1 = train_test_1.drop(idx)\r\n",
    "\r\n",
    "train_test_1.공급유형.unique().tolist()"
   ],
   "outputs": [
    {
     "output_type": "execute_result",
     "data": {
      "text/plain": [
       "['국민임대', '공공임대(50년)', '영구임대', '임대상가', '공공임대(10년)', '공공임대(분납)', '행복주택']"
      ]
     },
     "metadata": {},
     "execution_count": 10
    }
   ],
   "metadata": {}
  },
  {
   "cell_type": "markdown",
   "source": [
    "### [Test 2] 각 단지코드 내에 임대건물구분 -> '아파트'이면 1, '상가&아파트'이면 0 으로 매핑"
   ],
   "metadata": {}
  },
  {
   "cell_type": "code",
   "execution_count": 30,
   "source": [
    "train_test_2 = train[['단지코드', '임대건물구분']].copy()\r\n",
    "\r\n",
    "codes = train_test_2.단지코드.unique().tolist()\r\n",
    "\r\n",
    "for code in tqdm(codes):\r\n",
    "    values = train_test_2.loc[train_test_2.단지코드 == code, '임대건물구분'].unique().tolist()\r\n",
    "\r\n",
    "    if '상가' in values:\r\n",
    "        train_test_2.loc[train_test_2.단지코드 == code, '임대건물구분'] = 0\r\n",
    "    else:\r\n",
    "        train_test_2.loc[train_test_2.단지코드 == code, '임대건물구분'] = 1\r\n",
    "\r\n",
    "print(f\"['임대건물구분' -> 0 (상가 & 아파트)] : {len(train_test_2.loc[train_test_2.임대건물구분 == 0, '단지코드'].unique().tolist())}\")\r\n",
    "print(f\"['임대건물구분' -> 1 (only 아파트)] : {len(train_test_2.loc[train_test_2.임대건물구분 == 1, '단지코드'].unique().tolist())}\")"
   ],
   "outputs": [
    {
     "output_type": "display_data",
     "data": {
      "text/plain": [
       "  0%|          | 0/423 [00:00<?, ?it/s]"
      ],
      "application/vnd.jupyter.widget-view+json": {
       "version_major": 2,
       "version_minor": 0,
       "model_id": "0896d95bb489409b934a93b8dc1e3649"
      }
     },
     "metadata": {}
    },
    {
     "output_type": "stream",
     "name": "stdout",
     "text": [
      "['임대건물구분' -> 0 (상가 & 아파트)] : 33\n",
      "['임대건물구분' -> 1 (only 아파트)] : 390\n"
     ]
    }
   ],
   "metadata": {}
  },
  {
   "cell_type": "markdown",
   "source": [
    "### [Test 3] '자격유형별 평균 임대료' feature 추가"
   ],
   "metadata": {}
  },
  {
   "cell_type": "code",
   "execution_count": null,
   "source": [],
   "outputs": [],
   "metadata": {}
  }
 ],
 "metadata": {
  "orig_nbformat": 4,
  "language_info": {
   "name": "python",
   "version": "3.8.8",
   "mimetype": "text/x-python",
   "codemirror_mode": {
    "name": "ipython",
    "version": 3
   },
   "pygments_lexer": "ipython3",
   "nbconvert_exporter": "python",
   "file_extension": ".py"
  },
  "kernelspec": {
   "name": "python3",
   "display_name": "Python 3.8.8 64-bit ('py38': conda)"
  },
  "interpreter": {
   "hash": "33a3111211be4281f3a8c4a9b25563b8d253df502c7e31f5318895c1792a97cb"
  }
 },
 "nbformat": 4,
 "nbformat_minor": 2
}