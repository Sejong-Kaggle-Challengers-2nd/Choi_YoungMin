{
 "cells": [
  {
   "cell_type": "markdown",
   "source": [
    "# Version 3\r\n",
    "\r\n",
    "## Test Coverage\r\n",
    "\r\n",
    "1. Train에서 공급유형이 장기전세, 공공분양, 공공임대(5년)인 example을 아예 Drop한다.\r\n",
    "2. 각 단지코드 내에 임대건물구분 -> '아파트'이면 1, '상가&아파트'이면 0\r\n",
    "3. '자격유형별 평균 임대료' feature 추가"
   ],
   "metadata": {}
  },
  {
   "cell_type": "markdown",
   "source": [
    "## Import Module"
   ],
   "metadata": {}
  },
  {
   "cell_type": "code",
   "execution_count": 1,
   "source": [
    "import pandas as pd\r\n",
    "import numpy as np\r\n",
    "import os\r\n",
    "from tqdm.notebook import tqdm"
   ],
   "outputs": [],
   "metadata": {}
  },
  {
   "cell_type": "markdown",
   "source": [
    "## Data Load"
   ],
   "metadata": {}
  },
  {
   "cell_type": "code",
   "execution_count": 2,
   "source": [
    "DATA_ROOT = ''\r\n",
    "DATA_ROOT = os.path.join(DATA_ROOT, \"../../../competition_data/parking_data/\")\r\n",
    "\r\n",
    "TRAIN_ROOT = os.path.join(DATA_ROOT, \"train.csv\")\r\n",
    "TEST_ROOT = os.path.join(DATA_ROOT, \"test.csv\")\r\n",
    "AGE_GENDER_INFO_ROOT = os.path.join(DATA_ROOT, \"age_gender_info.csv\")\r\n",
    "\r\n",
    "print(f\"DATA_ROOT : {DATA_ROOT}\")\r\n",
    "print(f\"TRAIN_ROOT : {TRAIN_ROOT}\")\r\n",
    "print(f\"TEST_ROOT : {TEST_ROOT}\")\r\n",
    "print(F\"SUBMISSION_ROOT : {AGE_GENDER_INFO_ROOT}\")"
   ],
   "outputs": [
    {
     "output_type": "stream",
     "name": "stdout",
     "text": [
      "DATA_ROOT : ../../../competition_data/parking_data/\n",
      "TRAIN_ROOT : ../../../competition_data/parking_data/train.csv\n",
      "TEST_ROOT : ../../../competition_data/parking_data/test.csv\n",
      "SUBMISSION_ROOT : ../../../competition_data/parking_data/age_gender_info.csv\n"
     ]
    }
   ],
   "metadata": {}
  },
  {
   "cell_type": "code",
   "execution_count": 3,
   "source": [
    "train = pd.read_csv(TRAIN_ROOT)\r\n",
    "test = pd.read_csv(TEST_ROOT)\r\n",
    "age_gender_info = pd.read_csv(AGE_GENDER_INFO_ROOT)\r\n",
    "\r\n",
    "print(\"Data Loaded!\")"
   ],
   "outputs": [
    {
     "output_type": "stream",
     "name": "stdout",
     "text": [
      "Data Loaded!\n"
     ]
    }
   ],
   "metadata": {}
  },
  {
   "cell_type": "markdown",
   "source": [
    "## Preprocessing (Version 2)"
   ],
   "metadata": {}
  },
  {
   "cell_type": "markdown",
   "source": [
    "### `'-'` -> NULL, dtype을 float으로 변경"
   ],
   "metadata": {}
  },
  {
   "cell_type": "code",
   "execution_count": 4,
   "source": [
    "columns = ['임대보증금', '임대료']\r\n",
    "\r\n",
    "for col in columns:\r\n",
    "    train.loc[train[col] == '-', col] = np.nan\r\n",
    "    test.loc[test[col] == '-', col] = np.nan\r\n",
    "\r\n",
    "    train[col] = train[col].astype(float)\r\n",
    "    test[col] = test[col].astype(float)"
   ],
   "outputs": [],
   "metadata": {}
  },
  {
   "cell_type": "markdown",
   "source": [
    "### NULL 값 처리"
   ],
   "metadata": {}
  },
  {
   "cell_type": "markdown",
   "source": [
    "#### 임대보증금, 임대료"
   ],
   "metadata": {}
  },
  {
   "cell_type": "code",
   "execution_count": 5,
   "source": [
    "train[['임대보증금', '임대료']] = train[['임대보증금', '임대료']].fillna(0)\r\n",
    "test[['임대보증금', '임대료']] = test[['임대보증금', '임대료']].fillna(0)"
   ],
   "outputs": [],
   "metadata": {}
  },
  {
   "cell_type": "markdown",
   "source": [
    "#### 지하철, 버스"
   ],
   "metadata": {}
  },
  {
   "cell_type": "code",
   "execution_count": 6,
   "source": [
    "cols = ['도보 10분거리 내 지하철역 수(환승노선 수 반영)', '도보 10분거리 내 버스정류장 수']\r\n",
    "train[cols] = train[cols].fillna(0)\r\n",
    "test[cols] = test[cols].fillna(0)"
   ],
   "outputs": [],
   "metadata": {}
  },
  {
   "cell_type": "markdown",
   "source": [
    "#### 자격유형"
   ],
   "metadata": {}
  },
  {
   "cell_type": "code",
   "execution_count": 7,
   "source": [
    "test.loc[test.단지코드.isin(['C2411']) & test.자격유형.isnull(), '자격유형'] = 'A'\r\n",
    "test.loc[test.단지코드.isin(['C2253']) & test.자격유형.isnull(), '자격유형'] = 'C'"
   ],
   "outputs": [],
   "metadata": {}
  },
  {
   "cell_type": "markdown",
   "source": [
    "#### 중복 example 제거"
   ],
   "metadata": {}
  },
  {
   "cell_type": "code",
   "execution_count": 8,
   "source": [
    "train = train.drop_duplicates()\r\n",
    "test = test.drop_duplicates()"
   ],
   "outputs": [],
   "metadata": {}
  },
  {
   "cell_type": "markdown",
   "source": [
    "## Preprocessing (Version 3)"
   ],
   "metadata": {}
  },
  {
   "cell_type": "code",
   "execution_count": null,
   "source": [],
   "outputs": [],
   "metadata": {}
  }
 ],
 "metadata": {
  "orig_nbformat": 4,
  "language_info": {
   "name": "python",
   "version": "3.8.8",
   "mimetype": "text/x-python",
   "codemirror_mode": {
    "name": "ipython",
    "version": 3
   },
   "pygments_lexer": "ipython3",
   "nbconvert_exporter": "python",
   "file_extension": ".py"
  },
  "kernelspec": {
   "name": "python3",
   "display_name": "Python 3.8.8 64-bit ('py38': conda)"
  },
  "interpreter": {
   "hash": "33a3111211be4281f3a8c4a9b25563b8d253df502c7e31f5318895c1792a97cb"
  }
 },
 "nbformat": 4,
 "nbformat_minor": 2
}