{
 "cells": [
  {
   "cell_type": "markdown",
   "source": [
    "# Version 3\r\n",
    "\r\n",
    "## Test Coverage\r\n",
    "\r\n",
    "1. Train에서 공급유형이 장기전세, 공공분양, 공공임대(5년)인 example을 아예 Drop한다.\r\n",
    "2. 각 단지코드 내에 임대건물구분 -> '아파트'이면 1, '상가&아파트'이면 0 으로 매핑\r\n",
    "3. '자격유형별 평균 임대료' feature 추가"
   ],
   "metadata": {}
  },
  {
   "cell_type": "markdown",
   "source": [
    "## Import Module"
   ],
   "metadata": {}
  },
  {
   "cell_type": "code",
   "execution_count": 1,
   "source": [
    "import pandas as pd\r\n",
    "import numpy as np\r\n",
    "import os\r\n",
    "from tqdm.notebook import tqdm"
   ],
   "outputs": [],
   "metadata": {}
  },
  {
   "cell_type": "markdown",
   "source": [
    "## Data Load"
   ],
   "metadata": {}
  },
  {
   "cell_type": "code",
   "execution_count": 2,
   "source": [
    "DATA_ROOT = ''\r\n",
    "DATA_ROOT = os.path.join(DATA_ROOT, \"../../../competition_data/parking_data/\")\r\n",
    "\r\n",
    "TRAIN_ROOT = os.path.join(DATA_ROOT, \"train.csv\")\r\n",
    "TEST_ROOT = os.path.join(DATA_ROOT, \"test.csv\")\r\n",
    "AGE_GENDER_INFO_ROOT = os.path.join(DATA_ROOT, \"age_gender_info.csv\")\r\n",
    "\r\n",
    "print(f\"DATA_ROOT : {DATA_ROOT}\")\r\n",
    "print(f\"TRAIN_ROOT : {TRAIN_ROOT}\")\r\n",
    "print(f\"TEST_ROOT : {TEST_ROOT}\")\r\n",
    "print(F\"SUBMISSION_ROOT : {AGE_GENDER_INFO_ROOT}\")"
   ],
   "outputs": [
    {
     "output_type": "stream",
     "name": "stdout",
     "text": [
      "DATA_ROOT : ../../../competition_data/parking_data/\n",
      "TRAIN_ROOT : ../../../competition_data/parking_data/train.csv\n",
      "TEST_ROOT : ../../../competition_data/parking_data/test.csv\n",
      "SUBMISSION_ROOT : ../../../competition_data/parking_data/age_gender_info.csv\n"
     ]
    }
   ],
   "metadata": {}
  },
  {
   "cell_type": "code",
   "execution_count": 4,
   "source": [
    "train = pd.read_csv(TRAIN_ROOT)\r\n",
    "test = pd.read_csv(TEST_ROOT)\r\n",
    "age_gender_info = pd.read_csv(AGE_GENDER_INFO_ROOT)\r\n",
    "\r\n",
    "print(\"Data Loaded!\")"
   ],
   "outputs": [
    {
     "output_type": "stream",
     "name": "stdout",
     "text": [
      "Data Loaded!\n"
     ]
    }
   ],
   "metadata": {}
  },
  {
   "cell_type": "markdown",
   "source": [
    "## Preprocessing (Version 2)"
   ],
   "metadata": {}
  },
  {
   "cell_type": "markdown",
   "source": [
    "### `'-'` -> NULL, dtype을 float으로 변경"
   ],
   "metadata": {}
  },
  {
   "cell_type": "code",
   "execution_count": 5,
   "source": [
    "columns = ['임대보증금', '임대료']\r\n",
    "\r\n",
    "for col in columns:\r\n",
    "    train.loc[train[col] == '-', col] = np.nan\r\n",
    "    test.loc[test[col] == '-', col] = np.nan\r\n",
    "\r\n",
    "    train[col] = train[col].astype(float)\r\n",
    "    test[col] = test[col].astype(float)"
   ],
   "outputs": [],
   "metadata": {}
  },
  {
   "cell_type": "markdown",
   "source": [
    "### NULL 값 처리"
   ],
   "metadata": {}
  },
  {
   "cell_type": "markdown",
   "source": [
    "#### 임대보증금, 임대료"
   ],
   "metadata": {}
  },
  {
   "cell_type": "code",
   "execution_count": 6,
   "source": [
    "train[['임대보증금', '임대료']] = train[['임대보증금', '임대료']].fillna(0)\r\n",
    "test[['임대보증금', '임대료']] = test[['임대보증금', '임대료']].fillna(0)"
   ],
   "outputs": [],
   "metadata": {}
  },
  {
   "cell_type": "markdown",
   "source": [
    "#### 지하철, 버스"
   ],
   "metadata": {}
  },
  {
   "cell_type": "code",
   "execution_count": 7,
   "source": [
    "cols = ['도보 10분거리 내 지하철역 수(환승노선 수 반영)', '도보 10분거리 내 버스정류장 수']\r\n",
    "train[cols] = train[cols].fillna(0)\r\n",
    "test[cols] = test[cols].fillna(0)"
   ],
   "outputs": [],
   "metadata": {}
  },
  {
   "cell_type": "markdown",
   "source": [
    "#### 자격유형"
   ],
   "metadata": {}
  },
  {
   "cell_type": "code",
   "execution_count": 8,
   "source": [
    "test.loc[test.단지코드.isin(['C2411']) & test.자격유형.isnull(), '자격유형'] = 'A'\r\n",
    "test.loc[test.단지코드.isin(['C2253']) & test.자격유형.isnull(), '자격유형'] = 'C'"
   ],
   "outputs": [],
   "metadata": {}
  },
  {
   "cell_type": "markdown",
   "source": [
    "#### 중복 example 제거"
   ],
   "metadata": {}
  },
  {
   "cell_type": "code",
   "execution_count": 9,
   "source": [
    "train = train.drop_duplicates()\r\n",
    "test = test.drop_duplicates()"
   ],
   "outputs": [],
   "metadata": {}
  },
  {
   "cell_type": "markdown",
   "source": [
    "### 단지코드 별 집계\r\n",
    "\r\n",
    "- 단지코드 별로 값이 모두 같은 feature 병합"
   ],
   "metadata": {}
  },
  {
   "cell_type": "code",
   "execution_count": 10,
   "source": [
    "unique_cols = ['총세대수', '지역', '공가수', \\\r\n",
    "    '도보 10분거리 내 지하철역 수(환승노선 수 반영)', \r\n",
    "    '도보 10분거리 내 버스정류장 수', \r\n",
    "    '단지내주차면수', '등록차량수']\r\n",
    "\r\n",
    "train_agg = train.set_index('단지코드')[unique_cols].drop_duplicates()\r\n",
    "test_agg = test.set_index('단지코드')[[col for col in unique_cols if col != '등록차량수']].drop_duplicates()"
   ],
   "outputs": [],
   "metadata": {}
  },
  {
   "cell_type": "markdown",
   "source": [
    "### 자격유형 병합\r\n",
    "\r\n",
    "- 'J', 'L', 'K', 'N', 'M', 'O' -> '행복주택_공급대상'\r\n",
    "    - 공급유형이 행복주택인 경우에서만 나타남\r\n",
    "- 'H', 'B', 'E', 'G' -> '국민임대_공급대상'\r\n",
    "    - E는 영구임대인 경우도 있긴 하지만 국민임대인 경우가 더 많아서 여기에 포함시킴\r\n",
    "- 'C', 'I', 'F', 'G' -> '영구임대_공급대상'"
   ],
   "metadata": {}
  },
  {
   "cell_type": "code",
   "execution_count": 11,
   "source": [
    "train.loc[train.자격유형.isin(['J', 'L', 'K', 'N', 'M', 'O']), '자격유형'] = '행복주택_공급대상'\r\n",
    "test.loc[test.자격유형.isin(['J', 'L', 'K', 'N', 'M', 'O']), '자격유형'] = '행복주택_공급대상'\r\n",
    "\r\n",
    "train.loc[train.자격유형.isin(['H', 'B', 'E', 'G']), '자격유형'] = '국민임대_공급대상'\r\n",
    "test.loc[test.자격유형.isin(['H', 'B', 'E', 'G']), '자격유형'] = '국민임대_공급대상'\r\n",
    "\r\n",
    "train.loc[train.자격유형.isin(['C', 'I', 'F']), '자격유형'] = '영구임대_공급대상'\r\n",
    "test.loc[test.자격유형.isin(['C', 'I', 'F']), '자격유형'] = '영구임대_공급대상'"
   ],
   "outputs": [],
   "metadata": {}
  },
  {
   "cell_type": "markdown",
   "source": [
    "## Preprocessing (Version 3)"
   ],
   "metadata": {}
  },
  {
   "cell_type": "markdown",
   "source": [
    "### [Test 1] Train에서 공급유형이 장기전세, 공공분양, 공공임대(5년)인 example을 아예 Drop한다."
   ],
   "metadata": {}
  },
  {
   "cell_type": "code",
   "execution_count": 12,
   "source": [
    "train_test_1 = pd.DataFrame(train.공급유형)\r\n",
    "\r\n",
    "idx = train_test_1[(train_test_1.공급유형 == '장기전세') | (train_test_1.공급유형 == '공공분양') | (train_test_1.공급유형 == '공공임대(5년)')].index\r\n",
    "train_test_1 = train_test_1.drop(idx)\r\n",
    "\r\n",
    "train_test_1.공급유형.unique().tolist()"
   ],
   "outputs": [
    {
     "output_type": "execute_result",
     "data": {
      "text/plain": [
       "['국민임대', '공공임대(50년)', '영구임대', '임대상가', '공공임대(10년)', '공공임대(분납)', '행복주택']"
      ]
     },
     "metadata": {},
     "execution_count": 12
    }
   ],
   "metadata": {}
  },
  {
   "cell_type": "markdown",
   "source": [
    "### [Test 2] 각 단지코드 내에 임대건물구분 -> '아파트'이면 1, '상가&아파트'이면 0 으로 매핑"
   ],
   "metadata": {}
  },
  {
   "cell_type": "code",
   "execution_count": 13,
   "source": [
    "train_test_2 = train[['단지코드', '임대건물구분']].copy()\r\n",
    "\r\n",
    "codes = train_test_2.단지코드.unique().tolist()\r\n",
    "\r\n",
    "for code in tqdm(codes):\r\n",
    "    values = train_test_2.loc[train_test_2.단지코드 == code, '임대건물구분'].unique().tolist()\r\n",
    "\r\n",
    "    if '상가' in values:\r\n",
    "        train_test_2.loc[train_test_2.단지코드 == code, '임대건물구분'] = 0\r\n",
    "    else:\r\n",
    "        train_test_2.loc[train_test_2.단지코드 == code, '임대건물구분'] = 1\r\n",
    "\r\n",
    "print(f\"['임대건물구분' -> 0 (상가 & 아파트)] : {len(train_test_2.loc[train_test_2.임대건물구분 == 0, '단지코드'].unique().tolist())}\")\r\n",
    "print(f\"['임대건물구분' -> 1 (only 아파트)] : {len(train_test_2.loc[train_test_2.임대건물구분 == 1, '단지코드'].unique().tolist())}\")"
   ],
   "outputs": [
    {
     "output_type": "display_data",
     "data": {
      "text/plain": [
       "  0%|          | 0/423 [00:00<?, ?it/s]"
      ],
      "application/vnd.jupyter.widget-view+json": {
       "version_major": 2,
       "version_minor": 0,
       "model_id": "6297f16d2b8046599396712056410c62"
      }
     },
     "metadata": {}
    },
    {
     "output_type": "stream",
     "name": "stdout",
     "text": [
      "['임대건물구분' -> 0 (상가 & 아파트)] : 33\n",
      "['임대건물구분' -> 1 (only 아파트)] : 390\n"
     ]
    }
   ],
   "metadata": {}
  },
  {
   "cell_type": "code",
   "execution_count": 14,
   "source": [
    "test_test_2 = test[['단지코드', '임대건물구분']].copy()\r\n",
    "\r\n",
    "codes = test_test_2.단지코드.unique().tolist()\r\n",
    "\r\n",
    "for code in tqdm(codes):\r\n",
    "    values = test_test_2.loc[test_test_2.단지코드 == code, '임대건물구분'].unique().tolist()\r\n",
    "\r\n",
    "    if '상가' in values:\r\n",
    "        test_test_2.loc[test_test_2.단지코드 == code, '임대건물구분'] = 0\r\n",
    "    else:\r\n",
    "        test_test_2.loc[test_test_2.단지코드 == code, '임대건물구분'] = 1\r\n",
    "\r\n",
    "print(f\"['임대건물구분' -> 0 (상가 & 아파트)] : {len(test_test_2.loc[test_test_2.임대건물구분 == 0, '단지코드'].unique().tolist())}\")\r\n",
    "print(f\"['임대건물구분' -> 1 (only 아파트)] : {len(test_test_2.loc[test_test_2.임대건물구분 == 1, '단지코드'].unique().tolist())}\")"
   ],
   "outputs": [
    {
     "output_type": "display_data",
     "data": {
      "text/plain": [
       "  0%|          | 0/150 [00:00<?, ?it/s]"
      ],
      "application/vnd.jupyter.widget-view+json": {
       "version_major": 2,
       "version_minor": 0,
       "model_id": "e307ac6602344fe2a12e25580db82c2b"
      }
     },
     "metadata": {}
    },
    {
     "output_type": "stream",
     "name": "stdout",
     "text": [
      "['임대건물구분' -> 0 (상가 & 아파트)] : 7\n",
      "['임대건물구분' -> 1 (only 아파트)] : 143\n"
     ]
    }
   ],
   "metadata": {}
  },
  {
   "cell_type": "markdown",
   "source": [
    "### [Test 3] '자격유형별 평균 임대료' feature 추가"
   ],
   "metadata": {}
  },
  {
   "cell_type": "code",
   "execution_count": 15,
   "source": [
    "train_test_3 = train[['자격유형', '임대료']].copy()\r\n",
    "\r\n",
    "qualifies = train_test_3.자격유형.unique().tolist()\r\n",
    "\r\n",
    "for qualify in tqdm(qualifies):\r\n",
    "    train_test_3.loc[train_test_3.자격유형 == qualify, '평균임대료(자격유형)'] = train_test_3.loc[train_test_3.자격유형 == qualify, '임대료'].mean()\r\n",
    "\r\n",
    "train_test_3"
   ],
   "outputs": [
    {
     "output_type": "display_data",
     "data": {
      "text/plain": [
       "  0%|          | 0/5 [00:00<?, ?it/s]"
      ],
      "application/vnd.jupyter.widget-view+json": {
       "version_major": 2,
       "version_minor": 0,
       "model_id": "19ce70552098467f87b53c05542c4ccb"
      }
     },
     "metadata": {}
    },
    {
     "output_type": "execute_result",
     "data": {
      "text/plain": [
       "     자격유형       임대료    평균임대료(자격유형)\n",
       "0       A  103680.0  211464.997183\n",
       "1       A  103680.0  211464.997183\n",
       "2       A  184330.0  211464.997183\n",
       "3       A  184330.0  211464.997183\n",
       "4       A  184330.0  211464.997183\n",
       "...   ...       ...            ...\n",
       "2947    A  116090.0  211464.997183\n",
       "2948    A  142310.0  211464.997183\n",
       "2949    A  142310.0  211464.997183\n",
       "2950    A  142310.0  211464.997183\n",
       "2951    A  151030.0  211464.997183\n",
       "\n",
       "[2632 rows x 3 columns]"
      ],
      "text/html": [
       "<div>\n",
       "<style scoped>\n",
       "    .dataframe tbody tr th:only-of-type {\n",
       "        vertical-align: middle;\n",
       "    }\n",
       "\n",
       "    .dataframe tbody tr th {\n",
       "        vertical-align: top;\n",
       "    }\n",
       "\n",
       "    .dataframe thead th {\n",
       "        text-align: right;\n",
       "    }\n",
       "</style>\n",
       "<table border=\"1\" class=\"dataframe\">\n",
       "  <thead>\n",
       "    <tr style=\"text-align: right;\">\n",
       "      <th></th>\n",
       "      <th>자격유형</th>\n",
       "      <th>임대료</th>\n",
       "      <th>평균임대료(자격유형)</th>\n",
       "    </tr>\n",
       "  </thead>\n",
       "  <tbody>\n",
       "    <tr>\n",
       "      <th>0</th>\n",
       "      <td>A</td>\n",
       "      <td>103680.0</td>\n",
       "      <td>211464.997183</td>\n",
       "    </tr>\n",
       "    <tr>\n",
       "      <th>1</th>\n",
       "      <td>A</td>\n",
       "      <td>103680.0</td>\n",
       "      <td>211464.997183</td>\n",
       "    </tr>\n",
       "    <tr>\n",
       "      <th>2</th>\n",
       "      <td>A</td>\n",
       "      <td>184330.0</td>\n",
       "      <td>211464.997183</td>\n",
       "    </tr>\n",
       "    <tr>\n",
       "      <th>3</th>\n",
       "      <td>A</td>\n",
       "      <td>184330.0</td>\n",
       "      <td>211464.997183</td>\n",
       "    </tr>\n",
       "    <tr>\n",
       "      <th>4</th>\n",
       "      <td>A</td>\n",
       "      <td>184330.0</td>\n",
       "      <td>211464.997183</td>\n",
       "    </tr>\n",
       "    <tr>\n",
       "      <th>...</th>\n",
       "      <td>...</td>\n",
       "      <td>...</td>\n",
       "      <td>...</td>\n",
       "    </tr>\n",
       "    <tr>\n",
       "      <th>2947</th>\n",
       "      <td>A</td>\n",
       "      <td>116090.0</td>\n",
       "      <td>211464.997183</td>\n",
       "    </tr>\n",
       "    <tr>\n",
       "      <th>2948</th>\n",
       "      <td>A</td>\n",
       "      <td>142310.0</td>\n",
       "      <td>211464.997183</td>\n",
       "    </tr>\n",
       "    <tr>\n",
       "      <th>2949</th>\n",
       "      <td>A</td>\n",
       "      <td>142310.0</td>\n",
       "      <td>211464.997183</td>\n",
       "    </tr>\n",
       "    <tr>\n",
       "      <th>2950</th>\n",
       "      <td>A</td>\n",
       "      <td>142310.0</td>\n",
       "      <td>211464.997183</td>\n",
       "    </tr>\n",
       "    <tr>\n",
       "      <th>2951</th>\n",
       "      <td>A</td>\n",
       "      <td>151030.0</td>\n",
       "      <td>211464.997183</td>\n",
       "    </tr>\n",
       "  </tbody>\n",
       "</table>\n",
       "<p>2632 rows × 3 columns</p>\n",
       "</div>"
      ]
     },
     "metadata": {},
     "execution_count": 15
    }
   ],
   "metadata": {}
  },
  {
   "cell_type": "code",
   "execution_count": 16,
   "source": [
    "test_test_3 = test[['자격유형', '임대료']].copy()\r\n",
    "\r\n",
    "qualifies = test_test_3.자격유형.unique().tolist()\r\n",
    "\r\n",
    "for qualify in tqdm(qualifies):\r\n",
    "    test_test_3.loc[test_test_3.자격유형 == qualify, '평균임대료(자격유형)'] = test_test_3.loc[test_test_3.자격유형 == qualify, '임대료'].mean()\r\n",
    "\r\n",
    "test_test_3"
   ],
   "outputs": [
    {
     "output_type": "display_data",
     "data": {
      "text/plain": [
       "  0%|          | 0/5 [00:00<?, ?it/s]"
      ],
      "application/vnd.jupyter.widget-view+json": {
       "version_major": 2,
       "version_minor": 0,
       "model_id": "f10763dcd2e6447f8ebaf1f323f459c8"
      }
     },
     "metadata": {}
    },
    {
     "output_type": "execute_result",
     "data": {
      "text/plain": [
       "           자격유형       임대료    평균임대료(자격유형)\n",
       "0     국민임대_공급대상  189840.0  202304.563107\n",
       "1             A  249930.0  192464.956063\n",
       "2     국민임대_공급대상  249930.0  202304.563107\n",
       "3     국민임대_공급대상  249930.0  202304.563107\n",
       "4     국민임대_공급대상  296780.0  202304.563107\n",
       "...         ...       ...            ...\n",
       "1017  행복주택_공급대상       0.0  109910.330579\n",
       "1018  국민임대_공급대상  106400.0  202304.563107\n",
       "1019  국민임대_공급대상  106400.0  202304.563107\n",
       "1020  국민임대_공급대상  144600.0  202304.563107\n",
       "1021  국민임대_공급대상  166500.0  202304.563107\n",
       "\n",
       "[949 rows x 3 columns]"
      ],
      "text/html": [
       "<div>\n",
       "<style scoped>\n",
       "    .dataframe tbody tr th:only-of-type {\n",
       "        vertical-align: middle;\n",
       "    }\n",
       "\n",
       "    .dataframe tbody tr th {\n",
       "        vertical-align: top;\n",
       "    }\n",
       "\n",
       "    .dataframe thead th {\n",
       "        text-align: right;\n",
       "    }\n",
       "</style>\n",
       "<table border=\"1\" class=\"dataframe\">\n",
       "  <thead>\n",
       "    <tr style=\"text-align: right;\">\n",
       "      <th></th>\n",
       "      <th>자격유형</th>\n",
       "      <th>임대료</th>\n",
       "      <th>평균임대료(자격유형)</th>\n",
       "    </tr>\n",
       "  </thead>\n",
       "  <tbody>\n",
       "    <tr>\n",
       "      <th>0</th>\n",
       "      <td>국민임대_공급대상</td>\n",
       "      <td>189840.0</td>\n",
       "      <td>202304.563107</td>\n",
       "    </tr>\n",
       "    <tr>\n",
       "      <th>1</th>\n",
       "      <td>A</td>\n",
       "      <td>249930.0</td>\n",
       "      <td>192464.956063</td>\n",
       "    </tr>\n",
       "    <tr>\n",
       "      <th>2</th>\n",
       "      <td>국민임대_공급대상</td>\n",
       "      <td>249930.0</td>\n",
       "      <td>202304.563107</td>\n",
       "    </tr>\n",
       "    <tr>\n",
       "      <th>3</th>\n",
       "      <td>국민임대_공급대상</td>\n",
       "      <td>249930.0</td>\n",
       "      <td>202304.563107</td>\n",
       "    </tr>\n",
       "    <tr>\n",
       "      <th>4</th>\n",
       "      <td>국민임대_공급대상</td>\n",
       "      <td>296780.0</td>\n",
       "      <td>202304.563107</td>\n",
       "    </tr>\n",
       "    <tr>\n",
       "      <th>...</th>\n",
       "      <td>...</td>\n",
       "      <td>...</td>\n",
       "      <td>...</td>\n",
       "    </tr>\n",
       "    <tr>\n",
       "      <th>1017</th>\n",
       "      <td>행복주택_공급대상</td>\n",
       "      <td>0.0</td>\n",
       "      <td>109910.330579</td>\n",
       "    </tr>\n",
       "    <tr>\n",
       "      <th>1018</th>\n",
       "      <td>국민임대_공급대상</td>\n",
       "      <td>106400.0</td>\n",
       "      <td>202304.563107</td>\n",
       "    </tr>\n",
       "    <tr>\n",
       "      <th>1019</th>\n",
       "      <td>국민임대_공급대상</td>\n",
       "      <td>106400.0</td>\n",
       "      <td>202304.563107</td>\n",
       "    </tr>\n",
       "    <tr>\n",
       "      <th>1020</th>\n",
       "      <td>국민임대_공급대상</td>\n",
       "      <td>144600.0</td>\n",
       "      <td>202304.563107</td>\n",
       "    </tr>\n",
       "    <tr>\n",
       "      <th>1021</th>\n",
       "      <td>국민임대_공급대상</td>\n",
       "      <td>166500.0</td>\n",
       "      <td>202304.563107</td>\n",
       "    </tr>\n",
       "  </tbody>\n",
       "</table>\n",
       "<p>949 rows × 3 columns</p>\n",
       "</div>"
      ]
     },
     "metadata": {},
     "execution_count": 16
    }
   ],
   "metadata": {}
  }
 ],
 "metadata": {
  "orig_nbformat": 4,
  "language_info": {
   "name": "python",
   "version": "3.8.8",
   "mimetype": "text/x-python",
   "codemirror_mode": {
    "name": "ipython",
    "version": 3
   },
   "pygments_lexer": "ipython3",
   "nbconvert_exporter": "python",
   "file_extension": ".py"
  },
  "kernelspec": {
   "name": "python3",
   "display_name": "Python 3.8.8 64-bit ('py38': conda)"
  },
  "interpreter": {
   "hash": "33a3111211be4281f3a8c4a9b25563b8d253df502c7e31f5318895c1792a97cb"
  }
 },
 "nbformat": 4,
 "nbformat_minor": 2
}